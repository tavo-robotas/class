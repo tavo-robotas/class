{
 "cells": [
  {
   "cell_type": "markdown",
   "metadata": {},
   "source": [
    "# ROS Network Configuration"
   ]
  },
  {
   "cell_type": "markdown",
   "metadata": {},
   "source": [
    "`ifconfig` or `ifconfig -a | grep inet` command to get your newtwork adapter info"
   ]
  },
  {
   "cell_type": "markdown",
   "metadata": {},
   "source": [
    "`inet 127.0.0.1  netmask 255.0.0.0\n",
    " inet6 ::1  prefixlen 128  scopeid 0x10<host>\n",
    " inet 192.168.0.145  netmask 255.255.255.0  broadcast 192.168.0.255\n",
    "`"
   ]
  },
  {
   "cell_type": "markdown",
   "metadata": {},
   "source": [
    "<code>**192.168.0.145**</code> is my particular machine IP address"
   ]
  },
  {
   "cell_type": "markdown",
   "metadata": {},
   "source": [
    "`nano .bashrc`"
   ]
  },
  {
   "cell_type": "markdown",
   "metadata": {},
   "source": [
    "## robot machine"
   ]
  },
  {
   "cell_type": "markdown",
   "metadata": {},
   "source": [
    "`export ROS_MASTER_URI=http://localhost:11311`<br>\n",
    "`export ROS_HOSTNAME=192.168.0.145`<br>\n",
    "`export ROS_IP=192.168.0.145` <br>\n",
    "<br>\n",
    "`echo \"ROS_HOSTNAME: \"$ROS_HOSTNAME`<br>\n",
    "`echo \"ROS_IP: \"$ROS_IP`<br>\n",
    "`echo \"ROS_MASTER_URI: \"$ROS_MASTER_URI`\n",
    "\n"
   ]
  },
  {
   "cell_type": "markdown",
   "metadata": {},
   "source": [
    "## workstation machine"
   ]
  },
  {
   "cell_type": "markdown",
   "metadata": {},
   "source": [
    "Basically its the same procedure, except <code>**ROS_MASTER_URI**</code>. which remember runs on <code>**robot machine**</code> so it has to be in my case:<br>\n",
    "`export ROS_MASTER_URI=http://192.168.0.145:11311`<br>\n",
    "<code>**ROS_IP**</code> and <code>**ROS_HOSTNAME**</code> has to be workstation IP addresses"
   ]
  },
  {
   "cell_type": "markdown",
   "metadata": {},
   "source": [
    "<code>**NOTE**</code> In my case both machines are on the same network. If it happens that workstation and robot machines are on different network than that particulalr configurtion is beyond the scope of this lesson. \n",
    "What you sould take a look into are called <code>**router port forwarding**</code> and <code>**static and dynamic IP address**</code> topics. Basically it means that you should know routers that robot is connected to <code>**PUBLIC IP**</code> address, hopefully its static and if there is a request on <code>**OPENED!**</code> port:<code>**11311**</code> forward it to localhost:11311 or whatever address ROS core is running on. Its way more complicated if the router or modem that robot machine is connected is with dynamic IP address and protected with firewall that you can't access."
   ]
  },
  {
   "cell_type": "markdown",
   "metadata": {},
   "source": [
    "On <code>**robot machine**</code> excecute:<br>\n",
    "`roscore`<br>\n",
    "`rosrun turtlesim turtlesim_node`"
   ]
  },
  {
   "cell_type": "markdown",
   "metadata": {},
   "source": [
    "If everything is fine then in <code>**wokrstation machine**</code> terminal execute:<br>\n",
    "`rostopic list`"
   ]
  },
  {
   "cell_type": "markdown",
   "metadata": {},
   "source": [
    "And you should able to see in your workstation machine terminal:<br>\n",
    "`/rosout`<br>\n",
    "`/rosout_agg`<br>\n",
    "`/turtle1/cmd_vel`<br>\n",
    "`/turtle1/color_sensor`<br>\n",
    "`/turtle1/pose`"
   ]
  },
  {
   "cell_type": "markdown",
   "metadata": {},
   "source": [
    "It's the same as in <code>**robot machine**</code>."
   ]
  },
  {
   "cell_type": "markdown",
   "metadata": {},
   "source": [
    "The simples way to test it would be to run on <code>**robot machine**</code>:<br>\n",
    "`roscore`<br>\n",
    "`rosrun turtlesim turtlesim_node`"
   ]
  },
  {
   "cell_type": "markdown",
   "metadata": {},
   "source": [
    "<code>**workstation machine**</code> run:<br>\n",
    "`rosrun turtlesim turtlesim_teleop_key`<br>\n",
    "<code>**NOTE!**</code> on workstation machine <code>**DO NOT**</code> run <code>**roscore**</code>"
   ]
  }
 ],
 "metadata": {
  "kernelspec": {
   "display_name": "Python 3",
   "language": "python",
   "name": "python3"
  },
  "language_info": {
   "codemirror_mode": {
    "name": "ipython",
    "version": 3
   },
   "file_extension": ".py",
   "mimetype": "text/x-python",
   "name": "python",
   "nbconvert_exporter": "python",
   "pygments_lexer": "ipython3",
   "version": "3.8.2"
  }
 },
 "nbformat": 4,
 "nbformat_minor": 2
}
