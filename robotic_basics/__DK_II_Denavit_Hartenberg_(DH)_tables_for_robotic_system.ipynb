{
 "cells": [
  {
   "cell_type": "markdown",
   "metadata": {},
   "source": []
  },
  {
   "cell_type": "markdown",
   "metadata": {},
   "source": [
    "## Direct kinematics I\n",
    "\n",
    "### Denavit-Hartenberg Convention\n",
    "\n",
    "Each transformation matrix has 6 variables - 3 in the rotation matrix and 3 in the position vector. <code>**DH(Denavit-Hartenberg)**</code> collapse 6 variables to 4 <code>**link**</code> parameters.\n",
    "\n",
    "#### Link and joint parameters\n",
    "\n",
    "<code>**Link length**</code> \n",
    " * Mutual perpendicular distance between 2 axis. \n",
    "\\begin{multline*}a_{i-1}\\end{multline*}\n",
    "-------------------------------------------------------------------------\n",
    "<code>**Link twist**</code> \n",
    " * Angle from axis i-1 to i\n",
    "\\begin{multline*}\\alpha_{i-1}\\end{multline*}\n",
    "-------------------------------------------------------------------------\n",
    "<code>**Link offset**</code> <- <code>**prismatic variable**</code>\n",
    " * The offset distance of one link to the next (from the common axis)\n",
    "\\begin{multline*}d_{i}\\end{multline*}\n",
    "-------------------------------------------------------------------------\n",
    "<code>**Joint angle**</code>  <- <code>**revolute variable**</code> \n",
    " * Rotation of link with respect to its neighbour (along common axis)\n",
    "\\begin{multline*}\\theta_{i}\\end{multline*}"
   ]
  },
  {
   "cell_type": "markdown",
   "metadata": {},
   "source": [
    "\\begin{multline*}a_{i-1} = distance from \\ z_{i} \\ to\\  z_{i+1} \\ measured \\ along \\ x_{i}\\end{multline*} "
   ]
  },
  {
   "cell_type": "code",
   "execution_count": null,
   "metadata": {},
   "outputs": [],
   "source": []
  }
 ],
 "metadata": {
  "kernelspec": {
   "display_name": "Python 3",
   "language": "python",
   "name": "python3"
  },
  "language_info": {
   "codemirror_mode": {
    "name": "ipython",
    "version": 3
   },
   "file_extension": ".py",
   "mimetype": "text/x-python",
   "name": "python",
   "nbconvert_exporter": "python",
   "pygments_lexer": "ipython3",
   "version": "3.7.4"
  }
 },
 "nbformat": 4,
 "nbformat_minor": 2
}
