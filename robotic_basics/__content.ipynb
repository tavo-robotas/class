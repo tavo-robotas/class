{
 "cells": [
  {
   "cell_type": "markdown",
   "metadata": {},
   "source": [
    "# <code>**- Spatial transforms**</code>\n",
    "\n",
    "    - __spatial_descriptions_and_transformations\n",
    "    - __compound_and_inverse_transformation_matrices\n",
    "    - __fixed_and_euler_angle_representation_for_rotations\n",
    "\n",
    "# <code>**- Kinematics**</code>\n",
    "    \n",
    "    - __DK_I_frame_assignment_for_robotic_manipulators\n",
    "    - __DK_II_Denavit_Hartenberg_(DH)_tables_for_robotic_system\n",
    "    - __DK_III_transformation_matrices_from_DH_tables\n",
    "    \n",
    "## <code>**- Prerequisites**</code>\n",
    "\n",
    "    - Linear algebra \n",
    "    - Calculus \n",
    "    - Python or C++\n",
    "    - OpenCV library (built preferably with cuda/cudnn on for Nvidia GPU access)\n",
    "    - Numpy library\n",
    "    - Matplotlib library"
   ]
  },
  {
   "cell_type": "code",
   "execution_count": null,
   "metadata": {},
   "outputs": [],
   "source": []
  }
 ],
 "metadata": {
  "kernelspec": {
   "display_name": "Python 3.7.4 32-bit",
   "language": "python",
   "name": "python37432bitc856d1d617f0478da8cbf97a005d9730"
  },
  "language_info": {
   "codemirror_mode": {
    "name": "ipython",
    "version": 3
   },
   "file_extension": ".py",
   "mimetype": "text/x-python",
   "name": "python",
   "nbconvert_exporter": "python",
   "pygments_lexer": "ipython3",
   "version": "3.7.4"
  }
 },
 "nbformat": 4,
 "nbformat_minor": 2
}
