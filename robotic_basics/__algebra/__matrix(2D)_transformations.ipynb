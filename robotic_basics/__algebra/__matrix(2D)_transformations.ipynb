{
 "cells": [
  {
   "cell_type": "markdown",
   "metadata": {},
   "source": [
    "Here, we will visualise matrix linear and affine transformations to set the foundation in understanding more computer vision techniques <br>\n",
    "Prerequisites are core mathematical concepts in matrices and vectors. I recommend [Precalculus course](https://www.khanacademy.org/math/precalculus) and [Linear algebra course](https://www.khanacademy.org/math/linear-algebra)\n"
   ]
  },
  {
   "cell_type": "markdown",
   "metadata": {},
   "source": [
    "# Linear vs Affine transform\n",
    "\n",
    "Linear transformations are fixed around the origin (scaling, rotating, skewing). <code>**Affine transformations are a linear function followed by a translation(move) operation.**</code>"
   ]
  },
  {
   "cell_type": "markdown",
   "metadata": {},
   "source": [
    "# First visualising a matrix in pyplot"
   ]
  },
  {
   "cell_type": "markdown",
   "metadata": {},
   "source": [
    "Points in 2D space can be written as tuples of (3, 13), (5, 15), etc. A set of 2D vectors can be written as a matrix\n",
    "\n",
    "\\begin{bmatrix}\n",
    "3 & 5 \\\\\n",
    "13 & 15\n",
    "\\end{bmatrix}\n",
    "\n",
    "with each column representing a data point. So lets say matrix A consists of 4 points\n",
    "\n",
    "\\begin{bmatrix}\n",
    "0 &  0 & 20 & 20\\\\\n",
    "0 & 20 & 20 & 0\n",
    "\\end{bmatrix}"
   ]
  },
  {
   "cell_type": "code",
   "execution_count": 1,
   "metadata": {},
   "outputs": [],
   "source": [
    "import numpy as np\n",
    "import matplotlib.pyplot as plt\n",
    "from ipywidgets import interact, interactive, fixed\n",
    "import ipywidgets as widgets"
   ]
  },
  {
   "cell_type": "code",
   "execution_count": 2,
   "metadata": {},
   "outputs": [],
   "source": [
    "def plot_points(matrix, ls='dashed', lw=1.2, colors=None):\n",
    "    if matrix.shape[0] == 3:\n",
    "         x, y, z   = matrix\n",
    "        \n",
    "    else:\n",
    "         x, y   = matrix\n",
    "    size   = len(x)\n",
    "    colors = ['red', 'green', 'blue', 'orange'] if not None else colors\n",
    "    for i in range(size):\n",
    "        plt.plot(x[i], y[i], color=colors[i], marker='.')\n",
    "        \n",
    "        plt.plot( [x[i], x[(i+1) % size]], \n",
    "                  [y[i], y[(i+1) % size]], \n",
    "                  color=colors[i], \n",
    "                  linestyle=ls, \n",
    "                  linewidth=lw)\n",
    "    plt.ylim([-5, 50])\n",
    "    plt.xlim([-5, 50])\n",
    "    plt.axes().set_aspect('equal')\n",
    " "
   ]
  },
  {
   "cell_type": "markdown",
   "metadata": {},
   "source": [
    "Now lets create a matrix. It will be visualised as the corners of a square"
   ]
  },
  {
   "cell_type": "code",
   "execution_count": 3,
   "metadata": {},
   "outputs": [
    {
     "name": "stderr",
     "output_type": "stream",
     "text": [
      "c:\\python37\\lib\\site-packages\\ipykernel_launcher.py:19: MatplotlibDeprecationWarning: Adding an axes using the same arguments as a previous axes currently reuses the earlier instance.  In a future version, a new instance will always be created and returned.  Meanwhile, this warning can be suppressed, and the future behavior ensured, by passing a unique label to each axes instance.\n"
     ]
    },
    {
     "data": {
      "image/png": "[encoded data removed]",
      "text/plain": [
       "<Figure size 432x288 with 1 Axes>"
      ]
     },
     "metadata": {
      "needs_background": "light"
     },
     "output_type": "display_data"
    }
   ],
   "source": [
    "x_points = np.array([0,0,20,20])\n",
    "y_points = np.array([0,20,20,0])\n",
    "matrix   = np.array([x_points, y_points])\n",
    "colors   = ['red', 'green', 'blue', 'orange']\n",
    "plot_points(matrix)\n",
    "\n",
    "plt.show()"
   ]
  },
  {
   "cell_type": "markdown",
   "metadata": {},
   "source": [
    "## Identity matrix\n",
    "\n",
    "In linear algebra, the identity matrix, or sometimes called a <code>**unit matrix**</code>, of size n is the n × n <code>**square matrix**</code> with ones on the main diagonal and zeros elsewhere.\n",
    "\n",
    "\\begin{bmatrix}\n",
    "1 & 0 & 0\\\\\n",
    "0 & 1 & 0\\\\\n",
    "0 & 0 & 1\n",
    "\\end{bmatrix}\n",
    "\n",
    "Multiplying a matrix with the identity matrix does nothing to the matrix.\n",
    "\n",
    "\\begin{equation}\n",
    "\\begin{bmatrix}\n",
    "1 & 0\\\\\n",
    "0 & 1 \n",
    "\\end{bmatrix}\n",
    "\\begin{bmatrix}3 \\\\ 13 \\end{bmatrix}\n",
    "=\n",
    "\\begin{bmatrix}\n",
    "3 \\\\\n",
    "13\n",
    "\\end{bmatrix}\n",
    "\\end{equation}\n",
    "\n",
    "Each column in the indentity matrix are called basis vectors (linearly independent and equations solve for 0). These will be super useful in deriving and visualising the transformation matrices. More information about this type of matrixes read [here](https://en.wikipedia.org/wiki/Identity_matrix)"
   ]
  },
  {
   "cell_type": "markdown",
   "metadata": {},
   "source": [
    "## Scaling\n",
    "\n",
    "Lets say we want to scale our points by <code>**2**</code>"
   ]
  },
  {
   "cell_type": "code",
   "execution_count": 4,
   "metadata": {},
   "outputs": [
    {
     "data": {
      "image/png": "[encoded data removed]",
      "text/plain": [
       "<Figure size 432x288 with 1 Axes>"
      ]
     },
     "metadata": {
      "needs_background": "light"
     },
     "output_type": "display_data"
    }
   ],
   "source": [
    "ax = plt.axes()\n",
    "ax.arrow(0, 0, 1, 0, head_width=0.05, head_length=0.1, fc='b', ec='b', zorder=20)\n",
    "ax.arrow(0, 0, 0, 1, head_width=0.05, head_length=0.1, fc='b', ec='b', zorder=20)\n",
    "ax.arrow(0, 0, 2, 0, head_width=0.1,  head_length=0.1, fc='r', ec='r', zorder=10)\n",
    "ax.arrow(0, 0, 0, 2, head_width=0.1,  head_length=0.1, fc='r', ec='r', zorder=10)\n",
    " \n",
    "ax.spines['left'].set_position('zero')\n",
    "ax.spines['right'].set_color('none')\n",
    "ax.spines['bottom'].set_position('zero')\n",
    "ax.spines['top'].set_color('none')\n",
    "ax.xaxis.set_ticks_position('bottom')\n",
    "ax.yaxis.set_ticks_position('left')\n",
    "ax.set_aspect('equal')\n",
    "plt.ylim([-0.1,2.5])\n",
    "plt.xlim([-0.1,2.5])\n",
    "plt.show()"
   ]
  },
  {
   "cell_type": "markdown",
   "metadata": {},
   "source": [
    "This plot shows the identity matrix in blue and our end goal in red.<br>\n",
    "The first vector along the <code>**X**</code>axis  has to be multipled by 2 to get to scaled vector\n",
    "\\begin{equation}\n",
    "\\vec{p}=\n",
    "\\begin{bmatrix}1 \\\\ 0 \\end{bmatrix}\n",
    "\\times 2 =\n",
    "\\begin{bmatrix}2 \\\\ 0 \\end{bmatrix}\n",
    "\\end{equation}\n",
    "\n",
    "The same is applied to the second vector along the y axis so our end matrix looks like:\n",
    "\n",
    "\\begin{bmatrix}\n",
    "2 & 0\\\\\n",
    "0 & 2 \n",
    "\\end{bmatrix}\n",
    "\n",
    "\n",
    "To generalise, we can multiply a matrix by \n",
    "\\begin{bmatrix}\n",
    "k_1 & 0\\\\\n",
    "0 & k_2\n",
    "\\end{bmatrix}\n",
    "\n",
    "To achieve a scaling in 2D space. <code>**k1**</code> and <code>**k2**</code> can be the same or different to obtain different scalings in the different dimensions (axis)\n",
    "\n",
    "Lets try scaling our matrix <code>**P**</code> by multiplying it with the matrix:\n",
    "\\begin{equation}\n",
    "\\begin{bmatrix}\n",
    "1.5 & 0\\\\\n",
    "0 & 2 \n",
    "\\end{bmatrix}\n",
    "\\times \n",
    "\\begin{bmatrix}\n",
    "0 &  0 & 20 & 20\\\\\n",
    "0 & 20 & 20 & 0\n",
    "\\end{bmatrix} =\n",
    "\\begin{bmatrix}\n",
    "0 &  0 & 30 & 30\\\\\n",
    "0 & 40 & 40 & 0\n",
    "\\end{bmatrix}\n",
    "\\end{equation}"
   ]
  },
  {
   "cell_type": "code",
   "execution_count": 5,
   "metadata": {},
   "outputs": [
    {
     "name": "stdout",
     "output_type": "stream",
     "text": [
      "[[ 0.  0. 30. 30.]\n",
      " [ 0. 40. 40.  0.]]\n",
      "------\n",
      "[[ 0.  0. 30. 30.]\n",
      " [ 0. 40. 40.  0.]]\n"
     ]
    },
    {
     "name": "stderr",
     "output_type": "stream",
     "text": [
      "c:\\python37\\lib\\site-packages\\ipykernel_launcher.py:19: MatplotlibDeprecationWarning: Adding an axes using the same arguments as a previous axes currently reuses the earlier instance.  In a future version, a new instance will always be created and returned.  Meanwhile, this warning can be suppressed, and the future behavior ensured, by passing a unique label to each axes instance.\n"
     ]
    },
    {
     "data": {
      "image/png": "[encoded data removed]",
      "text/plain": [
       "<Figure size 432x288 with 1 Axes>"
      ]
     },
     "metadata": {
      "needs_background": "light"
     },
     "output_type": "display_data"
    }
   ],
   "source": [
    "A = np.array([[1.5,0],[0,2]])\n",
    "scalled = np.dot(A, matrix)\n",
    "# another way to produce dot product\n",
    "scalled_another_way = A.dot(matrix)\n",
    "print(scalled)\n",
    "print('------')\n",
    "print(scalled_another_way)\n",
    "\n",
    "plot_points(matrix, ls='dashed', lw=4)\n",
    "plot_points(scalled, ls='solid', lw=2)\n",
    "\n",
    "plt.show()"
   ]
  },
  {
   "cell_type": "markdown",
   "metadata": {},
   "source": [
    "## Reflecting"
   ]
  },
  {
   "cell_type": "markdown",
   "metadata": {},
   "source": [
    "We can reflect the points along the <code>**x**</code> and <code>**y**</code> axis by multiplying all coordinates by -1, -1. So, (1, 1) becomes (-1, -1). <br>\n",
    "That means we can multiply a matrix to mirror allong the <code>**x**</code> and <code>**y**</code> axis.\n",
    "\n",
    "\n",
    "\\begin{equation}\n",
    "\\begin{bmatrix}\n",
    "-1 & 0\\\\\n",
    "0 & -1 \n",
    "\\end{bmatrix}\n",
    "\\times \n",
    "\\begin{bmatrix}\n",
    "0 &  0 & 20 & 20\\\\\n",
    "0 & 20 & 20 & 0\n",
    "\\end{bmatrix} =\n",
    "\\begin{bmatrix}\n",
    "0 &  0 & -20 & -20\\\\\n",
    "0 & -20 & -20 & 0\n",
    "\\end{bmatrix}\n",
    "\\end{equation}"
   ]
  },
  {
   "cell_type": "code",
   "execution_count": 6,
   "metadata": {},
   "outputs": [
    {
     "name": "stdout",
     "output_type": "stream",
     "text": [
      "[[  0   0 -20 -20]\n",
      " [  0 -20 -20   0]]\n"
     ]
    },
    {
     "name": "stderr",
     "output_type": "stream",
     "text": [
      "c:\\python37\\lib\\site-packages\\ipykernel_launcher.py:19: MatplotlibDeprecationWarning: Adding an axes using the same arguments as a previous axes currently reuses the earlier instance.  In a future version, a new instance will always be created and returned.  Meanwhile, this warning can be suppressed, and the future behavior ensured, by passing a unique label to each axes instance.\n"
     ]
    },
    {
     "data": {
      "image/png": "[encoded data removed]",
      "text/plain": [
       "<Figure size 432x288 with 1 Axes>"
      ]
     },
     "metadata": {
      "needs_background": "light"
     },
     "output_type": "display_data"
    }
   ],
   "source": [
    "B = np.array([[-1,0],[0,-1]])\n",
    "mirror = B.dot(matrix)\n",
    "print(mirror)\n",
    "plot_points(matrix, ls='dashed', lw=4)\n",
    "plot_points(scalled, ls='solid', lw=3)\n",
    "plot_points(mirror,  ls='dotted', lw=2)\n",
    "plt.ylim([-30, 50])\n",
    "plt.xlim([-30, 40])\n",
    "plt.show()"
   ]
  },
  {
   "cell_type": "markdown",
   "metadata": {},
   "source": [
    "## Skewing\n",
    "\n",
    "Lets skew the identity matrix by +50%. The vector along the <code>**x**</code> axis stays the same while the vector along the <code>**y**</code> axis shifts <code>**k**</code> = 0.5 to the right. Our resultant matrix is now <br>\n",
    "\n",
    "\\begin{equation}\n",
    "\\begin{bmatrix}\n",
    "1 & 0.5\\\\\n",
    "0 & 1 \n",
    "\\end{bmatrix}\n",
    "\\end{equation}\n",
    "\n",
    "and a skewing transformation matrix can be generalised as:\n",
    "\\begin{equation}\n",
    "\\begin{bmatrix}\n",
    "1 & k\\\\\n",
    "0 & 1 \n",
    "\\end{bmatrix}\n",
    "\\end{equation}\n",
    "\n",
    "So, doing:\n",
    "\n",
    "\\begin{equation}\n",
    "\\begin{bmatrix}\n",
    "1 & 0.5\\\\\n",
    "0 & 1 \n",
    "\\end{bmatrix}\n",
    "\\times \n",
    "\\begin{bmatrix}\n",
    "0 &  0 & 20 & 20\\\\\n",
    "0 & 20 & 20 & 0\n",
    "\\end{bmatrix}\n",
    "\\end{equation}\n",
    "\n",
    "we will skew <code>**P**</code> by 50%"
   ]
  },
  {
   "cell_type": "code",
   "execution_count": 7,
   "metadata": {},
   "outputs": [
    {
     "name": "stdout",
     "output_type": "stream",
     "text": [
      "[[ 0. 10. 30. 20.]\n",
      " [ 0. 20. 20.  0.]]\n"
     ]
    },
    {
     "name": "stderr",
     "output_type": "stream",
     "text": [
      "c:\\python37\\lib\\site-packages\\ipykernel_launcher.py:19: MatplotlibDeprecationWarning: Adding an axes using the same arguments as a previous axes currently reuses the earlier instance.  In a future version, a new instance will always be created and returned.  Meanwhile, this warning can be suppressed, and the future behavior ensured, by passing a unique label to each axes instance.\n"
     ]
    },
    {
     "data": {
      "image/png": "[encoded data removed]",
      "text/plain": [
       "<Figure size 432x288 with 1 Axes>"
      ]
     },
     "metadata": {
      "needs_background": "light"
     },
     "output_type": "display_data"
    }
   ],
   "source": [
    "C = np.array([[1, 0.5],[0, 1]])\n",
    "skew = C.dot(matrix)\n",
    "print(skew)\n",
    "\n",
    "plot_points(matrix, ls='dashed', lw=1)\n",
    "plot_points(skew,  ls='solid', lw=3)\n",
    "plt.ylim([0, 40])\n",
    "plt.xlim([-5, 40])\n",
    "plt.show()"
   ]
  },
  {
   "cell_type": "markdown",
   "metadata": {},
   "source": [
    "## Rotating\n",
    "\n",
    "Using the trusty [SOH CAH TOA](https://www.mathsisfun.com/algebra/sohcahtoa.html) acronym, we can see that (1, 0) on the x axis lands on <code>**(cosθ, sinθ)**</code> and (0, 1) on the y axis lands on <code>**(-sinθ, cosθ)**</code> when rotated by <code>**positive θ , counter clockwise !**</code> thus our rotating transformation matrix has the general form of\n",
    "\\begin{bmatrix}\n",
    "cosθ & sinθ\\\\\n",
    "-sinθ & cosθ \n",
    "\\end{bmatrix}\n",
    "\n",
    "**Note** I advise to take a look into this explanatory video covering all the mathematical about [rotating points using 2D rotation matrices](https://www.youtube.com/watch?v=OYuoPTRVzxY)"
   ]
  },
  {
   "cell_type": "markdown",
   "metadata": {},
   "source": [
    "Lets plot our matrix P when it is rotated by <code>**−30∘**</code>. \n",
    "### Note the change in negative <code>**sin**</code> for clockwise rotation. \n",
    "\n",
    "\\begin{bmatrix}\n",
    "cosθ & -sinθ\\\\\n",
    "sinθ & cosθ \n",
    "\\end{bmatrix}\n",
    "Our matrices involved in this transformation are\n",
    "\n",
    "\\begin{equation}\n",
    "\\begin{bmatrix}\n",
    "0.86 & -0.5\\\\\n",
    "0.5 & 0.86 \n",
    "\\end{bmatrix}\n",
    "\\times \n",
    "\\begin{bmatrix}\n",
    "0 &  0 & 20 & 20\\\\\n",
    "0 & 20 & 20 & 0\n",
    "\\end{bmatrix}=\n",
    "\\begin{bmatrix}\n",
    "0 &  10 & 27.32 & 17.32\\\\\n",
    "0 & 17.32 & 7.32 & -10\n",
    "\\end{bmatrix}\n",
    "\\end{equation}"
   ]
  },
  {
   "attachments": {
    "rotation.png": {
     "image/png": "[encoded data removed]"
    }
   },
   "cell_type": "markdown",
   "metadata": {},
   "source": [
    "![rotation.png](attachment:rotation.png)"
   ]
  },
  {
   "cell_type": "code",
   "execution_count": 8,
   "metadata": {},
   "outputs": [
    {
     "name": "stdout",
     "output_type": "stream",
     "text": [
      "[[  0.         -10.           7.32050808  17.32050808]\n",
      " [  0.          17.32050808  27.32050808  10.        ]]\n"
     ]
    },
    {
     "name": "stderr",
     "output_type": "stream",
     "text": [
      "c:\\python37\\lib\\site-packages\\ipykernel_launcher.py:19: MatplotlibDeprecationWarning: Adding an axes using the same arguments as a previous axes currently reuses the earlier instance.  In a future version, a new instance will always be created and returned.  Meanwhile, this warning can be suppressed, and the future behavior ensured, by passing a unique label to each axes instance.\n"
     ]
    },
    {
     "data": {
      "image/png": "[encoded data removed]",
      "text/plain": [
       "<Figure size 432x288 with 1 Axes>"
      ]
     },
     "metadata": {
      "needs_background": "light"
     },
     "output_type": "display_data"
    }
   ],
   "source": [
    "theta = np.radians(30)\n",
    "c, s = np.cos(theta), np.sin(theta)\n",
    "D = np.array([\n",
    "    [c, -s],\n",
    "    [s, c ]\n",
    "])\n",
    "rotate = D.dot(matrix)\n",
    "print(rotate)\n",
    "plot_points(matrix, ls='dashed', lw=1)\n",
    "plot_points(rotate, ls='solid', lw=3)\n",
    "plt.ylim([-5, 35])\n",
    "plt.xlim([-15, 25])\n",
    "plt.show()"
   ]
  },
  {
   "cell_type": "markdown",
   "metadata": {},
   "source": [
    "## Translating\n",
    "\n",
    "We can translate points in the (x,y) plane to a new position by adding translation amounts to the coordinates of the points. For each point <code>**P(x,y)**</code> to be moved by t units parallel to the coresponding axis to the new point <code>**P'(x',y')**</code>\n",
    "\\begin{equation}\n",
    "x' = x + t_x\n",
    "\\\\\n",
    "y' = y + t_y\n",
    "\\end{equation}\n",
    "\n",
    "If we define the column vectors:\n",
    "\\begin{equation}\n",
    "P=\n",
    "\\begin{bmatrix}x \\\\ y \\end{bmatrix}\n",
    ",\n",
    "P'=\n",
    "\\begin{bmatrix}x' \\\\ y' \\end{bmatrix}\n",
    ",\n",
    "T=\n",
    "\\begin{bmatrix}t_x \\\\ t_y \\end{bmatrix}\n",
    "\\end{equation}\n",
    "\n",
    "So this equation can be expressed as \n",
    "<code>**P' = P + T**</code>\n",
    "\n",
    "The <code>**homogeneous coordinates**</code>that will be explained later, for  affine transform to translate a matrix we need to represent a 2 vector <code>**(x,y)**</code> to a 3 vector <code>**(x,y,1)**</code><br>\n",
    "A translation matrix has the form of\n",
    "\n",
    "\\begin{bmatrix}\n",
    "1 & 0 & t_x\\\\\n",
    "0 & 1 & t_y\\\\\n",
    "0 & 0 & 1\n",
    "\\end{bmatrix} \n",
    "where <code>**t1**</code> and <code>**t2**</code>  translates a vector in the x and y directions"
   ]
  },
  {
   "cell_type": "markdown",
   "metadata": {},
   "source": [
    "Lets translate our original matrix to the left by 75% and downwards by 25%. Unlike the linear transformations where the scalars are multipliers, the affine scalars specify the distance to be translated.\n",
    "\\begin{equation}\n",
    "\\begin{bmatrix}\n",
    "1 & 0 & (-0.75*20)\\\\\n",
    "0 & 1 & (-0.25*20)\\\\\n",
    "0 & 0 & 1\n",
    "\\end{bmatrix}\n",
    "\\times \n",
    "\\begin{bmatrix}\n",
    "0 &  0 & 20 & 20\\\\\n",
    "0 & 20 & 20 & 0\\\\\n",
    "1 & 1 & 1 & 1\n",
    "\\end{bmatrix}=\n",
    "\\begin{bmatrix}\n",
    "-15 & -15 & 5 & 5\\\\\n",
    "-5 & 15 & 15 & -5\\\\\n",
    "1 & 1 & 1 & 1\n",
    "\\end{bmatrix}\n",
    "\\end{equation}\n"
   ]
  },
  {
   "cell_type": "code",
   "execution_count": 9,
   "metadata": {},
   "outputs": [
    {
     "name": "stdout",
     "output_type": "stream",
     "text": [
      "[[-15 -15   5   5]\n",
      " [ -5  15  15  -5]\n",
      " [  1   1   1   1]]\n"
     ]
    },
    {
     "name": "stderr",
     "output_type": "stream",
     "text": [
      "c:\\python37\\lib\\site-packages\\ipykernel_launcher.py:19: MatplotlibDeprecationWarning: Adding an axes using the same arguments as a previous axes currently reuses the earlier instance.  In a future version, a new instance will always be created and returned.  Meanwhile, this warning can be suppressed, and the future behavior ensured, by passing a unique label to each axes instance.\n"
     ]
    },
    {
     "data": {
      "image/png": "[encoded data removed]",
      "text/plain": [
       "<Figure size 432x288 with 1 Axes>"
      ]
     },
     "metadata": {
      "needs_background": "light"
     },
     "output_type": "display_data"
    }
   ],
   "source": [
    "A = np.array([\n",
    "    [1, 0, -15], \n",
    "    [0, 1, -5], \n",
    "    [0, 0, 1]\n",
    "]) \n",
    "P = np.array([\n",
    "    [0, 0, 20, 20], \n",
    "    [0, 20, 20, 0], \n",
    "    [1, 1, 1, 1]\n",
    "]) \n",
    "\n",
    "\n",
    "translated = A.dot(P) \n",
    "print(translated)\n",
    "plot_points(matrix, ls='dashed', lw=1)\n",
    "plot_points(translated, ls='solid', lw=3)\n",
    "plt.ylim([-10, 25])\n",
    "plt.xlim([-20, 40])\n",
    "plt.show()"
   ]
  },
  {
   "attachments": {
    "2D_affine_transformation_matrix.svg": {
     "image/svg+xml": [
      "PD94bWwgdmVyc2lvbj0iMS4wIiBlbmNvZGluZz0idXRmLTgiPz4NCjxzdmcgdmVyc2lvbj0iMS4xIiB4bWxucz0iaHR0cDovL3d3dy53My5vcmcvMjAwMC9zdmciIHhtbG5zOnhsaW5rPSJodHRwOi8vd3d3LnczLm9yZy8xOTk5L3hsaW5rIiB3aWR0aD0iMTAwJSIgaGVpZ2h0PSIxMDAlIiB2aWV3Qm94PSItMTMwIC0zNjAgMTE0MCAxNTIwIj4NCiA8dGl0bGU+MkQgYWZmaW5lIHRyYW5zZm9ybWF0aW9uIG1hdHJpeDwvdGl0bGU+DQogPGRlc2M+SWxsdXN0cmF0aW9uIG9mIHRoZSBlZmZlY3Qgb2YgYXBwbHlpbmcgdmFyaW91cyAyRCBhZmZpbmUgdHJhbnNmb3JtYXRpb24gbWF0cmljZXMgb24gYSB1bml0IHNxdWFyZSBieSBDTUcgTGVlLiBOb3RlIHRoYXQgdGhlIHJlZmxlY3Rpb24gbWF0cmljZXMgYXJlIHNwZWNpYWwgY2FzZXMgb2YgdGhlIHNjYWxpbmcgbWF0cml4LjwvZGVzYz4NCiA8c3R5bGUgdHlwZT0idGV4dC9jc3MiPg0KLnBvaW50XzAgeyBzdHJva2U6IzAwOTkwMDsgZmlsbDojMDA5OTAwOyB9DQoucG9pbnRfeCB7IHN0cm9rZTojMDAwMGZmOyBmaWxsOiMwMDAwZmY7IH0NCi5wb2ludF95IHsgc3Ryb2tlOiNjYzAwMDA7IGZpbGw6I2NjMDAwMDsgfQ0KLmRlZmF1bHQgeyBzdHJva2U6IzAwMDAwMDsgZmlsbDojMDAwMDAwOyB9DQouZ2hvc3QgICB7IHN0cm9rZTojOTk5OTk5OyBmaWxsOiM5OTk5OTk7IH0NCi5hbmdsZSAgIHsgc3Ryb2tlOiM2NjAwOTk7IGZpbGw6I2NjMDBmZjsgfQ0KLm5vc3Ryb2tlIHsgc3Ryb2tlOm5vbmU7IH0NCiA8L3N0eWxlPg0KIDxkZWZzPg0KICA8ZyBpZD0ic3F1YXJlIj4NCiAgIDxjaXJjbGUgY3g9IjAiICAgY3k9IjAiICAgIHI9IjYuNCIgY2xhc3M9InBvaW50XzAiIG9wYWNpdHk9IjAuNzUiLz4NCiAgIDxjaXJjbGUgY3g9IjEwMCIgY3k9IjAiICAgIHI9IjYuNCIgY2xhc3M9InBvaW50X3giIG9wYWNpdHk9IjAuNzUiLz4NCiAgIDxjaXJjbGUgY3g9IjAiICAgY3k9Ii0xMDAiIHI9IjYuNCIgY2xhc3M9InBvaW50X3kiIG9wYWNpdHk9IjAuNzUiLz4NCiAgIDxyZWN0IHg9IjAiIHk9Ii0xMDAiIHdpZHRoPSIxMDAiIGhlaWdodD0iMTAwIi8+DQogICA8cGF0aCBkPSJNIDgwLC04MCBIIDIwIFYgLTIwIEggMzAgViAtNDUgSCA3MCBWIC01NSBIIDMwIFYgLTcwIEggODAgWiIgc3Ryb2tlPSJub25lIiBmaWxsPSIjY2M5OTAwIiBvcGFjaXR5PSIwLjkiLz4NCiAgPC9nPg0KICA8cGF0aCBpZD0iYXhpcyIgZD0iTSAtMTIwLDAgSCAxNzAgbSAtMTAsLTEwIGwgMTAsMTAgbCAtMTAsMTAgTSAtMTAwLC0xMCBWIDEwIE0gMTAwLC0xMCBWIDEwIiBzdHJva2U9IiM5OTk5OTkiLz4NCiAgPHBhdGggaWQ9ImJyYWNrZXQiIGQ9Ik0gMCwxMCBIIC0xMCBWIDEyMCBIIDAiLz4NCiAgPGcgaWQ9ImJhc2VfbWF0cml4IiB0cmFuc2Zvcm09InRyYW5zbGF0ZSg0MCwtMzE1KSI+DQogICA8dGV4dCB4PSItNTAiIHk9IjEyMCIgY2xhc3M9Imdob3N0IG5vc3Ryb2tlIj4wPC90ZXh0Pg0KICAgPHRleHQgeD0iMCIgICB5PSIxMjAiIGNsYXNzPSJnaG9zdCBub3N0cm9rZSI+MDwvdGV4dD4NCiAgIDx0ZXh0IHg9IjUwIiAgeT0iMTIwIiBjbGFzcz0iZ2hvc3Qgbm9zdHJva2UiPjE8L3RleHQ+DQogICA8dXNlIHhsaW5rOmhyZWY9IiNicmFja2V0IiB0cmFuc2Zvcm09InRyYW5zbGF0ZSgtODApIi8+DQogICA8dXNlIHhsaW5rOmhyZWY9IiNicmFja2V0IiB0cmFuc2Zvcm09InRyYW5zbGF0ZSg4MCkgc2NhbGUoLTEsMSkiLz4NCiAgPC9nPg0KICA8ZyBpZD0iYmFzZSI+DQogICA8dXNlIHhsaW5rOmhyZWY9IiNheGlzIi8+DQogICA8dXNlIHhsaW5rOmhyZWY9IiNheGlzIiB0cmFuc2Zvcm09InJvdGF0ZSgtOTApIi8+DQogICA8ZyBzdHJva2U9Im5vbmUiIGZpbGw9IiM5OTk5OTkiPg0KICAgIDx0ZXh0IHg9Ii0yMCIgeT0iLTg1Ij4xPC90ZXh0Pg0KICAgIDx0ZXh0IHg9Ii0yMCIgeT0iNDUiPjA8L3RleHQ+DQogICAgPHRleHQgeD0iMTAwIiB5PSI0NSI+MTwvdGV4dD4NCiAgICA8dGV4dCB4PSIxNjAiIHk9IjQ1IiAgIGZvbnQtc3R5bGU9Iml0YWxpYyI+eDwvdGV4dD4NCiAgICA8dGV4dCB4PSItMzAiIHk9Ii0xNjAiIGZvbnQtc3R5bGU9Iml0YWxpYyI+eTwvdGV4dD4NCiAgIDwvZz4NCiAgIDx1c2UgeGxpbms6aHJlZj0iI3NxdWFyZSIgc3Ryb2tlLXdpZHRoPSIzLjUiIHN0cm9rZS1kYXNoYXJyYXk9IjAuMSw0LjkiIGZpbGwtb3BhY2l0eT0iMC40Ii8+DQogIDwvZz4NCiA8L2RlZnM+DQogPGcgZm9udC1mYW1pbHk9IkhlbHZldGljYSxBcmlhbCxzYW5zLXNlcmlmIiBmb250LXNpemU9IjQwIiBsZXR0ZXItc3BhY2luZz0iLTIiIHRleHQtYW5jaG9yPSJtaWRkbGUiIHN0cm9rZS1saW5lY2FwPSJyb3VuZCIgc3Ryb2tlLWxpbmVqb2luPSJyb3VuZCIgc3Ryb2tlPSJub25lIiBmaWxsPSJub25lIj4NCiAgPHJlY3QgeD0iLTQ5OTkiIHk9Ii00OTk5IiB3aWR0aD0iOTk5OSIgaGVpZ2h0PSI5OTk5IiBmaWxsPSIjZmZmZmZmIi8+DQogIDxnIHN0cm9rZT0iIzAwMDAwMCIgc3Ryb2tlLXdpZHRoPSIyIj4NCiAgIDxnIHRyYW5zZm9ybT0idHJhbnNsYXRlKDAsMCkiPg0KICAgIDxnIHRyYW5zZm9ybT0idHJhbnNsYXRlKDAsMCkiPg0KICAgICA8dXNlIHhsaW5rOmhyZWY9IiNiYXNlIi8+DQogICAgIDx1c2UgeGxpbms6aHJlZj0iI2Jhc2VfbWF0cml4Ii8+DQogICAgIDx1c2UgeGxpbms6aHJlZj0iI3NxdWFyZSIgdHJhbnNmb3JtPSJtYXRyaXgoMSwwIDAsMSAwLDApIi8+DQogICAgIDx0ZXh0IHg9IjEwNSIgeT0iLTE1IiAgdGV4dC1hbmNob3I9InN0YXJ0IiBjbGFzcz0icG9pbnRfeCBub3N0cm9rZSI+KDEsIDApPC90ZXh0Pg0KICAgICA8dGV4dCB4PSI1IiAgIHk9Ii0xMTUiIHRleHQtYW5jaG9yPSJzdGFydCIgY2xhc3M9InBvaW50X3kgbm9zdHJva2UiPigwLCAxKTwvdGV4dD4NCiAgICAgPHRleHQgeD0iLTUiIHk9Ii0xNSIgICB0ZXh0LWFuY2hvcj0iZW5kIiAgIGNsYXNzPSJwb2ludF8wIG5vc3Ryb2tlIj4oMCwgMCk8L3RleHQ+DQogICAgIDxnIHRyYW5zZm9ybT0idHJhbnNsYXRlKDQwLC0zMTUpIj4NCiAgICAgIDx0ZXh0IHg9IjAiICAgeT0iLTkiIGNsYXNzPSJkZWZhdWx0IG5vc3Ryb2tlIj5ObyBjaGFuZ2U8L3RleHQ+DQogICAgICA8dGV4dCB4PSItNTAiIHk9IjQwIiBjbGFzcz0icG9pbnRfeCBub3N0cm9rZSI+MTwvdGV4dD4NCiAgICAgIDx0ZXh0IHg9Ii01MCIgeT0iODAiIGNsYXNzPSJwb2ludF94IG5vc3Ryb2tlIj4wPC90ZXh0Pg0KICAgICAgPHRleHQgeD0iMCIgICB5PSI0MCIgY2xhc3M9InBvaW50X3kgbm9zdHJva2UiPjA8L3RleHQ+DQogICAgICA8dGV4dCB4PSIwIiAgIHk9IjgwIiBjbGFzcz0icG9pbnRfeSBub3N0cm9rZSI+MTwvdGV4dD4NCiAgICAgIDx0ZXh0IHg9IjUwIiAgeT0iNDAiIGNsYXNzPSJwb2ludF8wIG5vc3Ryb2tlIj4wPC90ZXh0Pg0KICAgICAgPHRleHQgeD0iNTAiICB5PSI4MCIgY2xhc3M9InBvaW50XzAgbm9zdHJva2UiPjA8L3RleHQ+DQogICAgIDwvZz4NCiAgICA8L2c+DQogICAgPGcgdHJhbnNmb3JtPSJ0cmFuc2xhdGUoMzc1LDApIj4NCiAgICAgPHVzZSB4bGluazpocmVmPSIjYmFzZSIvPg0KICAgICA8dXNlIHhsaW5rOmhyZWY9IiNiYXNlX21hdHJpeCIvPg0KICAgICA8dXNlIHhsaW5rOmhyZWY9IiNzcXVhcmUiIHRyYW5zZm9ybT0ibWF0cml4KDEsMCAwLDEgMTAsLTQwKSIvPg0KICAgICA8dGV4dCB4PSItNSIgeT0iLTMwIiAgdGV4dC1hbmNob3I9ImVuZCIgY2xhc3M9InBvaW50XzAgbm9zdHJva2UiPihYLCBZKTwvdGV4dD4NCiAgICAgPGcgdHJhbnNmb3JtPSJ0cmFuc2xhdGUoNDAsLTMxNSkiPg0KICAgICAgPHRleHQgeD0iMCIgICB5PSItOSIgY2xhc3M9ImRlZmF1bHQgbm9zdHJva2UiPlRyYW5zbGF0ZTwvdGV4dD4NCiAgICAgIDx0ZXh0IHg9Ii01MCIgeT0iNDAiIGNsYXNzPSJkZWZhdWx0IG5vc3Ryb2tlIj4xPC90ZXh0Pg0KICAgICAgPHRleHQgeD0iLTUwIiB5PSI4MCIgY2xhc3M9ImRlZmF1bHQgbm9zdHJva2UiPjA8L3RleHQ+DQogICAgICA8dGV4dCB4PSIwIiAgIHk9IjQwIiBjbGFzcz0iZGVmYXVsdCBub3N0cm9rZSI+MDwvdGV4dD4NCiAgICAgIDx0ZXh0IHg9IjAiICAgeT0iODAiIGNsYXNzPSJkZWZhdWx0IG5vc3Ryb2tlIj4xPC90ZXh0Pg0KICAgICAgPHRleHQgeD0iNTAiICB5PSI0MCIgY2xhc3M9InBvaW50XzAgbm9zdHJva2UiPlg8L3RleHQ+DQogICAgICA8dGV4dCB4PSI1MCIgIHk9IjgwIiBjbGFzcz0icG9pbnRfMCBub3N0cm9rZSI+WTwvdGV4dD4NCiAgICAgPC9nPg0KICAgIDwvZz4NCiAgICA8ZyB0cmFuc2Zvcm09InRyYW5zbGF0ZSg3NTAsMCkiPg0KICAgICA8dXNlIHhsaW5rOmhyZWY9IiNiYXNlIi8+DQogICAgIDx1c2UgeGxpbms6aHJlZj0iI2Jhc2VfbWF0cml4Ii8+DQogICAgIDx1c2UgeGxpbms6aHJlZj0iI3NxdWFyZSIgdHJhbnNmb3JtPSJtYXRyaXgoMS4yLDAgMCwxLjEgMCwwKSIvPg0KICAgICA8dGV4dCB4PSIxMjUiIHk9Ii0yMCIgIHRleHQtYW5jaG9yPSJzdGFydCIgY2xhc3M9InBvaW50X3ggbm9zdHJva2UiPihXLCAwKTwvdGV4dD4NCiAgICAgPHRleHQgeD0iNSIgICB5PSItMTI1IiB0ZXh0LWFuY2hvcj0ic3RhcnQiIGNsYXNzPSJwb2ludF95IG5vc3Ryb2tlIj4oMCwgSCk8L3RleHQ+DQogICAgIDxnIHRyYW5zZm9ybT0idHJhbnNsYXRlKDQwLC0zMTUpIj4NCiAgICAgIDx0ZXh0IHg9IjAiICAgeT0iLTkiIGNsYXNzPSJkZWZhdWx0IG5vc3Ryb2tlIj5TY2FsZSBhYm91dCBvcmlnaW48L3RleHQ+DQogICAgICA8dGV4dCB4PSItNTAiIHk9IjQwIiBjbGFzcz0icG9pbnRfeCBub3N0cm9rZSI+VzwvdGV4dD4NCiAgICAgIDx0ZXh0IHg9Ii01MCIgeT0iODAiIGNsYXNzPSJwb2ludF94IG5vc3Ryb2tlIj4wPC90ZXh0Pg0KICAgICAgPHRleHQgeD0iMCIgICB5PSI0MCIgY2xhc3M9InBvaW50X3kgbm9zdHJva2UiPjA8L3RleHQ+DQogICAgICA8dGV4dCB4PSIwIiAgIHk9IjgwIiBjbGFzcz0icG9pbnRfeSBub3N0cm9rZSI+SDwvdGV4dD4NCiAgICAgIDx0ZXh0IHg9IjUwIiAgeT0iNDAiIGNsYXNzPSJkZWZhdWx0IG5vc3Ryb2tlIj4wPC90ZXh0Pg0KICAgICAgPHRleHQgeD0iNTAiICB5PSI4MCIgY2xhc3M9ImRlZmF1bHQgbm9zdHJva2UiPjA8L3RleHQ+DQogICAgIDwvZz4NCiAgICA8L2c+DQogICA8L2c+DQogICA8ZyB0cmFuc2Zvcm09InRyYW5zbGF0ZSgwLDUwMCkiPg0KICAgIDxnIHRyYW5zZm9ybT0idHJhbnNsYXRlKDAsMCkiPg0KICAgICA8dXNlIHhsaW5rOmhyZWY9IiNiYXNlIi8+DQogICAgIDx1c2UgeGxpbms6aHJlZj0iI3NxdWFyZSIgdHJhbnNmb3JtPSJtYXRyaXgoMC44LDAuNiAtMC42LDAuOCAwLDApIi8+DQogICAgIDx0ZXh0IHg9IjEwIiB5PSIxMDAiICB0ZXh0LWFuY2hvcj0ic3RhcnQiIGNsYXNzPSJwb2ludF94IG5vc3Ryb2tlIj4oY29zICYjOTUyOywgJiM4NzIyO3NpbiAmIzk1MjspPC90ZXh0Pg0KICAgICA8dGV4dCB4PSIxMCIgeT0iLTEwNSIgdGV4dC1hbmNob3I9InN0YXJ0IiBjbGFzcz0icG9pbnRfeSBub3N0cm9rZSI+KHNpbiAmIzk1MjssIGNvcyAmIzk1MjspPC90ZXh0Pg0KICAgICA8dGV4dCB4PSItNSIgeT0iLTE1IiAgdGV4dC1hbmNob3I9ImVuZCIgICBjbGFzcz0iYW5nbGUgICBub3N0cm9rZSI+JiM5NTI7PC90ZXh0Pg0KICAgICA8cGF0aCBkPSJNIDAsMCBWIC00MCBBIDQwLDQwIDAgMCAxIDI0LC0zMiBaIiBjbGFzcz0iYW5nbGUiLz4NCiAgICAgPGcgdHJhbnNmb3JtPSJ0cmFuc2xhdGUoNDAsLTMxNSkiPg0KICAgICAgPHRleHQgeD0iMCIgICB5PSItOSIgIGNsYXNzPSJkZWZhdWx0IG5vc3Ryb2tlIj5Sb3RhdGUgYWJvdXQgb3JpZ2luPC90ZXh0Pg0KICAgICAgPHRleHQgeD0iLTkwIiB5PSI0MCIgIGNsYXNzPSJwb2ludF94IG5vc3Ryb2tlIj5jb3MgJiM5NTI7PC90ZXh0Pg0KICAgICAgPHRleHQgeD0iLTkwIiB5PSI4MCIgIGNsYXNzPSJwb2ludF94IG5vc3Ryb2tlIj4mIzg3MjI7c2luICYjOTUyOzwvdGV4dD4NCiAgICAgIDx0ZXh0IHg9IjM1IiAgeT0iNDAiICBjbGFzcz0icG9pbnRfeSBub3N0cm9rZSI+c2luICYjOTUyOzwvdGV4dD4NCiAgICAgIDx0ZXh0IHg9IjM1IiAgeT0iODAiICBjbGFzcz0icG9pbnRfeSBub3N0cm9rZSI+Y29zICYjOTUyOzwvdGV4dD4NCiAgICAgIDx0ZXh0IHg9IjEyMCIgeT0iNDAiICBjbGFzcz0iZGVmYXVsdCBub3N0cm9rZSI+MDwvdGV4dD4NCiAgICAgIDx0ZXh0IHg9IjEyMCIgeT0iODAiICBjbGFzcz0iZGVmYXVsdCBub3N0cm9rZSI+MDwvdGV4dD4NCiAgICAgIDx0ZXh0IHg9Ii05MCIgeT0iMTIwIiBjbGFzcz0iZ2hvc3Qgbm9zdHJva2UiPjA8L3RleHQ+DQogICAgICA8dGV4dCB4PSIzNSIgIHk9IjEyMCIgY2xhc3M9Imdob3N0IG5vc3Ryb2tlIj4wPC90ZXh0Pg0KICAgICAgPHRleHQgeD0iMTIwIiB5PSIxMjAiIGNsYXNzPSJnaG9zdCBub3N0cm9rZSI+MTwvdGV4dD4NCiAgICAgIDx1c2UgeGxpbms6aHJlZj0iI2JyYWNrZXQiIHRyYW5zZm9ybT0idHJhbnNsYXRlKC0xNTApIi8+DQogICAgICA8dXNlIHhsaW5rOmhyZWY9IiNicmFja2V0IiB0cmFuc2Zvcm09InRyYW5zbGF0ZSgxNTApIHNjYWxlKC0xLDEpIi8+DQogICAgIDwvZz4NCiAgICA8L2c+DQogICAgPGcgdHJhbnNmb3JtPSJ0cmFuc2xhdGUoMzc1LDApIj4NCiAgICAgPHVzZSB4bGluazpocmVmPSIjYmFzZSIvPg0KICAgICA8dXNlIHhsaW5rOmhyZWY9IiNzcXVhcmUiIHRyYW5zZm9ybT0ibWF0cml4KDEsMCAtMC41LDEgMCwwKSIvPg0KICAgICA8dGV4dCB4PSIxMjAiIHk9Ii0xMCIgIHRleHQtYW5jaG9yPSJzdGFydCIgY2xhc3M9InBvaW50X3ggbm9zdHJva2UiPigxLCAwKTwvdGV4dD4NCiAgICAgPHRleHQgeD0iMjAiICB5PSItMTE1IiB0ZXh0LWFuY2hvcj0ic3RhcnQiIGNsYXNzPSJwb2ludF95IG5vc3Ryb2tlIj4odGFuICYjOTgxOywgMSk8L3RleHQ+DQogICAgIDx0ZXh0IHg9Ii01IiAgeT0iLTE1IiAgdGV4dC1hbmNob3I9ImVuZCIgICBjbGFzcz0iYW5nbGUgICBub3N0cm9rZSI+JiM5ODE7PC90ZXh0Pg0KICAgICA8cGF0aCBkPSJNIDAsMCBWIC00MCBBIDQwLDQwIDAgMCAxIDE4LC0zNiBaIiBjbGFzcz0iYW5nbGUiLz4NCiAgICAgPGcgdHJhbnNmb3JtPSJ0cmFuc2xhdGUoNDAsLTMxNSkiPg0KICAgICAgPHRleHQgeD0iMCIgICB5PSItOSIgIGNsYXNzPSJkZWZhdWx0IG5vc3Ryb2tlIj5TaGVhciBpbiB4IGRpcmVjdGlvbjwvdGV4dD4NCiAgICAgIDx0ZXh0IHg9Ii04MCIgeT0iNDAiICBjbGFzcz0icG9pbnRfeCBub3N0cm9rZSI+MTwvdGV4dD4NCiAgICAgIDx0ZXh0IHg9Ii04MCIgeT0iODAiICBjbGFzcz0icG9pbnRfeCBub3N0cm9rZSI+MDwvdGV4dD4NCiAgICAgIDx0ZXh0IHg9IjAiICAgeT0iNDAiICBjbGFzcz0icG9pbnRfeSBub3N0cm9rZSI+dGFuICYjOTgxOzwvdGV4dD4NCiAgICAgIDx0ZXh0IHg9IjAiICAgeT0iODAiICBjbGFzcz0icG9pbnRfeSBub3N0cm9rZSI+MTwvdGV4dD4NCiAgICAgIDx0ZXh0IHg9IjgwIiAgeT0iNDAiICBjbGFzcz0iZGVmYXVsdCBub3N0cm9rZSI+MDwvdGV4dD4NCiAgICAgIDx0ZXh0IHg9IjgwIiAgeT0iODAiICBjbGFzcz0iZGVmYXVsdCBub3N0cm9rZSI+MDwvdGV4dD4NCiAgICAgIDx0ZXh0IHg9Ii04MCIgeT0iMTIwIiBjbGFzcz0iZ2hvc3Qgbm9zdHJva2UiPjA8L3RleHQ+DQogICAgICA8dGV4dCB4PSIwIiAgIHk9IjEyMCIgY2xhc3M9Imdob3N0IG5vc3Ryb2tlIj4wPC90ZXh0Pg0KICAgICAgPHRleHQgeD0iODAiICB5PSIxMjAiIGNsYXNzPSJnaG9zdCBub3N0cm9rZSI+MTwvdGV4dD4NCiAgICAgIDx1c2UgeGxpbms6aHJlZj0iI2JyYWNrZXQiIHRyYW5zZm9ybT0idHJhbnNsYXRlKC0xMTApIi8+DQogICAgICA8dXNlIHhsaW5rOmhyZWY9IiNicmFja2V0IiB0cmFuc2Zvcm09InRyYW5zbGF0ZSgxMTApIHNjYWxlKC0xLDEpIi8+DQogICAgIDwvZz4NCiAgICA8L2c+DQogICAgPGcgdHJhbnNmb3JtPSJ0cmFuc2xhdGUoNzUwLDApIj4NCiAgICAgPHVzZSB4bGluazpocmVmPSIjYmFzZSIvPg0KICAgICA8dXNlIHhsaW5rOmhyZWY9IiNzcXVhcmUiIHRyYW5zZm9ybT0ibWF0cml4KDEsLTAuNSAwLDEgMCwwKSIvPg0KICAgICA8dGV4dCB4PSIxMjAiIHk9Ii0yNSIgIHRleHQtYW5jaG9yPSJzdGFydCIgY2xhc3M9InBvaW50X3ggbm9zdHJva2UiIHRyYW5zZm9ybT0ic2NhbGUoMC45LDEpIj4oMSwgdGFuICYjOTY4Oyk8L3RleHQ+DQogICAgIDx0ZXh0IHg9Ii0yIiAgeT0iLTEyMCIgdGV4dC1hbmNob3I9ImVuZCIgICBjbGFzcz0icG9pbnRfeSBub3N0cm9rZSI+KDAsIDEpPC90ZXh0Pg0KICAgICA8dGV4dCB4PSIyMCIgIHk9IjM1IiAgIHRleHQtYW5jaG9yPSJzdGFydCIgY2xhc3M9ImFuZ2xlICAgbm9zdHJva2UiPiYjOTY4OzwvdGV4dD4NCiAgICAgPHBhdGggZD0iTSAwLDAgSCA0MCBBIDQwLDQwIDAgMCAwIDM2LC0xOCIgY2xhc3M9ImFuZ2xlIi8+DQogICAgIDxnIHRyYW5zZm9ybT0idHJhbnNsYXRlKDQwLC0zMTUpIj4NCiAgICAgIDx0ZXh0IHg9IjAiICAgeT0iLTkiICBjbGFzcz0iZGVmYXVsdCBub3N0cm9rZSI+U2hlYXIgaW4geSBkaXJlY3Rpb248L3RleHQ+DQogICAgICA8dGV4dCB4PSItNTUiIHk9IjQwIiAgY2xhc3M9InBvaW50X3ggbm9zdHJva2UiPjE8L3RleHQ+DQogICAgICA8dGV4dCB4PSItNTUiIHk9IjgwIiAgY2xhc3M9InBvaW50X3ggbm9zdHJva2UiPnRhbiAmIzk2ODs8L3RleHQ+DQogICAgICA8dGV4dCB4PSIyNSIgIHk9IjQwIiAgY2xhc3M9InBvaW50X3kgbm9zdHJva2UiPjA8L3RleHQ+DQogICAgICA8dGV4dCB4PSIyNSIgIHk9IjgwIiAgY2xhc3M9InBvaW50X3kgbm9zdHJva2UiPjE8L3RleHQ+DQogICAgICA8dGV4dCB4PSI4MCIgIHk9IjQwIiAgY2xhc3M9ImRlZmF1bHQgbm9zdHJva2UiPjA8L3RleHQ+DQogICAgICA8dGV4dCB4PSI4MCIgIHk9IjgwIiAgY2xhc3M9ImRlZmF1bHQgbm9zdHJva2UiPjA8L3RleHQ+DQogICAgICA8dGV4dCB4PSItNTUiIHk9IjEyMCIgY2xhc3M9Imdob3N0IG5vc3Ryb2tlIj4wPC90ZXh0Pg0KICAgICAgPHRleHQgeD0iMjUiICB5PSIxMjAiIGNsYXNzPSJnaG9zdCBub3N0cm9rZSI+MDwvdGV4dD4NCiAgICAgIDx0ZXh0IHg9IjgwIiAgeT0iMTIwIiBjbGFzcz0iZ2hvc3Qgbm9zdHJva2UiPjE8L3RleHQ+DQogICAgICA8dXNlIHhsaW5rOmhyZWY9IiNicmFja2V0IiB0cmFuc2Zvcm09InRyYW5zbGF0ZSgtMTEwKSIvPg0KICAgICAgPHVzZSB4bGluazpocmVmPSIjYnJhY2tldCIgdHJhbnNmb3JtPSJ0cmFuc2xhdGUoMTEwKSBzY2FsZSgtMSwxKSIvPg0KICAgICA8L2c+DQogICAgPC9nPg0KICAgPC9nPg0KICAgPGcgdHJhbnNmb3JtPSJ0cmFuc2xhdGUoMCwxMDQwKSI+DQogICAgPGcgdHJhbnNmb3JtPSJ0cmFuc2xhdGUoMCwwKSI+DQogICAgIDx1c2UgeGxpbms6aHJlZj0iI2Jhc2UiLz4NCiAgICAgPHVzZSB4bGluazpocmVmPSIjYmFzZV9tYXRyaXgiLz4NCiAgICAgPHVzZSB4bGluazpocmVmPSIjc3F1YXJlIiB0cmFuc2Zvcm09Im1hdHJpeCgtMSwwIDAsLTEgMCwwKSIvPg0KICAgICA8dGV4dCB4PSItMTI1IiB5PSItMTUiIHRleHQtYW5jaG9yPSJzdGFydCIgY2xhc3M9InBvaW50X3ggbm9zdHJva2UiPigmIzg3MjI7MSwgMCk8L3RleHQ+DQogICAgIDx0ZXh0IHg9IjEwIiAgIHk9IjEwMCIgdGV4dC1hbmNob3I9InN0YXJ0IiBjbGFzcz0icG9pbnRfeSBub3N0cm9rZSI+KDAsICYjODcyMjsxKTwvdGV4dD4NCiAgICAgPGcgdHJhbnNmb3JtPSJ0cmFuc2xhdGUoNDAsLTMxNSkiPg0KICAgICAgPHRleHQgeD0iMCIgICB5PSItOSIgY2xhc3M9ImRlZmF1bHQgbm9zdHJva2UiPlJlZmxlY3QgYWJvdXQgb3JpZ2luPC90ZXh0Pg0KICAgICAgPHRleHQgeD0iLTUwIiB5PSI0MCIgY2xhc3M9InBvaW50X3ggbm9zdHJva2UiPiYjODcyMjsxPC90ZXh0Pg0KICAgICAgPHRleHQgeD0iLTUwIiB5PSI4MCIgY2xhc3M9InBvaW50X3ggbm9zdHJva2UiPjA8L3RleHQ+DQogICAgICA8dGV4dCB4PSIwIiAgIHk9IjQwIiBjbGFzcz0icG9pbnRfeSBub3N0cm9rZSI+MDwvdGV4dD4NCiAgICAgIDx0ZXh0IHg9IjAiICAgeT0iODAiIGNsYXNzPSJwb2ludF95IG5vc3Ryb2tlIj4mIzg3MjI7MTwvdGV4dD4NCiAgICAgIDx0ZXh0IHg9IjUwIiAgeT0iNDAiIGNsYXNzPSJkZWZhdWx0IG5vc3Ryb2tlIj4wPC90ZXh0Pg0KICAgICAgPHRleHQgeD0iNTAiICB5PSI4MCIgY2xhc3M9ImRlZmF1bHQgbm9zdHJva2UiPjA8L3RleHQ+DQogICAgIDwvZz4NCiAgICA8L2c+DQogICAgPGcgdHJhbnNmb3JtPSJ0cmFuc2xhdGUoMzc1LDApIj4NCiAgICAgPHVzZSB4bGluazpocmVmPSIjYmFzZSIvPg0KICAgICA8dXNlIHhsaW5rOmhyZWY9IiNiYXNlX21hdHJpeCIvPg0KICAgICA8dXNlIHhsaW5rOmhyZWY9IiNzcXVhcmUiIHRyYW5zZm9ybT0ibWF0cml4KDEsMCAwLC0xIDAsMCkiLz4NCiAgICAgPHRleHQgeD0iMTA1IiAgeT0iLTE1IiB0ZXh0LWFuY2hvcj0ic3RhcnQiIGNsYXNzPSJwb2ludF94IG5vc3Ryb2tlIj4oMSwgMCk8L3RleHQ+DQogICAgIDx0ZXh0IHg9Ii0xMCIgIHk9IjEwMCIgdGV4dC1hbmNob3I9ImVuZCIgICBjbGFzcz0icG9pbnRfeSBub3N0cm9rZSI+KDAsICYjODcyMjsxKTwvdGV4dD4NCiAgICAgPGcgdHJhbnNmb3JtPSJ0cmFuc2xhdGUoNDAsLTMxNSkiPg0KICAgICAgPHRleHQgeD0iMCIgICB5PSItOSIgY2xhc3M9ImRlZmF1bHQgbm9zdHJva2UiPlJlZmxlY3QgYWJvdXQgeC1heGlzPC90ZXh0Pg0KICAgICAgPHRleHQgeD0iLTUwIiB5PSI0MCIgY2xhc3M9InBvaW50X3ggbm9zdHJva2UiPjE8L3RleHQ+DQogICAgICA8dGV4dCB4PSItNTAiIHk9IjgwIiBjbGFzcz0icG9pbnRfeCBub3N0cm9rZSI+MDwvdGV4dD4NCiAgICAgIDx0ZXh0IHg9IjAiICAgeT0iNDAiIGNsYXNzPSJwb2ludF95IG5vc3Ryb2tlIj4wPC90ZXh0Pg0KICAgICAgPHRleHQgeD0iMCIgICB5PSI4MCIgY2xhc3M9InBvaW50X3kgbm9zdHJva2UiPiYjODcyMjsxPC90ZXh0Pg0KICAgICAgPHRleHQgeD0iNTAiICB5PSI0MCIgY2xhc3M9ImRlZmF1bHQgbm9zdHJva2UiPjA8L3RleHQ+DQogICAgICA8dGV4dCB4PSI1MCIgIHk9IjgwIiBjbGFzcz0iZGVmYXVsdCBub3N0cm9rZSI+MDwvdGV4dD4NCiAgICAgPC9nPg0KICAgIDwvZz4NCiAgICA8ZyB0cmFuc2Zvcm09InRyYW5zbGF0ZSg3NTAsMCkiPg0KICAgICA8dXNlIHhsaW5rOmhyZWY9IiNiYXNlIi8+DQogICAgIDx1c2UgeGxpbms6aHJlZj0iI2Jhc2VfbWF0cml4Ii8+DQogICAgIDx1c2UgeGxpbms6aHJlZj0iI3NxdWFyZSIgdHJhbnNmb3JtPSJtYXRyaXgoLTEsMCAwLDEgMCwwKSIvPg0KICAgICA8dGV4dCB4PSItNjAiICB5PSI0NSIgICB0ZXh0LWFuY2hvcj0iZW5kIiAgIGNsYXNzPSJwb2ludF94IG5vc3Ryb2tlIj4oJiM4NzIyOzEsIDApPC90ZXh0Pg0KICAgICA8dGV4dCB4PSIxMCIgICB5PSItMTE1IiB0ZXh0LWFuY2hvcj0ic3RhcnQiIGNsYXNzPSJwb2ludF95IG5vc3Ryb2tlIj4oMCwgMSk8L3RleHQ+DQogICAgIDxnIHRyYW5zZm9ybT0idHJhbnNsYXRlKDQwLC0zMTUpIj4NCiAgICAgIDx0ZXh0IHg9IjAiICAgeT0iLTkiIGNsYXNzPSJkZWZhdWx0IG5vc3Ryb2tlIj5SZWZsZWN0IGFib3V0IHktYXhpczwvdGV4dD4NCiAgICAgIDx0ZXh0IHg9Ii01MCIgeT0iNDAiIGNsYXNzPSJwb2ludF94IG5vc3Ryb2tlIj4mIzg3MjI7MTwvdGV4dD4NCiAgICAgIDx0ZXh0IHg9Ii01MCIgeT0iODAiIGNsYXNzPSJwb2ludF94IG5vc3Ryb2tlIj4wPC90ZXh0Pg0KICAgICAgPHRleHQgeD0iMCIgICB5PSI0MCIgY2xhc3M9InBvaW50X3kgbm9zdHJva2UiPjA8L3RleHQ+DQogICAgICA8dGV4dCB4PSIwIiAgIHk9IjgwIiBjbGFzcz0icG9pbnRfeSBub3N0cm9rZSI+MTwvdGV4dD4NCiAgICAgIDx0ZXh0IHg9IjUwIiAgeT0iNDAiIGNsYXNzPSJkZWZhdWx0IG5vc3Ryb2tlIj4wPC90ZXh0Pg0KICAgICAgPHRleHQgeD0iNTAiICB5PSI4MCIgY2xhc3M9ImRlZmF1bHQgbm9zdHJva2UiPjA8L3RleHQ+DQogICAgIDwvZz4NCiAgICA8L2c+DQogICA8L2c+DQogIDwvZz4NCiA8L2c+DQo8L3N2Zz4NCg=="
     ]
    }
   },
   "cell_type": "markdown",
   "metadata": {},
   "source": [
    "## Summary\n",
    "Read more about\n",
    "[Transformation matrix](https://en.wikipedia.org/wiki/Transformation_matrix#)\n",
    "\n",
    "![2D_affine_transformation_matrix.svg](attachment:2D_affine_transformation_matrix.svg)"
   ]
  },
  {
   "cell_type": "code",
   "execution_count": 10,
   "metadata": {
    "scrolled": true
   },
   "outputs": [
    {
     "ename": "NameError",
     "evalue": "name 'f' is not defined",
     "output_type": "error",
     "traceback": [
      "\u001b[1;31m---------------------------------------------------------------------------\u001b[0m",
      "\u001b[1;31mNameError\u001b[0m                                 Traceback (most recent call last)",
      "\u001b[1;32m<ipython-input-10-3c0968717e64>\u001b[0m in \u001b[0;36m<module>\u001b[1;34m\u001b[0m\n\u001b[1;32m----> 1\u001b[1;33m \u001b[0minteract\u001b[0m\u001b[1;33m(\u001b[0m\u001b[0mf\u001b[0m\u001b[1;33m,\u001b[0m \u001b[0mx\u001b[0m\u001b[1;33m=\u001b[0m\u001b[1;36m10\u001b[0m\u001b[1;33m)\u001b[0m\u001b[1;33m;\u001b[0m\u001b[1;33m\u001b[0m\u001b[1;33m\u001b[0m\u001b[0m\n\u001b[0m",
      "\u001b[1;31mNameError\u001b[0m: name 'f' is not defined"
     ]
    }
   ],
   "source": [
    "interact(f, x=10);"
   ]
  }
 ],
 "metadata": {
  "kernelspec": {
   "display_name": "Python 3",
   "language": "python",
   "name": "python3"
  },
  "language_info": {
   "codemirror_mode": {
    "name": "ipython",
    "version": 3
   },
   "file_extension": ".py",
   "mimetype": "text/x-python",
   "name": "python",
   "nbconvert_exporter": "python",
   "pygments_lexer": "ipython3",
   "version": "3.7.4"
  }
 },
 "nbformat": 4,
 "nbformat_minor": 2
}
