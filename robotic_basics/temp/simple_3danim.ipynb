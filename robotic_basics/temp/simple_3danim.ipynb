{
 "cells": [
  {
   "cell_type": "code",
   "execution_count": null,
   "metadata": {},
   "outputs": [],
   "source": [
    "%matplotlib inline"
   ]
  },
  {
   "cell_type": "markdown",
   "metadata": {},
   "source": [
    "\n",
    "# 3D animation\n",
    "\n",
    "\n",
    "An animated plot in 3D.\n",
    "\n"
   ]
  },
  {
   "cell_type": "code",
   "execution_count": 1,
   "metadata": {},
   "outputs": [
    {
     "data": {
      "text/plain": [
       "<Figure size 640x480 with 1 Axes>"
      ]
     },
     "metadata": {},
     "output_type": "display_data"
    }
   ],
   "source": [
    "import numpy as np\n",
    "import matplotlib.pyplot as plt\n",
    "import mpl_toolkits.mplot3d.axes3d as p3\n",
    "import matplotlib.animation as animation\n",
    "\n",
    "# Fixing random state for reproducibility\n",
    "np.random.seed(19680801)\n",
    "\n",
    "\n",
    "\n",
    "def Gen_RandLine(length, dims=2):\n",
    "    \"\"\"\n",
    "    Create a line using a random walk algorithm\n",
    "\n",
    "    length is the number of points for the line.\n",
    "    dims is the number of dimensions the line has.\n",
    "    \"\"\"\n",
    "    lineData = np.empty((dims, length))\n",
    "    lineData[:, 0] = np.random.rand(dims)\n",
    "    for index in range(1, length):\n",
    "        # scaling the random numbers by 0.1 so\n",
    "        # movement is small compared to position.\n",
    "        # subtraction by 0.5 is to change the range to [-0.5, 0.5]\n",
    "        # to allow a line to move backwards.\n",
    "        step = ((np.random.rand(dims) - 0.5) * 0.1)\n",
    "        lineData[:, index] = lineData[:, index - 1] + step\n",
    "\n",
    "    return lineData\n",
    "\n",
    "\n",
    "def update_lines(num, dataLines, lines):\n",
    "    for line, data in zip(lines, dataLines):\n",
    "        # NOTE: there is no .set_data() for 3 dim data...\n",
    "        line.set_data(data[0:2, :num])\n",
    "        line.set_3d_properties(data[2, :num])\n",
    "    return lines\n",
    "\n",
    "# Attaching 3D axis to the figure\n",
    "fig = plt.figure()\n",
    "ax = p3.Axes3D(fig)\n",
    "\n",
    "# Fifty lines of random 3-D lines\n",
    "data = [Gen_RandLine(25, 3) for index in range(50)]\n",
    "\n",
    "# Creating fifty line objects.\n",
    "# NOTE: Can't pass empty arrays into 3d version of plot()\n",
    "lines = [ax.plot(dat[0, 0:1], dat[1, 0:1], dat[2, 0:1])[0] for dat in data]\n",
    "\n",
    "# Setting the axes properties\n",
    "ax.set_xlim3d([0.0, 1.0])\n",
    "ax.set_xlabel('X')\n",
    "\n",
    "ax.set_ylim3d([0.0, 1.0])\n",
    "ax.set_ylabel('Y')\n",
    "\n",
    "ax.set_zlim3d([0.0, 1.0])\n",
    "ax.set_zlabel('Z')\n",
    "\n",
    "ax.set_title('3D Test')\n",
    "\n",
    "# Creating the Animation object\n",
    "line_ani = animation.FuncAnimation(fig, update_lines, 25, fargs=(data, lines),\n",
    "                                   interval=50, blit=False)\n",
    "\n",
    "plt.show()"
   ]
  },
  {
   "cell_type": "code",
   "execution_count": null,
   "metadata": {},
   "outputs": [],
   "source": []
  }
 ],
 "metadata": {
  "kernelspec": {
   "display_name": "Python 3",
   "language": "python",
   "name": "python3"
  },
  "language_info": {
   "codemirror_mode": {
    "name": "ipython",
    "version": 3
   },
   "file_extension": ".py",
   "mimetype": "text/x-python",
   "name": "python",
   "nbconvert_exporter": "python",
   "pygments_lexer": "ipython3",
   "version": "3.7.4"
  }
 },
 "nbformat": 4,
 "nbformat_minor": 1
}
