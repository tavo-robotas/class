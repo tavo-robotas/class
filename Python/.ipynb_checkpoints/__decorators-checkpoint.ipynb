{
 "cells": [
  {
   "cell_type": "markdown",
   "metadata": {},
   "source": [
    "# Decorators\n",
    "\n",
    "\n",
    "Decorators can be thought of as functions which modify the *functionality* of another function. They help to make your code shorter and more \"Pythonic\". \n",
    "\n",
    "To properly explain decorators we will slowly build up from functions. Make sure to run every cell in this Notebook for this lesson to look the same on your own computer.<br><br>So let's break down the steps:\n",
    "\n",
    "## Functions Review"
   ]
  },
  {
   "cell_type": "code",
   "execution_count": 87,
   "metadata": {},
   "outputs": [],
   "source": [
    "def func():\n",
    "    print('alfa')"
   ]
  },
  {
   "cell_type": "code",
   "execution_count": 88,
   "metadata": {},
   "outputs": [
    {
     "name": "stdout",
     "output_type": "stream",
     "text": [
      "alfa\n"
     ]
    }
   ],
   "source": [
    "func()"
   ]
  },
  {
   "cell_type": "markdown",
   "metadata": {},
   "source": [
    "Remember from the nested statements lesson that Python uses Scope to know what a variable is referring to"
   ]
  },
  {
   "cell_type": "code",
   "execution_count": 96,
   "metadata": {},
   "outputs": [],
   "source": [
    "kintamasis = 'globalus kintamasis'\n",
    "\n",
    "def look_at_locals():\n",
    "    print(locals())"
   ]
  },
  {
   "cell_type": "markdown",
   "metadata": {},
   "source": [
    "Remember that Python functions create a new scope, meaning the function has its own namespace to find variable names when they are mentioned within the function. We can check for local variables and global variables with the locals() and globals() functions."
   ]
  },
  {
   "cell_type": "code",
   "execution_count": 95,
   "metadata": {},
   "outputs": [
    {
     "data": {
      "text/plain": [
       "{'__name__': '__main__',\n",
       " '__doc__': 'Automatically created module for IPython interactive environment',\n",
       " '__package__': None,\n",
       " '__loader__': None,\n",
       " '__spec__': None,\n",
       " '__builtin__': <module 'builtins' (built-in)>,\n",
       " '__builtins__': <module 'builtins' (built-in)>,\n",
       " '_ih': ['',\n",
       "  \"a = 'Labas'\",\n",
       "  'def fun():\\n    print(locals())',\n",
       "  'globals()',\n",
       "  'globals().keys()',\n",
       "  \"globalus_kintamsis = 'Labas'\",\n",
       "  'def fun():\\n    print(locals())',\n",
       "  'globals()',\n",
       "  \"globalus = 'Labas'\",\n",
       "  'def fun():\\n    print(locals())',\n",
       "  'globals()',\n",
       "  'globals().keys()',\n",
       "  \"globalus = 'Labas'\",\n",
       "  'def fun():\\n    print(locals())',\n",
       "  'globals()',\n",
       "  'globals().keys()',\n",
       "  'globals().keys()',\n",
       "  \"globals().keys('globalus')\",\n",
       "  \"globals().get('globalus')\",\n",
       "  'func()',\n",
       "  'def func():\\n    print(locals())',\n",
       "  'func()',\n",
       "  'def labas(name=\"Alfredas Hitčkokas\"):',\n",
       "  'def labas(name=\"Alfredas Hitčkokas\"):\\n        return \\'Labas {}\\'.format(name)  ',\n",
       "  'labas()',\n",
       "  \"labas('Andrius Adrijauskas')\",\n",
       "  'vardas = labas',\n",
       "  'vardas()',\n",
       "  'vardas',\n",
       "  'vardas',\n",
       "  'vardas()',\n",
       "  'del labas',\n",
       "  'vardas()',\n",
       "  \"def labasrytas(name = 'Tomas Tomauskas'):\",\n",
       "  \"def labasrytas(name = 'Tomas Tomauskas'):\\n    print 'This has been executed'\\n    \\n    def sveikas():\\n        return 'This is inside labasrytas function'\",\n",
       "  \"def labasrytas(name = 'Tomas Tomauskas'):\\n    print('This has been executed')\\n    \\n    def sveikas():\\n        return 'This is inside labasrytas function'\",\n",
       "  'labasrytas()',\n",
       "  \"def labasrytas(name = 'Tomas Tomauskas'):\\n    print('This has been executed')\\n    \\n    def sveikas():\\n        return '\\\\tThis is inside labasrytas function'\",\n",
       "  \"def labasrytas(name = 'Tomas Tomauskas'):\\n    print('This has been executed')\\n    \\n    def sveikas():\\n        return '\\\\t This is inside sveikas function'\\n    \\n    def viso():\\n        return '\\\\t This is inside viso function'\",\n",
       "  \"def labasrytas(name = 'Tomas Tomauskas'):\\n    print('This has been executed')\\n    \\n    def sveikas():\\n        return '\\\\t This is inside sveikas function'\\n    \\n    def viso():\\n        return '\\\\t This is inside viso function'\\n    \\n    print(sveikas())\\n    print(viso())\",\n",
       "  'labasrytas()',\n",
       "  \"def labasrytas(name = 'Tomas Tomauskas'):\\n    print('This has been executed')\\n    \\n    def sveikas():\\n        return '\\\\t This is inside sveikas function'\\n    \\n    def viso():\\n        return '\\\\t This is inside viso function'\\n    \\n    print(sveikas())\\n    print(viso())\\n    print('Now we are back inside labasrytas function')\",\n",
       "  'labasrytas()',\n",
       "  'sveikas()',\n",
       "  \"def labasrytas(name = 'Tomas'):\\n    \\n    def sveikas():\\n        return '\\\\t This is inside sveikas function'\\n    \\n    def viso():\\n        return '\\\\t This is inside viso function'\\n    \\n    if name == 'Tomas':\\n        return sveikas\\n    else:\\n        return viso\",\n",
       "  'labasrytas()',\n",
       "  'labasrytas()()',\n",
       "  'print(labasrytas())',\n",
       "  'x = labasrytas',\n",
       "  'x()',\n",
       "  'x()',\n",
       "  'x = labasrytas()',\n",
       "  'x()',\n",
       "  'print(x())',\n",
       "  'x = labasrytas()',\n",
       "  'x',\n",
       "  'print(x)',\n",
       "  'print(x())',\n",
       "  \"x = labasrytas('Ada')\",\n",
       "  'x',\n",
       "  'print(x)',\n",
       "  'print(x())',\n",
       "  \"def naktis():\\n    print 'Hi'\\n    \",\n",
       "  \"def naktis():\\n    print('Hi')\\n    \",\n",
       "  \"def diena(func):\\n    print('Hi diena')\\n    print(func())\",\n",
       "  'diena()',\n",
       "  'diena(naktis)',\n",
       "  \"def naktis():\\n    return 'Hi naktis'\",\n",
       "  \"def diena(func):\\n    print('Hi diena')\\n    print(func())\",\n",
       "  'diena()',\n",
       "  'diena(naktis)',\n",
       "  \"def diena(func):\\n    print('dabar diena')\\n    print(func())\",\n",
       "  \"def new_decorator(paduoda):\\n    \\n    def wrap_func():\\n        print('tai bus įvykdyta prieš įvykkdant paduodota funckija')\\n        \\n    paduoda()\\n    \\n    print('kodas bus įvykdytas po paduodotos funkcijos')\",\n",
       "  \"def dekoratorius(paduoda):\\n    \\n    def suktukas():\\n        print('tai bus įvykdyta prieš įvykkdant paduodota funckija')\\n        \\n        paduoda()\\n    \\n        print('kodas bus įvykdytas po paduodotos funkcijos')\\n    \\n    return suktukas()\\n    \",\n",
       "  \"def dekoratorius(paduoda):\\n    \\n    def suktukas():\\n        print('tai bus įvykdyta prieš įvykkdant paduodota funckija')\\n        \\n        paduoda()\\n    \\n        print('kodas bus įvykdytas po paduodotos funkcijos')\\n    \\n    return suktukas\\n    \",\n",
       "  \"def tiesiog():\\n    print('Tiesiog paprasta funkcija')\",\n",
       "  'tiesiog()',\n",
       "  'tiesiog = dekoratorius(tiesiog)',\n",
       "  'tiesiog()',\n",
       "  'kazkas = dekoratorius(tiesiog)',\n",
       "  'kazkas()',\n",
       "  \"@dekoratorius\\ndef tiesiog():\\n    print('Tiesiog paprasta funkcija')\",\n",
       "  'tiesiog()',\n",
       "  'func()',\n",
       "  \"def func():\\n    return 'alfa'\",\n",
       "  \"def func():\\n    print('alfa')\",\n",
       "  'func()',\n",
       "  \"def func():\\n    print('alfa')\",\n",
       "  'func()',\n",
       "  \"s = 'Global Variable'\\n\\ndef check_for_locals():\\n    print(locals())\",\n",
       "  'locals()',\n",
       "  'globals()',\n",
       "  'globals()',\n",
       "  'globals().keys()',\n",
       "  \"kintamasis = 'globalus kintamasis'\\n\\ndef check_for_locals():\\n    print(locals())\",\n",
       "  'globals()'],\n",
       " '_oh': {3: {...},\n",
       "  4: dict_keys(['__name__', '__doc__', '__package__', '__loader__', '__spec__', '__builtin__', '__builtins__', '_ih', '_oh', '_dh', 'In', 'Out', 'get_ipython', 'exit', 'quit', '_', '__', '___', '_i', '_ii', '_iii', '_i1', 'a', '_i2', 'fun', '_i3', '_3', '_i4', '_4', '_i5', 'globalus_kintamsis', '_i6', '_i7', '_7', '_i8', 'globalus', '_i9', '_i10', '_10', '_i11', '_11', '_i12', '_i13', '_i14', '_14', '_i15', '_15', '_i16', '_16', '_i17', '_i18', '_18', '_i19', '_i20', 'func', '_i21', '_i22', '_i23', '_i24', '_24', '_i25', '_25', '_i26', 'vardas', '_i27', '_27', '_i28', '_28', '_i29', '_29', '_i30', '_30', '_i31', '_i32', '_32', '_i33', '_i34', '_i35', 'labasrytas', '_i36', '_i37', '_i38', '_i39', '_i40', '_i41', '_i42', '_i43', '_i44', '_i45', '_45', '_i46', '_46', '_i47', '_i48', 'x', '_i49', '_49', '_i50', '_50', '_i51', '_i52', '_52', '_i53', '_i54', '_i55', '_55', '_i56', '_i57', '_i58', '_i59', '_59', '_i60', '_i61', '_i62', '_i63', 'naktis', '_i64', 'diena', '_i65', '_i66', '_i67', '_i68', '_i69', '_i70', '_i71', '_i72', 'new_decorator', '_i73', 'dekoratorius', '_i74', '_i75', 'tiesiog', '_i76', '_i77', '_i78', '_i79', 'kazkas', '_i80', '_i81', '_i82', '_i83', '_i84', '_i85', '_i86', '_i87', '_i88', '_i89', 's', 'check_for_locals', '_i90', '_90', '_i91', '_91', '_i92', '_92', '_i93', '_93', '_i94', 'kintamasis', '_i95']),\n",
       "  7: {...},\n",
       "  10: {...},\n",
       "  11: dict_keys(['__name__', '__doc__', '__package__', '__loader__', '__spec__', '__builtin__', '__builtins__', '_ih', '_oh', '_dh', 'In', 'Out', 'get_ipython', 'exit', 'quit', '_', '__', '___', '_i', '_ii', '_iii', '_i1', 'a', '_i2', 'fun', '_i3', '_3', '_i4', '_4', '_i5', 'globalus_kintamsis', '_i6', '_i7', '_7', '_i8', 'globalus', '_i9', '_i10', '_10', '_i11', '_11', '_i12', '_i13', '_i14', '_14', '_i15', '_15', '_i16', '_16', '_i17', '_i18', '_18', '_i19', '_i20', 'func', '_i21', '_i22', '_i23', '_i24', '_24', '_i25', '_25', '_i26', 'vardas', '_i27', '_27', '_i28', '_28', '_i29', '_29', '_i30', '_30', '_i31', '_i32', '_32', '_i33', '_i34', '_i35', 'labasrytas', '_i36', '_i37', '_i38', '_i39', '_i40', '_i41', '_i42', '_i43', '_i44', '_i45', '_45', '_i46', '_46', '_i47', '_i48', 'x', '_i49', '_49', '_i50', '_50', '_i51', '_i52', '_52', '_i53', '_i54', '_i55', '_55', '_i56', '_i57', '_i58', '_i59', '_59', '_i60', '_i61', '_i62', '_i63', 'naktis', '_i64', 'diena', '_i65', '_i66', '_i67', '_i68', '_i69', '_i70', '_i71', '_i72', 'new_decorator', '_i73', 'dekoratorius', '_i74', '_i75', 'tiesiog', '_i76', '_i77', '_i78', '_i79', 'kazkas', '_i80', '_i81', '_i82', '_i83', '_i84', '_i85', '_i86', '_i87', '_i88', '_i89', 's', 'check_for_locals', '_i90', '_90', '_i91', '_91', '_i92', '_92', '_i93', '_93', '_i94', 'kintamasis', '_i95']),\n",
       "  14: {...},\n",
       "  15: dict_keys(['__name__', '__doc__', '__package__', '__loader__', '__spec__', '__builtin__', '__builtins__', '_ih', '_oh', '_dh', 'In', 'Out', 'get_ipython', 'exit', 'quit', '_', '__', '___', '_i', '_ii', '_iii', '_i1', 'a', '_i2', 'fun', '_i3', '_3', '_i4', '_4', '_i5', 'globalus_kintamsis', '_i6', '_i7', '_7', '_i8', 'globalus', '_i9', '_i10', '_10', '_i11', '_11', '_i12', '_i13', '_i14', '_14', '_i15', '_15', '_i16', '_16', '_i17', '_i18', '_18', '_i19', '_i20', 'func', '_i21', '_i22', '_i23', '_i24', '_24', '_i25', '_25', '_i26', 'vardas', '_i27', '_27', '_i28', '_28', '_i29', '_29', '_i30', '_30', '_i31', '_i32', '_32', '_i33', '_i34', '_i35', 'labasrytas', '_i36', '_i37', '_i38', '_i39', '_i40', '_i41', '_i42', '_i43', '_i44', '_i45', '_45', '_i46', '_46', '_i47', '_i48', 'x', '_i49', '_49', '_i50', '_50', '_i51', '_i52', '_52', '_i53', '_i54', '_i55', '_55', '_i56', '_i57', '_i58', '_i59', '_59', '_i60', '_i61', '_i62', '_i63', 'naktis', '_i64', 'diena', '_i65', '_i66', '_i67', '_i68', '_i69', '_i70', '_i71', '_i72', 'new_decorator', '_i73', 'dekoratorius', '_i74', '_i75', 'tiesiog', '_i76', '_i77', '_i78', '_i79', 'kazkas', '_i80', '_i81', '_i82', '_i83', '_i84', '_i85', '_i86', '_i87', '_i88', '_i89', 's', 'check_for_locals', '_i90', '_90', '_i91', '_91', '_i92', '_92', '_i93', '_93', '_i94', 'kintamasis', '_i95']),\n",
       "  16: dict_keys(['__name__', '__doc__', '__package__', '__loader__', '__spec__', '__builtin__', '__builtins__', '_ih', '_oh', '_dh', 'In', 'Out', 'get_ipython', 'exit', 'quit', '_', '__', '___', '_i', '_ii', '_iii', '_i1', 'a', '_i2', 'fun', '_i3', '_3', '_i4', '_4', '_i5', 'globalus_kintamsis', '_i6', '_i7', '_7', '_i8', 'globalus', '_i9', '_i10', '_10', '_i11', '_11', '_i12', '_i13', '_i14', '_14', '_i15', '_15', '_i16', '_16', '_i17', '_i18', '_18', '_i19', '_i20', 'func', '_i21', '_i22', '_i23', '_i24', '_24', '_i25', '_25', '_i26', 'vardas', '_i27', '_27', '_i28', '_28', '_i29', '_29', '_i30', '_30', '_i31', '_i32', '_32', '_i33', '_i34', '_i35', 'labasrytas', '_i36', '_i37', '_i38', '_i39', '_i40', '_i41', '_i42', '_i43', '_i44', '_i45', '_45', '_i46', '_46', '_i47', '_i48', 'x', '_i49', '_49', '_i50', '_50', '_i51', '_i52', '_52', '_i53', '_i54', '_i55', '_55', '_i56', '_i57', '_i58', '_i59', '_59', '_i60', '_i61', '_i62', '_i63', 'naktis', '_i64', 'diena', '_i65', '_i66', '_i67', '_i68', '_i69', '_i70', '_i71', '_i72', 'new_decorator', '_i73', 'dekoratorius', '_i74', '_i75', 'tiesiog', '_i76', '_i77', '_i78', '_i79', 'kazkas', '_i80', '_i81', '_i82', '_i83', '_i84', '_i85', '_i86', '_i87', '_i88', '_i89', 's', 'check_for_locals', '_i90', '_90', '_i91', '_91', '_i92', '_92', '_i93', '_93', '_i94', 'kintamasis', '_i95']),\n",
       "  18: 'Labas',\n",
       "  24: 'Labas Alfredas Hitčkokas',\n",
       "  25: 'Labas Andrius Adrijauskas',\n",
       "  27: 'Labas Alfredas Hitčkokas',\n",
       "  28: <function __main__.labas(name='Alfredas Hitčkokas')>,\n",
       "  29: <function __main__.labas(name='Alfredas Hitčkokas')>,\n",
       "  30: 'Labas Alfredas Hitčkokas',\n",
       "  32: 'Labas Alfredas Hitčkokas',\n",
       "  45: <function __main__.labasrytas.<locals>.sveikas()>,\n",
       "  46: '\\t This is inside sveikas function',\n",
       "  49: <function __main__.labasrytas.<locals>.sveikas()>,\n",
       "  50: <function __main__.labasrytas.<locals>.sveikas()>,\n",
       "  52: '\\t This is inside sveikas function',\n",
       "  55: <function __main__.labasrytas.<locals>.sveikas()>,\n",
       "  59: <function __main__.labasrytas.<locals>.viso()>,\n",
       "  90: {...},\n",
       "  91: {...},\n",
       "  92: {...},\n",
       "  93: dict_keys(['__name__', '__doc__', '__package__', '__loader__', '__spec__', '__builtin__', '__builtins__', '_ih', '_oh', '_dh', 'In', 'Out', 'get_ipython', 'exit', 'quit', '_', '__', '___', '_i', '_ii', '_iii', '_i1', 'a', '_i2', 'fun', '_i3', '_3', '_i4', '_4', '_i5', 'globalus_kintamsis', '_i6', '_i7', '_7', '_i8', 'globalus', '_i9', '_i10', '_10', '_i11', '_11', '_i12', '_i13', '_i14', '_14', '_i15', '_15', '_i16', '_16', '_i17', '_i18', '_18', '_i19', '_i20', 'func', '_i21', '_i22', '_i23', '_i24', '_24', '_i25', '_25', '_i26', 'vardas', '_i27', '_27', '_i28', '_28', '_i29', '_29', '_i30', '_30', '_i31', '_i32', '_32', '_i33', '_i34', '_i35', 'labasrytas', '_i36', '_i37', '_i38', '_i39', '_i40', '_i41', '_i42', '_i43', '_i44', '_i45', '_45', '_i46', '_46', '_i47', '_i48', 'x', '_i49', '_49', '_i50', '_50', '_i51', '_i52', '_52', '_i53', '_i54', '_i55', '_55', '_i56', '_i57', '_i58', '_i59', '_59', '_i60', '_i61', '_i62', '_i63', 'naktis', '_i64', 'diena', '_i65', '_i66', '_i67', '_i68', '_i69', '_i70', '_i71', '_i72', 'new_decorator', '_i73', 'dekoratorius', '_i74', '_i75', 'tiesiog', '_i76', '_i77', '_i78', '_i79', 'kazkas', '_i80', '_i81', '_i82', '_i83', '_i84', '_i85', '_i86', '_i87', '_i88', '_i89', 's', 'check_for_locals', '_i90', '_90', '_i91', '_91', '_i92', '_92', '_i93', '_93', '_i94', 'kintamasis', '_i95'])},\n",
       " '_dh': ['C:\\\\education\\\\class\\\\Python'],\n",
       " 'In': ['',\n",
       "  \"a = 'Labas'\",\n",
       "  'def fun():\\n    print(locals())',\n",
       "  'globals()',\n",
       "  'globals().keys()',\n",
       "  \"globalus_kintamsis = 'Labas'\",\n",
       "  'def fun():\\n    print(locals())',\n",
       "  'globals()',\n",
       "  \"globalus = 'Labas'\",\n",
       "  'def fun():\\n    print(locals())',\n",
       "  'globals()',\n",
       "  'globals().keys()',\n",
       "  \"globalus = 'Labas'\",\n",
       "  'def fun():\\n    print(locals())',\n",
       "  'globals()',\n",
       "  'globals().keys()',\n",
       "  'globals().keys()',\n",
       "  \"globals().keys('globalus')\",\n",
       "  \"globals().get('globalus')\",\n",
       "  'func()',\n",
       "  'def func():\\n    print(locals())',\n",
       "  'func()',\n",
       "  'def labas(name=\"Alfredas Hitčkokas\"):',\n",
       "  'def labas(name=\"Alfredas Hitčkokas\"):\\n        return \\'Labas {}\\'.format(name)  ',\n",
       "  'labas()',\n",
       "  \"labas('Andrius Adrijauskas')\",\n",
       "  'vardas = labas',\n",
       "  'vardas()',\n",
       "  'vardas',\n",
       "  'vardas',\n",
       "  'vardas()',\n",
       "  'del labas',\n",
       "  'vardas()',\n",
       "  \"def labasrytas(name = 'Tomas Tomauskas'):\",\n",
       "  \"def labasrytas(name = 'Tomas Tomauskas'):\\n    print 'This has been executed'\\n    \\n    def sveikas():\\n        return 'This is inside labasrytas function'\",\n",
       "  \"def labasrytas(name = 'Tomas Tomauskas'):\\n    print('This has been executed')\\n    \\n    def sveikas():\\n        return 'This is inside labasrytas function'\",\n",
       "  'labasrytas()',\n",
       "  \"def labasrytas(name = 'Tomas Tomauskas'):\\n    print('This has been executed')\\n    \\n    def sveikas():\\n        return '\\\\tThis is inside labasrytas function'\",\n",
       "  \"def labasrytas(name = 'Tomas Tomauskas'):\\n    print('This has been executed')\\n    \\n    def sveikas():\\n        return '\\\\t This is inside sveikas function'\\n    \\n    def viso():\\n        return '\\\\t This is inside viso function'\",\n",
       "  \"def labasrytas(name = 'Tomas Tomauskas'):\\n    print('This has been executed')\\n    \\n    def sveikas():\\n        return '\\\\t This is inside sveikas function'\\n    \\n    def viso():\\n        return '\\\\t This is inside viso function'\\n    \\n    print(sveikas())\\n    print(viso())\",\n",
       "  'labasrytas()',\n",
       "  \"def labasrytas(name = 'Tomas Tomauskas'):\\n    print('This has been executed')\\n    \\n    def sveikas():\\n        return '\\\\t This is inside sveikas function'\\n    \\n    def viso():\\n        return '\\\\t This is inside viso function'\\n    \\n    print(sveikas())\\n    print(viso())\\n    print('Now we are back inside labasrytas function')\",\n",
       "  'labasrytas()',\n",
       "  'sveikas()',\n",
       "  \"def labasrytas(name = 'Tomas'):\\n    \\n    def sveikas():\\n        return '\\\\t This is inside sveikas function'\\n    \\n    def viso():\\n        return '\\\\t This is inside viso function'\\n    \\n    if name == 'Tomas':\\n        return sveikas\\n    else:\\n        return viso\",\n",
       "  'labasrytas()',\n",
       "  'labasrytas()()',\n",
       "  'print(labasrytas())',\n",
       "  'x = labasrytas',\n",
       "  'x()',\n",
       "  'x()',\n",
       "  'x = labasrytas()',\n",
       "  'x()',\n",
       "  'print(x())',\n",
       "  'x = labasrytas()',\n",
       "  'x',\n",
       "  'print(x)',\n",
       "  'print(x())',\n",
       "  \"x = labasrytas('Ada')\",\n",
       "  'x',\n",
       "  'print(x)',\n",
       "  'print(x())',\n",
       "  \"def naktis():\\n    print 'Hi'\\n    \",\n",
       "  \"def naktis():\\n    print('Hi')\\n    \",\n",
       "  \"def diena(func):\\n    print('Hi diena')\\n    print(func())\",\n",
       "  'diena()',\n",
       "  'diena(naktis)',\n",
       "  \"def naktis():\\n    return 'Hi naktis'\",\n",
       "  \"def diena(func):\\n    print('Hi diena')\\n    print(func())\",\n",
       "  'diena()',\n",
       "  'diena(naktis)',\n",
       "  \"def diena(func):\\n    print('dabar diena')\\n    print(func())\",\n",
       "  \"def new_decorator(paduoda):\\n    \\n    def wrap_func():\\n        print('tai bus įvykdyta prieš įvykkdant paduodota funckija')\\n        \\n    paduoda()\\n    \\n    print('kodas bus įvykdytas po paduodotos funkcijos')\",\n",
       "  \"def dekoratorius(paduoda):\\n    \\n    def suktukas():\\n        print('tai bus įvykdyta prieš įvykkdant paduodota funckija')\\n        \\n        paduoda()\\n    \\n        print('kodas bus įvykdytas po paduodotos funkcijos')\\n    \\n    return suktukas()\\n    \",\n",
       "  \"def dekoratorius(paduoda):\\n    \\n    def suktukas():\\n        print('tai bus įvykdyta prieš įvykkdant paduodota funckija')\\n        \\n        paduoda()\\n    \\n        print('kodas bus įvykdytas po paduodotos funkcijos')\\n    \\n    return suktukas\\n    \",\n",
       "  \"def tiesiog():\\n    print('Tiesiog paprasta funkcija')\",\n",
       "  'tiesiog()',\n",
       "  'tiesiog = dekoratorius(tiesiog)',\n",
       "  'tiesiog()',\n",
       "  'kazkas = dekoratorius(tiesiog)',\n",
       "  'kazkas()',\n",
       "  \"@dekoratorius\\ndef tiesiog():\\n    print('Tiesiog paprasta funkcija')\",\n",
       "  'tiesiog()',\n",
       "  'func()',\n",
       "  \"def func():\\n    return 'alfa'\",\n",
       "  \"def func():\\n    print('alfa')\",\n",
       "  'func()',\n",
       "  \"def func():\\n    print('alfa')\",\n",
       "  'func()',\n",
       "  \"s = 'Global Variable'\\n\\ndef check_for_locals():\\n    print(locals())\",\n",
       "  'locals()',\n",
       "  'globals()',\n",
       "  'globals()',\n",
       "  'globals().keys()',\n",
       "  \"kintamasis = 'globalus kintamasis'\\n\\ndef check_for_locals():\\n    print(locals())\",\n",
       "  'globals()'],\n",
       " 'Out': {3: {...},\n",
       "  4: dict_keys(['__name__', '__doc__', '__package__', '__loader__', '__spec__', '__builtin__', '__builtins__', '_ih', '_oh', '_dh', 'In', 'Out', 'get_ipython', 'exit', 'quit', '_', '__', '___', '_i', '_ii', '_iii', '_i1', 'a', '_i2', 'fun', '_i3', '_3', '_i4', '_4', '_i5', 'globalus_kintamsis', '_i6', '_i7', '_7', '_i8', 'globalus', '_i9', '_i10', '_10', '_i11', '_11', '_i12', '_i13', '_i14', '_14', '_i15', '_15', '_i16', '_16', '_i17', '_i18', '_18', '_i19', '_i20', 'func', '_i21', '_i22', '_i23', '_i24', '_24', '_i25', '_25', '_i26', 'vardas', '_i27', '_27', '_i28', '_28', '_i29', '_29', '_i30', '_30', '_i31', '_i32', '_32', '_i33', '_i34', '_i35', 'labasrytas', '_i36', '_i37', '_i38', '_i39', '_i40', '_i41', '_i42', '_i43', '_i44', '_i45', '_45', '_i46', '_46', '_i47', '_i48', 'x', '_i49', '_49', '_i50', '_50', '_i51', '_i52', '_52', '_i53', '_i54', '_i55', '_55', '_i56', '_i57', '_i58', '_i59', '_59', '_i60', '_i61', '_i62', '_i63', 'naktis', '_i64', 'diena', '_i65', '_i66', '_i67', '_i68', '_i69', '_i70', '_i71', '_i72', 'new_decorator', '_i73', 'dekoratorius', '_i74', '_i75', 'tiesiog', '_i76', '_i77', '_i78', '_i79', 'kazkas', '_i80', '_i81', '_i82', '_i83', '_i84', '_i85', '_i86', '_i87', '_i88', '_i89', 's', 'check_for_locals', '_i90', '_90', '_i91', '_91', '_i92', '_92', '_i93', '_93', '_i94', 'kintamasis', '_i95']),\n",
       "  7: {...},\n",
       "  10: {...},\n",
       "  11: dict_keys(['__name__', '__doc__', '__package__', '__loader__', '__spec__', '__builtin__', '__builtins__', '_ih', '_oh', '_dh', 'In', 'Out', 'get_ipython', 'exit', 'quit', '_', '__', '___', '_i', '_ii', '_iii', '_i1', 'a', '_i2', 'fun', '_i3', '_3', '_i4', '_4', '_i5', 'globalus_kintamsis', '_i6', '_i7', '_7', '_i8', 'globalus', '_i9', '_i10', '_10', '_i11', '_11', '_i12', '_i13', '_i14', '_14', '_i15', '_15', '_i16', '_16', '_i17', '_i18', '_18', '_i19', '_i20', 'func', '_i21', '_i22', '_i23', '_i24', '_24', '_i25', '_25', '_i26', 'vardas', '_i27', '_27', '_i28', '_28', '_i29', '_29', '_i30', '_30', '_i31', '_i32', '_32', '_i33', '_i34', '_i35', 'labasrytas', '_i36', '_i37', '_i38', '_i39', '_i40', '_i41', '_i42', '_i43', '_i44', '_i45', '_45', '_i46', '_46', '_i47', '_i48', 'x', '_i49', '_49', '_i50', '_50', '_i51', '_i52', '_52', '_i53', '_i54', '_i55', '_55', '_i56', '_i57', '_i58', '_i59', '_59', '_i60', '_i61', '_i62', '_i63', 'naktis', '_i64', 'diena', '_i65', '_i66', '_i67', '_i68', '_i69', '_i70', '_i71', '_i72', 'new_decorator', '_i73', 'dekoratorius', '_i74', '_i75', 'tiesiog', '_i76', '_i77', '_i78', '_i79', 'kazkas', '_i80', '_i81', '_i82', '_i83', '_i84', '_i85', '_i86', '_i87', '_i88', '_i89', 's', 'check_for_locals', '_i90', '_90', '_i91', '_91', '_i92', '_92', '_i93', '_93', '_i94', 'kintamasis', '_i95']),\n",
       "  14: {...},\n",
       "  15: dict_keys(['__name__', '__doc__', '__package__', '__loader__', '__spec__', '__builtin__', '__builtins__', '_ih', '_oh', '_dh', 'In', 'Out', 'get_ipython', 'exit', 'quit', '_', '__', '___', '_i', '_ii', '_iii', '_i1', 'a', '_i2', 'fun', '_i3', '_3', '_i4', '_4', '_i5', 'globalus_kintamsis', '_i6', '_i7', '_7', '_i8', 'globalus', '_i9', '_i10', '_10', '_i11', '_11', '_i12', '_i13', '_i14', '_14', '_i15', '_15', '_i16', '_16', '_i17', '_i18', '_18', '_i19', '_i20', 'func', '_i21', '_i22', '_i23', '_i24', '_24', '_i25', '_25', '_i26', 'vardas', '_i27', '_27', '_i28', '_28', '_i29', '_29', '_i30', '_30', '_i31', '_i32', '_32', '_i33', '_i34', '_i35', 'labasrytas', '_i36', '_i37', '_i38', '_i39', '_i40', '_i41', '_i42', '_i43', '_i44', '_i45', '_45', '_i46', '_46', '_i47', '_i48', 'x', '_i49', '_49', '_i50', '_50', '_i51', '_i52', '_52', '_i53', '_i54', '_i55', '_55', '_i56', '_i57', '_i58', '_i59', '_59', '_i60', '_i61', '_i62', '_i63', 'naktis', '_i64', 'diena', '_i65', '_i66', '_i67', '_i68', '_i69', '_i70', '_i71', '_i72', 'new_decorator', '_i73', 'dekoratorius', '_i74', '_i75', 'tiesiog', '_i76', '_i77', '_i78', '_i79', 'kazkas', '_i80', '_i81', '_i82', '_i83', '_i84', '_i85', '_i86', '_i87', '_i88', '_i89', 's', 'check_for_locals', '_i90', '_90', '_i91', '_91', '_i92', '_92', '_i93', '_93', '_i94', 'kintamasis', '_i95']),\n",
       "  16: dict_keys(['__name__', '__doc__', '__package__', '__loader__', '__spec__', '__builtin__', '__builtins__', '_ih', '_oh', '_dh', 'In', 'Out', 'get_ipython', 'exit', 'quit', '_', '__', '___', '_i', '_ii', '_iii', '_i1', 'a', '_i2', 'fun', '_i3', '_3', '_i4', '_4', '_i5', 'globalus_kintamsis', '_i6', '_i7', '_7', '_i8', 'globalus', '_i9', '_i10', '_10', '_i11', '_11', '_i12', '_i13', '_i14', '_14', '_i15', '_15', '_i16', '_16', '_i17', '_i18', '_18', '_i19', '_i20', 'func', '_i21', '_i22', '_i23', '_i24', '_24', '_i25', '_25', '_i26', 'vardas', '_i27', '_27', '_i28', '_28', '_i29', '_29', '_i30', '_30', '_i31', '_i32', '_32', '_i33', '_i34', '_i35', 'labasrytas', '_i36', '_i37', '_i38', '_i39', '_i40', '_i41', '_i42', '_i43', '_i44', '_i45', '_45', '_i46', '_46', '_i47', '_i48', 'x', '_i49', '_49', '_i50', '_50', '_i51', '_i52', '_52', '_i53', '_i54', '_i55', '_55', '_i56', '_i57', '_i58', '_i59', '_59', '_i60', '_i61', '_i62', '_i63', 'naktis', '_i64', 'diena', '_i65', '_i66', '_i67', '_i68', '_i69', '_i70', '_i71', '_i72', 'new_decorator', '_i73', 'dekoratorius', '_i74', '_i75', 'tiesiog', '_i76', '_i77', '_i78', '_i79', 'kazkas', '_i80', '_i81', '_i82', '_i83', '_i84', '_i85', '_i86', '_i87', '_i88', '_i89', 's', 'check_for_locals', '_i90', '_90', '_i91', '_91', '_i92', '_92', '_i93', '_93', '_i94', 'kintamasis', '_i95']),\n",
       "  18: 'Labas',\n",
       "  24: 'Labas Alfredas Hitčkokas',\n",
       "  25: 'Labas Andrius Adrijauskas',\n",
       "  27: 'Labas Alfredas Hitčkokas',\n",
       "  28: <function __main__.labas(name='Alfredas Hitčkokas')>,\n",
       "  29: <function __main__.labas(name='Alfredas Hitčkokas')>,\n",
       "  30: 'Labas Alfredas Hitčkokas',\n",
       "  32: 'Labas Alfredas Hitčkokas',\n",
       "  45: <function __main__.labasrytas.<locals>.sveikas()>,\n",
       "  46: '\\t This is inside sveikas function',\n",
       "  49: <function __main__.labasrytas.<locals>.sveikas()>,\n",
       "  50: <function __main__.labasrytas.<locals>.sveikas()>,\n",
       "  52: '\\t This is inside sveikas function',\n",
       "  55: <function __main__.labasrytas.<locals>.sveikas()>,\n",
       "  59: <function __main__.labasrytas.<locals>.viso()>,\n",
       "  90: {...},\n",
       "  91: {...},\n",
       "  92: {...},\n",
       "  93: dict_keys(['__name__', '__doc__', '__package__', '__loader__', '__spec__', '__builtin__', '__builtins__', '_ih', '_oh', '_dh', 'In', 'Out', 'get_ipython', 'exit', 'quit', '_', '__', '___', '_i', '_ii', '_iii', '_i1', 'a', '_i2', 'fun', '_i3', '_3', '_i4', '_4', '_i5', 'globalus_kintamsis', '_i6', '_i7', '_7', '_i8', 'globalus', '_i9', '_i10', '_10', '_i11', '_11', '_i12', '_i13', '_i14', '_14', '_i15', '_15', '_i16', '_16', '_i17', '_i18', '_18', '_i19', '_i20', 'func', '_i21', '_i22', '_i23', '_i24', '_24', '_i25', '_25', '_i26', 'vardas', '_i27', '_27', '_i28', '_28', '_i29', '_29', '_i30', '_30', '_i31', '_i32', '_32', '_i33', '_i34', '_i35', 'labasrytas', '_i36', '_i37', '_i38', '_i39', '_i40', '_i41', '_i42', '_i43', '_i44', '_i45', '_45', '_i46', '_46', '_i47', '_i48', 'x', '_i49', '_49', '_i50', '_50', '_i51', '_i52', '_52', '_i53', '_i54', '_i55', '_55', '_i56', '_i57', '_i58', '_i59', '_59', '_i60', '_i61', '_i62', '_i63', 'naktis', '_i64', 'diena', '_i65', '_i66', '_i67', '_i68', '_i69', '_i70', '_i71', '_i72', 'new_decorator', '_i73', 'dekoratorius', '_i74', '_i75', 'tiesiog', '_i76', '_i77', '_i78', '_i79', 'kazkas', '_i80', '_i81', '_i82', '_i83', '_i84', '_i85', '_i86', '_i87', '_i88', '_i89', 's', 'check_for_locals', '_i90', '_90', '_i91', '_91', '_i92', '_92', '_i93', '_93', '_i94', 'kintamasis', '_i95'])},\n",
       " 'get_ipython': <bound method InteractiveShell.get_ipython of <ipykernel.zmqshell.ZMQInteractiveShell object at 0x035E6CF0>>,\n",
       " 'exit': <IPython.core.autocall.ZMQExitAutocall at 0x48c7570>,\n",
       " 'quit': <IPython.core.autocall.ZMQExitAutocall at 0x48c7570>,\n",
       " '_': dict_keys(['__name__', '__doc__', '__package__', '__loader__', '__spec__', '__builtin__', '__builtins__', '_ih', '_oh', '_dh', 'In', 'Out', 'get_ipython', 'exit', 'quit', '_', '__', '___', '_i', '_ii', '_iii', '_i1', 'a', '_i2', 'fun', '_i3', '_3', '_i4', '_4', '_i5', 'globalus_kintamsis', '_i6', '_i7', '_7', '_i8', 'globalus', '_i9', '_i10', '_10', '_i11', '_11', '_i12', '_i13', '_i14', '_14', '_i15', '_15', '_i16', '_16', '_i17', '_i18', '_18', '_i19', '_i20', 'func', '_i21', '_i22', '_i23', '_i24', '_24', '_i25', '_25', '_i26', 'vardas', '_i27', '_27', '_i28', '_28', '_i29', '_29', '_i30', '_30', '_i31', '_i32', '_32', '_i33', '_i34', '_i35', 'labasrytas', '_i36', '_i37', '_i38', '_i39', '_i40', '_i41', '_i42', '_i43', '_i44', '_i45', '_45', '_i46', '_46', '_i47', '_i48', 'x', '_i49', '_49', '_i50', '_50', '_i51', '_i52', '_52', '_i53', '_i54', '_i55', '_55', '_i56', '_i57', '_i58', '_i59', '_59', '_i60', '_i61', '_i62', '_i63', 'naktis', '_i64', 'diena', '_i65', '_i66', '_i67', '_i68', '_i69', '_i70', '_i71', '_i72', 'new_decorator', '_i73', 'dekoratorius', '_i74', '_i75', 'tiesiog', '_i76', '_i77', '_i78', '_i79', 'kazkas', '_i80', '_i81', '_i82', '_i83', '_i84', '_i85', '_i86', '_i87', '_i88', '_i89', 's', 'check_for_locals', '_i90', '_90', '_i91', '_91', '_i92', '_92', '_i93', '_93', '_i94', 'kintamasis', '_i95']),\n",
       " '__': {...},\n",
       " '___': {...},\n",
       " '_i': \"kintamasis = 'globalus kintamasis'\\n\\ndef check_for_locals():\\n    print(locals())\",\n",
       " '_ii': 'globals().keys()',\n",
       " '_iii': 'globals()',\n",
       " '_i1': \"a = 'Labas'\",\n",
       " 'a': 'Labas',\n",
       " '_i2': 'def fun():\\n    print(locals())',\n",
       " 'fun': <function __main__.fun()>,\n",
       " '_i3': 'globals()',\n",
       " '_3': {...},\n",
       " '_i4': 'globals().keys()',\n",
       " '_4': dict_keys(['__name__', '__doc__', '__package__', '__loader__', '__spec__', '__builtin__', '__builtins__', '_ih', '_oh', '_dh', 'In', 'Out', 'get_ipython', 'exit', 'quit', '_', '__', '___', '_i', '_ii', '_iii', '_i1', 'a', '_i2', 'fun', '_i3', '_3', '_i4', '_4', '_i5', 'globalus_kintamsis', '_i6', '_i7', '_7', '_i8', 'globalus', '_i9', '_i10', '_10', '_i11', '_11', '_i12', '_i13', '_i14', '_14', '_i15', '_15', '_i16', '_16', '_i17', '_i18', '_18', '_i19', '_i20', 'func', '_i21', '_i22', '_i23', '_i24', '_24', '_i25', '_25', '_i26', 'vardas', '_i27', '_27', '_i28', '_28', '_i29', '_29', '_i30', '_30', '_i31', '_i32', '_32', '_i33', '_i34', '_i35', 'labasrytas', '_i36', '_i37', '_i38', '_i39', '_i40', '_i41', '_i42', '_i43', '_i44', '_i45', '_45', '_i46', '_46', '_i47', '_i48', 'x', '_i49', '_49', '_i50', '_50', '_i51', '_i52', '_52', '_i53', '_i54', '_i55', '_55', '_i56', '_i57', '_i58', '_i59', '_59', '_i60', '_i61', '_i62', '_i63', 'naktis', '_i64', 'diena', '_i65', '_i66', '_i67', '_i68', '_i69', '_i70', '_i71', '_i72', 'new_decorator', '_i73', 'dekoratorius', '_i74', '_i75', 'tiesiog', '_i76', '_i77', '_i78', '_i79', 'kazkas', '_i80', '_i81', '_i82', '_i83', '_i84', '_i85', '_i86', '_i87', '_i88', '_i89', 's', 'check_for_locals', '_i90', '_90', '_i91', '_91', '_i92', '_92', '_i93', '_93', '_i94', 'kintamasis', '_i95']),\n",
       " '_i5': \"globalus_kintamsis = 'Labas'\",\n",
       " 'globalus_kintamsis': 'Labas',\n",
       " '_i6': 'def fun():\\n    print(locals())',\n",
       " '_i7': 'globals()',\n",
       " '_7': {...},\n",
       " '_i8': \"globalus = 'Labas'\",\n",
       " 'globalus': 'Labas',\n",
       " '_i9': 'def fun():\\n    print(locals())',\n",
       " '_i10': 'globals()',\n",
       " '_10': {...},\n",
       " '_i11': 'globals().keys()',\n",
       " '_11': dict_keys(['__name__', '__doc__', '__package__', '__loader__', '__spec__', '__builtin__', '__builtins__', '_ih', '_oh', '_dh', 'In', 'Out', 'get_ipython', 'exit', 'quit', '_', '__', '___', '_i', '_ii', '_iii', '_i1', 'a', '_i2', 'fun', '_i3', '_3', '_i4', '_4', '_i5', 'globalus_kintamsis', '_i6', '_i7', '_7', '_i8', 'globalus', '_i9', '_i10', '_10', '_i11', '_11', '_i12', '_i13', '_i14', '_14', '_i15', '_15', '_i16', '_16', '_i17', '_i18', '_18', '_i19', '_i20', 'func', '_i21', '_i22', '_i23', '_i24', '_24', '_i25', '_25', '_i26', 'vardas', '_i27', '_27', '_i28', '_28', '_i29', '_29', '_i30', '_30', '_i31', '_i32', '_32', '_i33', '_i34', '_i35', 'labasrytas', '_i36', '_i37', '_i38', '_i39', '_i40', '_i41', '_i42', '_i43', '_i44', '_i45', '_45', '_i46', '_46', '_i47', '_i48', 'x', '_i49', '_49', '_i50', '_50', '_i51', '_i52', '_52', '_i53', '_i54', '_i55', '_55', '_i56', '_i57', '_i58', '_i59', '_59', '_i60', '_i61', '_i62', '_i63', 'naktis', '_i64', 'diena', '_i65', '_i66', '_i67', '_i68', '_i69', '_i70', '_i71', '_i72', 'new_decorator', '_i73', 'dekoratorius', '_i74', '_i75', 'tiesiog', '_i76', '_i77', '_i78', '_i79', 'kazkas', '_i80', '_i81', '_i82', '_i83', '_i84', '_i85', '_i86', '_i87', '_i88', '_i89', 's', 'check_for_locals', '_i90', '_90', '_i91', '_91', '_i92', '_92', '_i93', '_93', '_i94', 'kintamasis', '_i95']),\n",
       " '_i12': \"globalus = 'Labas'\",\n",
       " '_i13': 'def fun():\\n    print(locals())',\n",
       " '_i14': 'globals()',\n",
       " '_14': {...},\n",
       " '_i15': 'globals().keys()',\n",
       " '_15': dict_keys(['__name__', '__doc__', '__package__', '__loader__', '__spec__', '__builtin__', '__builtins__', '_ih', '_oh', '_dh', 'In', 'Out', 'get_ipython', 'exit', 'quit', '_', '__', '___', '_i', '_ii', '_iii', '_i1', 'a', '_i2', 'fun', '_i3', '_3', '_i4', '_4', '_i5', 'globalus_kintamsis', '_i6', '_i7', '_7', '_i8', 'globalus', '_i9', '_i10', '_10', '_i11', '_11', '_i12', '_i13', '_i14', '_14', '_i15', '_15', '_i16', '_16', '_i17', '_i18', '_18', '_i19', '_i20', 'func', '_i21', '_i22', '_i23', '_i24', '_24', '_i25', '_25', '_i26', 'vardas', '_i27', '_27', '_i28', '_28', '_i29', '_29', '_i30', '_30', '_i31', '_i32', '_32', '_i33', '_i34', '_i35', 'labasrytas', '_i36', '_i37', '_i38', '_i39', '_i40', '_i41', '_i42', '_i43', '_i44', '_i45', '_45', '_i46', '_46', '_i47', '_i48', 'x', '_i49', '_49', '_i50', '_50', '_i51', '_i52', '_52', '_i53', '_i54', '_i55', '_55', '_i56', '_i57', '_i58', '_i59', '_59', '_i60', '_i61', '_i62', '_i63', 'naktis', '_i64', 'diena', '_i65', '_i66', '_i67', '_i68', '_i69', '_i70', '_i71', '_i72', 'new_decorator', '_i73', 'dekoratorius', '_i74', '_i75', 'tiesiog', '_i76', '_i77', '_i78', '_i79', 'kazkas', '_i80', '_i81', '_i82', '_i83', '_i84', '_i85', '_i86', '_i87', '_i88', '_i89', 's', 'check_for_locals', '_i90', '_90', '_i91', '_91', '_i92', '_92', '_i93', '_93', '_i94', 'kintamasis', '_i95']),\n",
       " '_i16': 'globals().keys()',\n",
       " '_16': dict_keys(['__name__', '__doc__', '__package__', '__loader__', '__spec__', '__builtin__', '__builtins__', '_ih', '_oh', '_dh', 'In', 'Out', 'get_ipython', 'exit', 'quit', '_', '__', '___', '_i', '_ii', '_iii', '_i1', 'a', '_i2', 'fun', '_i3', '_3', '_i4', '_4', '_i5', 'globalus_kintamsis', '_i6', '_i7', '_7', '_i8', 'globalus', '_i9', '_i10', '_10', '_i11', '_11', '_i12', '_i13', '_i14', '_14', '_i15', '_15', '_i16', '_16', '_i17', '_i18', '_18', '_i19', '_i20', 'func', '_i21', '_i22', '_i23', '_i24', '_24', '_i25', '_25', '_i26', 'vardas', '_i27', '_27', '_i28', '_28', '_i29', '_29', '_i30', '_30', '_i31', '_i32', '_32', '_i33', '_i34', '_i35', 'labasrytas', '_i36', '_i37', '_i38', '_i39', '_i40', '_i41', '_i42', '_i43', '_i44', '_i45', '_45', '_i46', '_46', '_i47', '_i48', 'x', '_i49', '_49', '_i50', '_50', '_i51', '_i52', '_52', '_i53', '_i54', '_i55', '_55', '_i56', '_i57', '_i58', '_i59', '_59', '_i60', '_i61', '_i62', '_i63', 'naktis', '_i64', 'diena', '_i65', '_i66', '_i67', '_i68', '_i69', '_i70', '_i71', '_i72', 'new_decorator', '_i73', 'dekoratorius', '_i74', '_i75', 'tiesiog', '_i76', '_i77', '_i78', '_i79', 'kazkas', '_i80', '_i81', '_i82', '_i83', '_i84', '_i85', '_i86', '_i87', '_i88', '_i89', 's', 'check_for_locals', '_i90', '_90', '_i91', '_91', '_i92', '_92', '_i93', '_93', '_i94', 'kintamasis', '_i95']),\n",
       " '_i17': \"globals().keys('globalus')\",\n",
       " '_i18': \"globals().get('globalus')\",\n",
       " '_18': 'Labas',\n",
       " '_i19': 'func()',\n",
       " '_i20': 'def func():\\n    print(locals())',\n",
       " 'func': <function __main__.func()>,\n",
       " '_i21': 'func()',\n",
       " '_i22': 'def labas(name=\"Alfredas Hitčkokas\"):',\n",
       " '_i23': 'def labas(name=\"Alfredas Hitčkokas\"):\\n        return \\'Labas {}\\'.format(name)  ',\n",
       " '_i24': 'labas()',\n",
       " '_24': 'Labas Alfredas Hitčkokas',\n",
       " '_i25': \"labas('Andrius Adrijauskas')\",\n",
       " '_25': 'Labas Andrius Adrijauskas',\n",
       " '_i26': 'vardas = labas',\n",
       " 'vardas': <function __main__.labas(name='Alfredas Hitčkokas')>,\n",
       " '_i27': 'vardas()',\n",
       " '_27': 'Labas Alfredas Hitčkokas',\n",
       " '_i28': 'vardas',\n",
       " '_28': <function __main__.labas(name='Alfredas Hitčkokas')>,\n",
       " '_i29': 'vardas',\n",
       " '_29': <function __main__.labas(name='Alfredas Hitčkokas')>,\n",
       " '_i30': 'vardas()',\n",
       " '_30': 'Labas Alfredas Hitčkokas',\n",
       " '_i31': 'del labas',\n",
       " '_i32': 'vardas()',\n",
       " '_32': 'Labas Alfredas Hitčkokas',\n",
       " '_i33': \"def labasrytas(name = 'Tomas Tomauskas'):\",\n",
       " '_i34': \"def labasrytas(name = 'Tomas Tomauskas'):\\n    print 'This has been executed'\\n    \\n    def sveikas():\\n        return 'This is inside labasrytas function'\",\n",
       " '_i35': \"def labasrytas(name = 'Tomas Tomauskas'):\\n    print('This has been executed')\\n    \\n    def sveikas():\\n        return 'This is inside labasrytas function'\",\n",
       " 'labasrytas': <function __main__.labasrytas(name='Tomas')>,\n",
       " '_i36': 'labasrytas()',\n",
       " '_i37': \"def labasrytas(name = 'Tomas Tomauskas'):\\n    print('This has been executed')\\n    \\n    def sveikas():\\n        return '\\\\tThis is inside labasrytas function'\",\n",
       " '_i38': \"def labasrytas(name = 'Tomas Tomauskas'):\\n    print('This has been executed')\\n    \\n    def sveikas():\\n        return '\\\\t This is inside sveikas function'\\n    \\n    def viso():\\n        return '\\\\t This is inside viso function'\",\n",
       " '_i39': \"def labasrytas(name = 'Tomas Tomauskas'):\\n    print('This has been executed')\\n    \\n    def sveikas():\\n        return '\\\\t This is inside sveikas function'\\n    \\n    def viso():\\n        return '\\\\t This is inside viso function'\\n    \\n    print(sveikas())\\n    print(viso())\",\n",
       " '_i40': 'labasrytas()',\n",
       " '_i41': \"def labasrytas(name = 'Tomas Tomauskas'):\\n    print('This has been executed')\\n    \\n    def sveikas():\\n        return '\\\\t This is inside sveikas function'\\n    \\n    def viso():\\n        return '\\\\t This is inside viso function'\\n    \\n    print(sveikas())\\n    print(viso())\\n    print('Now we are back inside labasrytas function')\",\n",
       " '_i42': 'labasrytas()',\n",
       " '_i43': 'sveikas()',\n",
       " '_i44': \"def labasrytas(name = 'Tomas'):\\n    \\n    def sveikas():\\n        return '\\\\t This is inside sveikas function'\\n    \\n    def viso():\\n        return '\\\\t This is inside viso function'\\n    \\n    if name == 'Tomas':\\n        return sveikas\\n    else:\\n        return viso\",\n",
       " '_i45': 'labasrytas()',\n",
       " '_45': <function __main__.labasrytas.<locals>.sveikas()>,\n",
       " '_i46': 'labasrytas()()',\n",
       " '_46': '\\t This is inside sveikas function',\n",
       " '_i47': 'print(labasrytas())',\n",
       " '_i48': 'x = labasrytas',\n",
       " 'x': <function __main__.labasrytas.<locals>.viso()>,\n",
       " '_i49': 'x()',\n",
       " '_49': <function __main__.labasrytas.<locals>.sveikas()>,\n",
       " '_i50': 'x()',\n",
       " '_50': <function __main__.labasrytas.<locals>.sveikas()>,\n",
       " '_i51': 'x = labasrytas()',\n",
       " '_i52': 'x()',\n",
       " '_52': '\\t This is inside sveikas function',\n",
       " '_i53': 'print(x())',\n",
       " '_i54': 'x = labasrytas()',\n",
       " '_i55': 'x',\n",
       " '_55': <function __main__.labasrytas.<locals>.sveikas()>,\n",
       " '_i56': 'print(x)',\n",
       " '_i57': 'print(x())',\n",
       " '_i58': \"x = labasrytas('Ada')\",\n",
       " '_i59': 'x',\n",
       " '_59': <function __main__.labasrytas.<locals>.viso()>,\n",
       " '_i60': 'print(x)',\n",
       " '_i61': 'print(x())',\n",
       " '_i62': \"def naktis():\\n    print 'Hi'\\n    \",\n",
       " '_i63': \"def naktis():\\n    print('Hi')\\n    \",\n",
       " 'naktis': <function __main__.naktis()>,\n",
       " '_i64': \"def diena(func):\\n    print('Hi diena')\\n    print(func())\",\n",
       " 'diena': <function __main__.diena(func)>,\n",
       " '_i65': 'diena()',\n",
       " '_i66': 'diena(naktis)',\n",
       " '_i67': \"def naktis():\\n    return 'Hi naktis'\",\n",
       " '_i68': \"def diena(func):\\n    print('Hi diena')\\n    print(func())\",\n",
       " '_i69': 'diena()',\n",
       " '_i70': 'diena(naktis)',\n",
       " '_i71': \"def diena(func):\\n    print('dabar diena')\\n    print(func())\",\n",
       " '_i72': \"def new_decorator(paduoda):\\n    \\n    def wrap_func():\\n        print('tai bus įvykdyta prieš įvykkdant paduodota funckija')\\n        \\n    paduoda()\\n    \\n    print('kodas bus įvykdytas po paduodotos funkcijos')\",\n",
       " 'new_decorator': <function __main__.new_decorator(paduoda)>,\n",
       " '_i73': \"def dekoratorius(paduoda):\\n    \\n    def suktukas():\\n        print('tai bus įvykdyta prieš įvykkdant paduodota funckija')\\n        \\n        paduoda()\\n    \\n        print('kodas bus įvykdytas po paduodotos funkcijos')\\n    \\n    return suktukas()\\n    \",\n",
       " 'dekoratorius': <function __main__.dekoratorius(paduoda)>,\n",
       " '_i74': \"def dekoratorius(paduoda):\\n    \\n    def suktukas():\\n        print('tai bus įvykdyta prieš įvykkdant paduodota funckija')\\n        \\n        paduoda()\\n    \\n        print('kodas bus įvykdytas po paduodotos funkcijos')\\n    \\n    return suktukas\\n    \",\n",
       " '_i75': \"def tiesiog():\\n    print('Tiesiog paprasta funkcija')\",\n",
       " 'tiesiog': <function __main__.dekoratorius.<locals>.suktukas()>,\n",
       " '_i76': 'tiesiog()',\n",
       " '_i77': 'tiesiog = dekoratorius(tiesiog)',\n",
       " '_i78': 'tiesiog()',\n",
       " '_i79': 'kazkas = dekoratorius(tiesiog)',\n",
       " 'kazkas': <function __main__.dekoratorius.<locals>.suktukas()>,\n",
       " '_i80': 'kazkas()',\n",
       " '_i81': \"@dekoratorius\\ndef tiesiog():\\n    print('Tiesiog paprasta funkcija')\",\n",
       " '_i82': 'tiesiog()',\n",
       " '_i83': 'func()',\n",
       " '_i84': \"def func():\\n    return 'alfa'\",\n",
       " '_i85': \"def func():\\n    print('alfa')\",\n",
       " '_i86': 'func()',\n",
       " '_i87': \"def func():\\n    print('alfa')\",\n",
       " '_i88': 'func()',\n",
       " '_i89': \"s = 'Global Variable'\\n\\ndef check_for_locals():\\n    print(locals())\",\n",
       " 's': 'Global Variable',\n",
       " 'check_for_locals': <function __main__.check_for_locals()>,\n",
       " '_i90': 'locals()',\n",
       " '_90': {...},\n",
       " '_i91': 'globals()',\n",
       " '_91': {...},\n",
       " '_i92': 'globals()',\n",
       " '_92': {...},\n",
       " '_i93': 'globals().keys()',\n",
       " '_93': dict_keys(['__name__', '__doc__', '__package__', '__loader__', '__spec__', '__builtin__', '__builtins__', '_ih', '_oh', '_dh', 'In', 'Out', 'get_ipython', 'exit', 'quit', '_', '__', '___', '_i', '_ii', '_iii', '_i1', 'a', '_i2', 'fun', '_i3', '_3', '_i4', '_4', '_i5', 'globalus_kintamsis', '_i6', '_i7', '_7', '_i8', 'globalus', '_i9', '_i10', '_10', '_i11', '_11', '_i12', '_i13', '_i14', '_14', '_i15', '_15', '_i16', '_16', '_i17', '_i18', '_18', '_i19', '_i20', 'func', '_i21', '_i22', '_i23', '_i24', '_24', '_i25', '_25', '_i26', 'vardas', '_i27', '_27', '_i28', '_28', '_i29', '_29', '_i30', '_30', '_i31', '_i32', '_32', '_i33', '_i34', '_i35', 'labasrytas', '_i36', '_i37', '_i38', '_i39', '_i40', '_i41', '_i42', '_i43', '_i44', '_i45', '_45', '_i46', '_46', '_i47', '_i48', 'x', '_i49', '_49', '_i50', '_50', '_i51', '_i52', '_52', '_i53', '_i54', '_i55', '_55', '_i56', '_i57', '_i58', '_i59', '_59', '_i60', '_i61', '_i62', '_i63', 'naktis', '_i64', 'diena', '_i65', '_i66', '_i67', '_i68', '_i69', '_i70', '_i71', '_i72', 'new_decorator', '_i73', 'dekoratorius', '_i74', '_i75', 'tiesiog', '_i76', '_i77', '_i78', '_i79', 'kazkas', '_i80', '_i81', '_i82', '_i83', '_i84', '_i85', '_i86', '_i87', '_i88', '_i89', 's', 'check_for_locals', '_i90', '_90', '_i91', '_91', '_i92', '_92', '_i93', '_93', '_i94', 'kintamasis', '_i95']),\n",
       " '_i94': \"kintamasis = 'globalus kintamasis'\\n\\ndef check_for_locals():\\n    print(locals())\",\n",
       " 'kintamasis': 'globalus kintamasis',\n",
       " '_i95': 'globals()'}"
      ]
     },
     "execution_count": 95,
     "metadata": {},
     "output_type": "execute_result"
    }
   ],
   "source": [
    "globals()"
   ]
  },
  {
   "cell_type": "markdown",
   "metadata": {},
   "source": [
    "We get back a dictionary of all the global variables, many of them are predefined in Python. Use keys() function on dictionary to get keys"
   ]
  },
  {
   "cell_type": "code",
   "execution_count": 93,
   "metadata": {},
   "outputs": [
    {
     "data": {
      "text/plain": [
       "dict_keys(['__name__', '__doc__', '__package__', '__loader__', '__spec__', '__builtin__', '__builtins__', '_ih', '_oh', '_dh', 'In', 'Out', 'get_ipython', 'exit', 'quit', '_', '__', '___', '_i', '_ii', '_iii', '_i1', 'a', '_i2', 'fun', '_i3', '_3', '_i4', '_4', '_i5', 'globalus_kintamsis', '_i6', '_i7', '_7', '_i8', 'globalus', '_i9', '_i10', '_10', '_i11', '_11', '_i12', '_i13', '_i14', '_14', '_i15', '_15', '_i16', '_16', '_i17', '_i18', '_18', '_i19', '_i20', 'func', '_i21', '_i22', '_i23', '_i24', '_24', '_i25', '_25', '_i26', 'vardas', '_i27', '_27', '_i28', '_28', '_i29', '_29', '_i30', '_30', '_i31', '_i32', '_32', '_i33', '_i34', '_i35', 'labasrytas', '_i36', '_i37', '_i38', '_i39', '_i40', '_i41', '_i42', '_i43', '_i44', '_i45', '_45', '_i46', '_46', '_i47', '_i48', 'x', '_i49', '_49', '_i50', '_50', '_i51', '_i52', '_52', '_i53', '_i54', '_i55', '_55', '_i56', '_i57', '_i58', '_i59', '_59', '_i60', '_i61', '_i62', '_i63', 'naktis', '_i64', 'diena', '_i65', '_i66', '_i67', '_i68', '_i69', '_i70', '_i71', '_i72', 'new_decorator', '_i73', 'dekoratorius', '_i74', '_i75', 'tiesiog', '_i76', '_i77', '_i78', '_i79', 'kazkas', '_i80', '_i81', '_i82', '_i83', '_i84', '_i85', '_i86', '_i87', '_i88', '_i89', 's', 'check_for_locals', '_i90', '_90', '_i91', '_91', '_i92', '_92', '_i93'])"
      ]
     },
     "execution_count": 93,
     "metadata": {},
     "output_type": "execute_result"
    }
   ],
   "source": [
    "globals().keys()"
   ]
  },
  {
   "cell_type": "code",
   "execution_count": 18,
   "metadata": {
    "scrolled": true
   },
   "outputs": [
    {
     "data": {
      "text/plain": [
       "'Labas'"
      ]
     },
     "execution_count": 18,
     "metadata": {},
     "output_type": "execute_result"
    }
   ],
   "source": [
    "globals().get('globalus')"
   ]
  },
  {
   "cell_type": "markdown",
   "metadata": {},
   "source": [
    "Now let's run our function to check for local variables that might exist inside our function (there shouldn't be any)"
   ]
  },
  {
   "cell_type": "code",
   "execution_count": 97,
   "metadata": {},
   "outputs": [
    {
     "name": "stdout",
     "output_type": "stream",
     "text": [
      "{}\n"
     ]
    }
   ],
   "source": [
    "look_at_locals()"
   ]
  },
  {
   "cell_type": "markdown",
   "metadata": {},
   "source": [
    "Remember that in python everything is an object, functions also. Thats means that functions can be assigned to variables and passed to other functions"
   ]
  },
  {
   "cell_type": "code",
   "execution_count": 23,
   "metadata": {},
   "outputs": [],
   "source": [
    "def labas(name=\"Alfredas Hitčkokas\"):\n",
    "        return 'Labas {}'.format(name)  "
   ]
  },
  {
   "cell_type": "code",
   "execution_count": 24,
   "metadata": {},
   "outputs": [
    {
     "data": {
      "text/plain": [
       "'Labas Alfredas Hitčkokas'"
      ]
     },
     "execution_count": 24,
     "metadata": {},
     "output_type": "execute_result"
    }
   ],
   "source": [
    "labas()"
   ]
  },
  {
   "cell_type": "code",
   "execution_count": 25,
   "metadata": {},
   "outputs": [
    {
     "data": {
      "text/plain": [
       "'Labas Andrius Adrijauskas'"
      ]
     },
     "execution_count": 25,
     "metadata": {},
     "output_type": "execute_result"
    }
   ],
   "source": [
    "labas('Andrius Adrijauskas')"
   ]
  },
  {
   "cell_type": "markdown",
   "metadata": {},
   "source": [
    "Assign another label to the function <code>**variable = function**</code> <br/>\n",
    "Note that we are not using parentheses here because we are not calling the function hello, \n",
    "instead we are just passing a function object to the greet variable."
   ]
  },
  {
   "cell_type": "code",
   "execution_count": 26,
   "metadata": {},
   "outputs": [],
   "source": [
    "vardas = labas"
   ]
  },
  {
   "cell_type": "code",
   "execution_count": 29,
   "metadata": {},
   "outputs": [
    {
     "data": {
      "text/plain": [
       "<function __main__.labas(name='Alfredas Hitčkokas')>"
      ]
     },
     "execution_count": 29,
     "metadata": {},
     "output_type": "execute_result"
    }
   ],
   "source": [
    "vardas"
   ]
  },
  {
   "cell_type": "code",
   "execution_count": 30,
   "metadata": {},
   "outputs": [
    {
     "data": {
      "text/plain": [
       "'Labas Alfredas Hitčkokas'"
      ]
     },
     "execution_count": 30,
     "metadata": {},
     "output_type": "execute_result"
    }
   ],
   "source": [
    "vardas()"
   ]
  },
  {
   "cell_type": "markdown",
   "metadata": {},
   "source": [
    "Try to delete the varbialbe name <code>**labas**</code> (function name)?"
   ]
  },
  {
   "cell_type": "code",
   "execution_count": 31,
   "metadata": {},
   "outputs": [],
   "source": [
    "del labas"
   ]
  },
  {
   "cell_type": "code",
   "execution_count": 32,
   "metadata": {},
   "outputs": [
    {
     "data": {
      "text/plain": [
       "'Labas Alfredas Hitčkokas'"
      ]
     },
     "execution_count": 32,
     "metadata": {},
     "output_type": "execute_result"
    }
   ],
   "source": [
    "vardas()"
   ]
  },
  {
   "cell_type": "markdown",
   "metadata": {},
   "source": [
    "Even though we deleted the name <code>**labas**</code>, the name <code>**greet**</code> *still points to* our original function object in memory. \n",
    "\n",
    "It is important to know that functions are objects that can be passed to other objects!\n",
    "\n",
    "## Functions within functions\n",
    "\n",
    "We can treat functions as objects and define functions inside of other functions:"
   ]
  },
  {
   "cell_type": "code",
   "execution_count": 41,
   "metadata": {},
   "outputs": [],
   "source": [
    "def labasrytas(name = 'Tomas Tomauskas'):\n",
    "    print('This has been executed')\n",
    "    \n",
    "    def sveikas():\n",
    "        return '\\t This is inside SVEIKAS function'\n",
    "    \n",
    "    def viso():\n",
    "        return '\\t This is inside VISO function'\n",
    "    \n",
    "    print(sveikas())\n",
    "    print(viso())\n",
    "    print('Now we are back inside labasrytas function')"
   ]
  },
  {
   "cell_type": "code",
   "execution_count": 42,
   "metadata": {},
   "outputs": [
    {
     "name": "stdout",
     "output_type": "stream",
     "text": [
      "This has been executed\n",
      "\t This is inside sveikas function\n",
      "\t This is inside viso function\n",
      "Now we are back inside labasrytas function\n"
     ]
    }
   ],
   "source": [
    "labasrytas()"
   ]
  },
  {
   "cell_type": "code",
   "execution_count": 43,
   "metadata": {},
   "outputs": [
    {
     "ename": "NameError",
     "evalue": "name 'sveikas' is not defined",
     "output_type": "error",
     "traceback": [
      "\u001b[1;31m---------------------------------------------------------------------------\u001b[0m",
      "\u001b[1;31mNameError\u001b[0m                                 Traceback (most recent call last)",
      "\u001b[1;32m<ipython-input-43-09fa4b16bac5>\u001b[0m in \u001b[0;36m<module>\u001b[1;34m\u001b[0m\n\u001b[1;32m----> 1\u001b[1;33m \u001b[0msveikas\u001b[0m\u001b[1;33m(\u001b[0m\u001b[1;33m)\u001b[0m\u001b[1;33m\u001b[0m\u001b[1;33m\u001b[0m\u001b[0m\n\u001b[0m",
      "\u001b[1;31mNameError\u001b[0m: name 'sveikas' is not defined"
     ]
    }
   ],
   "source": [
    "sveikas()"
   ]
  },
  {
   "cell_type": "markdown",
   "metadata": {},
   "source": [
    "Note how due to scope, the sveikas() function is not defined outside of the labasrytas() function. \n",
    "\n",
    "## Returning Functions\n",
    "\n",
    "There is a way of returning functions from within other functions:"
   ]
  },
  {
   "cell_type": "code",
   "execution_count": 44,
   "metadata": {},
   "outputs": [],
   "source": [
    "def labasrytas(name = 'Tomas'):\n",
    "    \n",
    "    def sveikas():\n",
    "        return '\\t This is inside SVEIKAS function'\n",
    "    \n",
    "    def viso():\n",
    "        return '\\t This is inside VISO function'\n",
    "    \n",
    "    if name == 'Tomas':\n",
    "        return sveikas\n",
    "    else:\n",
    "        return viso"
   ]
  },
  {
   "cell_type": "markdown",
   "metadata": {},
   "source": [
    "Set x variable label to labasrytas(), note how the empty parentheses means that name has been defined as Tomas."
   ]
  },
  {
   "cell_type": "code",
   "execution_count": 103,
   "metadata": {},
   "outputs": [],
   "source": [
    "x = labasrytas()()"
   ]
  },
  {
   "cell_type": "code",
   "execution_count": 104,
   "metadata": {},
   "outputs": [
    {
     "data": {
      "text/plain": [
       "'\\t This is inside sveikas function'"
      ]
     },
     "execution_count": 104,
     "metadata": {},
     "output_type": "execute_result"
    }
   ],
   "source": [
    "x"
   ]
  },
  {
   "cell_type": "code",
   "execution_count": 101,
   "metadata": {},
   "outputs": [
    {
     "name": "stdout",
     "output_type": "stream",
     "text": [
      "<function labasrytas.<locals>.sveikas at 0x06C76618>\n"
     ]
    }
   ],
   "source": [
    "print(x)"
   ]
  },
  {
   "cell_type": "markdown",
   "metadata": {},
   "source": [
    "<code>**x**</code> is pointing to the greet function inside of the hello function."
   ]
  },
  {
   "cell_type": "code",
   "execution_count": 102,
   "metadata": {},
   "outputs": [
    {
     "name": "stdout",
     "output_type": "stream",
     "text": [
      "\t This is inside sveikas function\n"
     ]
    }
   ],
   "source": [
    "print(x())"
   ]
  },
  {
   "cell_type": "markdown",
   "metadata": {},
   "source": [
    "In the <code>if</code>/<code>else</code> clause we are returning <code>sveikas</code> and <code>viso</code>, not <code>sveikas()</code> and <code>viso()</code>. \n",
    "\n",
    "This is because when you put a pair of parentheses after it, the function gets executed; whereas if you don’t put parentheses after it, then it can be passed around and can be assigned to other variables without executing it.\n",
    "\n",
    "When we write <code>x = labasrytas()</code>, labasrytas() gets executed and because the name is Tomas by default, the function <code>sveikas</code> is returned. If we change the statement to <code>x = labasrytas(name = \"Saulius\")</code> then the <code>welcome</code> function will be returned. We can also do <code>print(labasrytas()())</code> which outputs *' This is inside SVEIKAS function'*."
   ]
  },
  {
   "cell_type": "markdown",
   "metadata": {},
   "source": [
    "## Functions as Arguments\n",
    "pass a function as an arguments into other function:"
   ]
  },
  {
   "cell_type": "code",
   "execution_count": 106,
   "metadata": {},
   "outputs": [],
   "source": [
    "def naktis():\n",
    "    return 'dabar naktis'\n",
    "def diena(func):\n",
    "    print('dabar diena')\n",
    "    print(func())"
   ]
  },
  {
   "cell_type": "code",
   "execution_count": 107,
   "metadata": {},
   "outputs": [
    {
     "ename": "TypeError",
     "evalue": "diena() missing 1 required positional argument: 'func'",
     "output_type": "error",
     "traceback": [
      "\u001b[1;31m---------------------------------------------------------------------------\u001b[0m",
      "\u001b[1;31mTypeError\u001b[0m                                 Traceback (most recent call last)",
      "\u001b[1;32m<ipython-input-107-12d74f78260e>\u001b[0m in \u001b[0;36m<module>\u001b[1;34m\u001b[0m\n\u001b[1;32m----> 1\u001b[1;33m \u001b[0mdiena\u001b[0m\u001b[1;33m(\u001b[0m\u001b[1;33m)\u001b[0m\u001b[1;33m\u001b[0m\u001b[1;33m\u001b[0m\u001b[0m\n\u001b[0m",
      "\u001b[1;31mTypeError\u001b[0m: diena() missing 1 required positional argument: 'func'"
     ]
    }
   ],
   "source": [
    "diena()"
   ]
  },
  {
   "cell_type": "code",
   "execution_count": 70,
   "metadata": {},
   "outputs": [
    {
     "name": "stdout",
     "output_type": "stream",
     "text": [
      "Hi diena\n",
      "Hi naktis\n"
     ]
    }
   ],
   "source": [
    "diena(naktis)"
   ]
  },
  {
   "cell_type": "markdown",
   "metadata": {},
   "source": [
    "This is basically passing the functions as objects and then using them within other functions.\n",
    "Now you are ready to write your first decorator:\n",
    "\n",
    "## Creating a Decorator\n",
    "\n",
    "In the previous example we actually manually created a Decorator. Here we will modify it to make its use case clear:"
   ]
  },
  {
   "cell_type": "code",
   "execution_count": 74,
   "metadata": {},
   "outputs": [],
   "source": [
    "def dekoratorius(paduoda):\n",
    "    \n",
    "    def suktukas():\n",
    "        print('tai bus įvykdyta prieš įvykkdant paduodota funckija')\n",
    "        \n",
    "        paduoda()\n",
    "    \n",
    "        print('kodas bus įvykdytas po paduodotos funkcijos')\n",
    "    \n",
    "    return suktukas\n",
    "    "
   ]
  },
  {
   "cell_type": "code",
   "execution_count": 75,
   "metadata": {},
   "outputs": [],
   "source": [
    "def tiesiog():\n",
    "    print('Tiesiog paprasta funkcija')"
   ]
  },
  {
   "cell_type": "code",
   "execution_count": 76,
   "metadata": {},
   "outputs": [
    {
     "name": "stdout",
     "output_type": "stream",
     "text": [
      "Tiesiog paprasta funkcija\n"
     ]
    }
   ],
   "source": [
    "tiesiog()"
   ]
  },
  {
   "cell_type": "code",
   "execution_count": 77,
   "metadata": {},
   "outputs": [],
   "source": [
    "tiesiog = dekoratorius(tiesiog)"
   ]
  },
  {
   "cell_type": "code",
   "execution_count": 78,
   "metadata": {},
   "outputs": [
    {
     "name": "stdout",
     "output_type": "stream",
     "text": [
      "tai bus įvykdyta prieš įvykkdant paduodota funckija\n",
      "Tiesiog paprasta funkcija\n",
      "kodas bus įvykdytas po paduodotos funkcijos\n"
     ]
    }
   ],
   "source": [
    "tiesiog()"
   ]
  },
  {
   "cell_type": "markdown",
   "metadata": {},
   "source": [
    "A decorator simply wrapped the function and modified its behavior <br/>\n",
    "We can rewrite this by using <code>**@**</code> symbol, which is what Python uses for Decorators:"
   ]
  },
  {
   "cell_type": "code",
   "execution_count": 81,
   "metadata": {},
   "outputs": [],
   "source": [
    "@dekoratorius\n",
    "def tiesiog():\n",
    "    print('Tiesiog paprasta funkcija')"
   ]
  },
  {
   "cell_type": "code",
   "execution_count": 82,
   "metadata": {},
   "outputs": [
    {
     "name": "stdout",
     "output_type": "stream",
     "text": [
      "tai bus įvykdyta prieš įvykkdant paduodota funckija\n",
      "Tiesiog paprasta funkcija\n",
      "kodas bus įvykdytas po paduodotos funkcijos\n"
     ]
    }
   ],
   "source": [
    "tiesiog()"
   ]
  },
  {
   "cell_type": "code",
   "execution_count": null,
   "metadata": {},
   "outputs": [],
   "source": []
  }
 ],
 "metadata": {
  "kernelspec": {
   "display_name": "Python 3",
   "language": "python",
   "name": "python3"
  },
  "language_info": {
   "codemirror_mode": {
    "name": "ipython",
    "version": 3
   },
   "file_extension": ".py",
   "mimetype": "text/x-python",
   "name": "python",
   "nbconvert_exporter": "python",
   "pygments_lexer": "ipython3",
   "version": "3.7.4"
  }
 },
 "nbformat": 4,
 "nbformat_minor": 2
}
