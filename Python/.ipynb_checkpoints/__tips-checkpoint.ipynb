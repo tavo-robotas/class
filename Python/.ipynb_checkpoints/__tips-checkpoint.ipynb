{
 "cells": [
  {
   "cell_type": "code",
   "execution_count": 11,
   "metadata": {},
   "outputs": [
    {
     "name": "stdout",
     "output_type": "stream",
     "text": [
      "{'a': 1, 'b': 3, 'c': 4}\n"
     ]
    }
   ],
   "source": [
    "# How to merge two dictionaries\n",
    "# in Python 3.5+:\n",
    "\n",
    "x = {'a': 1, 'b': 2}\n",
    "y = {'b': 3, 'c': 4}\n",
    "z = {**x, **y}\n",
    "print(z)\n",
    "# In Python 2.x you could use this:\n",
    "z = dict(x, **y)\n"
   ]
  },
  {
   "cell_type": "code",
   "execution_count": null,
   "metadata": {},
   "outputs": [],
   "source": [
    "# Because Python has first-class functions they can\n",
    "# be used to emulate switch/case statements\n",
    "\n",
    "def dispatch_if(operator, x, y):\n",
    "    if operator == 'add':\n",
    "        return x + y\n",
    "    elif operator == 'sub':\n",
    "        return x - y\n",
    "    elif operator == 'mul':\n",
    "        return x * y\n",
    "    elif operator == 'div':\n",
    "        return x / y\n",
    "    else:\n",
    "        return None\n",
    "\n",
    "\n",
    "def dispatch_dict(operator, x, y):\n",
    "    return {\n",
    "        'add': lambda: x + y,\n",
    "        'sub': lambda: x - y,\n",
    "        'mul': lambda: x * y,\n",
    "        'div': lambda: x / y,\n",
    "    }.get(operator, lambda: None)()\n",
    "\n",
    "\n",
    "dispatch_if('mul', 2, 8)\n",
    "16\n",
    "\n",
    "dispatch_dict('mul', 2, 8)\n",
    "16\n",
    "\n",
    "dispatch_if('unknown', 2, 8)\n",
    "None\n",
    "\n",
    "dispatch_dict('unknown', 2, 8)\n",
    "None"
   ]
  },
  {
   "cell_type": "code",
   "execution_count": null,
   "metadata": {},
   "outputs": [],
   "source": [
    "# \"is\" vs \"==\"\n",
    "\n",
    "a = [1, 2, 3]\n",
    "b = a\n",
    "\n",
    "a is b\n",
    "\n",
    "a == b\n",
    "\n",
    "\n",
    "c = list(a)\n",
    "\n",
    "a == c\n",
    "\n",
    "a is c\n",
    "\n",
    "\n",
    "# • \"is\" expressions evaluate to True if two \n",
    "#   variables point to the same object\n",
    "\n",
    "# • \"==\" evaluates to True if the objects \n",
    "#   referred to by the variables are equal"
   ]
  },
  {
   "cell_type": "code",
   "execution_count": null,
   "metadata": {},
   "outputs": [],
   "source": [
    "# Why Python Is Great:\n",
    "# Function argument unpacking\n",
    "\n",
    "def myfunc(x, y, z):\n",
    "    print(x, y, z)\n",
    "\n",
    "tuple_vec = (1, 0, 1)\n",
    "dict_vec = {'x': 1, 'y': 0, 'z': 1}\n",
    "\n",
    "myfunc(*tuple_vec)\n",
    "1, 0, 1\n",
    "\n",
    "myfunc(**dict_vec)\n",
    "1, 0, 1"
   ]
  },
  {
   "cell_type": "code",
   "execution_count": null,
   "metadata": {},
   "outputs": [],
   "source": [
    "# Python's list slice syntax can be used without indices\n",
    "# for a few fun and useful things:\n",
    "\n",
    "# You can clear all elements from a list:\n",
    "lst = [1, 2, 3, 4, 5]\n",
    "del lst[:]\n",
    "lst\n",
    "[]\n",
    "\n",
    "# You can replace all elements of a list\n",
    "# without creating a new list object:\n",
    "a = lst\n",
    "lst[:] = [7, 8, 9]\n",
    "lst\n",
    "[7, 8, 9]\n",
    "a\n",
    "[7, 8, 9]\n",
    "a is lst\n",
    "\n",
    "\n",
    "# You can also create a (shallow) copy of a list:\n",
    "b = lst[:]\n",
    "b\n",
    "[7, 8, 9]\n",
    "b is lst\n"
   ]
  },
  {
   "cell_type": "code",
   "execution_count": null,
   "metadata": {},
   "outputs": [],
   "source": [
    "import itertools\n",
    "for p in itertools.permutations('ABC'):\n",
    "    print(p)"
   ]
  },
  {
   "cell_type": "code",
   "execution_count": 2,
   "metadata": {},
   "outputs": [
    {
     "name": "stdout",
     "output_type": "stream",
     "text": [
      "('A', 'B', 'C', 'D')\n",
      "('A', 'B', 'D', 'C')\n",
      "('A', 'C', 'B', 'D')\n",
      "('A', 'C', 'D', 'B')\n",
      "('A', 'D', 'B', 'C')\n",
      "('A', 'D', 'C', 'B')\n",
      "('B', 'A', 'C', 'D')\n",
      "('B', 'A', 'D', 'C')\n",
      "('B', 'C', 'A', 'D')\n",
      "('B', 'C', 'D', 'A')\n",
      "('B', 'D', 'A', 'C')\n",
      "('B', 'D', 'C', 'A')\n",
      "('C', 'A', 'B', 'D')\n",
      "('C', 'A', 'D', 'B')\n",
      "('C', 'B', 'A', 'D')\n",
      "('C', 'B', 'D', 'A')\n",
      "('C', 'D', 'A', 'B')\n",
      "('C', 'D', 'B', 'A')\n",
      "('D', 'A', 'B', 'C')\n",
      "('D', 'A', 'C', 'B')\n",
      "('D', 'B', 'A', 'C')\n",
      "('D', 'B', 'C', 'A')\n",
      "('D', 'C', 'A', 'B')\n",
      "('D', 'C', 'B', 'A')\n"
     ]
    }
   ],
   "source": [
    "import itertools\n",
    "for p in itertools.permutations('ABCD'):\n",
    "    print(p)"
   ]
  },
  {
   "cell_type": "code",
   "execution_count": null,
   "metadata": {},
   "outputs": [],
   "source": []
  }
 ],
 "metadata": {
  "kernelspec": {
   "display_name": "Python 3",
   "language": "python",
   "name": "python3"
  },
  "language_info": {
   "codemirror_mode": {
    "name": "ipython",
    "version": 3
   },
   "file_extension": ".py",
   "mimetype": "text/x-python",
   "name": "python",
   "nbconvert_exporter": "python",
   "pygments_lexer": "ipython3",
   "version": "3.7.4"
  }
 },
 "nbformat": 4,
 "nbformat_minor": 2
}
