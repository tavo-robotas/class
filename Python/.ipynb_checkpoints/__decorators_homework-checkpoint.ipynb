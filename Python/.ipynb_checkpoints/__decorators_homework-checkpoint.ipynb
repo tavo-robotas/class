{
 "cells": [
  {
   "cell_type": "markdown",
   "metadata": {},
   "source": [
    "# Decorators Homework (Optional)\n",
    "\n",
    "Check out the Web Framework [Flask](http://flask.pocoo.org/). \n",
    "You can use Flask to create web pages with Python (if you know some HTML and CSS) and they use decorators a massively!\n",
    "Learn how they use [view decorators](http://flask.pocoo.org/docs/0.12/patterns/viewdecorators/). \n",
    "Don't worry if you don't understand everything about Flask, the main point of this is that you have an awareness of decorators and their usage in Web Frameworks. \n",
    "That way if you decide to become a \"Full-Stack\" Python Web Developer, you won't find yourself overwhelmed by decorators. You can also check out [Django](https://www.djangoproject.com/) another and more popular web framework for Python.\n",
    "\n",
    "Also for some additional info:\n",
    "\n",
    "A framework is a type of software library wiht that provides generic functionality which can be extended by the programmer to build applications. Flask and Django are good examples of frameworks intended for web development.\n",
    "\n",
    "A framework is distinguished from a simple library or API. An API is a piece of software that a developer can use in his or her application. A framework is more encompassing: your entire application is structured around the framework (i.e. it provides the framework around which you build your software)."
   ]
  }
 ],
 "metadata": {
  "kernelspec": {
   "display_name": "Python 3",
   "language": "python",
   "name": "python3"
  },
  "language_info": {
   "codemirror_mode": {
    "name": "ipython",
    "version": 3
   },
   "file_extension": ".py",
   "mimetype": "text/x-python",
   "name": "python",
   "nbconvert_exporter": "python",
   "pygments_lexer": "ipython3",
   "version": "3.7.4"
  }
 },
 "nbformat": 4,
 "nbformat_minor": 1
}
