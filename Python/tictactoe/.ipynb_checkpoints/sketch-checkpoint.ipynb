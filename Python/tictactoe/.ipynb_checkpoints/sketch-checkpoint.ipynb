{
 "cells": [
  {
   "cell_type": "code",
   "execution_count": 1,
   "metadata": {},
   "outputs": [],
   "source": [
    "def transpose(lists):\n",
    "    return [list(row) for row in zip(*lists)]"
   ]
  },
  {
   "cell_type": "code",
   "execution_count": 2,
   "metadata": {},
   "outputs": [],
   "source": [
    "a = [ [1,2,3], [4,5,6], [7,8,9]]"
   ]
  },
  {
   "cell_type": "code",
   "execution_count": 3,
   "metadata": {},
   "outputs": [
    {
     "data": {
      "text/plain": [
       "[[1, 4, 7], [2, 5, 8], [3, 6, 9]]"
      ]
     },
     "execution_count": 3,
     "metadata": {},
     "output_type": "execute_result"
    }
   ],
   "source": [
    "transpose(a)"
   ]
  },
  {
   "cell_type": "code",
   "execution_count": 92,
   "metadata": {},
   "outputs": [],
   "source": [
    "board = '''\n",
    "-------\n",
    "|{0[0][0]}|{0[0][1]}|{0[0][2]}|\n",
    "-------\n",
    "|{0[1][0]}|{0[1][1]}|{0[1][2]}|\n",
    "-------\n",
    "|{0[2][0]}|{0[2][1]}|{0[2][2]}|\n",
    "-------\n",
    "'''"
   ]
  },
  {
   "cell_type": "code",
   "execution_count": 93,
   "metadata": {},
   "outputs": [],
   "source": [
    "matrix = [ [1,0,1], [0,1,0], [1,0,0] ]"
   ]
  },
  {
   "cell_type": "code",
   "execution_count": 94,
   "metadata": {},
   "outputs": [],
   "source": [
    "def check_line(input):\n",
    "    for row in input:\n",
    "        if len(set(row)) == 1:\n",
    "            return 1\n",
    "    return 0"
   ]
  },
  {
   "cell_type": "code",
   "execution_count": 95,
   "metadata": {},
   "outputs": [],
   "source": [
    "def check_diagonal(input):\n",
    "    # uzduotis:\n",
    "    # kaip padaryti kad tikrintu istrizaines ir į kitą pusę ?\n",
    "    # kaip optimizuoti šitą funkciją ?\n",
    "    container = []\n",
    "    indexes   = []\n",
    "    for index, row in enumerate(input):\n",
    "        container.append(row[index])\n",
    "        indexes.append(index)\n",
    "    if len(set(container)) == 1:\n",
    "        container.clear()\n",
    "        return 1"
   ]
  },
  {
   "cell_type": "code",
   "execution_count": 96,
   "metadata": {},
   "outputs": [],
   "source": [
    "def win(data):\n",
    "    for new in [data, transpose(data)]:\n",
    "        result = check_line(new)\n",
    "        if result:\n",
    "            return result\n",
    "    return check_diagonal(data)"
   ]
  },
  {
   "cell_type": "code",
   "execution_count": 97,
   "metadata": {},
   "outputs": [],
   "source": [
    "win(matrix)"
   ]
  },
  {
   "cell_type": "code",
   "execution_count": 102,
   "metadata": {},
   "outputs": [],
   "source": [
    "def draw_board():\n",
    "    print(board.format(matrix))"
   ]
  },
  {
   "cell_type": "code",
   "execution_count": null,
   "metadata": {},
   "outputs": [],
   "source": [
    "def play():\n",
    "    draw_board()\n",
    "    key = input('pick your place: ')\n",
    "    # uzduotis\n",
    "    # gauti zaidejo pasirinkima ir ji panaudoti redaguojant zaidimo lentele"
   ]
  },
  {
   "cell_type": "code",
   "execution_count": null,
   "metadata": {},
   "outputs": [],
   "source": [
    "play()"
   ]
  },
  {
   "cell_type": "code",
   "execution_count": null,
   "metadata": {},
   "outputs": [],
   "source": []
  },
  {
   "cell_type": "code",
   "execution_count": null,
   "metadata": {},
   "outputs": [],
   "source": []
  }
 ],
 "metadata": {
  "kernelspec": {
   "display_name": "Python 3",
   "language": "python",
   "name": "python3"
  },
  "language_info": {
   "codemirror_mode": {
    "name": "ipython",
    "version": 3
   },
   "file_extension": ".py",
   "mimetype": "text/x-python",
   "name": "python",
   "nbconvert_exporter": "python",
   "pygments_lexer": "ipython3",
   "version": "3.7.4"
  }
 },
 "nbformat": 4,
 "nbformat_minor": 2
}
