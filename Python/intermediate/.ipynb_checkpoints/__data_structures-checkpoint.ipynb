{
 "cells": [
  {
   "cell_type": "markdown",
   "metadata": {},
   "source": [
    "Hash Tables in Python\n",
    "https://www.youtube.com/watch?v=zHi5v78W1f0&list=PL3Kz_hCNpKSQbpQQjSDoQ68K75gjSFaDq\n",
    "\n",
    "Stacks in Python\n",
    "https://www.youtube.com/watch?v=5MOy9VYKczY&list=PL3Kz_hCNpKSQbpQQjSDoQ68K75gjSFaDq&index=2\n",
    "\n",
    "Python equivalent of Java StringBuffer\n",
    "https://stackoverflow.com/questions/19926089/python-equivalent-of-java-stringbuffer/19926210#19926210\n",
    "\n",
    "Crazy dict\n",
    "https://dbader.org/blog/python-mystery-dict-expression"
   ]
  }
 ],
 "metadata": {
  "kernelspec": {
   "display_name": "Python 3",
   "language": "python",
   "name": "python3"
  },
  "language_info": {
   "codemirror_mode": {
    "name": "ipython",
    "version": 3
   },
   "file_extension": ".py",
   "mimetype": "text/x-python",
   "name": "python",
   "nbconvert_exporter": "python",
   "pygments_lexer": "ipython3",
   "version": "3.7.4"
  }
 },
 "nbformat": 4,
 "nbformat_minor": 2
}
