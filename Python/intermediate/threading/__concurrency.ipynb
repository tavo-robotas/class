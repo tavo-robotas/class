{
 "cells": [
  {
   "cell_type": "markdown",
   "metadata": {},
   "source": [
    "## What Is Concurrency and Parallelism\n",
    "\n"
   ]
  },
  {
   "cell_type": "markdown",
   "metadata": {},
   "source": [
    "We’ll start with a non-concurrent version of this task. Note that this program requires the requests module. You should run pip install requests before running it."
   ]
  },
  {
   "cell_type": "code",
   "execution_count": 13,
   "metadata": {},
   "outputs": [
    {
     "name": "stdout",
     "output_type": "stream",
     "text": [
      "Read 10287 from https://www.jython.org\n",
      "Read 274 from http://olympus.realpython.org/dice\n",
      "Read 10287 from https://www.jython.org\n",
      "Read 274 from http://olympus.realpython.org/dice\n",
      "Read 10287 from https://www.jython.org\n",
      "Read 274 from http://olympus.realpython.org/dice\n",
      "Read 10287 from https://www.jython.org\n",
      "Read 274 from http://olympus.realpython.org/dice\n",
      "Read 10287 from https://www.jython.org\n",
      "Read 274 from http://olympus.realpython.org/dice\n",
      "Read 10287 from https://www.jython.org\n",
      "Read 274 from http://olympus.realpython.org/dice\n",
      "Read 10287 from https://www.jython.org\n",
      "Read 274 from http://olympus.realpython.org/dice\n",
      "Read 10287 from https://www.jython.org\n",
      "Read 274 from http://olympus.realpython.org/dice\n",
      "Read 10287 from https://www.jython.org\n",
      "Read 274 from http://olympus.realpython.org/dice\n",
      "Read 10287 from https://www.jython.org\n",
      "Read 274 from http://olympus.realpython.org/dice\n",
      "Downloade20 in duration 3.1265339851379395 sec\n"
     ]
    }
   ],
   "source": [
    "import requests\n",
    "import time\n",
    "\n",
    "def download_site(url, session):\n",
    "    with session.get(url) as response:\n",
    "        print(f\"Read {len(response.content)} from {url}\")\n",
    "\n",
    "\n",
    "def download_sites(urls):\n",
    "    with requests.Session() as session:\n",
    "        for url in urls:\n",
    "            download_site(url, session)\n",
    "\n",
    "            \n",
    "if __name__ == \"__main__\":\n",
    "    urls = [\n",
    "        \"https://www.jython.org\",\n",
    "        \"http://olympus.realpython.org/dice\"\n",
    "    ] * 10\n",
    "    \n",
    "    start = time.time()\n",
    "    download_sites(urls)\n",
    "    duration = time.time() - start\n",
    "    print(f\"Downloade{len(urls)} in duration {duration} sec\")"
   ]
  },
  {
   "cell_type": "markdown",
   "metadata": {},
   "source": [
    "Good thing about this code is that it’s easy. It's easy to write and debug and also more simple to think about it. There’s only one \"train of thought\" running through it, so you can predict what the next step is going to be and how it will behave. The bad problem here is that it’s relatively slow. Being slower isn’t always a  issue. If the program you’re running takes only 2 seconds with a synchronous version and is only run rarely, it’s probably not worth adding concurrency at all."
   ]
  },
  {
   "cell_type": "code",
   "execution_count": null,
   "metadata": {},
   "outputs": [],
   "source": []
  }
 ],
 "metadata": {
  "kernelspec": {
   "display_name": "Python 3",
   "language": "python",
   "name": "python3"
  },
  "language_info": {
   "codemirror_mode": {
    "name": "ipython",
    "version": 3
   },
   "file_extension": ".py",
   "mimetype": "text/x-python",
   "name": "python",
   "nbconvert_exporter": "python",
   "pygments_lexer": "ipython3",
   "version": "3.7.4"
  }
 },
 "nbformat": 4,
 "nbformat_minor": 2
}
