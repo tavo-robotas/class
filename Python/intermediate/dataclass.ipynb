{
 "cells": [
  {
   "cell_type": "markdown",
   "metadata": {},
   "source": [
    "https://realpython.com/python-data-classes/\n",
    "\n",
    "https://www.youtube.com/watch?v=T-TwcmT6Rcw\n",
    "\n",
    "https://discuss.python.org/t/allow-for-positional-or-keyword-only-arguments-in-dataclasses/2980/4\n",
    "\n",
    "https://docs.python.org/3/library/dataclasses.html\n",
    "\n",
    "METADATA:\n",
    "https://dev.to/furkan_kalkan1/a-fully-automated-metadata-objects-with-python-37s-brand-new-dataclass-library-492i\n",
    "\n",
    "dictProxy\n",
    "https://eev.ee/blog/2013/08/05/dictproxyhack-or-activestate-code-considered-harmful/##dictproxy\n",
    "\n",
    "instances of class\n",
    "https://stackoverflow.com/questions/328851/printing-all-instances-of-a-class\n",
    "\n",
    "How different from common classes\n",
    "https://stackoverflow.com/questions/47955263/what-are-data-classes-and-how-are-they-different-from-common-classes"
   ]
  },
  {
   "cell_type": "code",
   "execution_count": null,
   "metadata": {},
   "outputs": [],
   "source": []
  }
 ],
 "metadata": {
  "kernelspec": {
   "display_name": "Python 3",
   "language": "python",
   "name": "python3"
  },
  "language_info": {
   "codemirror_mode": {
    "name": "ipython",
    "version": 3
   },
   "file_extension": ".py",
   "mimetype": "text/x-python",
   "name": "python",
   "nbconvert_exporter": "python",
   "pygments_lexer": "ipython3",
   "version": "3.7.4"
  }
 },
 "nbformat": 4,
 "nbformat_minor": 2
}
