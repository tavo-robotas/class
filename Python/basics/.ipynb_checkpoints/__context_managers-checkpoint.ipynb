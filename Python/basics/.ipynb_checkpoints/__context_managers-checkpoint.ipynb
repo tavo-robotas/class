{
 "cells": [
  {
   "cell_type": "markdown",
   "metadata": {},
   "source": [
    "# Context manager\n",
    "\n",
    "In this lesson we will focus on usage of context manager that allows us to manage properly resources. So we can exactly specify what we want to set up and tear down when working with certain objects. For exampe if you are working with file objects there two different ways that could be implemented:"
   ]
  },
  {
   "cell_type": "code",
   "execution_count": 4,
   "metadata": {},
   "outputs": [],
   "source": [
    "file = open('tekstas.txt', 'w')\n",
    "file.write('ruda lape issoko per tingu suni')\n",
    "file.close()"
   ]
  },
  {
   "cell_type": "markdown",
   "metadata": {},
   "source": [
    "we are either creating or opening and existing file (in this case with 'w' comannd we are creating a file) and the doing something with it like in this case writing some text and then we need to remember to close file after we are done working with it. But recommende way of working wit files is using <code>**context manager**</code> like we have bellow:"
   ]
  },
  {
   "cell_type": "code",
   "execution_count": 6,
   "metadata": {},
   "outputs": [],
   "source": [
    "with open('tekstas.txt', 'w') as file:\n",
    "    file.write('Greita ruda lape sokineja virs tinginio suns')"
   ]
  },
  {
   "cell_type": "markdown",
   "metadata": {},
   "source": [
    "we can tell that this is context manager because of <code>**with**</code> statement. The one thing that you can notice is that we don't need to remember to close down the file after we're done working with it and not only that but it is also recommended because if we throw an error working with this file then it's still going to get closed properly and that is why context managers are so usefull. It handles the teardown of the resources for us so we don't have to remember to do it and the more that is handled for us automatically the better. It's great for file but as well for other resources , for example we can use this to <code>**connect and close connection to database**</code> we can <code>**aquire and release locks**</code>,  <code>**open and close serial communication**</code> etc. There are plenty of usefull casse that you will find down the learning road."
   ]
  },
  {
   "cell_type": "markdown",
   "metadata": {},
   "source": [
    "Lets write our own custom context manager to handle resources. There couple a ways we can achieve this either by using <code>**class**</code> or by using a function with <code>**decorator**</code>. For class refer to <code>**__OOP**</code> and for decorator to <code>**__decorators**</code> lesson notebooks. To start off lets replicate the functionality of context manager when opening a file and automatically closing it when we're done with it by creating a class. This way will show more clearly what's going on."
   ]
  },
  {
   "cell_type": "code",
   "execution_count": 18,
   "metadata": {},
   "outputs": [
    {
     "name": "stdout",
     "output_type": "stream",
     "text": [
      "True\n"
     ]
    }
   ],
   "source": [
    "'''\n",
    "This class has three special \"dunder\" methods:\n",
    "__init__  - regular constructor\n",
    "__enter__ - setup method\n",
    "__exit__  - teardown method\n",
    "'''\n",
    "class Open_File():\n",
    "    # filename argument literally means file name \n",
    "    # mode argument for reading or writting mode\n",
    "    def __init__(self, filename, mode):\n",
    "        self.filename = filename\n",
    "        self.mode     = mode\n",
    "    \n",
    "    def __enter__(self):\n",
    "        self.file = open(self.filename, self.mode)\n",
    "        # returns a file object\n",
    "        return self.file\n",
    "        \n",
    "    def __exit__(self, exc_type, exc_val, traceback):\n",
    "        '''\n",
    "        exc_type, exc_val, traceback \n",
    "        these arguments are for error \n",
    "        in case it gets throwed we could access it\n",
    "        '''\n",
    "        self.file.close()\n",
    "        \n",
    "with Open_File('tekstas.txt', 'w') as atidarytas_failas:\n",
    "    atidarytas_failas.write('testavimas')\n",
    "    \n",
    "# to make sure that our context manager is working as it should\n",
    "# and to make sure that the file was closed outside the context manager\n",
    "# lets print out the closed attribute of that file to see was it closed properly\n",
    "# it must return a boolean value (True or False)\n",
    "print(atidarytas_failas.closed)"
   ]
  },
  {
   "cell_type": "markdown",
   "metadata": {},
   "source": [
    "Lets walk through this class code and see whats going on.<br/>\n",
    "<code>**Open_File('tekstas.txt', 'w')**</code> when we run this part Open_file class and pass in the filename and the mode it goes to <code>**__init__**</code> method and sets these <code>**attributes**</code>. Since we are using it with <code>**with**</code> statement here it runs our code within our <code>**__enter__**</code> method and <code>**returns**</code> a file object in <code>**self.file**</code> variable.\n",
    "Thats why <code>**as atidarytas_failas**</code> trully represents a opened file object inside our context manager because that was returned from <code>__enter__</code> method. Now within context manager we can work with this file any way we like to, in example case we write some text inside it with <code>**write**</code> method.\n",
    "And so when it exits <code>**with**</code> code block is the moment when it hits exit part of context manager and triggers <code>**__exit__**</code> method and executes <code>**self.file.close()**</code>.\n",
    "We verify that it actually exited opened file by checking <code>**closed**</code> attribute with this line\n",
    "<code>**print(atidarytas_failas.closed)**</code>\n",
    "\n",
    "\n"
   ]
  },
  {
   "cell_type": "markdown",
   "metadata": {},
   "source": [
    "Lets do this by using a function with decorator. We will have to use context lib module by importing context manager decorator.\n"
   ]
  },
  {
   "cell_type": "code",
   "execution_count": 6,
   "metadata": {},
   "outputs": [],
   "source": [
    "from contextlib import contextmanager"
   ]
  },
  {
   "cell_type": "markdown",
   "metadata": {},
   "source": [
    "We can use this context manager or decorator to decorate a generator function."
   ]
  },
  {
   "cell_type": "code",
   "execution_count": 7,
   "metadata": {},
   "outputs": [
    {
     "name": "stdout",
     "output_type": "stream",
     "text": [
      "True\n"
     ]
    }
   ],
   "source": [
    "@contextmanager\n",
    "def open_file(file, mode):\n",
    "    try:\n",
    "        f = open(file, mode)\n",
    "        yield f\n",
    "    finally:\n",
    "        f.close()\n",
    "    \n",
    "with open_file('tekstas.txt', 'w') as atidarytas_failas:\n",
    "    atidarytas_failas.write('context manager decorator stuff')\n",
    "\n",
    "print(atidarytas_failas.closed)"
   ]
  },
  {
   "cell_type": "markdown",
   "metadata": {},
   "source": [
    "Since open function is already built-in in python and we easily can achieve same result just by using it. This makes these examples quite unpractical. So since we seen how to replicate that buil-in functionality of open function using both classes and generators. Let's do some other practical stuff building it from scratch, like: "
   ]
  },
  {
   "cell_type": "code",
   "execution_count": 8,
   "metadata": {},
   "outputs": [
    {
     "name": "stdout",
     "output_type": "stream",
     "text": [
      "['1.txt', '2.txt', '3.txt']\n",
      "['4.txt', '5.txt', '6.txt']\n"
     ]
    }
   ],
   "source": [
    "# example without context manager\n",
    "import os\n",
    "\n",
    "cwd = os.getcwd()\n",
    "os.chdir('sample-directory-1')\n",
    "print(os.listdir())\n",
    "os.chdir(cwd)\n",
    "\n",
    "cwd = os.getcwd()\n",
    "os.chdir('sample-directory-2')\n",
    "print(os.listdir())\n",
    "os.chdir(cwd)"
   ]
  },
  {
   "cell_type": "code",
   "execution_count": 10,
   "metadata": {},
   "outputs": [
    {
     "name": "stdout",
     "output_type": "stream",
     "text": [
      "['1.txt', '2.txt', '3.txt']\n",
      "['4.txt', '5.txt', '6.txt']\n"
     ]
    }
   ],
   "source": [
    "dirs = ['sample-directory-1', 'sample-directory-2']\n",
    "\n",
    "@contextmanager\n",
    "def change_dir(target):\n",
    "    try:\n",
    "        cwd = os.getcwd()\n",
    "        os.chdir(target)\n",
    "        yield\n",
    "    finally:\n",
    "        os.chdir(cwd)\n",
    "        \n",
    "for directory in dirs:   \n",
    "    with change_dir(directory):\n",
    "        print(os.listdir())\n"
   ]
  },
  {
   "cell_type": "code",
   "execution_count": null,
   "metadata": {},
   "outputs": [],
   "source": []
  }
 ],
 "metadata": {
  "kernelspec": {
   "display_name": "Python 3",
   "language": "python",
   "name": "python3"
  },
  "language_info": {
   "codemirror_mode": {
    "name": "ipython",
    "version": 3
   },
   "file_extension": ".py",
   "mimetype": "text/x-python",
   "name": "python",
   "nbconvert_exporter": "python",
   "pygments_lexer": "ipython3",
   "version": "3.7.4"
  }
 },
 "nbformat": 4,
 "nbformat_minor": 2
}
