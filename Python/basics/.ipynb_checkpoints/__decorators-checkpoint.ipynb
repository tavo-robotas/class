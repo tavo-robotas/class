{
 "cells": [
  {
   "cell_type": "markdown",
   "metadata": {},
   "source": [
    "# Decorators\n",
    "\n",
    "\n",
    "Decorators can be thought of as functions which modify the *functionality* of another function. They help to make your code shorter and more \"Pythonic\". \n",
    "\n",
    "To properly explain decorators we will slowly build up from functions. Make sure to run every cell in this Notebook for this lesson to look the same on your own computer.<br><br>So let's break down the steps:\n",
    "\n",
    "## Functions Review"
   ]
  },
  {
   "cell_type": "code",
   "execution_count": 87,
   "metadata": {},
   "outputs": [],
   "source": [
    "def func():\n",
    "    print('alfa')"
   ]
  },
  {
   "cell_type": "code",
   "execution_count": 88,
   "metadata": {},
   "outputs": [
    {
     "name": "stdout",
     "output_type": "stream",
     "text": [
      "alfa\n"
     ]
    }
   ],
   "source": [
    "func()"
   ]
  },
  {
   "cell_type": "markdown",
   "metadata": {},
   "source": [
    "Remember from the nested statements lesson that Python uses Scope to know what a variable is referring to"
   ]
  },
  {
   "cell_type": "code",
   "execution_count": 1,
   "metadata": {},
   "outputs": [],
   "source": [
    "kintamasis = 'globalus kintamasis'\n",
    "\n",
    "def look_at_locals():\n",
    "    print(locals())"
   ]
  },
  {
   "cell_type": "markdown",
   "metadata": {},
   "source": [
    "Remember that Python functions create a new scope, meaning the function has its own namespace to find variable names when they are mentioned within the function. We can check for local variables and global variables with the locals() and globals() functions."
   ]
  },
  {
   "cell_type": "code",
   "execution_count": 2,
   "metadata": {},
   "outputs": [
    {
     "data": {
      "text/plain": [
       "{'__name__': '__main__',\n",
       " '__doc__': 'Automatically created module for IPython interactive environment',\n",
       " '__package__': None,\n",
       " '__loader__': None,\n",
       " '__spec__': None,\n",
       " '__builtin__': <module 'builtins' (built-in)>,\n",
       " '__builtins__': <module 'builtins' (built-in)>,\n",
       " '_ih': ['',\n",
       "  \"kintamasis = 'globalus kintamasis'\\n\\ndef look_at_locals():\\n    print(locals())\",\n",
       "  'globals()'],\n",
       " '_oh': {},\n",
       " '_dh': ['C:\\\\education\\\\class\\\\Python\\\\basics'],\n",
       " 'In': ['',\n",
       "  \"kintamasis = 'globalus kintamasis'\\n\\ndef look_at_locals():\\n    print(locals())\",\n",
       "  'globals()'],\n",
       " 'Out': {},\n",
       " 'get_ipython': <bound method InteractiveShell.get_ipython of <ipykernel.zmqshell.ZMQInteractiveShell object at 0x0471D830>>,\n",
       " 'exit': <IPython.core.autocall.ZMQExitAutocall at 0x4777d10>,\n",
       " 'quit': <IPython.core.autocall.ZMQExitAutocall at 0x4777d10>,\n",
       " '_': '',\n",
       " '__': '',\n",
       " '___': '',\n",
       " '_i': \"kintamasis = 'globalus kintamasis'\\n\\ndef look_at_locals():\\n    print(locals())\",\n",
       " '_ii': '',\n",
       " '_iii': '',\n",
       " '_i1': \"kintamasis = 'globalus kintamasis'\\n\\ndef look_at_locals():\\n    print(locals())\",\n",
       " 'kintamasis': 'globalus kintamasis',\n",
       " 'look_at_locals': <function __main__.look_at_locals()>,\n",
       " '_i2': 'globals()'}"
      ]
     },
     "execution_count": 2,
     "metadata": {},
     "output_type": "execute_result"
    }
   ],
   "source": [
    "globals()"
   ]
  },
  {
   "cell_type": "markdown",
   "metadata": {},
   "source": [
    "We get back a dictionary of all the global variables, many of them are predefined in Python. Use keys() function on dictionary to get keys"
   ]
  },
  {
   "cell_type": "code",
   "execution_count": 3,
   "metadata": {},
   "outputs": [
    {
     "data": {
      "text/plain": [
       "dict_keys(['__name__', '__doc__', '__package__', '__loader__', '__spec__', '__builtin__', '__builtins__', '_ih', '_oh', '_dh', 'In', 'Out', 'get_ipython', 'exit', 'quit', '_', '__', '___', '_i', '_ii', '_iii', '_i1', 'kintamasis', 'look_at_locals', '_i2', '_2', '_i3'])"
      ]
     },
     "execution_count": 3,
     "metadata": {},
     "output_type": "execute_result"
    }
   ],
   "source": [
    "globals().keys()"
   ]
  },
  {
   "cell_type": "code",
   "execution_count": 5,
   "metadata": {
    "scrolled": true
   },
   "outputs": [
    {
     "data": {
      "text/plain": [
       "'globalus kintamasis'"
      ]
     },
     "execution_count": 5,
     "metadata": {},
     "output_type": "execute_result"
    }
   ],
   "source": [
    "globals().get('kintamasis')"
   ]
  },
  {
   "cell_type": "markdown",
   "metadata": {},
   "source": [
    "Now let's run our function to check for local variables that might exist inside our function (there shouldn't be any)"
   ]
  },
  {
   "cell_type": "code",
   "execution_count": 6,
   "metadata": {},
   "outputs": [
    {
     "name": "stdout",
     "output_type": "stream",
     "text": [
      "{}\n"
     ]
    }
   ],
   "source": [
    "look_at_locals()"
   ]
  },
  {
   "cell_type": "markdown",
   "metadata": {},
   "source": [
    "Remember that in python everything is an object, functions also. Thats means that functions can be assigned to variables and passed to other functions"
   ]
  },
  {
   "cell_type": "code",
   "execution_count": 23,
   "metadata": {},
   "outputs": [],
   "source": [
    "def labas(name=\"Alfredas Hitčkokas\"):\n",
    "        return 'Labas {}'.format(name)  "
   ]
  },
  {
   "cell_type": "code",
   "execution_count": 24,
   "metadata": {},
   "outputs": [
    {
     "data": {
      "text/plain": [
       "'Labas Alfredas Hitčkokas'"
      ]
     },
     "execution_count": 24,
     "metadata": {},
     "output_type": "execute_result"
    }
   ],
   "source": [
    "labas()"
   ]
  },
  {
   "cell_type": "code",
   "execution_count": 25,
   "metadata": {},
   "outputs": [
    {
     "data": {
      "text/plain": [
       "'Labas Andrius Adrijauskas'"
      ]
     },
     "execution_count": 25,
     "metadata": {},
     "output_type": "execute_result"
    }
   ],
   "source": [
    "labas('Andrius Adrijauskas')"
   ]
  },
  {
   "cell_type": "markdown",
   "metadata": {},
   "source": [
    "Assign another label to the function <code>**variable = function**</code> <br/>\n",
    "Note that we are not using parentheses here because we are not calling the function hello, \n",
    "instead we are just passing a function object to the greet variable."
   ]
  },
  {
   "cell_type": "code",
   "execution_count": 26,
   "metadata": {},
   "outputs": [],
   "source": [
    "vardas = labas"
   ]
  },
  {
   "cell_type": "code",
   "execution_count": 29,
   "metadata": {},
   "outputs": [
    {
     "data": {
      "text/plain": [
       "<function __main__.labas(name='Alfredas Hitčkokas')>"
      ]
     },
     "execution_count": 29,
     "metadata": {},
     "output_type": "execute_result"
    }
   ],
   "source": [
    "vardas"
   ]
  },
  {
   "cell_type": "code",
   "execution_count": 30,
   "metadata": {},
   "outputs": [
    {
     "data": {
      "text/plain": [
       "'Labas Alfredas Hitčkokas'"
      ]
     },
     "execution_count": 30,
     "metadata": {},
     "output_type": "execute_result"
    }
   ],
   "source": [
    "vardas()"
   ]
  },
  {
   "cell_type": "markdown",
   "metadata": {},
   "source": [
    "Try to delete the varbialbe name <code>**labas**</code> (function name)?"
   ]
  },
  {
   "cell_type": "code",
   "execution_count": 31,
   "metadata": {},
   "outputs": [],
   "source": [
    "del labas"
   ]
  },
  {
   "cell_type": "code",
   "execution_count": 32,
   "metadata": {},
   "outputs": [
    {
     "data": {
      "text/plain": [
       "'Labas Alfredas Hitčkokas'"
      ]
     },
     "execution_count": 32,
     "metadata": {},
     "output_type": "execute_result"
    }
   ],
   "source": [
    "vardas()"
   ]
  },
  {
   "cell_type": "markdown",
   "metadata": {},
   "source": [
    "Even though we deleted the name <code>**labas**</code>, the name <code>**vardas**</code> *still points to* our original function object in memory. \n",
    "\n",
    "It is important to know that functions are objects that can be passed to other objects!\n",
    "\n",
    "## Functions within functions\n",
    "\n",
    "We can treat functions as objects and define functions inside of other functions:"
   ]
  },
  {
   "cell_type": "code",
   "execution_count": 8,
   "metadata": {},
   "outputs": [],
   "source": [
    "def labasrytas(name = 'Tomas Tomauskas'):\n",
    "    print('This has been executed')\n",
    "    \n",
    "    def sveikas():\n",
    "        return '\\t This is inside SVEIKAS function'\n",
    "    \n",
    "    def viso():\n",
    "        return '\\t This is inside VISO function'\n",
    "    \n",
    "    print(sveikas())\n",
    "    print(viso())\n",
    "    print('Now we are back inside labasrytas function')"
   ]
  },
  {
   "cell_type": "code",
   "execution_count": 9,
   "metadata": {},
   "outputs": [
    {
     "name": "stdout",
     "output_type": "stream",
     "text": [
      "This has been executed\n",
      "\t This is inside SVEIKAS function\n",
      "\t This is inside VISO function\n",
      "Now we are back inside labasrytas function\n"
     ]
    }
   ],
   "source": [
    "labasrytas()"
   ]
  },
  {
   "cell_type": "code",
   "execution_count": 10,
   "metadata": {},
   "outputs": [
    {
     "ename": "NameError",
     "evalue": "name 'sveikas' is not defined",
     "output_type": "error",
     "traceback": [
      "\u001b[1;31m---------------------------------------------------------------------------\u001b[0m",
      "\u001b[1;31mNameError\u001b[0m                                 Traceback (most recent call last)",
      "\u001b[1;32m<ipython-input-10-09fa4b16bac5>\u001b[0m in \u001b[0;36m<module>\u001b[1;34m\u001b[0m\n\u001b[1;32m----> 1\u001b[1;33m \u001b[0msveikas\u001b[0m\u001b[1;33m(\u001b[0m\u001b[1;33m)\u001b[0m\u001b[1;33m\u001b[0m\u001b[1;33m\u001b[0m\u001b[0m\n\u001b[0m",
      "\u001b[1;31mNameError\u001b[0m: name 'sveikas' is not defined"
     ]
    }
   ],
   "source": [
    "sveikas()"
   ]
  },
  {
   "cell_type": "markdown",
   "metadata": {},
   "source": [
    "Note how due to scope, the sveikas() function is not defined outside of the labasrytas() function. \n",
    "\n",
    "## Returning Functions\n",
    "\n",
    "There is a way of returning functions from within other functions:"
   ]
  },
  {
   "cell_type": "code",
   "execution_count": 23,
   "metadata": {},
   "outputs": [],
   "source": [
    "def labasrytas(name = 'Tomas'):\n",
    "    \n",
    "    def sveikas_func():\n",
    "        return '\\t This is inside SVEIKAS function'\n",
    "    \n",
    "    def viso_func():\n",
    "        return '\\t This is inside VISO function'\n",
    "    \n",
    "    if name == 'Tomas':\n",
    "        return sveikas_func\n",
    "    else:\n",
    "        return viso_func"
   ]
  },
  {
   "cell_type": "markdown",
   "metadata": {},
   "source": [
    "Set x variable label to labasrytas(), note how the empty parentheses means that name has been defined as Tomas."
   ]
  },
  {
   "cell_type": "code",
   "execution_count": 24,
   "metadata": {},
   "outputs": [],
   "source": [
    "x = labasrytas('Linas')"
   ]
  },
  {
   "cell_type": "code",
   "execution_count": 25,
   "metadata": {},
   "outputs": [
    {
     "data": {
      "text/plain": [
       "'\\t This is inside VISO function'"
      ]
     },
     "execution_count": 25,
     "metadata": {},
     "output_type": "execute_result"
    }
   ],
   "source": [
    "x()"
   ]
  },
  {
   "cell_type": "code",
   "execution_count": 26,
   "metadata": {},
   "outputs": [
    {
     "name": "stdout",
     "output_type": "stream",
     "text": [
      "<function labasrytas.<locals>.viso_func at 0x00A12030>\n"
     ]
    }
   ],
   "source": [
    "print(x)"
   ]
  },
  {
   "cell_type": "markdown",
   "metadata": {},
   "source": [
    "<code>**x**</code> is pointing to the viso function inside of the labasrytas function."
   ]
  },
  {
   "cell_type": "code",
   "execution_count": 27,
   "metadata": {},
   "outputs": [
    {
     "name": "stdout",
     "output_type": "stream",
     "text": [
      "\t This is inside VISO function\n"
     ]
    }
   ],
   "source": [
    "print(x())"
   ]
  },
  {
   "cell_type": "markdown",
   "metadata": {},
   "source": [
    "In the <code>if</code>/<code>else</code> clause we are returning <code>sveikas</code> and <code>viso</code>, not <code>sveikas()</code> and <code>viso()</code>. \n",
    "\n",
    "This is because when you put a pair of parentheses after it, the function gets executed; whereas if you don’t put parentheses after it, then it can be passed around and can be assigned to other variables without executing it.\n",
    "\n",
    "When we write <code>x = labasrytas()</code>, labasrytas() gets executed and because the name is Tomas by default, the function <code>sveikas</code> is returned. If we change the statement to <code>x = labasrytas(name = \"Saulius\")</code> then the <code>welcome</code> function will be returned. We can also do <code>print(labasrytas()())</code> which outputs *' This is inside SVEIKAS function'*."
   ]
  },
  {
   "cell_type": "markdown",
   "metadata": {},
   "source": [
    "## Functions as Arguments\n",
    "pass a function as an arguments into other function:"
   ]
  },
  {
   "cell_type": "code",
   "execution_count": 28,
   "metadata": {},
   "outputs": [],
   "source": [
    "def naktis():\n",
    "    return 'dabar naktis'\n",
    "def diena(func):\n",
    "    print('dabar diena')\n",
    "    print(func())"
   ]
  },
  {
   "cell_type": "code",
   "execution_count": 29,
   "metadata": {},
   "outputs": [
    {
     "ename": "TypeError",
     "evalue": "diena() missing 1 required positional argument: 'func'",
     "output_type": "error",
     "traceback": [
      "\u001b[1;31m---------------------------------------------------------------------------\u001b[0m",
      "\u001b[1;31mTypeError\u001b[0m                                 Traceback (most recent call last)",
      "\u001b[1;32m<ipython-input-29-12d74f78260e>\u001b[0m in \u001b[0;36m<module>\u001b[1;34m\u001b[0m\n\u001b[1;32m----> 1\u001b[1;33m \u001b[0mdiena\u001b[0m\u001b[1;33m(\u001b[0m\u001b[1;33m)\u001b[0m\u001b[1;33m\u001b[0m\u001b[1;33m\u001b[0m\u001b[0m\n\u001b[0m",
      "\u001b[1;31mTypeError\u001b[0m: diena() missing 1 required positional argument: 'func'"
     ]
    }
   ],
   "source": [
    "diena()"
   ]
  },
  {
   "cell_type": "code",
   "execution_count": 30,
   "metadata": {},
   "outputs": [
    {
     "name": "stdout",
     "output_type": "stream",
     "text": [
      "dabar diena\n",
      "dabar naktis\n"
     ]
    }
   ],
   "source": [
    "diena(naktis)"
   ]
  },
  {
   "cell_type": "markdown",
   "metadata": {},
   "source": [
    "This is basically passing the functions as objects and then using them within other functions.\n",
    "Now you are ready to write your first decorator:\n",
    "\n",
    "## Creating a Decorator\n",
    "\n",
    "In the previous example we actually manually created a Decorator. Here we will modify it to make its use case clear:"
   ]
  },
  {
   "cell_type": "code",
   "execution_count": 74,
   "metadata": {},
   "outputs": [],
   "source": [
    "def dekoratorius(paduoda):\n",
    "    \n",
    "    def suktukas():\n",
    "        print('tai bus įvykdyta prieš įvykkdant paduodota funckija')\n",
    "        \n",
    "        paduoda()\n",
    "    \n",
    "        print('kodas bus įvykdytas po paduodotos funkcijos')\n",
    "    \n",
    "    return suktukas\n",
    "    "
   ]
  },
  {
   "cell_type": "code",
   "execution_count": 75,
   "metadata": {},
   "outputs": [],
   "source": [
    "def tiesiog():\n",
    "    print('Tiesiog paprasta funkcija')"
   ]
  },
  {
   "cell_type": "code",
   "execution_count": 76,
   "metadata": {},
   "outputs": [
    {
     "name": "stdout",
     "output_type": "stream",
     "text": [
      "Tiesiog paprasta funkcija\n"
     ]
    }
   ],
   "source": [
    "tiesiog()"
   ]
  },
  {
   "cell_type": "code",
   "execution_count": 77,
   "metadata": {},
   "outputs": [],
   "source": [
    "tiesiog = dekoratorius(tiesiog)"
   ]
  },
  {
   "cell_type": "code",
   "execution_count": 78,
   "metadata": {},
   "outputs": [
    {
     "name": "stdout",
     "output_type": "stream",
     "text": [
      "tai bus įvykdyta prieš įvykkdant paduodota funckija\n",
      "Tiesiog paprasta funkcija\n",
      "kodas bus įvykdytas po paduodotos funkcijos\n"
     ]
    }
   ],
   "source": [
    "tiesiog()"
   ]
  },
  {
   "cell_type": "markdown",
   "metadata": {},
   "source": [
    "A decorator simply wrapped the function and modified its behavior <br/>\n",
    "We can rewrite this by using <code>**@**</code> symbol, which is what Python uses for Decorators:"
   ]
  },
  {
   "cell_type": "code",
   "execution_count": 81,
   "metadata": {},
   "outputs": [],
   "source": [
    "@dekoratorius\n",
    "def tiesiog():\n",
    "    print('Tiesiog paprasta funkcija')"
   ]
  },
  {
   "cell_type": "code",
   "execution_count": 82,
   "metadata": {},
   "outputs": [
    {
     "name": "stdout",
     "output_type": "stream",
     "text": [
      "tai bus įvykdyta prieš įvykkdant paduodota funckija\n",
      "Tiesiog paprasta funkcija\n",
      "kodas bus įvykdytas po paduodotos funkcijos\n"
     ]
    }
   ],
   "source": [
    "tiesiog()"
   ]
  },
  {
   "cell_type": "code",
   "execution_count": 15,
   "metadata": {},
   "outputs": [
    {
     "name": "stdout",
     "output_type": "stream",
     "text": [
      "wrapper was executed before display_info\n",
      "display_info executed with arguments (studentas_A, 19)\n"
     ]
    }
   ],
   "source": [
    "def decorator(original_func):\n",
    "    def wrapper(*args, **kwargs):\n",
    "        print('wrapper was executed before {}'.format(original_func.__name__))\n",
    "        return original_func(*args, **kwargs)\n",
    "    return wrapper\n",
    "\n",
    "\n",
    "@decorator\n",
    "def display():\n",
    "    print('display function was executed')\n",
    "\n",
    "#display()\n",
    "\n",
    "# it's the same as:\n",
    "# display = decorator(display)\n",
    "# display()\n",
    "\n",
    "@decorator\n",
    "def display_info(name, age):\n",
    "    print('display_info executed with arguments ({}, {})'.format(name, age))\n",
    "    \n",
    "display_info('studentas_A', 19)\n"
   ]
  },
  {
   "cell_type": "code",
   "execution_count": 17,
   "metadata": {},
   "outputs": [],
   "source": [
    "class decorator_class(object):\n",
    "    def __init__(self, original_func):\n",
    "        self.original_func = original_func\n",
    "        \n",
    "    def __call__(self, *args, **kwargs):\n",
    "        print('call method executed before {}'.format(self.original_func.__name__))\n",
    "        return self.original_func(*args, **kwargs)"
   ]
  },
  {
   "cell_type": "code",
   "execution_count": 18,
   "metadata": {},
   "outputs": [
    {
     "name": "stdout",
     "output_type": "stream",
     "text": [
      "call method executed before display_info\n",
      "display_info executed with arguments (studentas_A, 19)\n"
     ]
    }
   ],
   "source": [
    "@decorator_class\n",
    "def display_info(name, age):\n",
    "    print('display_info executed with arguments ({}, {})'.format(name, age))\n",
    "    \n",
    "display_info('studentas_A', 19)"
   ]
  },
  {
   "cell_type": "markdown",
   "metadata": {},
   "source": [
    "most use of decorators is probably loggig, so let's go ahead and do a logger with decorators.\n",
    "Imagine how much effort, error prone and repetitive it would be to add this functionality to multiple functions that you want to log, but we decorators it's easy. Decorator allows us to maintain our functionality in one place and easily apply anywhere we want. "
   ]
  },
  {
   "cell_type": "code",
   "execution_count": 9,
   "metadata": {},
   "outputs": [
    {
     "name": "stdout",
     "output_type": "stream",
     "text": [
      "display_info executed with arguments (Danas, 20)\n",
      "display_info ran in: 1.0006022453308105 sec\n"
     ]
    }
   ],
   "source": [
    "from functools import wraps\n",
    "\n",
    "def m_logger(orig_func):\n",
    "    import logging\n",
    "    logging.basicConfig(filename='{}.log'.format(orig_func.__name__), level=logging.INFO)\n",
    "    \n",
    "    def wrapper(*args, **kwargs):\n",
    "        logging.info(\n",
    "            'Executed with args {}, and kwargs {}'.format(args, kwargs)\n",
    "        )\n",
    "        return orig_func(*args, **kwargs)\n",
    "    \n",
    "    return wrapper\n",
    "\n",
    "def m_timer(orig_func):\n",
    "    import time\n",
    "    \n",
    "    @wraps(@m_logger)\n",
    "    def wrapper(*args, **kwargs):\n",
    "        t1 = time.time()\n",
    "        time.sleep(1)\n",
    "        result = orig_func(*args, **kwargs)\n",
    "        t2 = time.time() - t1\n",
    "        \n",
    "        print('{} ran in: {} sec'.format(orig_func.__name__, t2))\n",
    "        return result\n",
    "    return wrapper\n",
    "\n",
    "@m_logger\n",
    "@m_timer\n",
    "def display_info(name, age):\n",
    "    print('display_info executed with arguments ({}, {})'.format(name, age))\n",
    "\n",
    "display_info('Danas', 20)"
   ]
  },
  {
   "cell_type": "code",
   "execution_count": null,
   "metadata": {},
   "outputs": [],
   "source": []
  }
 ],
 "metadata": {
  "kernelspec": {
   "display_name": "Python 3",
   "language": "python",
   "name": "python3"
  },
  "language_info": {
   "codemirror_mode": {
    "name": "ipython",
    "version": 3
   },
   "file_extension": ".py",
   "mimetype": "text/x-python",
   "name": "python",
   "nbconvert_exporter": "python",
   "pygments_lexer": "ipython3",
   "version": "3.7.4"
  }
 },
 "nbformat": 4,
 "nbformat_minor": 2
}
