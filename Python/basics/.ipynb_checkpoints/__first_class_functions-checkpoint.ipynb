{
 "cells": [
  {
   "cell_type": "markdown",
   "metadata": {},
   "source": [
    "## First-class citizen (programming):\n",
    "A first-class- citizen, sometimes called first-class objects in programming language is an entity which supports all the operations generally available to other entities. These operations typically include being passed as an argument, returned from a function, and assigned to a variable\n",
    "\n"
   ]
  },
  {
   "cell_type": "code",
   "execution_count": 1,
   "metadata": {},
   "outputs": [
    {
     "name": "stdout",
     "output_type": "stream",
     "text": [
      "<function square at 0x060D9150>\n",
      "25\n"
     ]
    }
   ],
   "source": [
    "def square(x):\n",
    "    return x*x\n",
    "\n",
    "f = square(5)\n",
    "\n",
    "print(square)\n",
    "print(f)"
   ]
  },
  {
   "cell_type": "code",
   "execution_count": 3,
   "metadata": {},
   "outputs": [
    {
     "name": "stdout",
     "output_type": "stream",
     "text": [
      "<function square at 0x060D9150>\n",
      "100\n"
     ]
    }
   ],
   "source": [
    "b = square\n",
    "\n",
    "print(square)\n",
    "print(b(10))"
   ]
  },
  {
   "cell_type": "code",
   "execution_count": null,
   "metadata": {},
   "outputs": [],
   "source": []
  },
  {
   "cell_type": "markdown",
   "metadata": {},
   "source": [
    "## Passing function to other function"
   ]
  },
  {
   "cell_type": "code",
   "execution_count": 11,
   "metadata": {},
   "outputs": [],
   "source": [
    "def cube(x):\n",
    "    return x * x * x"
   ]
  },
  {
   "cell_type": "code",
   "execution_count": 8,
   "metadata": {},
   "outputs": [],
   "source": [
    "def m_map(function, arg_list):\n",
    "    results = []\n",
    "    for i in arg_list:\n",
    "        results.append(function(i))\n",
    "    return results"
   ]
  },
  {
   "cell_type": "code",
   "execution_count": 12,
   "metadata": {},
   "outputs": [
    {
     "name": "stdout",
     "output_type": "stream",
     "text": [
      "[1, 8, 125, 1000, 8000]\n"
     ]
    }
   ],
   "source": [
    "m_list = [1, 2, 5, 10, 20]\n",
    "squares = m_map(cube, m_list)\n",
    "print(squares)"
   ]
  },
  {
   "cell_type": "markdown",
   "metadata": {},
   "source": [
    "## Return function from function"
   ]
  },
  {
   "cell_type": "code",
   "execution_count": null,
   "metadata": {},
   "outputs": [],
   "source": []
  },
  {
   "cell_type": "code",
   "execution_count": 15,
   "metadata": {},
   "outputs": [
    {
     "name": "stdout",
     "output_type": "stream",
     "text": [
      "log_output: hi , i'm looged ?\n"
     ]
    }
   ],
   "source": [
    "def logger(msg):\n",
    "    \n",
    "    def log_msg():\n",
    "        print('log_output:', msg)\n",
    "    return log_msg\n",
    "\n",
    "log_m = logger(\"hi , i'm looged ?\")\n",
    "log_m()"
   ]
  },
  {
   "cell_type": "code",
   "execution_count": 18,
   "metadata": {},
   "outputs": [],
   "source": [
    "def html_tag(tag):\n",
    "    \n",
    "    def wrap_txt(msg):\n",
    "        print('<{0}>{1}</{0}>'.format(tag, msg))\n",
    "    \n",
    "    return wrap_txt"
   ]
  },
  {
   "cell_type": "code",
   "execution_count": 21,
   "metadata": {},
   "outputs": [
    {
     "name": "stdout",
     "output_type": "stream",
     "text": [
      "<function html_tag.<locals>.wrap_txt at 0x012C2108>\n"
     ]
    }
   ],
   "source": [
    "h1 = html_tag('h1')\n",
    "print(h1)"
   ]
  },
  {
   "cell_type": "code",
   "execution_count": 23,
   "metadata": {},
   "outputs": [
    {
     "name": "stdout",
     "output_type": "stream",
     "text": [
      "<h1>headline</h1>\n"
     ]
    }
   ],
   "source": [
    "h1('headline')"
   ]
  },
  {
   "cell_type": "code",
   "execution_count": 24,
   "metadata": {},
   "outputs": [
    {
     "name": "stdout",
     "output_type": "stream",
     "text": [
      "<p>random text</p>\n"
     ]
    }
   ],
   "source": [
    "p1 = html_tag('p')\n",
    "p1('random text')"
   ]
  },
  {
   "cell_type": "code",
   "execution_count": null,
   "metadata": {},
   "outputs": [],
   "source": []
  }
 ],
 "metadata": {
  "kernelspec": {
   "display_name": "Python 3",
   "language": "python",
   "name": "python3"
  },
  "language_info": {
   "codemirror_mode": {
    "name": "ipython",
    "version": 3
   },
   "file_extension": ".py",
   "mimetype": "text/x-python",
   "name": "python",
   "nbconvert_exporter": "python",
   "pygments_lexer": "ipython3",
   "version": "3.7.4"
  }
 },
 "nbformat": 4,
 "nbformat_minor": 2
}
