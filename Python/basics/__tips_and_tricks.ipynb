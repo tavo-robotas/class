{
 "cells": [
  {
   "cell_type": "code",
   "execution_count": 5,
   "metadata": {},
   "outputs": [
    {
     "name": "stdout",
     "output_type": "stream",
     "text": [
      "{'a': 1, 'b': 3, 'c': 4}\n",
      "\n",
      "\n",
      "{'b': 2, 'c': 4, 'a': 1}\n"
     ]
    }
   ],
   "source": [
    "# How to merge two dictionaries\n",
    "# in Python 3.5+:\n",
    "\n",
    "x = {'a': 1, 'b': 2}\n",
    "y = {'b': 3, 'c': 4}\n",
    "yx = {**y, **x}\n",
    "xy = {**x, **y}\n",
    "print(xy)\n",
    "print('\\n')\n",
    "print(yx)"
   ]
  },
  {
   "cell_type": "code",
   "execution_count": null,
   "metadata": {},
   "outputs": [],
   "source": [
    "# Because Python has first-class functions they can\n",
    "# be used to emulate switch/case statements\n",
    "\n",
    "def dispatch_if(operator, x, y):\n",
    "    if operator == 'add':\n",
    "        return x + y\n",
    "    elif operator == 'sub':\n",
    "        return x - y\n",
    "    elif operator == 'mul':\n",
    "        return x * y\n",
    "    elif operator == 'div':\n",
    "        return x / y\n",
    "    else:\n",
    "        return None\n",
    "\n",
    "\n",
    "def dispatch_dict(operator, x, y):\n",
    "    return {\n",
    "        'add': lambda: x + y,\n",
    "        'sub': lambda: x - y,\n",
    "        'mul': lambda: x * y,\n",
    "        'div': lambda: x / y,\n",
    "    }.get(operator, lambda: None)()\n",
    "\n",
    "\n",
    "dispatch_if('mul', 2, 8)\n",
    "16\n",
    "\n",
    "dispatch_dict('mul', 2, 8)\n",
    "16\n",
    "\n",
    "dispatch_if('unknown', 2, 8)\n",
    "None\n",
    "\n",
    "dispatch_dict('unknown', 2, 8)\n",
    "None"
   ]
  },
  {
   "cell_type": "code",
   "execution_count": null,
   "metadata": {},
   "outputs": [],
   "source": [
    "# \"is\" vs \"==\"\n",
    "\n",
    "a = [1, 2, 3]\n",
    "b = a\n",
    "\n",
    "a is b\n",
    "\n",
    "a == b\n",
    "\n",
    "\n",
    "c = list(a)\n",
    "\n",
    "a == c\n",
    "\n",
    "a is c\n",
    "\n",
    "\n",
    "# • \"is\" expressions evaluate to True if two \n",
    "#   variables point to the same object\n",
    "\n",
    "# • \"==\" evaluates to True if the objects \n",
    "#   referred to by the variables are equal"
   ]
  },
  {
   "cell_type": "code",
   "execution_count": null,
   "metadata": {},
   "outputs": [],
   "source": [
    "# Why Python Is Great:\n",
    "# Function argument unpacking\n",
    "\n",
    "def myfunc(x, y, z):\n",
    "    print(x, y, z)\n",
    "\n",
    "tuple_vec = (1, 0, 1)\n",
    "dict_vec = {'x': 1, 'y': 0, 'z': 1}\n",
    "\n",
    "myfunc(*tuple_vec)\n",
    "1, 0, 1\n",
    "\n",
    "myfunc(**dict_vec)\n",
    "1, 0, 1"
   ]
  },
  {
   "cell_type": "code",
   "execution_count": null,
   "metadata": {},
   "outputs": [],
   "source": [
    "# Python's list slice syntax can be used without indices\n",
    "# for a few fun and useful things:\n",
    "\n",
    "# You can clear all elements from a list:\n",
    "lst = [1, 2, 3, 4, 5]\n",
    "del lst[:]\n",
    "lst\n",
    "[]\n",
    "\n",
    "# You can replace all elements of a list\n",
    "# without creating a new list object:\n",
    "a = lst\n",
    "lst[:] = [7, 8, 9]\n",
    "lst\n",
    "[7, 8, 9]\n",
    "a\n",
    "[7, 8, 9]\n",
    "a is lst\n",
    "\n",
    "\n",
    "# You can also create a (shallow) copy of a list:\n",
    "b = lst[:]\n",
    "b\n",
    "[7, 8, 9]\n",
    "b is lst\n"
   ]
  },
  {
   "cell_type": "code",
   "execution_count": null,
   "metadata": {},
   "outputs": [],
   "source": [
    "import itertools\n",
    "for p in itertools.permutations('ABC'):\n",
    "    print(p)"
   ]
  },
  {
   "cell_type": "code",
   "execution_count": 2,
   "metadata": {},
   "outputs": [
    {
     "name": "stdout",
     "output_type": "stream",
     "text": [
      "('A', 'B', 'C', 'D')\n",
      "('A', 'B', 'D', 'C')\n",
      "('A', 'C', 'B', 'D')\n",
      "('A', 'C', 'D', 'B')\n",
      "('A', 'D', 'B', 'C')\n",
      "('A', 'D', 'C', 'B')\n",
      "('B', 'A', 'C', 'D')\n",
      "('B', 'A', 'D', 'C')\n",
      "('B', 'C', 'A', 'D')\n",
      "('B', 'C', 'D', 'A')\n",
      "('B', 'D', 'A', 'C')\n",
      "('B', 'D', 'C', 'A')\n",
      "('C', 'A', 'B', 'D')\n",
      "('C', 'A', 'D', 'B')\n",
      "('C', 'B', 'A', 'D')\n",
      "('C', 'B', 'D', 'A')\n",
      "('C', 'D', 'A', 'B')\n",
      "('C', 'D', 'B', 'A')\n",
      "('D', 'A', 'B', 'C')\n",
      "('D', 'A', 'C', 'B')\n",
      "('D', 'B', 'A', 'C')\n",
      "('D', 'B', 'C', 'A')\n",
      "('D', 'C', 'A', 'B')\n",
      "('D', 'C', 'B', 'A')\n"
     ]
    }
   ],
   "source": [
    "import itertools\n",
    "for p in itertools.permutations('ABCD'):\n",
    "    print(p)"
   ]
  },
  {
   "cell_type": "code",
   "execution_count": 6,
   "metadata": {},
   "outputs": [
    {
     "data": {
      "text/plain": [
       "Counter({'h': 1, 'e': 1, 'l': 3, 'o': 2, 'w': 1, 'r': 1, 'd': 1})"
      ]
     },
     "execution_count": 6,
     "metadata": {},
     "output_type": "execute_result"
    }
   ],
   "source": [
    "# collections.Counter lets you find the most common\n",
    "# elements in an iterable:\n",
    "\n",
    "import collections\n",
    "c = collections.Counter('helloworld')\n",
    "\n",
    "c"
   ]
  },
  {
   "cell_type": "code",
   "execution_count": 7,
   "metadata": {},
   "outputs": [
    {
     "data": {
      "text/plain": [
       "[('l', 3), ('o', 2), ('e', 1)]"
      ]
     },
     "execution_count": 7,
     "metadata": {},
     "output_type": "execute_result"
    }
   ],
   "source": [
    "c.most_common(3)\n",
    "[('l', 3), ('o', 2), ('e', 1)]"
   ]
  },
  {
   "cell_type": "markdown",
   "metadata": {},
   "source": [
    "Numbers. Big ones are sometimes hard to read their values<br>\n",
    "I mean like these values:<br>\n",
    "<code>**10000000000000**</code> <br>\n",
    "<code>**10000000000**</code><br>\n",
    "\n",
    "There is a way how to get away with underscores and do operations on numbers and get a better reading at the same time"
   ]
  },
  {
   "cell_type": "code",
   "execution_count": 6,
   "metadata": {},
   "outputs": [
    {
     "name": "stdout",
     "output_type": "stream",
     "text": [
      "10010000000\n"
     ]
    }
   ],
   "source": [
    "a = 10_000_000_000\n",
    "b = 10_000_000\n",
    "print(a+b)"
   ]
  },
  {
   "cell_type": "markdown",
   "metadata": {},
   "source": [
    "Very nice trick is by using f string formatter to get commas as separators on printed number"
   ]
  },
  {
   "cell_type": "code",
   "execution_count": 7,
   "metadata": {},
   "outputs": [
    {
     "name": "stdout",
     "output_type": "stream",
     "text": [
      "10,010,000,000\n"
     ]
    }
   ],
   "source": [
    "print(f'{a+b:,}')"
   ]
  },
  {
   "cell_type": "code",
   "execution_count": null,
   "metadata": {},
   "outputs": [],
   "source": []
  },
  {
   "cell_type": "markdown",
   "metadata": {},
   "source": [
    "If it happens that you need to have acess to index counter while going through a loop. Thats where <code>**enumerate**</code> shines. Lets look at a simple case when newbies try to get this done in a not efficient way"
   ]
  },
  {
   "cell_type": "code",
   "execution_count": 9,
   "metadata": {},
   "outputs": [
    {
     "name": "stdout",
     "output_type": "stream",
     "text": [
      "Tomas 0\n",
      "Donata 1\n",
      "Jonas 2\n"
     ]
    }
   ],
   "source": [
    "vardai = ['Tomas', 'Donata', 'Jonas']\n",
    "index  = 0\n",
    "for vardas in vardai:\n",
    "    print(vardas, index)\n",
    "    index += 1"
   ]
  },
  {
   "cell_type": "markdown",
   "metadata": {},
   "source": [
    "A better and cleaner way do this is by uisng <code>**enumerate**</code>"
   ]
  },
  {
   "cell_type": "code",
   "execution_count": 10,
   "metadata": {},
   "outputs": [
    {
     "name": "stdout",
     "output_type": "stream",
     "text": [
      "0 Tomas\n",
      "1 Donata\n",
      "2 Jonas\n"
     ]
    }
   ],
   "source": [
    "for vardas, index in enumerate(vardai):\n",
    "    print(vardas,index)"
   ]
  },
  {
   "cell_type": "markdown",
   "metadata": {},
   "source": [
    "We can usefully take advantage of counter to go through another lists and grab corresponding values"
   ]
  },
  {
   "cell_type": "code",
   "execution_count": 30,
   "metadata": {},
   "outputs": [
    {
     "name": "stdout",
     "output_type": "stream",
     "text": [
      "Petras Parkeris :D yra voržmogis\n",
      "Klarkas Kentas yra super žmogus\n",
      "Vaidas Vilsonas yra žmogus aklavietė\n",
      "Briusas Veynas yra žmogus šikšnosparnis\n"
     ]
    }
   ],
   "source": [
    "vardai = ['Petras Parkeris :D', 'Klarkas Kentas', 'Vaidas Vilsonas', 'Briusas Veynas']\n",
    "heroes = [\"voržmogis\", \"super žmogus\", \"žmogus aklavietė\", 'žmogus šikšnosparnis']\n",
    "\n",
    "for i, vardas in enumerate(vardai):\n",
    "    hero = heroes[i]\n",
    "    print(f'{vardas} yra {hero}')"
   ]
  },
  {
   "cell_type": "markdown",
   "metadata": {},
   "source": [
    "Lets go further with this example and improve it even more by using <code>**zip**</code>. <br>It will even more cleaner and we don't need to do anything clever to grab that corresponding value in another list. <br>\n",
    "Actually with zip we can access a lot of lists by <code>**unpacking tuples**</code><br>\n",
    "<code>**NOTE**</code> zip goes untill shortest list is exausted and if you want to get untill the end of longest list you need to use different set of tools from python package <code>**itertools**</code>"
   ]
  },
  {
   "cell_type": "code",
   "execution_count": 24,
   "metadata": {},
   "outputs": [
    {
     "name": "stdout",
     "output_type": "stream",
     "text": [
      "Petras Parkeris :D yra voržmogis iš Stoties\n",
      "Klarkas Kentas yra super žmogus iš Joniškio\n",
      "Vaidas Vilsonas yra žmogus aklavietė iš Vašingtono\n",
      "Briusas Veynas yra žmogus šikšnosparnis iš Rajono\n"
     ]
    }
   ],
   "source": [
    "vietoves = ['Stoties', 'Joniškio','Vašingtono', 'Rajono']\n",
    "for vardas, hero, vietove in zip(vardai, heroes, vietoves):\n",
    "    print(f'{vardas} yra {hero} iš {vietove}')"
   ]
  },
  {
   "cell_type": "code",
   "execution_count": 39,
   "metadata": {},
   "outputs": [
    {
     "name": "stdout",
     "output_type": "stream",
     "text": [
      "Petras Parkeris :D yra voržmogis iš Stoties\n",
      "Klarkas Kentas yra super žmogus iš Joniškio\n",
      "Vaidas Vilsonas yra žmogus aklavietė iš Vašingtono\n",
      "Briusas Veynas yra žmogus šikšnosparnis iš Rajono\n",
      "Vacys Maslionka yra None iš None\n",
      "\n",
      "\n",
      "('Petras Parkeris :D', 'voržmogis', 'Stoties')\n",
      "('Klarkas Kentas', 'super žmogus', 'Joniškio')\n",
      "('Vaidas Vilsonas', 'žmogus aklavietė', 'Vašingtono')\n",
      "('Briusas Veynas', 'žmogus šikšnosparnis', 'Rajono')\n",
      "('Vacys Maslionka', None, None)\n"
     ]
    }
   ],
   "source": [
    "from itertools import zip_longest\n",
    "vardai = vardai = ['Petras Parkeris :D', 'Klarkas Kentas', 'Vaidas Vilsonas', 'Briusas Veynas', 'Vacys Maslionka']\n",
    "for vardas, hero, vietove in zip_longest(vardai, heroes, vietoves):\n",
    "    print(f'{vardas} yra {hero} iš {vietove}')\n",
    "    \n",
    "# and if we just need to access values without formating\n",
    "print('\\n') # just make some space\n",
    "\n",
    "for value in zip_longest(vardai, heroes, vietoves):\n",
    "    print(value)"
   ]
  },
  {
   "cell_type": "markdown",
   "metadata": {},
   "source": [
    "Talking about tuple unpacking, there are some neet ways to handle those cases when you have either to many variables to unpack\n",
    "or you don't have sufficient holder for values from tuple to be unpacked. I hope it makes some sense, lets look at these examples"
   ]
  },
  {
   "cell_type": "code",
   "execution_count": 41,
   "metadata": {},
   "outputs": [
    {
     "name": "stdout",
     "output_type": "stream",
     "text": [
      "1\n",
      "2 1\n"
     ]
    }
   ],
   "source": [
    "a, b = (1,2)\n",
    "print(a)\n",
    "print(b, a)"
   ]
  },
  {
   "cell_type": "code",
   "execution_count": 42,
   "metadata": {},
   "outputs": [
    {
     "ename": "ValueError",
     "evalue": "too many values to unpack (expected 3)",
     "output_type": "error",
     "traceback": [
      "\u001b[1;31m---------------------------------------------------------------------------\u001b[0m",
      "\u001b[1;31mValueError\u001b[0m                                Traceback (most recent call last)",
      "\u001b[1;32m<ipython-input-42-1f73639325a6>\u001b[0m in \u001b[0;36m<module>\u001b[1;34m\u001b[0m\n\u001b[1;32m----> 1\u001b[1;33m \u001b[0ma\u001b[0m\u001b[1;33m,\u001b[0m \u001b[0mb\u001b[0m\u001b[1;33m,\u001b[0m \u001b[0mc\u001b[0m \u001b[1;33m=\u001b[0m \u001b[1;33m(\u001b[0m\u001b[1;36m1\u001b[0m\u001b[1;33m,\u001b[0m \u001b[1;36m2\u001b[0m\u001b[1;33m,\u001b[0m \u001b[1;36m3\u001b[0m\u001b[1;33m,\u001b[0m \u001b[1;36m4\u001b[0m\u001b[1;33m,\u001b[0m \u001b[1;36m5\u001b[0m\u001b[1;33m)\u001b[0m\u001b[1;33m\u001b[0m\u001b[1;33m\u001b[0m\u001b[0m\n\u001b[0m\u001b[0;32m      2\u001b[0m \u001b[0mprint\u001b[0m\u001b[1;33m(\u001b[0m\u001b[0ma\u001b[0m\u001b[1;33m,\u001b[0m\u001b[0mb\u001b[0m\u001b[1;33m)\u001b[0m\u001b[1;33m\u001b[0m\u001b[1;33m\u001b[0m\u001b[0m\n\u001b[0;32m      3\u001b[0m \u001b[0mprint\u001b[0m\u001b[1;33m(\u001b[0m\u001b[0mc\u001b[0m\u001b[1;33m)\u001b[0m\u001b[1;33m\u001b[0m\u001b[1;33m\u001b[0m\u001b[0m\n",
      "\u001b[1;31mValueError\u001b[0m: too many values to unpack (expected 3)"
     ]
    }
   ],
   "source": [
    "a, b, c = (1, 2, 3, 4, 5)\n",
    "print(a,b)\n",
    "print(c)"
   ]
  },
  {
   "cell_type": "markdown",
   "metadata": {},
   "source": [
    "as a soliution for this case to add and asterix  infront of c variable and that will pack all of the rest values from tuple into a list"
   ]
  },
  {
   "cell_type": "code",
   "execution_count": 50,
   "metadata": {},
   "outputs": [
    {
     "name": "stdout",
     "output_type": "stream",
     "text": [
      "1 2\n",
      "[3, 4, 5]\n"
     ]
    }
   ],
   "source": [
    "a, b, *c = (1, 2, 3, 4, 5)\n",
    "print(a,b)\n",
    "print(c)"
   ]
  },
  {
   "cell_type": "markdown",
   "metadata": {},
   "source": [
    "or maybe you want the to ingore at all so place a <code>***_**</code> instead of c"
   ]
  },
  {
   "cell_type": "code",
   "execution_count": 52,
   "metadata": {},
   "outputs": [
    {
     "name": "stdout",
     "output_type": "stream",
     "text": [
      "1 2\n"
     ]
    }
   ],
   "source": [
    "a, b, *_ = (1, 2, 3, 4, 5)\n",
    "print(a,b)\n"
   ]
  },
  {
   "cell_type": "markdown",
   "metadata": {},
   "source": [
    "And there are some really rare cases when you want to get this behaviour and there are some advanced ways to unpack tuple values"
   ]
  },
  {
   "cell_type": "code",
   "execution_count": 54,
   "metadata": {},
   "outputs": [
    {
     "name": "stdout",
     "output_type": "stream",
     "text": [
      "1 2\n",
      "[3, 4, 5, 6]\n",
      "7\n"
     ]
    }
   ],
   "source": [
    "a, b, *c, d = (1, 2, 3, 4, 5, 6, 7)\n",
    "print(a,b)\n",
    "print(c)\n",
    "print(d)\n",
    "# d get's the last value"
   ]
  },
  {
   "cell_type": "code",
   "execution_count": 56,
   "metadata": {},
   "outputs": [
    {
     "name": "stdout",
     "output_type": "stream",
     "text": [
      "1 2\n",
      "7\n"
     ]
    }
   ],
   "source": [
    "a, b, *_, d = (1, 2, 3, 4, 5, 6, 7)\n",
    "print(a,b)\n",
    "print(d)"
   ]
  },
  {
   "cell_type": "markdown",
   "metadata": {},
   "source": [
    "Dynamic way to add attributes to objects\n",
    "\n"
   ]
  },
  {
   "cell_type": "code",
   "execution_count": 67,
   "metadata": {},
   "outputs": [
    {
     "name": "stdout",
     "output_type": "stream",
     "text": [
      "Katerina\n"
     ]
    }
   ],
   "source": [
    "class Person:\n",
    "    pass\n",
    "\n",
    "person = Person()\n",
    "\n",
    "f_key = 'first'\n",
    "f_val = 'Katerina'\n",
    "\n",
    "setattr(person, f_key, f_val)\n",
    "\n",
    "first = getattr(person, f_key)\n",
    "print(first)"
   ]
  },
  {
   "cell_type": "code",
   "execution_count": 69,
   "metadata": {},
   "outputs": [],
   "source": [
    "person_info = {'first': 'Katerina', 'last': 'whocareswho'}\n",
    "\n",
    "for key, value in person_info.items():\n",
    "    setattr(person, key, value)"
   ]
  },
  {
   "cell_type": "code",
   "execution_count": 73,
   "metadata": {},
   "outputs": [
    {
     "data": {
      "text/plain": [
       "'Katerina'"
      ]
     },
     "execution_count": 73,
     "metadata": {},
     "output_type": "execute_result"
    }
   ],
   "source": [
    "person.last\n",
    "person.first"
   ]
  },
  {
   "cell_type": "code",
   "execution_count": 74,
   "metadata": {},
   "outputs": [
    {
     "name": "stdout",
     "output_type": "stream",
     "text": [
      "Katerina\n",
      "whocareswho\n"
     ]
    }
   ],
   "source": [
    "for key in person_info.keys():\n",
    "   print(getattr(person, key))"
   ]
  },
  {
   "cell_type": "markdown",
   "metadata": {},
   "source": [
    "Keeping sensible information in variables and displaying them on screen is a not a proper way. Python has helper a inbuilt function <code>**getpass**</code>"
   ]
  },
  {
   "cell_type": "code",
   "execution_count": null,
   "metadata": {},
   "outputs": [],
   "source": [
    "from getpass import getpass\n",
    "username = input('username: ')\n",
    "passworord = getpass('password: ')\n",
    "print('loggin')"
   ]
  },
  {
   "cell_type": "markdown",
   "metadata": {},
   "source": [
    "<code>**python -m some_module -c debugg -n localhost:8080**</code> what this dash m is doing ? Well it's a search for a script/module in sys.path"
   ]
  },
  {
   "cell_type": "markdown",
   "metadata": {},
   "source": [
    "in built python helper function"
   ]
  },
  {
   "cell_type": "code",
   "execution_count": null,
   "metadata": {},
   "outputs": [],
   "source": [
    "import smtpd\n",
    "# probably will not execute in jupyter notebook, but try it on terminal\n",
    "help(smtpd)\n",
    "# if you want less info , lets say you want to see only attributes and method\n",
    "from datetime import datetime\n",
    "dir(datetime)\n",
    "\n",
    "datetime.today\n",
    "\n",
    "#datetime.today()"
   ]
  },
  {
   "cell_type": "markdown",
   "metadata": {},
   "source": [
    "What is the difference between <code>**==**</code> and <code>**is**</code> <br>\n",
    "<code>**==**</code> checks for equality, are values equal<br>\n",
    "<code>**is**</code> checks for identity, are objects identical in terms of memory"
   ]
  },
  {
   "cell_type": "code",
   "execution_count": null,
   "metadata": {},
   "outputs": [],
   "source": []
  }
 ],
 "metadata": {
  "kernelspec": {
   "display_name": "Python 3",
   "language": "python",
   "name": "python3"
  },
  "language_info": {
   "codemirror_mode": {
    "name": "ipython",
    "version": 3
   },
   "file_extension": ".py",
   "mimetype": "text/x-python",
   "name": "python",
   "nbconvert_exporter": "python",
   "pygments_lexer": "ipython3",
   "version": "3.7.4"
  }
 },
 "nbformat": 4,
 "nbformat_minor": 2
}
