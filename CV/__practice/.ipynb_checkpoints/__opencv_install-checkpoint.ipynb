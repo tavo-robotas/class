{
 "cells": [
  {
   "cell_type": "markdown",
   "metadata": {},
   "source": [
    "## Instalation - the easy way\n",
    "\n",
    "\n",
    " - First install [python 3.8.6](https://www.python.org/downloads/release/python-386/) (it works well with opencv, fewer bugs). Instalion is quite straight forward , but make sure you check <code>**Add python to PATH**</code>\n",
    " \n",
    " ![python_install.jpg](attachment:python_install.jpg)\n",
    " \n",
    " \n",
    " \n",
    " - Second install [Pycharm IDE](https://www.jetbrains.com/pycharm/download/download-thanks.html?platform=windows&code=PCC) check  <code>**associate .py files and add launchers dir to the PATH**</code>\n",
    " \n",
    " ![pycharm_install.jpg](attachment:pycharm_install.jpg)\n",
    " \n",
    " - Reboot\n",
    " \n",
    " - Launch pycharm, since its a new instalation with no previous pycharm settings pick <code>**do not import settings**</code>\n",
    " \n",
    "  ![pycharm_settings.jpg](attachment:pycharm_settings.jpg)\n",
    " \n",
    " - Create new project\n",
    " \n",
    " ![pycharm_newproject.jpg](attachment:pycharm_newproject.jpg)\n",
    " \n",
    "  \n",
    " - Take a look at the base interpreter. Ussualy it is set by default to the first located python path, but since we have installled previously 3.8.6 so make sure that one is sellected and we are good to go.\n",
    " \n",
    " ![pycharm_interpeter.jpg](attachment:pycharm_interpeter.jpg)\n",
    " \n",
    "- Give it a name and create. It will automatically create a virtual environment for you that will wrap your project\n",
    "\n",
    "- Now we have some libraries preinstalled\n",
    "\n",
    "![pychar_venv.jpg](attachment:pychar_venv.jpg)\n",
    "\n",
    "- We need to install extra libraries in this environment in <code>**file > settings**</code>\n",
    "\n",
    "![pycharm_file_settings.jpg](attachment:pycharm_file_settings.jpg)\n",
    "\n",
    "- Pick <code>**project interpeter**</code> section and click on plus icon (install)\n",
    "\n",
    "![pycharm_install_libraries.jpg](attachment:pycharm_install_libraries.jpg)\n",
    "\n",
    "- Search for <code>**opencv-python**</code> , latest version is 4.4.0.46\n",
    "![pycharm_opencv.jpg](attachment:pycharm_opencv.jpg)\n",
    "\n",
    "\n",
    "- Once the installation is over create a new python file\n",
    "\n",
    "![pycharm_create_new_file.jpg](attachment:pycharm_create_new_file.jpg)"
   ]
  },
  {
   "cell_type": "markdown",
   "metadata": {},
   "source": [
    "Execute following line to verify that everything is done successfully and we are good to go!\n"
   ]
  },
  {
   "cell_type": "code",
   "execution_count": 1,
   "metadata": {},
   "outputs": [
    {
     "name": "stdout",
     "output_type": "stream",
     "text": [
      "4.2.0\n"
     ]
    }
   ],
   "source": [
    "import cv2 \n",
    "print(cv2.__version__)"
   ]
  },
  {
   "cell_type": "code",
   "execution_count": null,
   "metadata": {},
   "outputs": [],
   "source": []
  }
 ],
 "metadata": {
  "kernelspec": {
   "display_name": "Python 3.7.4 32-bit",
   "language": "python",
   "name": "python37432bitc856d1d617f0478da8cbf97a005d9730"
  },
  "language_info": {
   "codemirror_mode": {
    "name": "ipython",
    "version": 3
   },
   "file_extension": ".py",
   "mimetype": "text/x-python",
   "name": "python",
   "nbconvert_exporter": "python",
   "pygments_lexer": "ipython3",
   "version": "3.7.4"
  }
 },
 "nbformat": 4,
 "nbformat_minor": 2
}
