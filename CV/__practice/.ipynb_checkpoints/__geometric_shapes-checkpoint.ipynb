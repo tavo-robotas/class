{
 "cells": [
  {
   "cell_type": "code",
   "execution_count": 20,
   "metadata": {},
   "outputs": [
    {
     "name": "stdout",
     "output_type": "stream",
     "text": [
      "C:\\education\\class\\CV\\__practice\n"
     ]
    }
   ],
   "source": [
    "import cv2 as cv\n",
    "import sys\n",
    "\n",
    "# import os\n",
    "# cwd = os.getcwd()\n",
    "# print(cwd)\n",
    "\n",
    "file      = '../images/machine.jpeg'\n",
    "color     = (0, 0, 255)\n",
    "thickness = 5\n",
    "\n",
    "img = cv.imread(file, 0)\n",
    "img = cv.line(img, (0, 0), (255, 255), color, thickness)\n",
    "\n",
    "if img is None:\n",
    "    sys.exit(\"no image.\")\n",
    "    \n",
    "cv.imshow('example', img)\n",
    "\n",
    "key = cv.waitKey(0)\n",
    "if key == 27:\n",
    "    cv.destroyAllWindows()\n",
    "    \n"
   ]
  },
  {
   "cell_type": "code",
   "execution_count": null,
   "metadata": {},
   "outputs": [],
   "source": []
  }
 ],
 "metadata": {
  "kernelspec": {
   "display_name": "Python 3.7.4 32-bit",
   "language": "python",
   "name": "python37432bitc856d1d617f0478da8cbf97a005d9730"
  },
  "language_info": {
   "codemirror_mode": {
    "name": "ipython",
    "version": 3
   },
   "file_extension": ".py",
   "mimetype": "text/x-python",
   "name": "python",
   "nbconvert_exporter": "python",
   "pygments_lexer": "ipython3",
   "version": "3.7.4"
  }
 },
 "nbformat": 4,
 "nbformat_minor": 2
}
