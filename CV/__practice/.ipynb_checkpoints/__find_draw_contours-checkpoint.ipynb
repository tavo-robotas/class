{
 "cells": [
  {
   "cell_type": "markdown",
   "metadata": {},
   "source": [
    "# Contours\n",
    "\n",
    "## Find and Draw Contours\n",
    "\n",
    "Curve joing all the continous points along the boundery which are having the same color or intesity. They very usefull for shape analysis or object detection or object recognition. For better accuracy we usually use binary images for finding the contours. Before contour location we will have to apply <code>**thresholding or canny edge detection**</code><br>\n",
    "\n",
    "By using <code>**findContours**</code> method it returns results as list of all the controus in the image. Each individual controur is a numpy array of (x,y) coordinates of boundary points of the object in <code>**contours**</code> array. <code>**hierarchy**</code> is optional output vector whic contains information about the image topology."
   ]
  },
  {
   "cell_type": "code",
   "execution_count": null,
   "metadata": {},
   "outputs": [],
   "source": []
  },
  {
   "cell_type": "code",
   "execution_count": 31,
   "metadata": {},
   "outputs": [],
   "source": [
    "import cv2 as cv\n",
    "import numpy as np\n",
    "import sys\n",
    "\n",
    "file   = '../images/circles.jpg'\n",
    "source = cv.imread(file)\n",
    "gray   = cv.cvtColor(source, cv.COLOR_BGR2GRAY)\n",
    "\n",
    "_, thr = cv.threshold(gray, 200, 255 , cv.THRESH_BINARY)\n",
    "contours, hierarchy = cv.findContours(thr, cv.RETR_TREE, cv.CHAIN_APPROX_NONE)\n",
    "\n",
    "cv.drawContours(source, contours, -1, (0, 0, 0), 3)\n",
    "\n",
    "if source is None:\n",
    "    sys.exit('no image.')\n",
    "\n",
    "cv.imshow('source', source)\n",
    "# cv.imshow('gray', gray)\n",
    "# cv.imshow('thr', thr)\n",
    "cv.waitKey(0)\n",
    "cv.destroyAllWindows()"
   ]
  },
  {
   "cell_type": "code",
   "execution_count": null,
   "metadata": {},
   "outputs": [],
   "source": []
  }
 ],
 "metadata": {
  "kernelspec": {
   "display_name": "Python 3.7.4 32-bit",
   "language": "python",
   "name": "python37432bitc856d1d617f0478da8cbf97a005d9730"
  },
  "language_info": {
   "codemirror_mode": {
    "name": "ipython",
    "version": 3
   },
   "file_extension": ".py",
   "mimetype": "text/x-python",
   "name": "python",
   "nbconvert_exporter": "python",
   "pygments_lexer": "ipython3",
   "version": "3.7.4"
  }
 },
 "nbformat": 4,
 "nbformat_minor": 2
}
