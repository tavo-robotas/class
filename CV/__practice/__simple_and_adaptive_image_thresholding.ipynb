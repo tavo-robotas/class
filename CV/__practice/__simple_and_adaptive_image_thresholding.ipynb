{
 "cells": [
  {
   "cell_type": "markdown",
   "metadata": {},
   "source": [
    "# Thresholding\n",
    "\n",
    "\n",
    "## Simple thresholding"
   ]
  },
  {
   "cell_type": "code",
   "execution_count": 1,
   "metadata": {},
   "outputs": [],
   "source": [
    "import cv2 as cv\n",
    "import numpy as np\n",
    "\n",
    "file = '../images/gradient.jpg'\n",
    "img  = cv.imread(file, 0);\n",
    "\n"
   ]
  },
  {
   "cell_type": "code",
   "execution_count": null,
   "metadata": {},
   "outputs": [],
   "source": []
  },
  {
   "cell_type": "code",
   "execution_count": 2,
   "metadata": {},
   "outputs": [],
   "source": [
    "_, th_binary     = cv.threshold(img, 127, 255, cv.THRESH_BINARY)\n",
    "_, th_invers     = cv.threshold(img, 200, 255, cv.THRESH_BINARY_INV)\n",
    "_, th_trunc      = cv.threshold(img, 40, 255,  cv.THRESH_TRUNC)\n",
    "_, th_tozero     = cv.threshold(img, 127, 255, cv.THRESH_TOZERO)\n",
    "_, th_tozero_inv = cv.threshold(img, 127, 255, cv.THRESH_TOZERO_INV)"
   ]
  },
  {
   "cell_type": "code",
   "execution_count": null,
   "metadata": {},
   "outputs": [],
   "source": []
  },
  {
   "cell_type": "code",
   "execution_count": null,
   "metadata": {},
   "outputs": [],
   "source": []
  },
  {
   "cell_type": "code",
   "execution_count": null,
   "metadata": {},
   "outputs": [],
   "source": []
  },
  {
   "cell_type": "code",
   "execution_count": 3,
   "metadata": {},
   "outputs": [],
   "source": [
    "cv.imshow('sample', img)\n",
    "cv.imshow('th_binary', th_binary)\n",
    "cv.imshow('th_invers', th_invers)\n",
    "cv.imshow('th_trunc', th_trunc)\n",
    "cv.imshow('th_tozero', th_tozero)\n",
    "cv.imshow('th_tozero_inv', th_tozero_inv)\n",
    "\n",
    "cv.waitKey(0)\n",
    "cv.destroyAllWindows()"
   ]
  },
  {
   "cell_type": "code",
   "execution_count": null,
   "metadata": {},
   "outputs": [],
   "source": []
  },
  {
   "cell_type": "markdown",
   "metadata": {},
   "source": [
    "## Adaptive thresholding"
   ]
  },
  {
   "cell_type": "code",
   "execution_count": 22,
   "metadata": {},
   "outputs": [],
   "source": [
    "import cv2 as cv\n",
    "import numpy as np\n",
    "\n",
    "file = '../images/sudoku.jpg'\n",
    "img  = cv.imread(file, 0);\n",
    "\n",
    "img = cv.medianBlur(img, 5)"
   ]
  },
  {
   "cell_type": "code",
   "execution_count": 23,
   "metadata": {},
   "outputs": [],
   "source": [
    "_, th_binary = cv.threshold(img, 127, 255, cv.THRESH_BINARY)\n",
    "\n",
    "th_a_mean = cv.adaptiveThreshold(img, 255, cv.ADAPTIVE_THRESH_MEAN_C, cv.THRESH_BINARY, 11, 2)\n",
    "th_a_gaus = cv.adaptiveThreshold(img, 255, cv.ADAPTIVE_THRESH_GAUSSIAN_C, cv.THRESH_BINARY, 11, 2)"
   ]
  },
  {
   "cell_type": "code",
   "execution_count": null,
   "metadata": {},
   "outputs": [],
   "source": [
    " "
   ]
  },
  {
   "cell_type": "code",
   "execution_count": 24,
   "metadata": {},
   "outputs": [],
   "source": [
    "cv.imshow('sudoku_org', img)\n",
    "cv.imshow('sudoku_bin', th_binary)\n",
    "cv.imshow('sudoku_mea', th_a_mean)\n",
    "cv.imshow('sudoku_gau', th_a_gaus)\n",
    "cv.waitKey(0)\n",
    "cv.destroyAllWindows()"
   ]
  },
  {
   "cell_type": "code",
   "execution_count": null,
   "metadata": {},
   "outputs": [],
   "source": []
  }
 ],
 "metadata": {
  "kernelspec": {
   "display_name": "Python 3.7.4 32-bit",
   "language": "python",
   "name": "python37432bitc856d1d617f0478da8cbf97a005d9730"
  },
  "language_info": {
   "codemirror_mode": {
    "name": "ipython",
    "version": 3
   },
   "file_extension": ".py",
   "mimetype": "text/x-python",
   "name": "python",
   "nbconvert_exporter": "python",
   "pygments_lexer": "ipython3",
   "version": "3.7.4"
  }
 },
 "nbformat": 4,
 "nbformat_minor": 2
}
