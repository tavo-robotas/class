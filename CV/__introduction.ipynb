{
 "cells": [
  {
   "cell_type": "markdown",
   "metadata": {},
   "source": [
    "Computer vision (CV) is a process (<code>**and a branch of computer science**</code>) that involves capturing, processing and analyzing real-world images and video to allow machines to extract meaningful, contextual information from the physical world"
   ]
  },
  {
   "cell_type": "markdown",
   "metadata": {},
   "source": [
    "[So let's start our yourney here](https://experiments.withgoogle.com/ai/giorgio-cam/view/)\n",
    "Everybody open this link and have some fun for <code>**10 min.**</code><br>\n",
    "\n",
    "There are more cool AI+CV projects overhere for you to explore: [google AI experiments](https://experiments.withgoogle.com/collection/ai)"
   ]
  },
  {
   "cell_type": "markdown",
   "metadata": {},
   "source": []
  }
 ],
 "metadata": {
  "kernelspec": {
   "display_name": "Python 3",
   "language": "python",
   "name": "python3"
  },
  "language_info": {
   "codemirror_mode": {
    "name": "ipython",
    "version": 3
   },
   "file_extension": ".py",
   "mimetype": "text/x-python",
   "name": "python",
   "nbconvert_exporter": "python",
   "pygments_lexer": "ipython3",
   "version": "3.7.4"
  }
 },
 "nbformat": 4,
 "nbformat_minor": 2
}
