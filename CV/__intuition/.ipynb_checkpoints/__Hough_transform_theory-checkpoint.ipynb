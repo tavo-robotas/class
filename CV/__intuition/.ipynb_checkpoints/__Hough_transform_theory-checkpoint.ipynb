{
 "cells": [
  {
   "cell_type": "markdown",
   "metadata": {},
   "source": [
    "# Hough transform theory\n",
    "\n",
    "It is very important method in computer vision and we are going to look into from a point of view of the one of the features we can extract from the image. We have been looking int the edges and there are several methods to get edges:\n",
    "\n",
    "### Edge:\n",
    " * Sobel, Roberts, Prewit;\n",
    " * Laplaciant of Gaussian;\n",
    " * Canny.\n",
    " \n",
    " They are basically gradient computation which is a vector of gradient magnitude and direction and all three uses gradient magnitude and if the magnitude is higher then that's the edge. And these are pixel wise. H - pixel, \n",
    " \n",
    "Similarly more sophisticated edge detectors like Laplacian of Gaussian which looks at the second derivative Gaussian and just (smoothing by gaussian and zero crossings) in that that's better detector and then canny edge detector which looks a at the gradient of the Gaussian which imply the magnitude as weel as the direction\n",
    "\n",
    "\n",
    "### Interest points\n",
    " * Harris;\n",
    " * SIFT\n",
    " \n",
    "### Descirptors\n",
    " * SIFT;\n",
    " * HOF\n",
    " \n",
    " \n",
    "## Shape features\n",
    "\n",
    " * Straight lines\n",
    " * Circles and ellipses\n",
    " * Arbitrary shapes\n",
    " \n",
    " "
   ]
  },
  {
   "cell_type": "markdown",
   "metadata": {},
   "source": [
    "## How to fit a line ?\n",
    "\n",
    " * Least squares fit (over constraint)\n",
    " * RANSAC (constrait)\n",
    " * Hough Transform (under constraint)\n",
    " "
   ]
  }
 ],
 "metadata": {
  "kernelspec": {
   "display_name": "Python 3.7.4 32-bit",
   "language": "python",
   "name": "python37432bitc856d1d617f0478da8cbf97a005d9730"
  },
  "language_info": {
   "codemirror_mode": {
    "name": "ipython",
    "version": 3
   },
   "file_extension": ".py",
   "mimetype": "text/x-python",
   "name": "python",
   "nbconvert_exporter": "python",
   "pygments_lexer": "ipython3",
   "version": "3.7.4"
  }
 },
 "nbformat": 4,
 "nbformat_minor": 2
}
