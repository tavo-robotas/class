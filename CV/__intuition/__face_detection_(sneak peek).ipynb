{
 "cells": [
  {
   "cell_type": "markdown",
   "metadata": {},
   "source": [
    "# Face detection with Viola - Jones algorithm\n",
    "\n",
    "[Publication](http://citeseerx.ist.psu.edu/viewdoc/download?doi=10.1.1.10.6807&rep=rep1&type=pdf)\n",
    "\n",
    "### VJ algorithm\n",
    "\n",
    "What it is, who did it, how it is till these days such a powerful figure even though it was created more than 10 years ago.\n",
    "\n",
    "\n",
    "### Haar like features\n",
    "That are the foundation of Viola - Jones algorithm.\n",
    "\n",
    "\n",
    "### Integral Image\n",
    "A quite usefull hack used in VJ algorthim. Part of the success of the algorithm can be attributed to this integral image technique\n",
    "\n",
    "### Training classifiers\n",
    "How the training process happens in a nutshell\n",
    "\n",
    "\n",
    "### Adaptive boosting (Adaboost)\n",
    "Another usefull hack that helps VJ algorithm in its sucess\n",
    "\n",
    "### Cascading\n",
    "Ant yet another hack which really speeds up the VJ algorithm \n",
    "\n"
   ]
  },
  {
   "cell_type": "markdown",
   "metadata": {},
   "source": [
    "<code>**And here it is. Ridiculious right !? How small and optimized it is**</code>"
   ]
  },
  {
   "cell_type": "code",
   "execution_count": null,
   "metadata": {},
   "outputs": [],
   "source": [
    "import cv2\n",
    "face = cv2.CascadeClassifier('../xml_config/face.xml')\n",
    "eye = cv2.CascadeClassifier('../xml_config/eye.xml')\n",
    "def detect(gray, frame):\n",
    "    faces = face.detectMultiScale(gray, 1.3, 5)\n",
    "    for (x, y, w, h) in faces:\n",
    "        cv2.rectangle(frame, (x, y), (x+w, y+h), (255, 0, 0), 2)\n",
    "        roi_gray = gray[y:y+h, x:x+w]\n",
    "        roi_color = frame[y:y+h, x:x+w]\n",
    "        eyes = eye.detectMultiScale(roi_gray, 1.1, 3)\n",
    "        for (ex, ey, ew, eh) in eyes:\n",
    "            cv2.rectangle(roi_color, (ex, ey), (ex+ew, ey+eh), (0, 255, 0), 2)\n",
    "    return frame\n",
    "capture = cv2.VideoCapture(0)\n",
    "while capture.isOpened():\n",
    "    retval, frame = capture.read()\n",
    "    if retval:\n",
    "        gray = cv2.cvtColor(frame, cv2.COLOR_BGR2GRAY)\n",
    "        canvas = detect(gray, frame)\n",
    "        cv2.imshow('testas', canvas)\n",
    "        key = cv2.waitKey(1)\n",
    "        if key == 27 or key == ord('q'):\n",
    "            break\n",
    "    else:\n",
    "        break\n",
    "capture.release()\n",
    "cv2.destroyAllWindows()"
   ]
  },
  {
   "cell_type": "markdown",
   "metadata": {},
   "source": [
    "## Viola - Jones algorithm"
   ]
  },
  {
   "cell_type": "markdown",
   "metadata": {},
   "source": [
    "One of the most powerfull to these days algo for computer vision since 2001. "
   ]
  }
 ],
 "metadata": {
  "kernelspec": {
   "display_name": "Python 3.7.4 32-bit",
   "language": "python",
   "name": "python37432bitc856d1d617f0478da8cbf97a005d9730"
  },
  "language_info": {
   "codemirror_mode": {
    "name": "ipython",
    "version": 3
   },
   "file_extension": ".py",
   "mimetype": "text/x-python",
   "name": "python",
   "nbconvert_exporter": "python",
   "pygments_lexer": "ipython3",
   "version": "3.7.4"
  }
 },
 "nbformat": 4,
 "nbformat_minor": 2
}
