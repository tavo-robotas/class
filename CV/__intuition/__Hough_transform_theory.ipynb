{
 "cells": [
  {
   "cell_type": "markdown",
   "metadata": {},
   "source": [
    "# Hough transform theory\n",
    "\n",
    "It is very important method in computer vision and we are going to look into from a point of view of the one of the features we can extract from the image. We have been looking int the edges and there are several methods to get edges:\n",
    " * Sobel, Roberts, Prewit\n",
    " * Laplaciant of Gaussian\n",
    " * Canny\n",
    " \n",
    " They are basically gradient computation which is a vector of gradient magnitude and direction and all three uses gradient magnitude and if the magnitude is higher "
   ]
  },
  {
   "cell_type": "code",
   "execution_count": null,
   "metadata": {},
   "outputs": [],
   "source": []
  }
 ],
 "metadata": {
  "kernelspec": {
   "display_name": "Python 3.7.4 32-bit",
   "language": "python",
   "name": "python37432bitc856d1d617f0478da8cbf97a005d9730"
  },
  "language_info": {
   "codemirror_mode": {
    "name": "ipython",
    "version": 3
   },
   "file_extension": ".py",
   "mimetype": "text/x-python",
   "name": "python",
   "nbconvert_exporter": "python",
   "pygments_lexer": "ipython3",
   "version": "3.7.4"
  }
 },
 "nbformat": 4,
 "nbformat_minor": 2
}
