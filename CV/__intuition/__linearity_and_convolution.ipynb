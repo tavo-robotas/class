{
 "cells": [
  {
   "cell_type": "markdown",
   "metadata": {},
   "source": [
    "# Linearity and convoliution"
   ]
  },
  {
   "cell_type": "markdown",
   "metadata": {},
   "source": []
  },
  {
   "cell_type": "markdown",
   "metadata": {},
   "source": [
    "## Linear intuition\n",
    "\n",
    "An operator <code>**H**</code> (or a system) is linear if two properties hold. In example <code>**f1 and f2**</code> are just some functions, <code>**a**</code> is a constant.\n",
    "\n",
    " * <code>**Additivity**</code>(things sum up):\n",
    "     * <code>**H(f1 + f2) = H(f1) + H(f2)**</code>, like distributive law of addition and multiplication.\n",
    "     \n",
    "     \n",
    " * <code>**Multiplicative scaling**</code>(homogeneity of degree 1, basically it's scaling property):\n",
    "     * <code>**H(a * f2) = a * H(f1)**</code>, constant scales\n",
    "     \n",
    "\n",
    "The filtering we were doing are linear because it sums and multiplies. And we can take advantage of that.\n",
    "\n",
    "<code>**How do you think which of these operators are not linear?:**</code>\n",
    " * sum\n",
    " * max\n",
    " * average\n",
    " * square root"
   ]
  },
  {
   "cell_type": "markdown",
   "metadata": {},
   "source": []
  }
 ],
 "metadata": {
  "kernelspec": {
   "display_name": "Python 3.7.4 32-bit",
   "language": "python",
   "name": "python37432bitc856d1d617f0478da8cbf97a005d9730"
  },
  "language_info": {
   "codemirror_mode": {
    "name": "ipython",
    "version": 3
   },
   "file_extension": ".py",
   "mimetype": "text/x-python",
   "name": "python",
   "nbconvert_exporter": "python",
   "pygments_lexer": "ipython3",
   "version": "3.7.4"
  }
 },
 "nbformat": 4,
 "nbformat_minor": 2
}
