{
 "cells": [
  {
   "cell_type": "markdown",
   "metadata": {},
   "source": [
    "# Logistic regression I\n",
    "\n",
    "Classification problem where the variable <code>**y**</code> that we want to predict is <code>**discrete value**</code>.\n",
    "We are going to develop algorithm called logistic regression. Its is one of the most popular and widely used learning algorithms.<br>\n",
    "\n",
    "<code>**Some of the clasification problems**</code>:\n",
    " * Medical: Tumor is malignant or not\n",
    " * Finance: Transactions are fraudulent or not\n",
    " * Email  : is this email a spam or not\n",
    " \n",
    " We are trying to predict variable y:<br>\n",
    "\n",
    "\\begin{multline*}\n",
    "y \\in (0,1)\n",
    "\\end{multline*} \n",
    "<br>\n",
    "\n",
    " * 0: <code>**negative class**</code>: (e.g legit transaction)\n",
    " * 1: <code>**positive class**</code>: (e.g fraudulent operation)\n",
    " \n",
    " For now we will focus on classification problems with two classes <code>**binary**</code>, but later we will go further and try to solve multiclass problems. <br>\n",
    " \n",
    "\\begin{multline*}\n",
    "y \\in (0, 1, 2, 3, 4)\n",
    "\\end{multline*} \n",
    "<br>"
   ]
  },
  {
   "cell_type": "code",
   "execution_count": null,
   "metadata": {},
   "outputs": [],
   "source": []
  }
 ],
 "metadata": {
  "kernelspec": {
   "display_name": "Python 3.7.4 32-bit",
   "language": "python",
   "name": "python37432bitc856d1d617f0478da8cbf97a005d9730"
  },
  "language_info": {
   "codemirror_mode": {
    "name": "ipython",
    "version": 3
   },
   "file_extension": ".py",
   "mimetype": "text/x-python",
   "name": "python",
   "nbconvert_exporter": "python",
   "pygments_lexer": "ipython3",
   "version": "3.7.4"
  }
 },
 "nbformat": 4,
 "nbformat_minor": 2
}
