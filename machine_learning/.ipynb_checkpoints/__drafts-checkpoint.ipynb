{
 "cells": [
  {
   "cell_type": "code",
   "execution_count": 2,
   "metadata": {},
   "outputs": [
    {
     "data": {
      "text/plain": [
       "<function matplotlib.pyplot.show(*args, **kw)>"
      ]
     },
     "execution_count": 2,
     "metadata": {},
     "output_type": "execute_result"
    },
    {
     "data": {
      "image/png": "[encoded data removed]",
      "text/plain": [
       "<Figure size 432x288 with 1 Axes>"
      ]
     },
     "metadata": {
      "needs_background": "light"
     },
     "output_type": "display_data"
    }
   ],
   "source": [
    "%matplotlib inline\n",
    "import numpy as np\n",
    "import matplotlib.pyplot as plt\n",
    "\n",
    "N = 10\n",
    "y = np.zeros(N)\n",
    "x1 = np.linspace(0, 10, N)\n",
    "x2 = np.linspace(0,10,N, endpoint=False)\n",
    "plt.ylim(-0.5, 1)\n",
    "plt.plot(x1, y, ':')\n",
    "plt.plot(x2, y + 0.5, 'o')\n",
    "plt.show"
   ]
  },
  {
   "cell_type": "code",
   "execution_count": 57,
   "metadata": {},
   "outputs": [
    {
     "data": {
      "text/plain": [
       "(100, 1)"
      ]
     },
     "execution_count": 57,
     "metadata": {},
     "output_type": "execute_result"
    }
   ],
   "source": [
    "import numpy as np\n",
    "import matplotlib.pyplot as plt\n",
    "\n",
    "data = np.genfromtxt('./data_samples/SLRM/toy_data.csv', delimiter=',')\n",
    "X = data[:,0].reshape(-1,1)\n",
    "X.shape"
   ]
  },
  {
   "cell_type": "code",
   "execution_count": 62,
   "metadata": {},
   "outputs": [
    {
     "data": {
      "text/plain": [
       "array([[ 1.        , 32.50234527,  1.        ,  1.        ,  1.        ,\n",
       "         1.        ],\n",
       "       [ 1.        , 53.42680403,  1.        ,  1.        ,  1.        ,\n",
       "         1.        ],\n",
       "       [ 1.        , 61.53035803,  1.        ,  1.        ,  1.        ,\n",
       "         1.        ],\n",
       "       [ 1.        , 47.47563963,  1.        ,  1.        ,  1.        ,\n",
       "         1.        ],\n",
       "       [ 1.        , 59.81320787,  1.        ,  1.        ,  1.        ,\n",
       "         1.        ],\n",
       "       [ 1.        , 55.14218841,  1.        ,  1.        ,  1.        ,\n",
       "         1.        ],\n",
       "       [ 1.        , 52.21179669,  1.        ,  1.        ,  1.        ,\n",
       "         1.        ],\n",
       "       [ 1.        , 39.29956669,  1.        ,  1.        ,  1.        ,\n",
       "         1.        ],\n",
       "       [ 1.        , 48.10504169,  1.        ,  1.        ,  1.        ,\n",
       "         1.        ],\n",
       "       [ 1.        , 52.55001444,  1.        ,  1.        ,  1.        ,\n",
       "         1.        ],\n",
       "       [ 1.        , 45.41973014,  1.        ,  1.        ,  1.        ,\n",
       "         1.        ],\n",
       "       [ 1.        , 54.35163488,  1.        ,  1.        ,  1.        ,\n",
       "         1.        ],\n",
       "       [ 1.        , 44.1640495 ,  1.        ,  1.        ,  1.        ,\n",
       "         1.        ],\n",
       "       [ 1.        , 58.16847072,  1.        ,  1.        ,  1.        ,\n",
       "         1.        ],\n",
       "       [ 1.        , 56.72720806,  1.        ,  1.        ,  1.        ,\n",
       "         1.        ],\n",
       "       [ 1.        , 48.95588857,  1.        ,  1.        ,  1.        ,\n",
       "         1.        ],\n",
       "       [ 1.        , 44.68719623,  1.        ,  1.        ,  1.        ,\n",
       "         1.        ],\n",
       "       [ 1.        , 60.29732685,  1.        ,  1.        ,  1.        ,\n",
       "         1.        ],\n",
       "       [ 1.        , 45.61864377,  1.        ,  1.        ,  1.        ,\n",
       "         1.        ],\n",
       "       [ 1.        , 38.81681754,  1.        ,  1.        ,  1.        ,\n",
       "         1.        ],\n",
       "       [ 1.        , 66.18981661,  1.        ,  1.        ,  1.        ,\n",
       "         1.        ],\n",
       "       [ 1.        , 65.41605175,  1.        ,  1.        ,  1.        ,\n",
       "         1.        ],\n",
       "       [ 1.        , 47.48120861,  1.        ,  1.        ,  1.        ,\n",
       "         1.        ],\n",
       "       [ 1.        , 41.57564262,  1.        ,  1.        ,  1.        ,\n",
       "         1.        ],\n",
       "       [ 1.        , 51.84518691,  1.        ,  1.        ,  1.        ,\n",
       "         1.        ],\n",
       "       [ 1.        , 59.37082201,  1.        ,  1.        ,  1.        ,\n",
       "         1.        ],\n",
       "       [ 1.        , 57.31000344,  1.        ,  1.        ,  1.        ,\n",
       "         1.        ],\n",
       "       [ 1.        , 63.61556125,  1.        ,  1.        ,  1.        ,\n",
       "         1.        ],\n",
       "       [ 1.        , 46.73761941,  1.        ,  1.        ,  1.        ,\n",
       "         1.        ],\n",
       "       [ 1.        , 50.55676015,  1.        ,  1.        ,  1.        ,\n",
       "         1.        ],\n",
       "       [ 1.        , 52.22399609,  1.        ,  1.        ,  1.        ,\n",
       "         1.        ],\n",
       "       [ 1.        , 35.56783005,  1.        ,  1.        ,  1.        ,\n",
       "         1.        ],\n",
       "       [ 1.        , 42.43647694,  1.        ,  1.        ,  1.        ,\n",
       "         1.        ],\n",
       "       [ 1.        , 58.16454011,  1.        ,  1.        ,  1.        ,\n",
       "         1.        ],\n",
       "       [ 1.        , 57.50444762,  1.        ,  1.        ,  1.        ,\n",
       "         1.        ],\n",
       "       [ 1.        , 45.44053073,  1.        ,  1.        ,  1.        ,\n",
       "         1.        ],\n",
       "       [ 1.        , 61.89622268,  1.        ,  1.        ,  1.        ,\n",
       "         1.        ],\n",
       "       [ 1.        , 33.09383174,  1.        ,  1.        ,  1.        ,\n",
       "         1.        ],\n",
       "       [ 1.        , 36.43600951,  1.        ,  1.        ,  1.        ,\n",
       "         1.        ],\n",
       "       [ 1.        , 37.67565486,  1.        ,  1.        ,  1.        ,\n",
       "         1.        ],\n",
       "       [ 1.        , 44.55560838,  1.        ,  1.        ,  1.        ,\n",
       "         1.        ],\n",
       "       [ 1.        , 43.31828263,  1.        ,  1.        ,  1.        ,\n",
       "         1.        ],\n",
       "       [ 1.        , 50.07314563,  1.        ,  1.        ,  1.        ,\n",
       "         1.        ],\n",
       "       [ 1.        , 43.87061265,  1.        ,  1.        ,  1.        ,\n",
       "         1.        ],\n",
       "       [ 1.        , 62.99748075,  1.        ,  1.        ,  1.        ,\n",
       "         1.        ],\n",
       "       [ 1.        , 32.66904376,  1.        ,  1.        ,  1.        ,\n",
       "         1.        ],\n",
       "       [ 1.        , 40.16689901,  1.        ,  1.        ,  1.        ,\n",
       "         1.        ],\n",
       "       [ 1.        , 53.57507753,  1.        ,  1.        ,  1.        ,\n",
       "         1.        ],\n",
       "       [ 1.        , 33.86421497,  1.        ,  1.        ,  1.        ,\n",
       "         1.        ],\n",
       "       [ 1.        , 64.70713867,  1.        ,  1.        ,  1.        ,\n",
       "         1.        ],\n",
       "       [ 1.        , 38.11982403,  1.        ,  1.        ,  1.        ,\n",
       "         1.        ],\n",
       "       [ 1.        , 44.50253806,  1.        ,  1.        ,  1.        ,\n",
       "         1.        ],\n",
       "       [ 1.        , 40.59953838,  1.        ,  1.        ,  1.        ,\n",
       "         1.        ],\n",
       "       [ 1.        , 41.72067636,  1.        ,  1.        ,  1.        ,\n",
       "         1.        ],\n",
       "       [ 1.        , 51.08863468,  1.        ,  1.        ,  1.        ,\n",
       "         1.        ],\n",
       "       [ 1.        , 55.0780959 ,  1.        ,  1.        ,  1.        ,\n",
       "         1.        ],\n",
       "       [ 1.        , 41.37772653,  1.        ,  1.        ,  1.        ,\n",
       "         1.        ],\n",
       "       [ 1.        , 62.49469743,  1.        ,  1.        ,  1.        ,\n",
       "         1.        ],\n",
       "       [ 1.        , 49.20388754,  1.        ,  1.        ,  1.        ,\n",
       "         1.        ],\n",
       "       [ 1.        , 41.10268519,  1.        ,  1.        ,  1.        ,\n",
       "         1.        ],\n",
       "       [ 1.        , 41.18201611,  1.        ,  1.        ,  1.        ,\n",
       "         1.        ],\n",
       "       [ 1.        , 50.18638949,  1.        ,  1.        ,  1.        ,\n",
       "         1.        ],\n",
       "       [ 1.        , 52.37844622,  1.        ,  1.        ,  1.        ,\n",
       "         1.        ],\n",
       "       [ 1.        , 50.13548549,  1.        ,  1.        ,  1.        ,\n",
       "         1.        ],\n",
       "       [ 1.        , 33.64470601,  1.        ,  1.        ,  1.        ,\n",
       "         1.        ],\n",
       "       [ 1.        , 39.55790122,  1.        ,  1.        ,  1.        ,\n",
       "         1.        ],\n",
       "       [ 1.        , 56.13038882,  1.        ,  1.        ,  1.        ,\n",
       "         1.        ],\n",
       "       [ 1.        , 57.36205213,  1.        ,  1.        ,  1.        ,\n",
       "         1.        ],\n",
       "       [ 1.        , 60.26921439,  1.        ,  1.        ,  1.        ,\n",
       "         1.        ],\n",
       "       [ 1.        , 35.67809389,  1.        ,  1.        ,  1.        ,\n",
       "         1.        ],\n",
       "       [ 1.        , 31.588117  ,  1.        ,  1.        ,  1.        ,\n",
       "         1.        ],\n",
       "       [ 1.        , 53.66093226,  1.        ,  1.        ,  1.        ,\n",
       "         1.        ],\n",
       "       [ 1.        , 46.68222865,  1.        ,  1.        ,  1.        ,\n",
       "         1.        ],\n",
       "       [ 1.        , 43.10782022,  1.        ,  1.        ,  1.        ,\n",
       "         1.        ],\n",
       "       [ 1.        , 70.34607562,  1.        ,  1.        ,  1.        ,\n",
       "         1.        ],\n",
       "       [ 1.        , 44.49285588,  1.        ,  1.        ,  1.        ,\n",
       "         1.        ],\n",
       "       [ 1.        , 57.5045333 ,  1.        ,  1.        ,  1.        ,\n",
       "         1.        ],\n",
       "       [ 1.        , 36.93007661,  1.        ,  1.        ,  1.        ,\n",
       "         1.        ],\n",
       "       [ 1.        , 55.80573336,  1.        ,  1.        ,  1.        ,\n",
       "         1.        ],\n",
       "       [ 1.        , 38.95476907,  1.        ,  1.        ,  1.        ,\n",
       "         1.        ],\n",
       "       [ 1.        , 56.9012147 ,  1.        ,  1.        ,  1.        ,\n",
       "         1.        ],\n",
       "       [ 1.        , 56.86890066,  1.        ,  1.        ,  1.        ,\n",
       "         1.        ],\n",
       "       [ 1.        , 34.3331247 ,  1.        ,  1.        ,  1.        ,\n",
       "         1.        ],\n",
       "       [ 1.        , 59.04974121,  1.        ,  1.        ,  1.        ,\n",
       "         1.        ],\n",
       "       [ 1.        , 57.78822399,  1.        ,  1.        ,  1.        ,\n",
       "         1.        ],\n",
       "       [ 1.        , 54.28232871,  1.        ,  1.        ,  1.        ,\n",
       "         1.        ],\n",
       "       [ 1.        , 51.0887199 ,  1.        ,  1.        ,  1.        ,\n",
       "         1.        ],\n",
       "       [ 1.        , 50.28283635,  1.        ,  1.        ,  1.        ,\n",
       "         1.        ],\n",
       "       [ 1.        , 44.21174175,  1.        ,  1.        ,  1.        ,\n",
       "         1.        ],\n",
       "       [ 1.        , 38.00548801,  1.        ,  1.        ,  1.        ,\n",
       "         1.        ],\n",
       "       [ 1.        , 32.94047994,  1.        ,  1.        ,  1.        ,\n",
       "         1.        ],\n",
       "       [ 1.        , 53.69163957,  1.        ,  1.        ,  1.        ,\n",
       "         1.        ],\n",
       "       [ 1.        , 68.76573427,  1.        ,  1.        ,  1.        ,\n",
       "         1.        ],\n",
       "       [ 1.        , 46.2309665 ,  1.        ,  1.        ,  1.        ,\n",
       "         1.        ],\n",
       "       [ 1.        , 68.31936082,  1.        ,  1.        ,  1.        ,\n",
       "         1.        ],\n",
       "       [ 1.        , 50.03017434,  1.        ,  1.        ,  1.        ,\n",
       "         1.        ],\n",
       "       [ 1.        , 49.23976534,  1.        ,  1.        ,  1.        ,\n",
       "         1.        ],\n",
       "       [ 1.        , 50.03957594,  1.        ,  1.        ,  1.        ,\n",
       "         1.        ],\n",
       "       [ 1.        , 48.14985889,  1.        ,  1.        ,  1.        ,\n",
       "         1.        ],\n",
       "       [ 1.        , 25.12848465,  1.        ,  1.        ,  1.        ,\n",
       "         1.        ]])"
      ]
     },
     "execution_count": 62,
     "metadata": {},
     "output_type": "execute_result"
    }
   ],
   "source": [
    "ones = np.ones([X.shape[0], 1])\n",
    "T = np.concatenate([X, ones], 1)\n",
    "T"
   ]
  },
  {
   "cell_type": "code",
   "execution_count": 50,
   "metadata": {},
   "outputs": [
    {
     "data": {
      "text/plain": [
       "(100, 1)"
      ]
     },
     "execution_count": 50,
     "metadata": {},
     "output_type": "execute_result"
    }
   ],
   "source": []
  },
  {
   "cell_type": "code",
   "execution_count": 3,
   "metadata": {},
   "outputs": [
    {
     "data": {
      "text/plain": [
       "(3, 4)"
      ]
     },
     "execution_count": 3,
     "metadata": {},
     "output_type": "execute_result"
    }
   ],
   "source": [
    "a = np.array([\n",
    "    [1, 2, 3, 4],\n",
    "    [5, 6, 7, 8],\n",
    "    [9, 10, 11, 12]\n",
    "])\n",
    "a.shape\n"
   ]
  },
  {
   "cell_type": "code",
   "execution_count": 19,
   "metadata": {},
   "outputs": [
    {
     "data": {
      "text/plain": [
       "array([[ 1,  2,  3,  4],\n",
       "       [ 5,  6,  7,  8],\n",
       "       [ 9, 10, 11, 12]])"
      ]
     },
     "execution_count": 19,
     "metadata": {},
     "output_type": "execute_result"
    }
   ],
   "source": [
    "b = a.reshape(-1)\n",
    "a"
   ]
  },
  {
   "cell_type": "code",
   "execution_count": 20,
   "metadata": {},
   "outputs": [
    {
     "data": {
      "text/plain": [
       "array([ 1,  2,  3,  4,  5,  6,  7,  8,  9, 10, 11, 12])"
      ]
     },
     "execution_count": 20,
     "metadata": {},
     "output_type": "execute_result"
    }
   ],
   "source": [
    "b"
   ]
  },
  {
   "cell_type": "code",
   "execution_count": 21,
   "metadata": {},
   "outputs": [
    {
     "data": {
      "text/plain": [
       "array([[ 1,  2,  3,  4,  5,  6,  7,  8,  9, 10, 11, 12]])"
      ]
     },
     "execution_count": 21,
     "metadata": {},
     "output_type": "execute_result"
    }
   ],
   "source": [
    "d = b.reshape(1,-1)\n",
    "d"
   ]
  },
  {
   "cell_type": "code",
   "execution_count": 22,
   "metadata": {},
   "outputs": [
    {
     "data": {
      "text/plain": [
       "(1, 12)"
      ]
     },
     "execution_count": 22,
     "metadata": {},
     "output_type": "execute_result"
    }
   ],
   "source": [
    "d.shape"
   ]
  },
  {
   "cell_type": "code",
   "execution_count": 23,
   "metadata": {},
   "outputs": [
    {
     "data": {
      "text/plain": [
       "(12,)"
      ]
     },
     "execution_count": 23,
     "metadata": {},
     "output_type": "execute_result"
    }
   ],
   "source": [
    "b.shape"
   ]
  },
  {
   "cell_type": "code",
   "execution_count": 24,
   "metadata": {},
   "outputs": [
    {
     "data": {
      "text/plain": [
       "array([ 1,  2,  3,  4,  5,  6,  7,  8,  9, 10, 11, 12])"
      ]
     },
     "execution_count": 24,
     "metadata": {},
     "output_type": "execute_result"
    }
   ],
   "source": [
    "b"
   ]
  },
  {
   "cell_type": "code",
   "execution_count": 27,
   "metadata": {},
   "outputs": [
    {
     "data": {
      "text/plain": [
       "array([[ 1,  2,  3,  4],\n",
       "       [ 5,  6,  7,  8],\n",
       "       [ 9, 10, 11, 12]])"
      ]
     },
     "execution_count": 27,
     "metadata": {},
     "output_type": "execute_result"
    }
   ],
   "source": [
    "a"
   ]
  },
  {
   "cell_type": "code",
   "execution_count": null,
   "metadata": {},
   "outputs": [],
   "source": []
  },
  {
   "cell_type": "code",
   "execution_count": 1,
   "metadata": {},
   "outputs": [
    {
     "name": "stdout",
     "output_type": "stream",
     "text": [
      "error: 144.01761729677813\n",
      "error: 38.79595141300535\n",
      "Error: 38.79540136072385\n"
     ]
    }
   ],
   "source": [
    "import numpy as np\n",
    "\n",
    "class LR:  \n",
    "    def __init__(self, rate):\n",
    "        self.m = 0\n",
    "        self.b = 0\n",
    "        self.learning_rate = rate\n",
    "\n",
    "    def cost_function(self, x, y):\n",
    "        totalError = 0\n",
    "        for i in range(0, len(x)):\n",
    "            totalError += ((self.m* x[i] + self.b) - y[i])**2\n",
    "        return totalError/float(len(x))\n",
    "\n",
    "    def fit(self, x, y, num_iterations):\n",
    "        N = float(len(x))\n",
    "        for j in range(num_iterations):\n",
    "            b_gradient = 0\n",
    "            m_gradient = 0\n",
    "            for i in range(0, len(x)):\n",
    "                b_gradient += -(2/N) * (y[i] - ((self.m * x[i]) + self.b))\n",
    "                m_gradient += -(2/N) * x[i] * (y[i] - ((self.m * x[i]) + self.b))\n",
    "            self.b -= (self.learning_rate * b_gradient)\n",
    "            self.m -= (self.learning_rate * m_gradient)\n",
    "            if j % 50 == 0:\n",
    "                print('error:', self.cost_function(x, y))\n",
    "\n",
    "    def predict(self, xs):\n",
    "        return [(self.m * x + self.b) for x in xs]\n",
    "\n",
    "# Testing functionality\n",
    "if __name__ == '__main__':\n",
    "    x = np.linspace(0, 100, 50)\n",
    "    delta = np.random.uniform(-10, 10, x.size)\n",
    "    y = 0.5 * x + 3 + delta\n",
    "\n",
    "    model = LR(0.0001)\n",
    "    model.fit(x, y, 100)\n",
    "    print('Error:', model.cost_function(x, y))"
   ]
  },
  {
   "cell_type": "code",
   "execution_count": null,
   "metadata": {},
   "outputs": [],
   "source": [
    "X = np.append(np.ones((m,1)), df['TV'].values.reshape(m,1), axis=1)\n",
    "\n",
    "y = df['Sales'].values.reshape(m,1)\n",
    "\n",
    "theta_params = np.zeros((2,1))\n",
    "def cost_fun(X, y, theta_params):\n",
    "        y_predict = np.dot(X, theta_params)\n",
    "        sqrd_error = (y_predict - y ) ** 2 \n",
    "        cost = 1/(2*m) * np.sum(sqrd_error)\n",
    "        return cost\n",
    "\n",
    "cost = cost_fun(X, y, theta_params)\n",
    "print(f'when theta params all zeroes cost is : {cost}')\n",
    "def gd(X,y,theta_params, alpha, iterations):\n",
    "    cost = []\n",
    "    for i in range(iterations):\n",
    "        y_pred = np.dot(X, theta_params)\n",
    "        der = np.dot(X.transpose(), (y_pred-y)) / m\n",
    "        theta_params -= alpha * der\n",
    "        cost.append(cost_fun(X, y, theta_params))\n",
    "    return theta, cost\n",
    "\n",
    "theta, cost = gd(X,y, theta_params, alpha = 0.000065, iterations = 400000)\n",
    "theta\n",
    "fix, ax = plt.subplots(figsize= (9, 6))\n",
    "ax.plot(cost)\n",
    "fig, ax = plt.subplots(figsize=(9, 6))\n",
    "fit = np.round(theta_params,3)\n",
    "x_val = np.array(range(0,303))\n",
    "y_val = fit[0, 0] + (fit[1, 0] * x_val)\n",
    "sns.lineplot(x_val, y_val, ax=ax, color='blue')\n",
    "sns.scatterplot(x='TV', y='Sales', data=df, ax=ax, color='red')"
   ]
  },
  {
   "cell_type": "code",
   "execution_count": null,
   "metadata": {},
   "outputs": [],
   "source": [
    "import numpy as np\n",
    "\n",
    "class SLR():\n",
    "    \n",
    "    def __init__(self, lr):\n",
    "        self.m = 0\n",
    "        self.b = 0\n",
    "        self.learning_rate = lr\n",
    "\n",
    "    def cost_function(self, x, y):\n",
    "        totalError = 0\n",
    "        for i in range(0, len(x)):\n",
    "            totalError += (y[i]-(self.m*x[i] + self.b)) **2\n",
    "        return totalError/float(len(x))\n",
    "       \n",
    "\n",
    "    def fit(self, x, y, num_iterations):\n",
    "        N = float(len(x))\n",
    "        for j in range(num_iterations):\n",
    "            b_gradient = 0\n",
    "            m_gradient = 0\n",
    "            for i in range(0, len(x)):\n",
    "                b_gradient += -(2/N) * (y[i] - ((self.m * x[i]) + self.b))\n",
    "                m_gradient += -(2/N) * x[i] * (y[i] - ((self.m * x[i]) + self.b))\n",
    "            self.b -= (self.learning_rate * b_gradient)\n",
    "            self.m -= (self.learning_rate * m_gradient)\n",
    "            if j % 50 == 0:\n",
    "                print('error:', self.cost_function(x, y))\n",
    "\n",
    "    def predict(self, xs):\n",
    "        return [(self.m * x + self.b) for x in xs]\n",
    "\n",
    "\n",
    "# Testing functionality\n",
    "if __name__ == '__main__':\n",
    "    x = np.linspace(0, 100, 50)\n",
    "    delta = np.random.uniform(-10, 10, x.size)\n",
    "    y = 0.5 * x + 3 + delta\n",
    "    \n",
    "    model = SLR(0.0001)\n",
    "    model.fit(x, y, 100)\n",
    "    print('Error:', model.cost_function(x, y))"
   ]
  },
  {
   "cell_type": "code",
   "execution_count": null,
   "metadata": {},
   "outputs": [],
   "source": [
    "\n",
    "class LinearRegression():\n",
    "    def __init__(self, th_0=0, th_1=1, lr=0.01): \n",
    "        self.lr=lr\n",
    "        self.th_0=np.array([[th_0]])\n",
    "        self.th_1=np.array([th_1])\n",
    "        print(th_0)\n",
    "        print(th_1)\n",
    "    def cost(self,x,y):     \n",
    "        y_pred = self.b + x@self.w  # predicted y-values\n",
    "        e=y - y_pred                  # error term\n",
    "        return np.mean(e**2)      # mean squared error\n",
    "    \n",
    "def compute_cost(X, y, theta):\n",
    "    '''\n",
    "    Comput cost for linear regression\n",
    "    '''\n",
    "    # number of training samples\n",
    "    m = y.size\n",
    "    predictions = X.dot(theta).flatten()\n",
    "    sqErrors = (predictions - y) ** 2\n",
    "    J = (1.0 / (2 * m)) * sqErrors.sum()\n",
    "\n",
    "    return J\n",
    "\n",
    "\n",
    "    def fit(self, x,y):\n",
    "        pred = x@self.w+self.b\n",
    "        e=y-pred\n",
    "        dJ_dw=(np.mean(e*(-2*x), axis=0)) # partial derivate of J with respect to w\n",
    "        dJ_db=(np.mean(e*(-2),axis=0)) # partial derivate of J with respect to b\n",
    "        self.w = (self.w.T-self.lr*dJ_dw).T  # update w\n",
    "        self.b = self.b - self.lr*dJ_db    # update b\n",
    "\n",
    "    def predict(self, x):\n",
    "        return (x @ self.w.T + self.b)  # return predicted values\n",
    "\n",
    "    def params(self):\n",
    "        return (self.w,self.b)   # return parameters"
   ]
  },
  {
   "cell_type": "code",
   "execution_count": null,
   "metadata": {},
   "outputs": [],
   "source": []
  },
  {
   "cell_type": "code",
   "execution_count": null,
   "metadata": {},
   "outputs": [],
   "source": []
  }
 ],
 "metadata": {
  "kernelspec": {
   "display_name": "Python 3.7.4 32-bit",
   "language": "python",
   "name": "python37432bitc856d1d617f0478da8cbf97a005d9730"
  },
  "language_info": {
   "codemirror_mode": {
    "name": "ipython",
    "version": 3
   },
   "file_extension": ".py",
   "mimetype": "text/x-python",
   "name": "python",
   "nbconvert_exporter": "python",
   "pygments_lexer": "ipython3",
   "version": "3.7.4"
  }
 },
 "nbformat": 4,
 "nbformat_minor": 2
}
