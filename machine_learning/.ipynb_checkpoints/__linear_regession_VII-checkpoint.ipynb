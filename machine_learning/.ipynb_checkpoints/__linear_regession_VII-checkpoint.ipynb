{
 "cells": [
  {
   "cell_type": "markdown",
   "metadata": {},
   "source": [
    "# Polynomial model implementation\n",
    "\n",
    "## Practice example II\n",
    "\n",
    "Today we will be dealing with stock market and <code>**Google**</code> a.k.a <code>**Alphabet Inc.**</code> stock price. "
   ]
  },
  {
   "cell_type": "code",
   "execution_count": 63,
   "metadata": {},
   "outputs": [],
   "source": [
    "#%matplotlib notebook\n",
    "%matplotlib inline\n",
    "import numpy as np\n",
    "import pandas as pd\n",
    "import datetime as dt\n",
    "import matplotlib.pyplot as plt\n",
    "import pandas_datareader.data as net\n"
   ]
  },
  {
   "cell_type": "code",
   "execution_count": 71,
   "metadata": {},
   "outputs": [],
   "source": [
    "start = dt.datetime(2005, 1, 1)\n",
    "end   = dt.datetime(2021, 1, 1)\n",
    "df    = net.DataReader('GOOGL', 'yahoo', start, end)\n",
    "data  = df.sort_index(ascending=False)"
   ]
  },
  {
   "cell_type": "code",
   "execution_count": 72,
   "metadata": {},
   "outputs": [
    {
     "name": "stdout",
     "output_type": "stream",
     "text": [
      "                   High          Low         Open        Close     Volume  \\\n",
      "Date                                                                        \n",
      "2020-12-31  1757.500000  1736.089966  1737.270020  1752.640015  1052900.0   \n",
      "2020-12-30  1767.760010  1728.000000  1765.000000  1736.250000  1051300.0   \n",
      "2020-12-29  1788.469971  1755.109985  1787.229980  1757.760010   986300.0   \n",
      "2020-12-28  1787.000000  1741.819946  1744.910034  1773.959961  1382500.0   \n",
      "2020-12-24  1742.410034  1724.349976  1729.000000  1734.160034   465600.0   \n",
      "\n",
      "              Adj Close  \n",
      "Date                     \n",
      "2020-12-31  1752.640015  \n",
      "2020-12-30  1736.250000  \n",
      "2020-12-29  1757.760010  \n",
      "2020-12-28  1773.959961  \n",
      "2020-12-24  1734.160034  \n"
     ]
    }
   ],
   "source": [
    "print(data.head())"
   ]
  },
  {
   "cell_type": "markdown",
   "metadata": {},
   "source": [
    "Lets store our data into csv file for further usage and analysis. This is done quite easily with pandas dataframe method <code>**to_csv()**</code>"
   ]
  },
  {
   "cell_type": "code",
   "execution_count": 73,
   "metadata": {},
   "outputs": [],
   "source": [
    "data.to_csv('goog.csv')"
   ]
  },
  {
   "cell_type": "markdown",
   "metadata": {},
   "source": [
    "We will have a slight issue with our index because our date now is index. It was converted in our favour like that by <code>**DataReader()**</code> method. But normally when we read in let's say csv file its just a text file that doesn't have a column that is the index."
   ]
  },
  {
   "cell_type": "code",
   "execution_count": 74,
   "metadata": {},
   "outputs": [
    {
     "data": {
      "text/html": [
       "<div>\n",
       "<style scoped>\n",
       "    .dataframe tbody tr th:only-of-type {\n",
       "        vertical-align: middle;\n",
       "    }\n",
       "\n",
       "    .dataframe tbody tr th {\n",
       "        vertical-align: top;\n",
       "    }\n",
       "\n",
       "    .dataframe thead th {\n",
       "        text-align: right;\n",
       "    }\n",
       "</style>\n",
       "<table border=\"1\" class=\"dataframe\">\n",
       "  <thead>\n",
       "    <tr style=\"text-align: right;\">\n",
       "      <th></th>\n",
       "      <th>Date</th>\n",
       "      <th>High</th>\n",
       "      <th>Low</th>\n",
       "      <th>Open</th>\n",
       "      <th>Close</th>\n",
       "      <th>Volume</th>\n",
       "      <th>Adj Close</th>\n",
       "    </tr>\n",
       "  </thead>\n",
       "  <tbody>\n",
       "    <tr>\n",
       "      <th>0</th>\n",
       "      <td>2020-12-31</td>\n",
       "      <td>1757.500000</td>\n",
       "      <td>1736.089966</td>\n",
       "      <td>1737.270020</td>\n",
       "      <td>1752.640015</td>\n",
       "      <td>1052900.0</td>\n",
       "      <td>1752.640015</td>\n",
       "    </tr>\n",
       "    <tr>\n",
       "      <th>1</th>\n",
       "      <td>2020-12-30</td>\n",
       "      <td>1767.760010</td>\n",
       "      <td>1728.000000</td>\n",
       "      <td>1765.000000</td>\n",
       "      <td>1736.250000</td>\n",
       "      <td>1051300.0</td>\n",
       "      <td>1736.250000</td>\n",
       "    </tr>\n",
       "    <tr>\n",
       "      <th>2</th>\n",
       "      <td>2020-12-29</td>\n",
       "      <td>1788.469971</td>\n",
       "      <td>1755.109985</td>\n",
       "      <td>1787.229980</td>\n",
       "      <td>1757.760010</td>\n",
       "      <td>986300.0</td>\n",
       "      <td>1757.760010</td>\n",
       "    </tr>\n",
       "    <tr>\n",
       "      <th>3</th>\n",
       "      <td>2020-12-28</td>\n",
       "      <td>1787.000000</td>\n",
       "      <td>1741.819946</td>\n",
       "      <td>1744.910034</td>\n",
       "      <td>1773.959961</td>\n",
       "      <td>1382500.0</td>\n",
       "      <td>1773.959961</td>\n",
       "    </tr>\n",
       "    <tr>\n",
       "      <th>4</th>\n",
       "      <td>2020-12-24</td>\n",
       "      <td>1742.410034</td>\n",
       "      <td>1724.349976</td>\n",
       "      <td>1729.000000</td>\n",
       "      <td>1734.160034</td>\n",
       "      <td>465600.0</td>\n",
       "      <td>1734.160034</td>\n",
       "    </tr>\n",
       "  </tbody>\n",
       "</table>\n",
       "</div>"
      ],
      "text/plain": [
       "         Date         High          Low         Open        Close     Volume  \\\n",
       "0  2020-12-31  1757.500000  1736.089966  1737.270020  1752.640015  1052900.0   \n",
       "1  2020-12-30  1767.760010  1728.000000  1765.000000  1736.250000  1051300.0   \n",
       "2  2020-12-29  1788.469971  1755.109985  1787.229980  1757.760010   986300.0   \n",
       "3  2020-12-28  1787.000000  1741.819946  1744.910034  1773.959961  1382500.0   \n",
       "4  2020-12-24  1742.410034  1724.349976  1729.000000  1734.160034   465600.0   \n",
       "\n",
       "     Adj Close  \n",
       "0  1752.640015  \n",
       "1  1736.250000  \n",
       "2  1757.760010  \n",
       "3  1773.959961  \n",
       "4  1734.160034  "
      ]
     },
     "execution_count": 74,
     "metadata": {},
     "output_type": "execute_result"
    }
   ],
   "source": [
    "df = pd.read_csv('goog.csv')\n",
    "df.head()"
   ]
  },
  {
   "cell_type": "markdown",
   "metadata": {},
   "source": [
    "Lets handle that, but just for better understanding of all plausable parameters you have with pandas <code>**read_csv()**</code> go checkout this [link](https://pandas.pydata.org/pandas-docs/stable/reference/api/pandas.read_csv.html) from pandas documentation. What we interested is <code>**parse_dates**</code> option and we want to specify index column and thats <code>**index_col**</code> option. And now we actually have our data with <code>**date time index**</code> in our csv file. Also we can read not only csv but json, sql, xml, xlsx and forth on. Check out pandas documentation it's higly extensive."
   ]
  },
  {
   "cell_type": "code",
   "execution_count": 75,
   "metadata": {},
   "outputs": [
    {
     "data": {
      "text/html": [
       "<div>\n",
       "<style scoped>\n",
       "    .dataframe tbody tr th:only-of-type {\n",
       "        vertical-align: middle;\n",
       "    }\n",
       "\n",
       "    .dataframe tbody tr th {\n",
       "        vertical-align: top;\n",
       "    }\n",
       "\n",
       "    .dataframe thead th {\n",
       "        text-align: right;\n",
       "    }\n",
       "</style>\n",
       "<table border=\"1\" class=\"dataframe\">\n",
       "  <thead>\n",
       "    <tr style=\"text-align: right;\">\n",
       "      <th></th>\n",
       "      <th>High</th>\n",
       "      <th>Low</th>\n",
       "      <th>Open</th>\n",
       "      <th>Close</th>\n",
       "      <th>Volume</th>\n",
       "      <th>Adj Close</th>\n",
       "    </tr>\n",
       "    <tr>\n",
       "      <th>Date</th>\n",
       "      <th></th>\n",
       "      <th></th>\n",
       "      <th></th>\n",
       "      <th></th>\n",
       "      <th></th>\n",
       "      <th></th>\n",
       "    </tr>\n",
       "  </thead>\n",
       "  <tbody>\n",
       "    <tr>\n",
       "      <th>2020-12-31</th>\n",
       "      <td>1757.500000</td>\n",
       "      <td>1736.089966</td>\n",
       "      <td>1737.270020</td>\n",
       "      <td>1752.640015</td>\n",
       "      <td>1052900.0</td>\n",
       "      <td>1752.640015</td>\n",
       "    </tr>\n",
       "    <tr>\n",
       "      <th>2020-12-30</th>\n",
       "      <td>1767.760010</td>\n",
       "      <td>1728.000000</td>\n",
       "      <td>1765.000000</td>\n",
       "      <td>1736.250000</td>\n",
       "      <td>1051300.0</td>\n",
       "      <td>1736.250000</td>\n",
       "    </tr>\n",
       "    <tr>\n",
       "      <th>2020-12-29</th>\n",
       "      <td>1788.469971</td>\n",
       "      <td>1755.109985</td>\n",
       "      <td>1787.229980</td>\n",
       "      <td>1757.760010</td>\n",
       "      <td>986300.0</td>\n",
       "      <td>1757.760010</td>\n",
       "    </tr>\n",
       "    <tr>\n",
       "      <th>2020-12-28</th>\n",
       "      <td>1787.000000</td>\n",
       "      <td>1741.819946</td>\n",
       "      <td>1744.910034</td>\n",
       "      <td>1773.959961</td>\n",
       "      <td>1382500.0</td>\n",
       "      <td>1773.959961</td>\n",
       "    </tr>\n",
       "    <tr>\n",
       "      <th>2020-12-24</th>\n",
       "      <td>1742.410034</td>\n",
       "      <td>1724.349976</td>\n",
       "      <td>1729.000000</td>\n",
       "      <td>1734.160034</td>\n",
       "      <td>465600.0</td>\n",
       "      <td>1734.160034</td>\n",
       "    </tr>\n",
       "  </tbody>\n",
       "</table>\n",
       "</div>"
      ],
      "text/plain": [
       "                   High          Low         Open        Close     Volume  \\\n",
       "Date                                                                        \n",
       "2020-12-31  1757.500000  1736.089966  1737.270020  1752.640015  1052900.0   \n",
       "2020-12-30  1767.760010  1728.000000  1765.000000  1736.250000  1051300.0   \n",
       "2020-12-29  1788.469971  1755.109985  1787.229980  1757.760010   986300.0   \n",
       "2020-12-28  1787.000000  1741.819946  1744.910034  1773.959961  1382500.0   \n",
       "2020-12-24  1742.410034  1724.349976  1729.000000  1734.160034   465600.0   \n",
       "\n",
       "              Adj Close  \n",
       "Date                     \n",
       "2020-12-31  1752.640015  \n",
       "2020-12-30  1736.250000  \n",
       "2020-12-29  1757.760010  \n",
       "2020-12-28  1773.959961  \n",
       "2020-12-24  1734.160034  "
      ]
     },
     "execution_count": 75,
     "metadata": {},
     "output_type": "execute_result"
    }
   ],
   "source": [
    "df = pd.read_csv('goog.csv', parse_dates=True, index_col=0)\n",
    "df.head()"
   ]
  },
  {
   "cell_type": "markdown",
   "metadata": {},
   "source": [
    "Quick trick is that we don't have to deal with <code>**matplotlib pyplot**</code> to quickly visualize our data. Panda dataframe <code>**plot()**</code> method. In case you are running this not in jupyter notebook add <code>**plt.show()**</code> at the end."
   ]
  },
  {
   "cell_type": "code",
   "execution_count": 76,
   "metadata": {
    "scrolled": true
   },
   "outputs": [
    {
     "data": {
      "text/plain": [
       "<matplotlib.axes._subplots.AxesSubplot at 0x1397c630>"
      ]
     },
     "execution_count": 76,
     "metadata": {},
     "output_type": "execute_result"
    },
    {
     "data": {
      "image/png": "[encoded data removed]",
      "text/plain": [
       "<Figure size 432x288 with 1 Axes>"
      ]
     },
     "metadata": {
      "needs_background": "light"
     },
     "output_type": "display_data"
    }
   ],
   "source": [
    "df.plot()"
   ]
  },
  {
   "cell_type": "code",
   "execution_count": 77,
   "metadata": {},
   "outputs": [
    {
     "data": {
      "text/plain": [
       "<matplotlib.axes._subplots.AxesSubplot at 0x13c3b970>"
      ]
     },
     "execution_count": 77,
     "metadata": {},
     "output_type": "execute_result"
    },
    {
     "data": {
      "image/png": "[encoded data removed]",
      "text/plain": [
       "<Figure size 432x288 with 1 Axes>"
      ]
     },
     "metadata": {
      "needs_background": "light"
     },
     "output_type": "display_data"
    }
   ],
   "source": [
    "df[['Low', 'High']].plot()"
   ]
  },
  {
   "cell_type": "markdown",
   "metadata": {},
   "source": [
    "In ML supervised learning everything is labels and features and our case features are continues data. If you are intersted in machine learning implementation in finance and economics it would be usefull to look for a good fidelity and preferably free data source. Its quite hard to find a <code>**[financial data vendor](https://en.wikipedia.org/wiki/Financial_data_vendor)**</code> that doesn't charge for it services but as starting point just try surfing internet. Some [websites](https://www.g2.com/categories/financial-data-apis/free) provide some information about some of these platforms that are free of charge with some limitations.\n",
    "Im going to use <code>**[Quandl](https://www.quandl.com/)**</code> service, there are some options that you can use their service without register account but its strictly limited and has very low rate for request per day. It's totally up to you what data vendor service to use I advise to make your own investigation!"
   ]
  },
  {
   "cell_type": "code",
   "execution_count": 224,
   "metadata": {},
   "outputs": [],
   "source": [
    "import quandl as qdl\n",
    "import math\n",
    "qdl.ApiConfig.api_key = 'your-account-api-key'"
   ]
  },
  {
   "cell_type": "markdown",
   "metadata": {},
   "source": [
    "So our features in this particulalr <code>**goog**</code> stock tick data are <code>**High,Low,Open,Close,Volume,Adj Close**</code> but for our model to be as best as it can we want to have meaningful features that has something to do wit our data. Can we figure out some relationship between this data columns ? Or simplify our data as much as possible and try to get as much as we can meaningfull features. But one thing to note is that we must get rid of useless features that will only bring unnecessary complexity to our prediction or classifier model."
   ]
  },
  {
   "cell_type": "code",
   "execution_count": 247,
   "metadata": {},
   "outputs": [],
   "source": [
    "df = qdl.get('WIKI/GOOGL')"
   ]
  },
  {
   "cell_type": "code",
   "execution_count": 248,
   "metadata": {},
   "outputs": [
    {
     "data": {
      "text/html": [
       "<div>\n",
       "<style scoped>\n",
       "    .dataframe tbody tr th:only-of-type {\n",
       "        vertical-align: middle;\n",
       "    }\n",
       "\n",
       "    .dataframe tbody tr th {\n",
       "        vertical-align: top;\n",
       "    }\n",
       "\n",
       "    .dataframe thead th {\n",
       "        text-align: right;\n",
       "    }\n",
       "</style>\n",
       "<table border=\"1\" class=\"dataframe\">\n",
       "  <thead>\n",
       "    <tr style=\"text-align: right;\">\n",
       "      <th></th>\n",
       "      <th>Open</th>\n",
       "      <th>High</th>\n",
       "      <th>Low</th>\n",
       "      <th>Close</th>\n",
       "      <th>Volume</th>\n",
       "      <th>Ex-Dividend</th>\n",
       "      <th>Split Ratio</th>\n",
       "      <th>Adj. Open</th>\n",
       "      <th>Adj. High</th>\n",
       "      <th>Adj. Low</th>\n",
       "      <th>Adj. Close</th>\n",
       "      <th>Adj. Volume</th>\n",
       "    </tr>\n",
       "    <tr>\n",
       "      <th>Date</th>\n",
       "      <th></th>\n",
       "      <th></th>\n",
       "      <th></th>\n",
       "      <th></th>\n",
       "      <th></th>\n",
       "      <th></th>\n",
       "      <th></th>\n",
       "      <th></th>\n",
       "      <th></th>\n",
       "      <th></th>\n",
       "      <th></th>\n",
       "      <th></th>\n",
       "    </tr>\n",
       "  </thead>\n",
       "  <tbody>\n",
       "    <tr>\n",
       "      <th>2004-08-19</th>\n",
       "      <td>100.01</td>\n",
       "      <td>104.06</td>\n",
       "      <td>95.96</td>\n",
       "      <td>100.335</td>\n",
       "      <td>44659000.0</td>\n",
       "      <td>0.0</td>\n",
       "      <td>1.0</td>\n",
       "      <td>50.159839</td>\n",
       "      <td>52.191109</td>\n",
       "      <td>48.128568</td>\n",
       "      <td>50.322842</td>\n",
       "      <td>44659000.0</td>\n",
       "    </tr>\n",
       "    <tr>\n",
       "      <th>2004-08-20</th>\n",
       "      <td>101.01</td>\n",
       "      <td>109.08</td>\n",
       "      <td>100.50</td>\n",
       "      <td>108.310</td>\n",
       "      <td>22834300.0</td>\n",
       "      <td>0.0</td>\n",
       "      <td>1.0</td>\n",
       "      <td>50.661387</td>\n",
       "      <td>54.708881</td>\n",
       "      <td>50.405597</td>\n",
       "      <td>54.322689</td>\n",
       "      <td>22834300.0</td>\n",
       "    </tr>\n",
       "    <tr>\n",
       "      <th>2004-08-23</th>\n",
       "      <td>110.76</td>\n",
       "      <td>113.48</td>\n",
       "      <td>109.05</td>\n",
       "      <td>109.400</td>\n",
       "      <td>18256100.0</td>\n",
       "      <td>0.0</td>\n",
       "      <td>1.0</td>\n",
       "      <td>55.551482</td>\n",
       "      <td>56.915693</td>\n",
       "      <td>54.693835</td>\n",
       "      <td>54.869377</td>\n",
       "      <td>18256100.0</td>\n",
       "    </tr>\n",
       "    <tr>\n",
       "      <th>2004-08-24</th>\n",
       "      <td>111.24</td>\n",
       "      <td>111.60</td>\n",
       "      <td>103.57</td>\n",
       "      <td>104.870</td>\n",
       "      <td>15247300.0</td>\n",
       "      <td>0.0</td>\n",
       "      <td>1.0</td>\n",
       "      <td>55.792225</td>\n",
       "      <td>55.972783</td>\n",
       "      <td>51.945350</td>\n",
       "      <td>52.597363</td>\n",
       "      <td>15247300.0</td>\n",
       "    </tr>\n",
       "    <tr>\n",
       "      <th>2004-08-25</th>\n",
       "      <td>104.76</td>\n",
       "      <td>108.00</td>\n",
       "      <td>103.88</td>\n",
       "      <td>106.000</td>\n",
       "      <td>9188600.0</td>\n",
       "      <td>0.0</td>\n",
       "      <td>1.0</td>\n",
       "      <td>52.542193</td>\n",
       "      <td>54.167209</td>\n",
       "      <td>52.100830</td>\n",
       "      <td>53.164113</td>\n",
       "      <td>9188600.0</td>\n",
       "    </tr>\n",
       "  </tbody>\n",
       "</table>\n",
       "</div>"
      ],
      "text/plain": [
       "              Open    High     Low    Close      Volume  Ex-Dividend  \\\n",
       "Date                                                                   \n",
       "2004-08-19  100.01  104.06   95.96  100.335  44659000.0          0.0   \n",
       "2004-08-20  101.01  109.08  100.50  108.310  22834300.0          0.0   \n",
       "2004-08-23  110.76  113.48  109.05  109.400  18256100.0          0.0   \n",
       "2004-08-24  111.24  111.60  103.57  104.870  15247300.0          0.0   \n",
       "2004-08-25  104.76  108.00  103.88  106.000   9188600.0          0.0   \n",
       "\n",
       "            Split Ratio  Adj. Open  Adj. High   Adj. Low  Adj. Close  \\\n",
       "Date                                                                   \n",
       "2004-08-19          1.0  50.159839  52.191109  48.128568   50.322842   \n",
       "2004-08-20          1.0  50.661387  54.708881  50.405597   54.322689   \n",
       "2004-08-23          1.0  55.551482  56.915693  54.693835   54.869377   \n",
       "2004-08-24          1.0  55.792225  55.972783  51.945350   52.597363   \n",
       "2004-08-25          1.0  52.542193  54.167209  52.100830   53.164113   \n",
       "\n",
       "            Adj. Volume  \n",
       "Date                     \n",
       "2004-08-19   44659000.0  \n",
       "2004-08-20   22834300.0  \n",
       "2004-08-23   18256100.0  \n",
       "2004-08-24   15247300.0  \n",
       "2004-08-25    9188600.0  "
      ]
     },
     "execution_count": 248,
     "metadata": {},
     "output_type": "execute_result"
    }
   ],
   "source": [
    "df.head()"
   ]
  },
  {
   "cell_type": "markdown",
   "metadata": {},
   "source": [
    "Let's grab some features by creating columns for those features recreating our initial dataframe. And as you might guess some of those columns are relatively worthless but they do have some relationship. Like say Adj. High and Adj. Low difference (margin) tells us about the volatility. The the margin between Adj. Open and Adj. Close prices tells did the price go up or down and by how much. Simple linear regression will not seek out these relationships its just gona work with what features we will feed in. The relationship between data is very valuable but you have to figure it out by having as said in previous lectures some insight about the data itself and what does it represent. Lets define these new features"
   ]
  },
  {
   "cell_type": "code",
   "execution_count": 249,
   "metadata": {},
   "outputs": [],
   "source": [
    "df = df[['Adj. Open', 'Adj. High', 'Adj. Low', 'Adj. Close', 'Adj. Volume']]\n",
    "\n",
    "# 1) high - low percentage change feature, sort of percent volatility\n",
    "df['HLP'] = (df['Adj. High'] - df['Adj. Close']) / df['Adj. Close'] * 100\n",
    "\n",
    "# 2) daily percentage change that represents daily move\n",
    "df['PCT_change'] = (df['Adj. Close'] - df['Adj. Open']) / df['Adj. Open'] * 100\n",
    "\n",
    "# 3) "
   ]
  },
  {
   "cell_type": "markdown",
   "metadata": {},
   "source": [
    "Define columns that will actaully have some meaning for model."
   ]
  },
  {
   "cell_type": "code",
   "execution_count": 250,
   "metadata": {},
   "outputs": [],
   "source": [
    "df = df[['Adj. Close', 'HLP', 'PCT_change', 'Adj. Volume']]"
   ]
  },
  {
   "cell_type": "code",
   "execution_count": 251,
   "metadata": {},
   "outputs": [
    {
     "data": {
      "text/html": [
       "<div>\n",
       "<style scoped>\n",
       "    .dataframe tbody tr th:only-of-type {\n",
       "        vertical-align: middle;\n",
       "    }\n",
       "\n",
       "    .dataframe tbody tr th {\n",
       "        vertical-align: top;\n",
       "    }\n",
       "\n",
       "    .dataframe thead th {\n",
       "        text-align: right;\n",
       "    }\n",
       "</style>\n",
       "<table border=\"1\" class=\"dataframe\">\n",
       "  <thead>\n",
       "    <tr style=\"text-align: right;\">\n",
       "      <th></th>\n",
       "      <th>Adj. Close</th>\n",
       "      <th>HLP</th>\n",
       "      <th>PCT_change</th>\n",
       "      <th>Adj. Volume</th>\n",
       "    </tr>\n",
       "    <tr>\n",
       "      <th>Date</th>\n",
       "      <th></th>\n",
       "      <th></th>\n",
       "      <th></th>\n",
       "      <th></th>\n",
       "    </tr>\n",
       "  </thead>\n",
       "  <tbody>\n",
       "    <tr>\n",
       "      <th>2004-08-19</th>\n",
       "      <td>50.322842</td>\n",
       "      <td>3.712563</td>\n",
       "      <td>0.324968</td>\n",
       "      <td>44659000.0</td>\n",
       "    </tr>\n",
       "    <tr>\n",
       "      <th>2004-08-20</th>\n",
       "      <td>54.322689</td>\n",
       "      <td>0.710922</td>\n",
       "      <td>7.227007</td>\n",
       "      <td>22834300.0</td>\n",
       "    </tr>\n",
       "    <tr>\n",
       "      <th>2004-08-23</th>\n",
       "      <td>54.869377</td>\n",
       "      <td>3.729433</td>\n",
       "      <td>-1.227880</td>\n",
       "      <td>18256100.0</td>\n",
       "    </tr>\n",
       "    <tr>\n",
       "      <th>2004-08-24</th>\n",
       "      <td>52.597363</td>\n",
       "      <td>6.417469</td>\n",
       "      <td>-5.726357</td>\n",
       "      <td>15247300.0</td>\n",
       "    </tr>\n",
       "    <tr>\n",
       "      <th>2004-08-25</th>\n",
       "      <td>53.164113</td>\n",
       "      <td>1.886792</td>\n",
       "      <td>1.183658</td>\n",
       "      <td>9188600.0</td>\n",
       "    </tr>\n",
       "  </tbody>\n",
       "</table>\n",
       "</div>"
      ],
      "text/plain": [
       "            Adj. Close       HLP  PCT_change  Adj. Volume\n",
       "Date                                                     \n",
       "2004-08-19   50.322842  3.712563    0.324968   44659000.0\n",
       "2004-08-20   54.322689  0.710922    7.227007   22834300.0\n",
       "2004-08-23   54.869377  3.729433   -1.227880   18256100.0\n",
       "2004-08-24   52.597363  6.417469   -5.726357   15247300.0\n",
       "2004-08-25   53.164113  1.886792    1.183658    9188600.0"
      ]
     },
     "execution_count": 251,
     "metadata": {},
     "output_type": "execute_result"
    }
   ],
   "source": [
    "df.head()"
   ]
  },
  {
   "cell_type": "markdown",
   "metadata": {},
   "source": [
    "We have to define our label, the thing that we want to predict and thats the price. Why can we choose Adj.Close columns as our labels ? \n",
    "\n"
   ]
  },
  {
   "cell_type": "code",
   "execution_count": 252,
   "metadata": {},
   "outputs": [],
   "source": [
    "y = 'Adj. Close'"
   ]
  },
  {
   "cell_type": "markdown",
   "metadata": {},
   "source": [
    "Some data preprocessing to get rid of <code>**NaN**</code> occurances. We can not work in ML with data that is NaN and we have to replace it with something or get rid of it entirely by deleting column/row. But best choice us rather we don't get rid of data we just make it as an <code>**outlier**</code> in our data set."
   ]
  },
  {
   "cell_type": "code",
   "execution_count": 253,
   "metadata": {},
   "outputs": [],
   "source": [
    "df.fillna(-9999, inplace=True)"
   ]
  },
  {
   "cell_type": "markdown",
   "metadata": {},
   "source": [
    "Lets split our data and just predict 10% of prices by making a shift."
   ]
  },
  {
   "cell_type": "code",
   "execution_count": 254,
   "metadata": {},
   "outputs": [
    {
     "data": {
      "text/plain": [
       "35"
      ]
     },
     "execution_count": 254,
     "metadata": {},
     "output_type": "execute_result"
    }
   ],
   "source": [
    "shift_size = 0.01\n",
    "forecast   = math.ceil(shift_size*len(df))\n",
    "forecast"
   ]
  },
  {
   "cell_type": "markdown",
   "metadata": {},
   "source": [
    "We have to shift our label column negatively image that it just goes up. Thus in each row each Adj. Close is going to be some time in future <code>**(time frame neither time series is not specified yet).**</code> More info about pandas dataframe<code>**[shift](https://pandas.pydata.org/pandas-docs/stable/reference/api/pandas.DataFrame.shift.html)**</code>"
   ]
  },
  {
   "cell_type": "code",
   "execution_count": 255,
   "metadata": {},
   "outputs": [
    {
     "data": {
      "text/html": [
       "<div>\n",
       "<style scoped>\n",
       "    .dataframe tbody tr th:only-of-type {\n",
       "        vertical-align: middle;\n",
       "    }\n",
       "\n",
       "    .dataframe tbody tr th {\n",
       "        vertical-align: top;\n",
       "    }\n",
       "\n",
       "    .dataframe thead th {\n",
       "        text-align: right;\n",
       "    }\n",
       "</style>\n",
       "<table border=\"1\" class=\"dataframe\">\n",
       "  <thead>\n",
       "    <tr style=\"text-align: right;\">\n",
       "      <th></th>\n",
       "      <th>Adj. Close</th>\n",
       "      <th>HLP</th>\n",
       "      <th>PCT_change</th>\n",
       "      <th>Adj. Volume</th>\n",
       "      <th>label</th>\n",
       "    </tr>\n",
       "    <tr>\n",
       "      <th>Date</th>\n",
       "      <th></th>\n",
       "      <th></th>\n",
       "      <th></th>\n",
       "      <th></th>\n",
       "      <th></th>\n",
       "    </tr>\n",
       "  </thead>\n",
       "  <tbody>\n",
       "    <tr>\n",
       "      <th>2004-08-19</th>\n",
       "      <td>50.322842</td>\n",
       "      <td>3.712563</td>\n",
       "      <td>0.324968</td>\n",
       "      <td>44659000.0</td>\n",
       "      <td>69.078238</td>\n",
       "    </tr>\n",
       "    <tr>\n",
       "      <th>2004-08-20</th>\n",
       "      <td>54.322689</td>\n",
       "      <td>0.710922</td>\n",
       "      <td>7.227007</td>\n",
       "      <td>22834300.0</td>\n",
       "      <td>67.839414</td>\n",
       "    </tr>\n",
       "    <tr>\n",
       "      <th>2004-08-23</th>\n",
       "      <td>54.869377</td>\n",
       "      <td>3.729433</td>\n",
       "      <td>-1.227880</td>\n",
       "      <td>18256100.0</td>\n",
       "      <td>68.912727</td>\n",
       "    </tr>\n",
       "    <tr>\n",
       "      <th>2004-08-24</th>\n",
       "      <td>52.597363</td>\n",
       "      <td>6.417469</td>\n",
       "      <td>-5.726357</td>\n",
       "      <td>15247300.0</td>\n",
       "      <td>70.668146</td>\n",
       "    </tr>\n",
       "    <tr>\n",
       "      <th>2004-08-25</th>\n",
       "      <td>53.164113</td>\n",
       "      <td>1.886792</td>\n",
       "      <td>1.183658</td>\n",
       "      <td>9188600.0</td>\n",
       "      <td>71.219849</td>\n",
       "    </tr>\n",
       "  </tbody>\n",
       "</table>\n",
       "</div>"
      ],
      "text/plain": [
       "            Adj. Close       HLP  PCT_change  Adj. Volume      label\n",
       "Date                                                                \n",
       "2004-08-19   50.322842  3.712563    0.324968   44659000.0  69.078238\n",
       "2004-08-20   54.322689  0.710922    7.227007   22834300.0  67.839414\n",
       "2004-08-23   54.869377  3.729433   -1.227880   18256100.0  68.912727\n",
       "2004-08-24   52.597363  6.417469   -5.726357   15247300.0  70.668146\n",
       "2004-08-25   53.164113  1.886792    1.183658    9188600.0  71.219849"
      ]
     },
     "execution_count": 255,
     "metadata": {},
     "output_type": "execute_result"
    }
   ],
   "source": [
    "df['label'] = df[y].shift(-forecast)\n",
    "df.dropna(inplace=True)\n",
    "df.head()"
   ]
  },
  {
   "cell_type": "code",
   "execution_count": 256,
   "metadata": {},
   "outputs": [
    {
     "data": {
      "text/html": [
       "<div>\n",
       "<style scoped>\n",
       "    .dataframe tbody tr th:only-of-type {\n",
       "        vertical-align: middle;\n",
       "    }\n",
       "\n",
       "    .dataframe tbody tr th {\n",
       "        vertical-align: top;\n",
       "    }\n",
       "\n",
       "    .dataframe thead th {\n",
       "        text-align: right;\n",
       "    }\n",
       "</style>\n",
       "<table border=\"1\" class=\"dataframe\">\n",
       "  <thead>\n",
       "    <tr style=\"text-align: right;\">\n",
       "      <th></th>\n",
       "      <th>Adj. Close</th>\n",
       "      <th>HLP</th>\n",
       "      <th>PCT_change</th>\n",
       "      <th>Adj. Volume</th>\n",
       "      <th>label</th>\n",
       "    </tr>\n",
       "    <tr>\n",
       "      <th>Date</th>\n",
       "      <th></th>\n",
       "      <th></th>\n",
       "      <th></th>\n",
       "      <th></th>\n",
       "      <th></th>\n",
       "    </tr>\n",
       "  </thead>\n",
       "  <tbody>\n",
       "    <tr>\n",
       "      <th>2018-01-30</th>\n",
       "      <td>1177.37</td>\n",
       "      <td>0.896914</td>\n",
       "      <td>-0.029718</td>\n",
       "      <td>1792602.0</td>\n",
       "      <td>1094.00</td>\n",
       "    </tr>\n",
       "    <tr>\n",
       "      <th>2018-01-31</th>\n",
       "      <td>1182.22</td>\n",
       "      <td>0.346805</td>\n",
       "      <td>-0.134312</td>\n",
       "      <td>1643877.0</td>\n",
       "      <td>1053.15</td>\n",
       "    </tr>\n",
       "    <tr>\n",
       "      <th>2018-02-01</th>\n",
       "      <td>1181.59</td>\n",
       "      <td>0.495942</td>\n",
       "      <td>0.476195</td>\n",
       "      <td>2774967.0</td>\n",
       "      <td>1026.55</td>\n",
       "    </tr>\n",
       "    <tr>\n",
       "      <th>2018-02-02</th>\n",
       "      <td>1119.20</td>\n",
       "      <td>1.081129</td>\n",
       "      <td>-0.729098</td>\n",
       "      <td>5798880.0</td>\n",
       "      <td>1054.09</td>\n",
       "    </tr>\n",
       "    <tr>\n",
       "      <th>2018-02-05</th>\n",
       "      <td>1068.76</td>\n",
       "      <td>4.325574</td>\n",
       "      <td>-2.893850</td>\n",
       "      <td>3742469.0</td>\n",
       "      <td>1006.94</td>\n",
       "    </tr>\n",
       "  </tbody>\n",
       "</table>\n",
       "</div>"
      ],
      "text/plain": [
       "            Adj. Close       HLP  PCT_change  Adj. Volume    label\n",
       "Date                                                              \n",
       "2018-01-30     1177.37  0.896914   -0.029718    1792602.0  1094.00\n",
       "2018-01-31     1182.22  0.346805   -0.134312    1643877.0  1053.15\n",
       "2018-02-01     1181.59  0.495942    0.476195    2774967.0  1026.55\n",
       "2018-02-02     1119.20  1.081129   -0.729098    5798880.0  1054.09\n",
       "2018-02-05     1068.76  4.325574   -2.893850    3742469.0  1006.94"
      ]
     },
     "execution_count": 256,
     "metadata": {},
     "output_type": "execute_result"
    }
   ],
   "source": [
    "df.tail()"
   ]
  },
  {
   "cell_type": "markdown",
   "metadata": {},
   "source": [
    "For [features scaling](./__linear_regression_IV.ipynb) we will use sklearn library preporcessing tools unless you want to do it manually I advise to try always exploit available tools for mundane operations for processing speed and other properties. We will use cross_validation tools for train and test sample data split and data shuffling to avoid having statiscally biased samples."
   ]
  },
  {
   "cell_type": "code",
   "execution_count": 168,
   "metadata": {},
   "outputs": [],
   "source": [
    "from sklearn import preprocessing, model_selection\n",
    "from sklearn.linear_model import LinearRegression"
   ]
  },
  {
   "cell_type": "code",
   "execution_count": 257,
   "metadata": {},
   "outputs": [],
   "source": [
    "X = np.array(df.drop(['label'], 1))\n",
    "y = np.array(df['label'])"
   ]
  },
  {
   "cell_type": "markdown",
   "metadata": {},
   "source": [
    "Normalize all features by scalling them alongside all values"
   ]
  },
  {
   "cell_type": "code",
   "execution_count": 260,
   "metadata": {},
   "outputs": [],
   "source": [
    "X = preprocessing.scale(X)"
   ]
  },
  {
   "cell_type": "code",
   "execution_count": 292,
   "metadata": {},
   "outputs": [
    {
     "name": "stdout",
     "output_type": "stream",
     "text": [
      "lenght of X: 3354 \n",
      "\n",
      "lenght of y: 3389\n"
     ]
    }
   ],
   "source": [
    "def test_data_size(X, y):\n",
    "    if (len(X) == len(y)):\n",
    "        print('we are good to go')\n",
    "    else:\n",
    "        print(f'lenght of X: {len(X)} \\n')\n",
    "        print(f'lenght of y: {len(y)}')\n",
    "test_data_size(X, y)"
   ]
  },
  {
   "cell_type": "markdown",
   "metadata": {},
   "source": [
    "<code>**test_size**</code> param is the test data sample size in relation to entire data set. <code>**train_test_split**</code> is going to shuffle our data set keeping X's and y's connected. And outputs a <code>**X_train**</code>  and <code>**y_train**</code>  to fit our model."
   ]
  },
  {
   "cell_type": "code",
   "execution_count": 194,
   "metadata": {},
   "outputs": [],
   "source": [
    "X_train, X_test, y_train, y_test = model_selection.train_test_split(X, y, test_size=0.2)"
   ]
  },
  {
   "cell_type": "code",
   "execution_count": null,
   "metadata": {},
   "outputs": [],
   "source": []
  },
  {
   "cell_type": "code",
   "execution_count": 195,
   "metadata": {},
   "outputs": [
    {
     "data": {
      "text/plain": [
       "LinearRegression()"
      ]
     },
     "execution_count": 195,
     "metadata": {},
     "output_type": "execute_result"
    }
   ],
   "source": [
    "lr = LinearRegression()\n",
    "lr.fit(X_train, y_train)"
   ]
  },
  {
   "cell_type": "markdown",
   "metadata": {},
   "source": [
    "Lets test our accuracy of model. We have splitted data and use seperate sets to train and test to <code>**on data that it has yet not seen**</code> otherwise model will know exactly what the answer(prediction)."
   ]
  },
  {
   "cell_type": "code",
   "execution_count": 196,
   "metadata": {},
   "outputs": [
    {
     "name": "stdout",
     "output_type": "stream",
     "text": [
      "model accuracy is 0.9769484173082958 for 33 day(s) in advance\n"
     ]
    }
   ],
   "source": [
    "accuracy = lr.score(X_test, y_test)\n",
    "print(f'model accuracy is {accuracy} for {forecast} day(s) in advance')"
   ]
  },
  {
   "cell_type": "markdown",
   "metadata": {},
   "source": [
    "Thats our mean square error but it will not make as rich, yet :). We will get into this quite later but what we can be confident about is that directionally its seems to be quite accurate, that means it's able to  sort of<code>**predict the trend**</code> "
   ]
  },
  {
   "cell_type": "markdown",
   "metadata": {},
   "source": [
    "Just for comaprison reason for accuracy score lets try something new that you're not yet familiar with. That is <code>**[SVM (support vector machine algorithm)](https://en.wikipedia.org/wiki/Support-vector_machine)**</code>"
   ]
  },
  {
   "cell_type": "code",
   "execution_count": 192,
   "metadata": {},
   "outputs": [
    {
     "name": "stdout",
     "output_type": "stream",
     "text": [
      "model accuracy is 0.828918405574878 for 33 day(s) in advance\n"
     ]
    }
   ],
   "source": [
    "from sklearn import svm\n",
    "svm_1 = svm.SVR()\n",
    "svm_1.fit(X_train, y_train)\n",
    "accuracy = svm_1.score(X_test, y_test)\n",
    "print(f'model accuracy is {accuracy} for {forecast} day(s) in advance')"
   ]
  },
  {
   "cell_type": "markdown",
   "metadata": {},
   "source": [
    "Well it doesn't perform some well as linear regression. Maybe if we change it to use <code>**[polynomial kernel](https://en.wikipedia.org/wiki/Polynomial_kernel)**</code> it will perform at least somewhat better, maybe."
   ]
  },
  {
   "cell_type": "code",
   "execution_count": 193,
   "metadata": {},
   "outputs": [
    {
     "name": "stdout",
     "output_type": "stream",
     "text": [
      "model accuracy is 0.6627990483804818 for 33 day(s) in advance\n"
     ]
    }
   ],
   "source": [
    "svm_2 = svm.SVR(kernel='poly')\n",
    "svm_2.fit(X_train, y_train)\n",
    "accuracy = svm_2.score(X_test, y_test)\n",
    "print(f'model accuracy is {accuracy} for {forecast} day(s) in advance')"
   ]
  },
  {
   "cell_type": "markdown",
   "metadata": {},
   "source": [
    "Well it got even worse. That happens, we need to fidle more with those parameters to get something in a reasonable usage range. Anyway lets get back at linear regression, there is quite important feature in sklearn library on linear regression model. Its <code>**[n_jobs](https://scikit-learn.org/stable/modules/generated/sklearn.linear_model.LinearRegression.html)**</code>. This means it can be threaded and thats very important feature of algorithm for it to be run in parallel operations. Its very usefull when we have implement a model that requires tons of calculations and we have server that has enough feasible hardware power to perfom this as threaded operation."
   ]
  },
  {
   "cell_type": "markdown",
   "metadata": {},
   "source": [
    "Lets try to predict some feature with our model and our current data. I made a repeat of code above with slight changes."
   ]
  },
  {
   "cell_type": "code",
   "execution_count": 301,
   "metadata": {},
   "outputs": [],
   "source": [
    "df = qdl.get(\"WIKI/GOOGL\")\n",
    "df = df[['Adj. Open',  'Adj. High',  'Adj. Low',  'Adj. Close', 'Adj. Volume']]\n",
    "df['HL_PCT'] = (df['Adj. High'] - df['Adj. Low']) / df['Adj. Close'] * 100.0\n",
    "df['PCT_change'] = (df['Adj. Close'] - df['Adj. Open']) / df['Adj. Open'] * 100.0\n",
    "\n",
    "df = df[['Adj. Close', 'HL_PCT', 'PCT_change', 'Adj. Volume']]\n",
    "label = 'Adj. Close'\n",
    "df.fillna(value=-99999, inplace=True)\n",
    "forecast = math.ceil(0.01 * len(df))\n",
    "df['label'] = df[label].shift(-forecast)\n",
    "\n",
    "X = np.array(df.drop(['label'],1))\n",
    "X = preprocessing.scale(X)\n",
    "X_lately = X[-forecast:]\n",
    "X = X[:-forecast:]\n",
    "df.dropna(inplace=True)\n",
    "y=np.array(df['label'])"
   ]
  },
  {
   "cell_type": "code",
   "execution_count": 302,
   "metadata": {},
   "outputs": [
    {
     "name": "stdout",
     "output_type": "stream",
     "text": [
      "we are good to go\n"
     ]
    }
   ],
   "source": [
    "test_data_size(X, y)"
   ]
  },
  {
   "cell_type": "code",
   "execution_count": 305,
   "metadata": {},
   "outputs": [
    {
     "data": {
      "text/plain": [
       "35"
      ]
     },
     "execution_count": 305,
     "metadata": {},
     "output_type": "execute_result"
    }
   ],
   "source": [
    "forecast"
   ]
  },
  {
   "cell_type": "code",
   "execution_count": 308,
   "metadata": {},
   "outputs": [
    {
     "name": "stdout",
     "output_type": "stream",
     "text": [
      "model accuracy is 0.9765783974732816 for 35 day(s) in advance\n"
     ]
    }
   ],
   "source": [
    "X_train, X_test, y_train, y_test = model_selection.train_test_split(X, y, test_size=0.2)\n",
    "lr = LinearRegression(n_jobs=-1)\n",
    "lr.fit(X_train, y_train)\n",
    "accuracy = lr.score(X_test, y_test)\n",
    "print(f'model accuracy is {accuracy} for {forecast} day(s) in advance')"
   ]
  },
  {
   "cell_type": "markdown",
   "metadata": {},
   "source": [
    "So to predict based on X data is quite easy with sklearn linear regression model and <code>**[predict()](https://scikit-learn.org/stable/modules/generated/sklearn.linear_model.LinearRegression.html#sklearn.linear_model.LinearRegression.predict)**</code> method. We can pass a single or an array of values to make a prediction per value in that array. So we have our <code>**forecast**</code> variable that is 35 days long and we made <code>**X_lately = X[-forecast:]**</code> value arrays that we want to predict."
   ]
  },
  {
   "cell_type": "code",
   "execution_count": 317,
   "metadata": {},
   "outputs": [
    {
     "name": "stdout",
     "output_type": "stream",
     "text": [
      "stock price value predictions: \n",
      " [1098.70722416 1070.75872335 1017.47376063 1056.75479807 1071.24534069\n",
      " 1071.79884993 1089.60210468 1108.2398722  1113.13010383 1120.71807782\n",
      " 1130.56349229 1127.37766999 1146.00698009 1162.15783918 1134.01570858\n",
      " 1120.53859575 1085.69561096 1100.16689567 1111.74190444 1119.24745801\n",
      " 1132.46554454 1147.77444067 1178.44312091 1183.89065735 1155.24917514\n",
      " 1166.89473775 1167.97547756 1151.13883431 1115.97363972 1112.6016195\n",
      " 1111.2049231  1068.03498245 1040.82351433 1068.21137254 1018.09312067] \n",
      " with accuracy of: 0.9765783974732816 \n",
      " for: 35 days\n"
     ]
    }
   ],
   "source": [
    "forecast_set = lr.predict(X_lately)\n",
    "print(f'stock price value predictions: \\n {forecast_set} \\n with accuracy of: {accuracy} \\n for: {forecast} days')"
   ]
  },
  {
   "cell_type": "markdown",
   "metadata": {},
   "source": [
    "Lets graph that"
   ]
  },
  {
   "cell_type": "code",
   "execution_count": 318,
   "metadata": {},
   "outputs": [],
   "source": [
    "df['Prediction'] = np.nan"
   ]
  },
  {
   "cell_type": "markdown",
   "metadata": {},
   "source": [
    "Let's make date values and populate dataframe with it and prediction values. This nasty stuff is to get dates on the axis "
   ]
  },
  {
   "cell_type": "code",
   "execution_count": 327,
   "metadata": {},
   "outputs": [],
   "source": [
    "last_date = df.iloc[-1].name\n",
    "last_unix = last_date.timestamp()\n",
    "one       = 86400\n",
    "next_unix = last_unix + one\n",
    "\n",
    "for i in forecast_set:\n",
    "    next_date = dt.datetime.fromtimestamp(next_unix)\n",
    "    next_unix += one\n",
    "    df.loc[next_date] = [np.nan for _ in range(len(df.columns)-1)] + [i]"
   ]
  },
  {
   "cell_type": "code",
   "execution_count": 332,
   "metadata": {},
   "outputs": [
    {
     "data": {
      "application/javascript": [
       "/* Put everything inside the global mpl namespace */\n",
       "window.mpl = {};\n",
       "\n",
       "\n",
       "mpl.get_websocket_type = function() {\n",
       "    if (typeof(WebSocket) !== 'undefined') {\n",
       "        return WebSocket;\n",
       "    } else if (typeof(MozWebSocket) !== 'undefined') {\n",
       "        return MozWebSocket;\n",
       "    } else {\n",
       "        alert('Your browser does not have WebSocket support. ' +\n",
       "              'Please try Chrome, Safari or Firefox ≥ 6. ' +\n",
       "              'Firefox 4 and 5 are also supported but you ' +\n",
       "              'have to enable WebSockets in about:config.');\n",
       "    };\n",
       "}\n",
       "\n",
       "mpl.figure = function(figure_id, websocket, ondownload, parent_element) {\n",
       "    this.id = figure_id;\n",
       "\n",
       "    this.ws = websocket;\n",
       "\n",
       "    this.supports_binary = (this.ws.binaryType != undefined);\n",
       "\n",
       "    if (!this.supports_binary) {\n",
       "        var warnings = document.getElementById(\"mpl-warnings\");\n",
       "        if (warnings) {\n",
       "            warnings.style.display = 'block';\n",
       "            warnings.textContent = (\n",
       "                \"This browser does not support binary websocket messages. \" +\n",
       "                    \"Performance may be slow.\");\n",
       "        }\n",
       "    }\n",
       "\n",
       "    this.imageObj = new Image();\n",
       "\n",
       "    this.context = undefined;\n",
       "    this.message = undefined;\n",
       "    this.canvas = undefined;\n",
       "    this.rubberband_canvas = undefined;\n",
       "    this.rubberband_context = undefined;\n",
       "    this.format_dropdown = undefined;\n",
       "\n",
       "    this.image_mode = 'full';\n",
       "\n",
       "    this.root = $('<div/>');\n",
       "    this._root_extra_style(this.root)\n",
       "    this.root.attr('style', 'display: inline-block');\n",
       "\n",
       "    $(parent_element).append(this.root);\n",
       "\n",
       "    this._init_header(this);\n",
       "    this._init_canvas(this);\n",
       "    this._init_toolbar(this);\n",
       "\n",
       "    var fig = this;\n",
       "\n",
       "    this.waiting = false;\n",
       "\n",
       "    this.ws.onopen =  function () {\n",
       "            fig.send_message(\"supports_binary\", {value: fig.supports_binary});\n",
       "            fig.send_message(\"send_image_mode\", {});\n",
       "            if (mpl.ratio != 1) {\n",
       "                fig.send_message(\"set_dpi_ratio\", {'dpi_ratio': mpl.ratio});\n",
       "            }\n",
       "            fig.send_message(\"refresh\", {});\n",
       "        }\n",
       "\n",
       "    this.imageObj.onload = function() {\n",
       "            if (fig.image_mode == 'full') {\n",
       "                // Full images could contain transparency (where diff images\n",
       "                // almost always do), so we need to clear the canvas so that\n",
       "                // there is no ghosting.\n",
       "                fig.context.clearRect(0, 0, fig.canvas.width, fig.canvas.height);\n",
       "            }\n",
       "            fig.context.drawImage(fig.imageObj, 0, 0);\n",
       "        };\n",
       "\n",
       "    this.imageObj.onunload = function() {\n",
       "        fig.ws.close();\n",
       "    }\n",
       "\n",
       "    this.ws.onmessage = this._make_on_message_function(this);\n",
       "\n",
       "    this.ondownload = ondownload;\n",
       "}\n",
       "\n",
       "mpl.figure.prototype._init_header = function() {\n",
       "    var titlebar = $(\n",
       "        '<div class=\"ui-dialog-titlebar ui-widget-header ui-corner-all ' +\n",
       "        'ui-helper-clearfix\"/>');\n",
       "    var titletext = $(\n",
       "        '<div class=\"ui-dialog-title\" style=\"width: 100%; ' +\n",
       "        'text-align: center; padding: 3px;\"/>');\n",
       "    titlebar.append(titletext)\n",
       "    this.root.append(titlebar);\n",
       "    this.header = titletext[0];\n",
       "}\n",
       "\n",
       "\n",
       "\n",
       "mpl.figure.prototype._canvas_extra_style = function(canvas_div) {\n",
       "\n",
       "}\n",
       "\n",
       "\n",
       "mpl.figure.prototype._root_extra_style = function(canvas_div) {\n",
       "\n",
       "}\n",
       "\n",
       "mpl.figure.prototype._init_canvas = function() {\n",
       "    var fig = this;\n",
       "\n",
       "    var canvas_div = $('<div/>');\n",
       "\n",
       "    canvas_div.attr('style', 'position: relative; clear: both; outline: 0');\n",
       "\n",
       "    function canvas_keyboard_event(event) {\n",
       "        return fig.key_event(event, event['data']);\n",
       "    }\n",
       "\n",
       "    canvas_div.keydown('key_press', canvas_keyboard_event);\n",
       "    canvas_div.keyup('key_release', canvas_keyboard_event);\n",
       "    this.canvas_div = canvas_div\n",
       "    this._canvas_extra_style(canvas_div)\n",
       "    this.root.append(canvas_div);\n",
       "\n",
       "    var canvas = $('<canvas/>');\n",
       "    canvas.addClass('mpl-canvas');\n",
       "    canvas.attr('style', \"left: 0; top: 0; z-index: 0; outline: 0\")\n",
       "\n",
       "    this.canvas = canvas[0];\n",
       "    this.context = canvas[0].getContext(\"2d\");\n",
       "\n",
       "    var backingStore = this.context.backingStorePixelRatio ||\n",
       "\tthis.context.webkitBackingStorePixelRatio ||\n",
       "\tthis.context.mozBackingStorePixelRatio ||\n",
       "\tthis.context.msBackingStorePixelRatio ||\n",
       "\tthis.context.oBackingStorePixelRatio ||\n",
       "\tthis.context.backingStorePixelRatio || 1;\n",
       "\n",
       "    mpl.ratio = (window.devicePixelRatio || 1) / backingStore;\n",
       "\n",
       "    var rubberband = $('<canvas/>');\n",
       "    rubberband.attr('style', \"position: absolute; left: 0; top: 0; z-index: 1;\")\n",
       "\n",
       "    var pass_mouse_events = true;\n",
       "\n",
       "    canvas_div.resizable({\n",
       "        start: function(event, ui) {\n",
       "            pass_mouse_events = false;\n",
       "        },\n",
       "        resize: function(event, ui) {\n",
       "            fig.request_resize(ui.size.width, ui.size.height);\n",
       "        },\n",
       "        stop: function(event, ui) {\n",
       "            pass_mouse_events = true;\n",
       "            fig.request_resize(ui.size.width, ui.size.height);\n",
       "        },\n",
       "    });\n",
       "\n",
       "    function mouse_event_fn(event) {\n",
       "        if (pass_mouse_events)\n",
       "            return fig.mouse_event(event, event['data']);\n",
       "    }\n",
       "\n",
       "    rubberband.mousedown('button_press', mouse_event_fn);\n",
       "    rubberband.mouseup('button_release', mouse_event_fn);\n",
       "    // Throttle sequential mouse events to 1 every 20ms.\n",
       "    rubberband.mousemove('motion_notify', mouse_event_fn);\n",
       "\n",
       "    rubberband.mouseenter('figure_enter', mouse_event_fn);\n",
       "    rubberband.mouseleave('figure_leave', mouse_event_fn);\n",
       "\n",
       "    canvas_div.on(\"wheel\", function (event) {\n",
       "        event = event.originalEvent;\n",
       "        event['data'] = 'scroll'\n",
       "        if (event.deltaY < 0) {\n",
       "            event.step = 1;\n",
       "        } else {\n",
       "            event.step = -1;\n",
       "        }\n",
       "        mouse_event_fn(event);\n",
       "    });\n",
       "\n",
       "    canvas_div.append(canvas);\n",
       "    canvas_div.append(rubberband);\n",
       "\n",
       "    this.rubberband = rubberband;\n",
       "    this.rubberband_canvas = rubberband[0];\n",
       "    this.rubberband_context = rubberband[0].getContext(\"2d\");\n",
       "    this.rubberband_context.strokeStyle = \"#000000\";\n",
       "\n",
       "    this._resize_canvas = function(width, height) {\n",
       "        // Keep the size of the canvas, canvas container, and rubber band\n",
       "        // canvas in synch.\n",
       "        canvas_div.css('width', width)\n",
       "        canvas_div.css('height', height)\n",
       "\n",
       "        canvas.attr('width', width * mpl.ratio);\n",
       "        canvas.attr('height', height * mpl.ratio);\n",
       "        canvas.attr('style', 'width: ' + width + 'px; height: ' + height + 'px;');\n",
       "\n",
       "        rubberband.attr('width', width);\n",
       "        rubberband.attr('height', height);\n",
       "    }\n",
       "\n",
       "    // Set the figure to an initial 600x600px, this will subsequently be updated\n",
       "    // upon first draw.\n",
       "    this._resize_canvas(600, 600);\n",
       "\n",
       "    // Disable right mouse context menu.\n",
       "    $(this.rubberband_canvas).bind(\"contextmenu\",function(e){\n",
       "        return false;\n",
       "    });\n",
       "\n",
       "    function set_focus () {\n",
       "        canvas.focus();\n",
       "        canvas_div.focus();\n",
       "    }\n",
       "\n",
       "    window.setTimeout(set_focus, 100);\n",
       "}\n",
       "\n",
       "mpl.figure.prototype._init_toolbar = function() {\n",
       "    var fig = this;\n",
       "\n",
       "    var nav_element = $('<div/>');\n",
       "    nav_element.attr('style', 'width: 100%');\n",
       "    this.root.append(nav_element);\n",
       "\n",
       "    // Define a callback function for later on.\n",
       "    function toolbar_event(event) {\n",
       "        return fig.toolbar_button_onclick(event['data']);\n",
       "    }\n",
       "    function toolbar_mouse_event(event) {\n",
       "        return fig.toolbar_button_onmouseover(event['data']);\n",
       "    }\n",
       "\n",
       "    for(var toolbar_ind in mpl.toolbar_items) {\n",
       "        var name = mpl.toolbar_items[toolbar_ind][0];\n",
       "        var tooltip = mpl.toolbar_items[toolbar_ind][1];\n",
       "        var image = mpl.toolbar_items[toolbar_ind][2];\n",
       "        var method_name = mpl.toolbar_items[toolbar_ind][3];\n",
       "\n",
       "        if (!name) {\n",
       "            // put a spacer in here.\n",
       "            continue;\n",
       "        }\n",
       "        var button = $('<button/>');\n",
       "        button.addClass('ui-button ui-widget ui-state-default ui-corner-all ' +\n",
       "                        'ui-button-icon-only');\n",
       "        button.attr('role', 'button');\n",
       "        button.attr('aria-disabled', 'false');\n",
       "        button.click(method_name, toolbar_event);\n",
       "        button.mouseover(tooltip, toolbar_mouse_event);\n",
       "\n",
       "        var icon_img = $('<span/>');\n",
       "        icon_img.addClass('ui-button-icon-primary ui-icon');\n",
       "        icon_img.addClass(image);\n",
       "        icon_img.addClass('ui-corner-all');\n",
       "\n",
       "        var tooltip_span = $('<span/>');\n",
       "        tooltip_span.addClass('ui-button-text');\n",
       "        tooltip_span.html(tooltip);\n",
       "\n",
       "        button.append(icon_img);\n",
       "        button.append(tooltip_span);\n",
       "\n",
       "        nav_element.append(button);\n",
       "    }\n",
       "\n",
       "    var fmt_picker_span = $('<span/>');\n",
       "\n",
       "    var fmt_picker = $('<select/>');\n",
       "    fmt_picker.addClass('mpl-toolbar-option ui-widget ui-widget-content');\n",
       "    fmt_picker_span.append(fmt_picker);\n",
       "    nav_element.append(fmt_picker_span);\n",
       "    this.format_dropdown = fmt_picker[0];\n",
       "\n",
       "    for (var ind in mpl.extensions) {\n",
       "        var fmt = mpl.extensions[ind];\n",
       "        var option = $(\n",
       "            '<option/>', {selected: fmt === mpl.default_extension}).html(fmt);\n",
       "        fmt_picker.append(option);\n",
       "    }\n",
       "\n",
       "    // Add hover states to the ui-buttons\n",
       "    $( \".ui-button\" ).hover(\n",
       "        function() { $(this).addClass(\"ui-state-hover\");},\n",
       "        function() { $(this).removeClass(\"ui-state-hover\");}\n",
       "    );\n",
       "\n",
       "    var status_bar = $('<span class=\"mpl-message\"/>');\n",
       "    nav_element.append(status_bar);\n",
       "    this.message = status_bar[0];\n",
       "}\n",
       "\n",
       "mpl.figure.prototype.request_resize = function(x_pixels, y_pixels) {\n",
       "    // Request matplotlib to resize the figure. Matplotlib will then trigger a resize in the client,\n",
       "    // which will in turn request a refresh of the image.\n",
       "    this.send_message('resize', {'width': x_pixels, 'height': y_pixels});\n",
       "}\n",
       "\n",
       "mpl.figure.prototype.send_message = function(type, properties) {\n",
       "    properties['type'] = type;\n",
       "    properties['figure_id'] = this.id;\n",
       "    this.ws.send(JSON.stringify(properties));\n",
       "}\n",
       "\n",
       "mpl.figure.prototype.send_draw_message = function() {\n",
       "    if (!this.waiting) {\n",
       "        this.waiting = true;\n",
       "        this.ws.send(JSON.stringify({type: \"draw\", figure_id: this.id}));\n",
       "    }\n",
       "}\n",
       "\n",
       "\n",
       "mpl.figure.prototype.handle_save = function(fig, msg) {\n",
       "    var format_dropdown = fig.format_dropdown;\n",
       "    var format = format_dropdown.options[format_dropdown.selectedIndex].value;\n",
       "    fig.ondownload(fig, format);\n",
       "}\n",
       "\n",
       "\n",
       "mpl.figure.prototype.handle_resize = function(fig, msg) {\n",
       "    var size = msg['size'];\n",
       "    if (size[0] != fig.canvas.width || size[1] != fig.canvas.height) {\n",
       "        fig._resize_canvas(size[0], size[1]);\n",
       "        fig.send_message(\"refresh\", {});\n",
       "    };\n",
       "}\n",
       "\n",
       "mpl.figure.prototype.handle_rubberband = function(fig, msg) {\n",
       "    var x0 = msg['x0'] / mpl.ratio;\n",
       "    var y0 = (fig.canvas.height - msg['y0']) / mpl.ratio;\n",
       "    var x1 = msg['x1'] / mpl.ratio;\n",
       "    var y1 = (fig.canvas.height - msg['y1']) / mpl.ratio;\n",
       "    x0 = Math.floor(x0) + 0.5;\n",
       "    y0 = Math.floor(y0) + 0.5;\n",
       "    x1 = Math.floor(x1) + 0.5;\n",
       "    y1 = Math.floor(y1) + 0.5;\n",
       "    var min_x = Math.min(x0, x1);\n",
       "    var min_y = Math.min(y0, y1);\n",
       "    var width = Math.abs(x1 - x0);\n",
       "    var height = Math.abs(y1 - y0);\n",
       "\n",
       "    fig.rubberband_context.clearRect(\n",
       "        0, 0, fig.canvas.width / mpl.ratio, fig.canvas.height / mpl.ratio);\n",
       "\n",
       "    fig.rubberband_context.strokeRect(min_x, min_y, width, height);\n",
       "}\n",
       "\n",
       "mpl.figure.prototype.handle_figure_label = function(fig, msg) {\n",
       "    // Updates the figure title.\n",
       "    fig.header.textContent = msg['label'];\n",
       "}\n",
       "\n",
       "mpl.figure.prototype.handle_cursor = function(fig, msg) {\n",
       "    var cursor = msg['cursor'];\n",
       "    switch(cursor)\n",
       "    {\n",
       "    case 0:\n",
       "        cursor = 'pointer';\n",
       "        break;\n",
       "    case 1:\n",
       "        cursor = 'default';\n",
       "        break;\n",
       "    case 2:\n",
       "        cursor = 'crosshair';\n",
       "        break;\n",
       "    case 3:\n",
       "        cursor = 'move';\n",
       "        break;\n",
       "    }\n",
       "    fig.rubberband_canvas.style.cursor = cursor;\n",
       "}\n",
       "\n",
       "mpl.figure.prototype.handle_message = function(fig, msg) {\n",
       "    fig.message.textContent = msg['message'];\n",
       "}\n",
       "\n",
       "mpl.figure.prototype.handle_draw = function(fig, msg) {\n",
       "    // Request the server to send over a new figure.\n",
       "    fig.send_draw_message();\n",
       "}\n",
       "\n",
       "mpl.figure.prototype.handle_image_mode = function(fig, msg) {\n",
       "    fig.image_mode = msg['mode'];\n",
       "}\n",
       "\n",
       "mpl.figure.prototype.updated_canvas_event = function() {\n",
       "    // Called whenever the canvas gets updated.\n",
       "    this.send_message(\"ack\", {});\n",
       "}\n",
       "\n",
       "// A function to construct a web socket function for onmessage handling.\n",
       "// Called in the figure constructor.\n",
       "mpl.figure.prototype._make_on_message_function = function(fig) {\n",
       "    return function socket_on_message(evt) {\n",
       "        if (evt.data instanceof Blob) {\n",
       "            /* FIXME: We get \"Resource interpreted as Image but\n",
       "             * transferred with MIME type text/plain:\" errors on\n",
       "             * Chrome.  But how to set the MIME type?  It doesn't seem\n",
       "             * to be part of the websocket stream */\n",
       "            evt.data.type = \"image/png\";\n",
       "\n",
       "            /* Free the memory for the previous frames */\n",
       "            if (fig.imageObj.src) {\n",
       "                (window.URL || window.webkitURL).revokeObjectURL(\n",
       "                    fig.imageObj.src);\n",
       "            }\n",
       "\n",
       "            fig.imageObj.src = (window.URL || window.webkitURL).createObjectURL(\n",
       "                evt.data);\n",
       "            fig.updated_canvas_event();\n",
       "            fig.waiting = false;\n",
       "            return;\n",
       "        }\n",
       "        else if (typeof evt.data === 'string' && evt.data.slice(0, 21) == \"data:image/png;base64\") {\n",
       "            fig.imageObj.src = evt.data;\n",
       "            fig.updated_canvas_event();\n",
       "            fig.waiting = false;\n",
       "            return;\n",
       "        }\n",
       "\n",
       "        var msg = JSON.parse(evt.data);\n",
       "        var msg_type = msg['type'];\n",
       "\n",
       "        // Call the  \"handle_{type}\" callback, which takes\n",
       "        // the figure and JSON message as its only arguments.\n",
       "        try {\n",
       "            var callback = fig[\"handle_\" + msg_type];\n",
       "        } catch (e) {\n",
       "            console.log(\"No handler for the '\" + msg_type + \"' message type: \", msg);\n",
       "            return;\n",
       "        }\n",
       "\n",
       "        if (callback) {\n",
       "            try {\n",
       "                // console.log(\"Handling '\" + msg_type + \"' message: \", msg);\n",
       "                callback(fig, msg);\n",
       "            } catch (e) {\n",
       "                console.log(\"Exception inside the 'handler_\" + msg_type + \"' callback:\", e, e.stack, msg);\n",
       "            }\n",
       "        }\n",
       "    };\n",
       "}\n",
       "\n",
       "// from http://stackoverflow.com/questions/1114465/getting-mouse-location-in-canvas\n",
       "mpl.findpos = function(e) {\n",
       "    //this section is from http://www.quirksmode.org/js/events_properties.html\n",
       "    var targ;\n",
       "    if (!e)\n",
       "        e = window.event;\n",
       "    if (e.target)\n",
       "        targ = e.target;\n",
       "    else if (e.srcElement)\n",
       "        targ = e.srcElement;\n",
       "    if (targ.nodeType == 3) // defeat Safari bug\n",
       "        targ = targ.parentNode;\n",
       "\n",
       "    // jQuery normalizes the pageX and pageY\n",
       "    // pageX,Y are the mouse positions relative to the document\n",
       "    // offset() returns the position of the element relative to the document\n",
       "    var x = e.pageX - $(targ).offset().left;\n",
       "    var y = e.pageY - $(targ).offset().top;\n",
       "\n",
       "    return {\"x\": x, \"y\": y};\n",
       "};\n",
       "\n",
       "/*\n",
       " * return a copy of an object with only non-object keys\n",
       " * we need this to avoid circular references\n",
       " * http://stackoverflow.com/a/24161582/3208463\n",
       " */\n",
       "function simpleKeys (original) {\n",
       "  return Object.keys(original).reduce(function (obj, key) {\n",
       "    if (typeof original[key] !== 'object')\n",
       "        obj[key] = original[key]\n",
       "    return obj;\n",
       "  }, {});\n",
       "}\n",
       "\n",
       "mpl.figure.prototype.mouse_event = function(event, name) {\n",
       "    var canvas_pos = mpl.findpos(event)\n",
       "\n",
       "    if (name === 'button_press')\n",
       "    {\n",
       "        this.canvas.focus();\n",
       "        this.canvas_div.focus();\n",
       "    }\n",
       "\n",
       "    var x = canvas_pos.x * mpl.ratio;\n",
       "    var y = canvas_pos.y * mpl.ratio;\n",
       "\n",
       "    this.send_message(name, {x: x, y: y, button: event.button,\n",
       "                             step: event.step,\n",
       "                             guiEvent: simpleKeys(event)});\n",
       "\n",
       "    /* This prevents the web browser from automatically changing to\n",
       "     * the text insertion cursor when the button is pressed.  We want\n",
       "     * to control all of the cursor setting manually through the\n",
       "     * 'cursor' event from matplotlib */\n",
       "    event.preventDefault();\n",
       "    return false;\n",
       "}\n",
       "\n",
       "mpl.figure.prototype._key_event_extra = function(event, name) {\n",
       "    // Handle any extra behaviour associated with a key event\n",
       "}\n",
       "\n",
       "mpl.figure.prototype.key_event = function(event, name) {\n",
       "\n",
       "    // Prevent repeat events\n",
       "    if (name == 'key_press')\n",
       "    {\n",
       "        if (event.which === this._key)\n",
       "            return;\n",
       "        else\n",
       "            this._key = event.which;\n",
       "    }\n",
       "    if (name == 'key_release')\n",
       "        this._key = null;\n",
       "\n",
       "    var value = '';\n",
       "    if (event.ctrlKey && event.which != 17)\n",
       "        value += \"ctrl+\";\n",
       "    if (event.altKey && event.which != 18)\n",
       "        value += \"alt+\";\n",
       "    if (event.shiftKey && event.which != 16)\n",
       "        value += \"shift+\";\n",
       "\n",
       "    value += 'k';\n",
       "    value += event.which.toString();\n",
       "\n",
       "    this._key_event_extra(event, name);\n",
       "\n",
       "    this.send_message(name, {key: value,\n",
       "                             guiEvent: simpleKeys(event)});\n",
       "    return false;\n",
       "}\n",
       "\n",
       "mpl.figure.prototype.toolbar_button_onclick = function(name) {\n",
       "    if (name == 'download') {\n",
       "        this.handle_save(this, null);\n",
       "    } else {\n",
       "        this.send_message(\"toolbar_button\", {name: name});\n",
       "    }\n",
       "};\n",
       "\n",
       "mpl.figure.prototype.toolbar_button_onmouseover = function(tooltip) {\n",
       "    this.message.textContent = tooltip;\n",
       "};\n",
       "mpl.toolbar_items = [[\"Home\", \"Reset original view\", \"fa fa-home icon-home\", \"home\"], [\"Back\", \"Back to previous view\", \"fa fa-arrow-left icon-arrow-left\", \"back\"], [\"Forward\", \"Forward to next view\", \"fa fa-arrow-right icon-arrow-right\", \"forward\"], [\"\", \"\", \"\", \"\"], [\"Pan\", \"Pan axes with left mouse, zoom with right\", \"fa fa-arrows icon-move\", \"pan\"], [\"Zoom\", \"Zoom to rectangle\", \"fa fa-square-o icon-check-empty\", \"zoom\"], [\"\", \"\", \"\", \"\"], [\"Download\", \"Download plot\", \"fa fa-floppy-o icon-save\", \"download\"]];\n",
       "\n",
       "mpl.extensions = [\"eps\", \"jpeg\", \"pdf\", \"png\", \"ps\", \"raw\", \"svg\", \"tif\"];\n",
       "\n",
       "mpl.default_extension = \"png\";var comm_websocket_adapter = function(comm) {\n",
       "    // Create a \"websocket\"-like object which calls the given IPython comm\n",
       "    // object with the appropriate methods. Currently this is a non binary\n",
       "    // socket, so there is still some room for performance tuning.\n",
       "    var ws = {};\n",
       "\n",
       "    ws.close = function() {\n",
       "        comm.close()\n",
       "    };\n",
       "    ws.send = function(m) {\n",
       "        //console.log('sending', m);\n",
       "        comm.send(m);\n",
       "    };\n",
       "    // Register the callback with on_msg.\n",
       "    comm.on_msg(function(msg) {\n",
       "        //console.log('receiving', msg['content']['data'], msg);\n",
       "        // Pass the mpl event to the overridden (by mpl) onmessage function.\n",
       "        ws.onmessage(msg['content']['data'])\n",
       "    });\n",
       "    return ws;\n",
       "}\n",
       "\n",
       "mpl.mpl_figure_comm = function(comm, msg) {\n",
       "    // This is the function which gets called when the mpl process\n",
       "    // starts-up an IPython Comm through the \"matplotlib\" channel.\n",
       "\n",
       "    var id = msg.content.data.id;\n",
       "    // Get hold of the div created by the display call when the Comm\n",
       "    // socket was opened in Python.\n",
       "    var element = $(\"#\" + id);\n",
       "    var ws_proxy = comm_websocket_adapter(comm)\n",
       "\n",
       "    function ondownload(figure, format) {\n",
       "        window.open(figure.imageObj.src);\n",
       "    }\n",
       "\n",
       "    var fig = new mpl.figure(id, ws_proxy,\n",
       "                           ondownload,\n",
       "                           element.get(0));\n",
       "\n",
       "    // Call onopen now - mpl needs it, as it is assuming we've passed it a real\n",
       "    // web socket which is closed, not our websocket->open comm proxy.\n",
       "    ws_proxy.onopen();\n",
       "\n",
       "    fig.parent_element = element.get(0);\n",
       "    fig.cell_info = mpl.find_output_cell(\"<div id='\" + id + \"'></div>\");\n",
       "    if (!fig.cell_info) {\n",
       "        console.error(\"Failed to find cell for figure\", id, fig);\n",
       "        return;\n",
       "    }\n",
       "\n",
       "    var output_index = fig.cell_info[2]\n",
       "    var cell = fig.cell_info[0];\n",
       "\n",
       "};\n",
       "\n",
       "mpl.figure.prototype.handle_close = function(fig, msg) {\n",
       "    var width = fig.canvas.width/mpl.ratio\n",
       "    fig.root.unbind('remove')\n",
       "\n",
       "    // Update the output cell to use the data from the current canvas.\n",
       "    fig.push_to_output();\n",
       "    var dataURL = fig.canvas.toDataURL();\n",
       "    // Re-enable the keyboard manager in IPython - without this line, in FF,\n",
       "    // the notebook keyboard shortcuts fail.\n",
       "    IPython.keyboard_manager.enable()\n",
       "    $(fig.parent_element).html('<img src=\"' + dataURL + '\" width=\"' + width + '\">');\n",
       "    fig.close_ws(fig, msg);\n",
       "}\n",
       "\n",
       "mpl.figure.prototype.close_ws = function(fig, msg){\n",
       "    fig.send_message('closing', msg);\n",
       "    // fig.ws.close()\n",
       "}\n",
       "\n",
       "mpl.figure.prototype.push_to_output = function(remove_interactive) {\n",
       "    // Turn the data on the canvas into data in the output cell.\n",
       "    var width = this.canvas.width/mpl.ratio\n",
       "    var dataURL = this.canvas.toDataURL();\n",
       "    this.cell_info[1]['text/html'] = '<img src=\"' + dataURL + '\" width=\"' + width + '\">';\n",
       "}\n",
       "\n",
       "mpl.figure.prototype.updated_canvas_event = function() {\n",
       "    // Tell IPython that the notebook contents must change.\n",
       "    IPython.notebook.set_dirty(true);\n",
       "    this.send_message(\"ack\", {});\n",
       "    var fig = this;\n",
       "    // Wait a second, then push the new image to the DOM so\n",
       "    // that it is saved nicely (might be nice to debounce this).\n",
       "    setTimeout(function () { fig.push_to_output() }, 1000);\n",
       "}\n",
       "\n",
       "mpl.figure.prototype._init_toolbar = function() {\n",
       "    var fig = this;\n",
       "\n",
       "    var nav_element = $('<div/>');\n",
       "    nav_element.attr('style', 'width: 100%');\n",
       "    this.root.append(nav_element);\n",
       "\n",
       "    // Define a callback function for later on.\n",
       "    function toolbar_event(event) {\n",
       "        return fig.toolbar_button_onclick(event['data']);\n",
       "    }\n",
       "    function toolbar_mouse_event(event) {\n",
       "        return fig.toolbar_button_onmouseover(event['data']);\n",
       "    }\n",
       "\n",
       "    for(var toolbar_ind in mpl.toolbar_items){\n",
       "        var name = mpl.toolbar_items[toolbar_ind][0];\n",
       "        var tooltip = mpl.toolbar_items[toolbar_ind][1];\n",
       "        var image = mpl.toolbar_items[toolbar_ind][2];\n",
       "        var method_name = mpl.toolbar_items[toolbar_ind][3];\n",
       "\n",
       "        if (!name) { continue; };\n",
       "\n",
       "        var button = $('<button class=\"btn btn-default\" href=\"#\" title=\"' + name + '\"><i class=\"fa ' + image + ' fa-lg\"></i></button>');\n",
       "        button.click(method_name, toolbar_event);\n",
       "        button.mouseover(tooltip, toolbar_mouse_event);\n",
       "        nav_element.append(button);\n",
       "    }\n",
       "\n",
       "    // Add the status bar.\n",
       "    var status_bar = $('<span class=\"mpl-message\" style=\"text-align:right; float: right;\"/>');\n",
       "    nav_element.append(status_bar);\n",
       "    this.message = status_bar[0];\n",
       "\n",
       "    // Add the close button to the window.\n",
       "    var buttongrp = $('<div class=\"btn-group inline pull-right\"></div>');\n",
       "    var button = $('<button class=\"btn btn-mini btn-primary\" href=\"#\" title=\"Stop Interaction\"><i class=\"fa fa-power-off icon-remove icon-large\"></i></button>');\n",
       "    button.click(function (evt) { fig.handle_close(fig, {}); } );\n",
       "    button.mouseover('Stop Interaction', toolbar_mouse_event);\n",
       "    buttongrp.append(button);\n",
       "    var titlebar = this.root.find($('.ui-dialog-titlebar'));\n",
       "    titlebar.prepend(buttongrp);\n",
       "}\n",
       "\n",
       "mpl.figure.prototype._root_extra_style = function(el){\n",
       "    var fig = this\n",
       "    el.on(\"remove\", function(){\n",
       "\tfig.close_ws(fig, {});\n",
       "    });\n",
       "}\n",
       "\n",
       "mpl.figure.prototype._canvas_extra_style = function(el){\n",
       "    // this is important to make the div 'focusable\n",
       "    el.attr('tabindex', 0)\n",
       "    // reach out to IPython and tell the keyboard manager to turn it's self\n",
       "    // off when our div gets focus\n",
       "\n",
       "    // location in version 3\n",
       "    if (IPython.notebook.keyboard_manager) {\n",
       "        IPython.notebook.keyboard_manager.register_events(el);\n",
       "    }\n",
       "    else {\n",
       "        // location in version 2\n",
       "        IPython.keyboard_manager.register_events(el);\n",
       "    }\n",
       "\n",
       "}\n",
       "\n",
       "mpl.figure.prototype._key_event_extra = function(event, name) {\n",
       "    var manager = IPython.notebook.keyboard_manager;\n",
       "    if (!manager)\n",
       "        manager = IPython.keyboard_manager;\n",
       "\n",
       "    // Check for shift+enter\n",
       "    if (event.shiftKey && event.which == 13) {\n",
       "        this.canvas_div.blur();\n",
       "        // select the cell after this one\n",
       "        var index = IPython.notebook.find_cell_index(this.cell_info[0]);\n",
       "        IPython.notebook.select(index + 1);\n",
       "    }\n",
       "}\n",
       "\n",
       "mpl.figure.prototype.handle_save = function(fig, msg) {\n",
       "    fig.ondownload(fig, null);\n",
       "}\n",
       "\n",
       "\n",
       "mpl.find_output_cell = function(html_output) {\n",
       "    // Return the cell and output element which can be found *uniquely* in the notebook.\n",
       "    // Note - this is a bit hacky, but it is done because the \"notebook_saving.Notebook\"\n",
       "    // IPython event is triggered only after the cells have been serialised, which for\n",
       "    // our purposes (turning an active figure into a static one), is too late.\n",
       "    var cells = IPython.notebook.get_cells();\n",
       "    var ncells = cells.length;\n",
       "    for (var i=0; i<ncells; i++) {\n",
       "        var cell = cells[i];\n",
       "        if (cell.cell_type === 'code'){\n",
       "            for (var j=0; j<cell.output_area.outputs.length; j++) {\n",
       "                var data = cell.output_area.outputs[j];\n",
       "                if (data.data) {\n",
       "                    // IPython >= 3 moved mimebundle to data attribute of output\n",
       "                    data = data.data;\n",
       "                }\n",
       "                if (data['text/html'] == html_output) {\n",
       "                    return [cell, data, j];\n",
       "                }\n",
       "            }\n",
       "        }\n",
       "    }\n",
       "}\n",
       "\n",
       "// Register the function which deals with the matplotlib target/channel.\n",
       "// The kernel may be null if the page has been refreshed.\n",
       "if (IPython.notebook.kernel != null) {\n",
       "    IPython.notebook.kernel.comm_manager.register_target('matplotlib', mpl.mpl_figure_comm);\n",
       "}\n"
      ],
      "text/plain": [
       "<IPython.core.display.Javascript object>"
      ]
     },
     "metadata": {},
     "output_type": "display_data"
    },
    {
     "data": {
      "text/html": [
       "<img src=\"data:image/png;base64,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\" width=\"640\">"
      ],
      "text/plain": [
       "<IPython.core.display.HTML object>"
      ]
     },
     "metadata": {},
     "output_type": "display_data"
    },
    {
     "data": {
      "text/plain": [
       "Text(0, 0.5, 'Price')"
      ]
     },
     "execution_count": 332,
     "metadata": {},
     "output_type": "execute_result"
    }
   ],
   "source": [
    "%matplotlib notebook\n",
    "df['Adj. Close'].plot()\n",
    "df['Prediction'].plot()\n",
    "plt.legend(loc=4)\n",
    "\n",
    "plt.xlabel('Date')\n",
    "plt.ylabel('Price')"
   ]
  },
  {
   "cell_type": "code",
   "execution_count": null,
   "metadata": {},
   "outputs": [],
   "source": []
  }
 ],
 "metadata": {
  "kernelspec": {
   "display_name": "Python 3.7.4 32-bit",
   "language": "python",
   "name": "python37432bitc856d1d617f0478da8cbf97a005d9730"
  },
  "language_info": {
   "codemirror_mode": {
    "name": "ipython",
    "version": 3
   },
   "file_extension": ".py",
   "mimetype": "text/x-python",
   "name": "python",
   "nbconvert_exporter": "python",
   "pygments_lexer": "ipython3",
   "version": "3.7.4"
  }
 },
 "nbformat": 4,
 "nbformat_minor": 4
}
