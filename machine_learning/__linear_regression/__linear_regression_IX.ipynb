{
 "cells": [
  {
   "cell_type": "markdown",
   "metadata": {},
   "source": [
    "# Least squares with polynomial features fit"
   ]
  },
  {
   "cell_type": "markdown",
   "metadata": {},
   "source": [
    "This is continuation of lecture [Polynomial model implementation](http://localhost:8888/notebooks/machine_learning/__linear_regression/__linear_regession_VI.ipynb) and [Metrics: RMSE, MAE, MSE, MAPE, MPE overview](http://localhost:8888/notebooks/machine_learning/__linear_regression/__linear_regression_VIII.ipynb)\n"
   ]
  },
  {
   "cell_type": "code",
   "execution_count": 2,
   "metadata": {},
   "outputs": [],
   "source": [
    "%matplotlib inline\n",
    "#%matplotlib notebook\n",
    "import sys\n",
    "import random\n",
    "import numpy as np\n",
    "import matplotlib.pyplot as plt\n",
    "from mpl_toolkits.mplot3d import Axes3D"
   ]
  },
  {
   "cell_type": "code",
   "execution_count": 42,
   "metadata": {},
   "outputs": [],
   "source": [
    "def generate_set(size):\n",
    "    return 6 * np.random.rand(size, 1) - 2"
   ]
  },
  {
   "cell_type": "code",
   "execution_count": 43,
   "metadata": {
    "scrolled": true
   },
   "outputs": [
    {
     "data": {
      "image/png": "[encoded data removed]",
      "text/plain": [
       "<Figure size 432x288 with 1 Axes>"
      ]
     },
     "metadata": {
      "needs_background": "light"
     },
     "output_type": "display_data"
    }
   ],
   "source": [
    "m = 50\n",
    "x = generate_set(m)\n",
    "theta = [0.7, 2]\n",
    "# 1, q, b, q^2, qb, b^2\n",
    "y = theta[0]*x**2 - theta[1]*x + 3 + np.random.randn(m, 1)\n",
    "\n",
    "# print(\n",
    "#     f'x set is: {x}'\n",
    "# )\n",
    "\n",
    "plt.plot(x, y, 'b+')\n",
    "plt.show()"
   ]
  },
  {
   "cell_type": "markdown",
   "metadata": {},
   "source": [
    "LinearRegression model method <code>**[fit()](https://scikit-learn.org/stable/modules/generated/sklearn.linear_model.LinearRegression.html#sklearn.linear_model.LinearRegression.fit)**</code> and <code>**[predict()](https://scikit-learn.org/stable/modules/generated/sklearn.linear_model.LinearRegression.html#sklearn.linear_model.LinearRegression.predict)**</code>"
   ]
  },
  {
   "cell_type": "code",
   "execution_count": 44,
   "metadata": {},
   "outputs": [
    {
     "data": {
      "text/plain": [
       "array([[ 2.55868543],\n",
       "       [-1.64021113],\n",
       "       [ 1.07915008],\n",
       "       [ 1.48151989],\n",
       "       [-1.63184187],\n",
       "       [ 3.37863376],\n",
       "       [-1.69143624],\n",
       "       [-0.38669884],\n",
       "       [-0.34399346],\n",
       "       [ 3.67232022],\n",
       "       [ 2.20976171],\n",
       "       [ 3.91629249],\n",
       "       [ 2.02491681],\n",
       "       [ 1.237103  ],\n",
       "       [ 0.63513029],\n",
       "       [ 2.77948325],\n",
       "       [ 0.01576694],\n",
       "       [ 2.94543653],\n",
       "       [-1.00109234],\n",
       "       [ 0.9380941 ],\n",
       "       [ 0.12443573],\n",
       "       [ 2.43981032],\n",
       "       [ 0.2092322 ],\n",
       "       [-1.28702085],\n",
       "       [ 2.49618632],\n",
       "       [ 0.75567704],\n",
       "       [ 2.06150515],\n",
       "       [-0.35569364],\n",
       "       [ 0.32868667],\n",
       "       [ 0.6907825 ],\n",
       "       [ 3.65895667],\n",
       "       [-0.23299265],\n",
       "       [-0.51596264],\n",
       "       [ 3.64447528],\n",
       "       [ 1.55120911],\n",
       "       [ 0.99637156],\n",
       "       [ 1.20913494],\n",
       "       [ 3.23134197],\n",
       "       [-0.77567568],\n",
       "       [ 3.72755746],\n",
       "       [-0.4606708 ],\n",
       "       [ 2.67661516],\n",
       "       [-1.14350709],\n",
       "       [-1.21932585],\n",
       "       [ 0.04537275],\n",
       "       [ 0.43818202],\n",
       "       [ 2.44405673],\n",
       "       [-0.69713687],\n",
       "       [-0.34566528],\n",
       "       [-1.69781744]])"
      ]
     },
     "execution_count": 44,
     "metadata": {},
     "output_type": "execute_result"
    }
   ],
   "source": [
    "x"
   ]
  },
  {
   "cell_type": "code",
   "execution_count": 3,
   "metadata": {},
   "outputs": [],
   "source": [
    "from sklearn.pipeline import Pipeline\n",
    "from sklearn.linear_model import LinearRegression\n",
    "from sklearn.preprocessing import PolynomialFeatures\n",
    "from sklearn.model_selection import train_test_split\n",
    "from sklearn.metrics import r2_score, mean_squared_error"
   ]
  },
  {
   "cell_type": "code",
   "execution_count": 46,
   "metadata": {},
   "outputs": [
    {
     "name": "stdout",
     "output_type": "stream",
     "text": [
      "RMSE: 2.115\n",
      "R2:   0.135\n"
     ]
    },
    {
     "data": {
      "image/png": "[encoded data removed]",
      "text/plain": [
       "<Figure size 432x288 with 1 Axes>"
      ]
     },
     "metadata": {
      "needs_background": "light"
     },
     "output_type": "display_data"
    }
   ],
   "source": [
    "m = LinearRegression()\n",
    "m.fit(x, y)\n",
    "y_preds = m.predict(x)\n",
    "\n",
    "print(\n",
    "    f'RMSE: {np.sqrt(mean_squared_error(y, y_preds)):.3f}\\n' \n",
    "    f'R2:   {r2_score(y, y_preds):.3f}'\n",
    ")\n",
    "\n",
    "plt.plot(x, y, 'b+')\n",
    "plt.plot(x, y_preds, 'r-')\n",
    "plt.show()"
   ]
  },
  {
   "cell_type": "code",
   "execution_count": 47,
   "metadata": {},
   "outputs": [
    {
     "data": {
      "text/plain": [
       "array([[ 2.55868543],\n",
       "       [-1.64021113],\n",
       "       [ 1.07915008],\n",
       "       [ 1.48151989],\n",
       "       [-1.63184187],\n",
       "       [ 3.37863376],\n",
       "       [-1.69143624],\n",
       "       [-0.38669884],\n",
       "       [-0.34399346],\n",
       "       [ 3.67232022],\n",
       "       [ 2.20976171],\n",
       "       [ 3.91629249],\n",
       "       [ 2.02491681],\n",
       "       [ 1.237103  ],\n",
       "       [ 0.63513029],\n",
       "       [ 2.77948325],\n",
       "       [ 0.01576694],\n",
       "       [ 2.94543653],\n",
       "       [-1.00109234],\n",
       "       [ 0.9380941 ],\n",
       "       [ 0.12443573],\n",
       "       [ 2.43981032],\n",
       "       [ 0.2092322 ],\n",
       "       [-1.28702085],\n",
       "       [ 2.49618632],\n",
       "       [ 0.75567704],\n",
       "       [ 2.06150515],\n",
       "       [-0.35569364],\n",
       "       [ 0.32868667],\n",
       "       [ 0.6907825 ],\n",
       "       [ 3.65895667],\n",
       "       [-0.23299265],\n",
       "       [-0.51596264],\n",
       "       [ 3.64447528],\n",
       "       [ 1.55120911],\n",
       "       [ 0.99637156],\n",
       "       [ 1.20913494],\n",
       "       [ 3.23134197],\n",
       "       [-0.77567568],\n",
       "       [ 3.72755746],\n",
       "       [-0.4606708 ],\n",
       "       [ 2.67661516],\n",
       "       [-1.14350709],\n",
       "       [-1.21932585],\n",
       "       [ 0.04537275],\n",
       "       [ 0.43818202],\n",
       "       [ 2.44405673],\n",
       "       [-0.69713687],\n",
       "       [-0.34566528],\n",
       "       [-1.69781744]])"
      ]
     },
     "execution_count": 47,
     "metadata": {},
     "output_type": "execute_result"
    }
   ],
   "source": [
    "x"
   ]
  },
  {
   "cell_type": "markdown",
   "metadata": {},
   "source": [
    "Lets discuss and implement \n",
    "<code>**[PolynomialFeatures()](https://scikit-learn.org/stable/modules/generated/sklearn.preprocessing.PolynomialFeatures.html)**</code> method and \n",
    "<code>**[fit_transform()](https://scikit-learn.org/stable/modules/generated/sklearn.preprocessing.PolynomialFeatures.html#sklearn.preprocessing.PolynomialFeatures.fit_transform)**</code> method \n",
    "\n",
    "PlynomialFeatures method will generate a new feature matrix consisting of all polynomial combinations of the features with degree less than or equal to the specified degree. "
   ]
  },
  {
   "cell_type": "code",
   "execution_count": 9,
   "metadata": {},
   "outputs": [
    {
     "name": "stdout",
     "output_type": "stream",
     "text": [
      "features we provide: [[2 4]] \n",
      "\n",
      "features that we get: [[ 1.  2.  4.  4.  8. 16.]]\n"
     ]
    }
   ],
   "source": [
    "\n",
    "A = np.array([\n",
    "    [2, 4]\n",
    "])\n",
    "\n",
    "# PolynomialFeatures default degree 2 \n",
    "poly = PolynomialFeatures()\n",
    "B = poly.fit_transform(A)\n",
    "\n",
    "print(f'features we provide: {A} \\n')\n",
    "print(f'features that we get: {B}')"
   ]
  },
  {
   "cell_type": "markdown",
   "metadata": {},
   "source": [
    "features [q, b] of the 2° polynomial features are going to be [1, q, b, q^2, qb, b^2]"
   ]
  },
  {
   "cell_type": "code",
   "execution_count": 12,
   "metadata": {},
   "outputs": [
    {
     "name": "stdout",
     "output_type": "stream",
     "text": [
      "[[1. 2. 4. 8.]]\n"
     ]
    }
   ],
   "source": [
    "poly = PolynomialFeatures(degree=4, interaction_only=True)\n",
    "C = poly.fit_transform(A)\n",
    "print(C)"
   ]
  },
  {
   "cell_type": "markdown",
   "metadata": {},
   "source": [
    "<code>**include_bias**</code> thats our extra column that corresponds for extra feature x_0 that always take value of 1, recap from lecture [__linear_regession_V - Computing parameters analytically](http://localhost:8888/notebooks/machine_learning/__linear_regression/__linear_regession_V.ipynb)"
   ]
  },
  {
   "cell_type": "code",
   "execution_count": 50,
   "metadata": {},
   "outputs": [
    {
     "data": {
      "text/plain": [
       "array([[2., 4., 8.]])"
      ]
     },
     "execution_count": 50,
     "metadata": {},
     "output_type": "execute_result"
    }
   ],
   "source": [
    "poly = PolynomialFeatures(interaction_only=True, include_bias=False)\n",
    "poly.fit_transform(A)"
   ]
  },
  {
   "cell_type": "markdown",
   "metadata": {},
   "source": [
    "Some of the attributes we are provided with"
   ]
  },
  {
   "cell_type": "code",
   "execution_count": 52,
   "metadata": {},
   "outputs": [
    {
     "name": "stdout",
     "output_type": "stream",
     "text": [
      "no of features we gave: 2\n",
      "\n",
      "how many features returned: 6\n"
     ]
    }
   ],
   "source": [
    "poly = PolynomialFeatures()\n",
    "poly.fit_transform(A)\n",
    "\n",
    "# print(f'{poly.powers_}\\n')\n",
    "print(f'no of features we gave: {poly.n_input_features_}\\n')\n",
    "print(f'how many features returned: {poly.n_output_features_}')"
   ]
  },
  {
   "cell_type": "code",
   "execution_count": 53,
   "metadata": {},
   "outputs": [
    {
     "name": "stdout",
     "output_type": "stream",
     "text": [
      "RMSE: 0.948\n",
      "R2:   0.826\n"
     ]
    },
    {
     "data": {
      "image/png": "[encoded data removed]",
      "text/plain": [
       "<Figure size 432x288 with 1 Axes>"
      ]
     },
     "metadata": {
      "needs_background": "light"
     },
     "output_type": "display_data"
    }
   ],
   "source": [
    "x_polynomial = PolynomialFeatures().fit_transform(x)\n",
    "\n",
    "# print(\n",
    "#     f'polynomials: {x_polynomial}\\n' \n",
    "# )\n",
    "\n",
    "model = LinearRegression()\n",
    "model.fit(x_polynomial, y)\n",
    "    \n",
    "y_predictions = model.predict(x_polynomial)\n",
    "\n",
    "print(\n",
    "    f'RMSE: {np.sqrt(mean_squared_error(y, y_predictions)):.3f}\\n' \n",
    "    f'R2:   {r2_score(y, y_predictions):.3f}'\n",
    ")\n",
    "\n",
    "plt.plot(x, y, 'b+')\n",
    "plt.plot(sorted(x[:, 0]), y_predictions[np.argsort(x[:, 0])], 'r')\n",
    "plt.show()\n",
    "\n",
    "# RMSE: 1.630\n",
    "# R2:   0.575\n",
    "    \n",
    "# RMSE: 0.975\n",
    "# R2:   0.848"
   ]
  },
  {
   "cell_type": "markdown",
   "metadata": {},
   "source": [
    "The performance boost is evident in both the performance metrics – <code>**RMSE**</code> has decreased and <code>**R2**</code> score has increased. The same thing is evident in the plot. Let’s take a few higher degree of polynomial features    2, 4, 8, 16, 32"
   ]
  },
  {
   "cell_type": "code",
   "execution_count": 54,
   "metadata": {},
   "outputs": [
    {
     "name": "stdout",
     "output_type": "stream",
     "text": [
      "Degree: 2\n",
      "RMSE:   0.948\n",
      "R2:     0.826\n",
      "-------------\n",
      "Degree: 4\n",
      "RMSE:   0.901\n",
      "R2:     0.843\n",
      "-------------\n",
      "Degree: 8\n",
      "RMSE:   0.885\n",
      "R2:     0.848\n",
      "-------------\n",
      "Degree: 16\n",
      "RMSE:   0.761\n",
      "R2:     0.888\n",
      "-------------\n",
      "Degree: 32\n",
      "RMSE:   1.602\n",
      "R2:     0.503\n",
      "-------------\n"
     ]
    },
    {
     "data": {
      "image/png": "[encoded data removed]",
      "text/plain": [
       "<Figure size 648x432 with 1 Axes>"
      ]
     },
     "metadata": {
      "needs_background": "light"
     },
     "output_type": "display_data"
    }
   ],
   "source": [
    "#%matplotlib notebook\n",
    "def get_preds(x, y, degree):\n",
    "    poly_feats = PolynomialFeatures(degree=degree, include_bias=False)\n",
    "    x_poly = poly_feats.fit_transform(x)\n",
    "    lr = LinearRegression()\n",
    "    lr.fit(x_poly, y)\n",
    "    return lr.predict(x_poly)\n",
    "\n",
    "degrees = [2,   4,   8,   16,   32]\n",
    "cs      = ['r', 'g', 'c', 'y', 'k']\n",
    "\n",
    "plt.figure(figsize=(9, 6))\n",
    "plt.plot(x, y, 'b+',)\n",
    "\n",
    "for degree, c in zip(degrees, cs):\n",
    "    y_preds = get_preds(x, y, degree)\n",
    "    plt.plot(sorted(x[:, 0]), y_preds[np.argsort(x[:, 0])], c, label='Degree: {}'.format(degree))\n",
    "    print(\n",
    "    f'Degree: {degree}\\n' \n",
    "    f'RMSE:   {np.sqrt(mean_squared_error(y, y_preds)):.3f}\\n' \n",
    "    f'R2:     {r2_score(y, y_preds):.3f}'\n",
    "    '\\n''-------------'\n",
    ")\n",
    "\n",
    "plt.legend()\n",
    "plt.show()"
   ]
  },
  {
   "cell_type": "markdown",
   "metadata": {},
   "source": [
    "Our model complexity was increased by the degree of polynomial features. We went from a bad model of degree 1, which has high bias <code>**underfits**</code>, to quite good model (degree 2) and then to another bad models (degree 16 or 32), which has high variance <code>**overfits**</code>. Thus we hurt performance and we need to make sure that with increased complexity we stays sane levels of performance, refer to <code>**[Big O notion](https://en.wikipedia.org/wiki/Big_O_notation)**</code><br>\n",
    "\n",
    "To get good generalization capabilities that perform well on unseen data we will work with learning curves to peek into performance metrics."
   ]
  },
  {
   "cell_type": "markdown",
   "metadata": {},
   "source": [
    "We can utilitze <code>**[sklearn pipeline module](https://scikit-learn.org/stable/modules/generated/sklearn.pipeline.Pipeline.html)**</code> for <code>**PolynomialFeatures and LinearRegression**</code> to group them into one single entity and perform in conjunction to each other"
   ]
  },
  {
   "cell_type": "code",
   "execution_count": 61,
   "metadata": {},
   "outputs": [
    {
     "data": {
      "image/png": "[encoded data removed]",
      "text/plain": [
       "<Figure size 432x288 with 1 Axes>"
      ]
     },
     "metadata": {
      "needs_background": "light"
     },
     "output_type": "display_data"
    }
   ],
   "source": [
    "model = Pipeline([\n",
    "    ('poly_features', PolynomialFeatures(degree=2, include_bias=False)),\n",
    "    ('lr', LinearRegression())\n",
    "])\n",
    "\n",
    "model.fit(x, y)\n",
    "y_pred = model.predict(x)\n",
    "\n",
    "plt.plot(x, y, 'b+', )\n",
    "plt.plot(sorted(x[:, 0]), y_pred[np.argsort(x[:, 0])], 'r')\n",
    "plt.show()"
   ]
  },
  {
   "cell_type": "markdown",
   "metadata": {},
   "source": [
    "## Metrics and learning curves\n",
    "\n",
    "Training and testing(a.k.a validation) loss"
   ]
  },
  {
   "cell_type": "code",
   "execution_count": 3,
   "metadata": {},
   "outputs": [
    {
     "ename": "NameError",
     "evalue": "name 'mean_squared_error' is not defined",
     "output_type": "error",
     "traceback": [
      "\u001b[1;31m---------------------------------------------------------------------------\u001b[0m",
      "\u001b[1;31mNameError\u001b[0m                                 Traceback (most recent call last)",
      "\u001b[1;32m<ipython-input-3-c1b1448b71bc>\u001b[0m in \u001b[0;36m<module>\u001b[1;34m\u001b[0m\n\u001b[0;32m      1\u001b[0m \u001b[1;31m#%matplotlib notebook\u001b[0m\u001b[1;33m\u001b[0m\u001b[1;33m\u001b[0m\u001b[1;33m\u001b[0m\u001b[0m\n\u001b[0;32m      2\u001b[0m \u001b[0mget_ipython\u001b[0m\u001b[1;33m(\u001b[0m\u001b[1;33m)\u001b[0m\u001b[1;33m.\u001b[0m\u001b[0mrun_line_magic\u001b[0m\u001b[1;33m(\u001b[0m\u001b[1;34m'matplotlib'\u001b[0m\u001b[1;33m,\u001b[0m \u001b[1;34m'inline'\u001b[0m\u001b[1;33m)\u001b[0m\u001b[1;33m\u001b[0m\u001b[1;33m\u001b[0m\u001b[0m\n\u001b[1;32m----> 3\u001b[1;33m \u001b[1;32mdef\u001b[0m \u001b[0mplot_lcs\u001b[0m\u001b[1;33m(\u001b[0m\u001b[0mmodel\u001b[0m\u001b[1;33m,\u001b[0m \u001b[0mX\u001b[0m\u001b[1;33m,\u001b[0m \u001b[0mY\u001b[0m\u001b[1;33m,\u001b[0m \u001b[0mval_split\u001b[0m\u001b[1;33m=\u001b[0m\u001b[1;36m0.2\u001b[0m\u001b[1;33m,\u001b[0m \u001b[0mmetrics\u001b[0m\u001b[1;33m=\u001b[0m\u001b[0mmean_squared_error\u001b[0m\u001b[1;33m)\u001b[0m\u001b[1;33m:\u001b[0m\u001b[1;33m\u001b[0m\u001b[1;33m\u001b[0m\u001b[0m\n\u001b[0m\u001b[0;32m      4\u001b[0m \u001b[1;33m\u001b[0m\u001b[0m\n\u001b[0;32m      5\u001b[0m     \u001b[0mx_train\u001b[0m\u001b[1;33m,\u001b[0m \u001b[0mx_test\u001b[0m\u001b[1;33m,\u001b[0m \u001b[0my_train\u001b[0m\u001b[1;33m,\u001b[0m \u001b[0my_test\u001b[0m \u001b[1;33m=\u001b[0m \u001b[0mtrain_test_split\u001b[0m\u001b[1;33m(\u001b[0m\u001b[0mX\u001b[0m\u001b[1;33m,\u001b[0m \u001b[0mY\u001b[0m\u001b[1;33m,\u001b[0m \u001b[0mtest_size\u001b[0m\u001b[1;33m=\u001b[0m\u001b[0mval_split\u001b[0m\u001b[1;33m)\u001b[0m\u001b[1;33m\u001b[0m\u001b[1;33m\u001b[0m\u001b[0m\n",
      "\u001b[1;31mNameError\u001b[0m: name 'mean_squared_error' is not defined"
     ]
    }
   ],
   "source": [
    "#%matplotlib notebook\n",
    "%matplotlib inline\n",
    "def plot_lcs(model, X, Y, val_split=0.2, metrics=mean_squared_error):\n",
    "    \n",
    "    x_train, x_test, y_train, y_test = train_test_split(X, Y, test_size=val_split)\n",
    "    \n",
    "    # collections of errors:\n",
    "    train_time_loss, test_time_loss = [], []\n",
    "    \n",
    "    # iterating over train size:\n",
    "    for train_size in range(1, len(x_train)):\n",
    "        # training\n",
    "        model.fit(x_train[:train_size], y_train[:train_size])\n",
    "        \n",
    "        # train and val predictions\n",
    "        train_preds = model.predict(x_train[:train_size])\n",
    "        test_preds = model.predict(x_test)\n",
    "        \n",
    "        # metrics calculation\n",
    "        train_time_loss.append(metrics(y_train[:train_size], train_preds))\n",
    "        test_time_loss.append(metrics(y_test, test_preds))\n",
    "        \n",
    "    # plotting curves\n",
    "    plt.plot(np.sqrt(train_time_loss), 'r-*', label='Train loss')\n",
    "    plt.plot(np.sqrt(test_time_loss), 'b-+', label='Test loss')\n",
    "    plt.ylabel('RMSE')\n",
    "    plt.xlabel('Training Set Size')\n",
    "\n",
    "plt.figure(figsize=(14, 6))\n",
    "plot_lcs(model, x, y)\n",
    "plt.legend()\n",
    "plt.show()"
   ]
  },
  {
   "cell_type": "markdown",
   "metadata": {},
   "source": [
    "Trying it with a model having polynomial features of degree 12 and lets see results."
   ]
  },
  {
   "cell_type": "markdown",
   "metadata": {},
   "source": [
    "Gap between <code>**testing loss**</code> curve and the <code>**training loss**</code> curve has increased. Along with this, its noticible that the loss for training set is much more lower than the test(a.k.a validation) set. These two generally are the symptoms of a high variance problem. It  displays that the model is <code>**overfitting the training data**</code> thereby performing poorly on new unseen data.\n",
    "\n",
    "The main take away question is :\n",
    "* 1 ) Are  there features in higher degree polynomials that are better describing our predictions than the features used in lower degree polynomials? \n",
    "\n",
    "* 2 ) And is there a way to regularize the overfitting aspect of a higher degree polynomial regression? "
   ]
  },
  {
   "cell_type": "markdown",
   "metadata": {},
   "source": [
    "## Concept of regularization \n",
    "\n",
    "Now the black magic begins :)"
   ]
  },
  {
   "cell_type": "code",
   "execution_count": null,
   "metadata": {},
   "outputs": [],
   "source": []
  }
 ],
 "metadata": {
  "kernelspec": {
   "display_name": "Python 3.7.4 32-bit",
   "language": "python",
   "name": "python37432bitc856d1d617f0478da8cbf97a005d9730"
  },
  "language_info": {
   "codemirror_mode": {
    "name": "ipython",
    "version": 3
   },
   "file_extension": ".py",
   "mimetype": "text/x-python",
   "name": "python",
   "nbconvert_exporter": "python",
   "pygments_lexer": "ipython3",
   "version": "3.7.4"
  }
 },
 "nbformat": 4,
 "nbformat_minor": 4
}
