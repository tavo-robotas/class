{
 "cells": [
  {
   "cell_type": "markdown",
   "metadata": {},
   "source": [
    "# <code>**- Intro**</code>\n",
    "    - Machine learning\n",
    "    - Supervised learning\n",
    "        - Regression and classification\n",
    "    - Unsupervised learning\n",
    "        - Clusterization, cluster analysis\n",
    "\n",
    "# <code>**- Linear Regression**</code>\n",
    "    - Introduction\n",
    "    - Univariate regression (linear regression with 1 variable)\n",
    "    - Cost function (mean square error)\n",
    "    - Gradient descent\n",
    "    - Multivariate linear regression\n",
    "    - Feature Scaling\n",
    "    - Features and polynomial regression\n",
    "    - Computing parameters analytically"
   ]
  },
  {
   "cell_type": "code",
   "execution_count": null,
   "metadata": {},
   "outputs": [],
   "source": []
  }
 ],
 "metadata": {
  "kernelspec": {
   "display_name": "Python 3.7.4 32-bit",
   "language": "python",
   "name": "python37432bitc856d1d617f0478da8cbf97a005d9730"
  },
  "language_info": {
   "codemirror_mode": {
    "name": "ipython",
    "version": 3
   },
   "file_extension": ".py",
   "mimetype": "text/x-python",
   "name": "python",
   "nbconvert_exporter": "python",
   "pygments_lexer": "ipython3",
   "version": "3.7.4"
  }
 },
 "nbformat": 4,
 "nbformat_minor": 2
}
