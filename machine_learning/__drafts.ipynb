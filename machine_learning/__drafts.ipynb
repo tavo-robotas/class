{
 "cells": [
  {
   "cell_type": "code",
   "execution_count": 2,
   "metadata": {},
   "outputs": [
    {
     "data": {
      "text/plain": [
       "<function matplotlib.pyplot.show(*args, **kw)>"
      ]
     },
     "execution_count": 2,
     "metadata": {},
     "output_type": "execute_result"
    },
    {
     "data": {
      "image/png": "[encoded data removed]",
      "text/plain": [
       "<Figure size 432x288 with 1 Axes>"
      ]
     },
     "metadata": {
      "needs_background": "light"
     },
     "output_type": "display_data"
    }
   ],
   "source": [
    "%matplotlib inline\n",
    "import numpy as np\n",
    "import matplotlib.pyplot as plt\n",
    "\n",
    "N = 10\n",
    "y = np.zeros(N)\n",
    "x1 = np.linspace(0, 10, N)\n",
    "x2 = np.linspace(0,10,N, endpoint=False)\n",
    "plt.ylim(-0.5, 1)\n",
    "plt.plot(x1, y, ':')\n",
    "plt.plot(x2, y + 0.5, 'o')\n",
    "plt.show"
   ]
  },
  {
   "cell_type": "code",
   "execution_count": 94,
   "metadata": {},
   "outputs": [
    {
     "data": {
      "text/plain": [
       "(100, 1)"
      ]
     },
     "execution_count": 94,
     "metadata": {},
     "output_type": "execute_result"
    }
   ],
   "source": [
    "import numpy as np\n",
    "import matplotlib.pyplot as plt\n",
    "\n",
    "data = np.genfromtxt('./data_samples/SLRM/toy_data.csv', delimiter=',')\n",
    "X = data[:,0].reshape(-1,1)\n",
    "X.shape"
   ]
  },
  {
   "cell_type": "code",
   "execution_count": 95,
   "metadata": {},
   "outputs": [],
   "source": [
    "ones = np.ones([X.shape[0], 1])\n",
    "X = np.concatenate([ones, X], 1)\n",
    "y = data[:,1].reshape(-1,1)"
   ]
  },
  {
   "cell_type": "code",
   "execution_count": 96,
   "metadata": {},
   "outputs": [
    {
     "data": {
      "image/png": "[encoded data removed]",
      "text/plain": [
       "<Figure size 432x288 with 1 Axes>"
      ]
     },
     "metadata": {
      "needs_background": "light"
     },
     "output_type": "display_data"
    }
   ],
   "source": [
    "plt.scatter(data[:, 0].reshape(-1,1), y)\n",
    "plt.show()"
   ]
  },
  {
   "cell_type": "code",
   "execution_count": 127,
   "metadata": {},
   "outputs": [],
   "source": [
    "alpha = 0.0001\n",
    "iters = 10000\n",
    "theta = np.array([[1.0, 1.0]])"
   ]
  },
  {
   "cell_type": "code",
   "execution_count": 90,
   "metadata": {},
   "outputs": [
    {
     "data": {
      "text/plain": [
       "(1, 2)"
      ]
     },
     "execution_count": 90,
     "metadata": {},
     "output_type": "execute_result"
    }
   ],
   "source": [
    "theta.shape"
   ]
  },
  {
   "cell_type": "code",
   "execution_count": 89,
   "metadata": {},
   "outputs": [
    {
     "data": {
      "text/plain": [
       "(2, 1)"
      ]
     },
     "execution_count": 89,
     "metadata": {},
     "output_type": "execute_result"
    }
   ],
   "source": [
    "theta.T.shape"
   ]
  },
  {
   "cell_type": "code",
   "execution_count": 91,
   "metadata": {},
   "outputs": [
    {
     "data": {
      "text/plain": [
       "(100, 3)"
      ]
     },
     "execution_count": 91,
     "metadata": {},
     "output_type": "execute_result"
    }
   ],
   "source": [
    "X.shape"
   ]
  },
  {
   "cell_type": "code",
   "execution_count": 112,
   "metadata": {},
   "outputs": [],
   "source": [
    "def cost(X,y, theta):\n",
    "    error = np.power(((X @ theta.T) - y) , 2)\n",
    "    return np.sum(error) / (2*len(X))"
   ]
  },
  {
   "cell_type": "code",
   "execution_count": 113,
   "metadata": {},
   "outputs": [
    {
     "data": {
      "text/plain": [
       "319.40631589398157"
      ]
     },
     "execution_count": 113,
     "metadata": {},
     "output_type": "execute_result"
    }
   ],
   "source": [
    "cost(X,y,theta)"
   ]
  },
  {
   "cell_type": "code",
   "execution_count": 136,
   "metadata": {},
   "outputs": [],
   "source": [
    "def gd(X,y,theta,alpha,iters):\n",
    "    for i in range(iters):\n",
    "        theta = theta - (alpha/len(X)) * np.sum((X @ theta.T -y) * X, axis=0)\n",
    "        c = cost(X,y,theta)\n",
    "#         if i % 100 == 0:\n",
    "#             print(c)\n",
    "    return theta, c"
   ]
  },
  {
   "cell_type": "code",
   "execution_count": 137,
   "metadata": {},
   "outputs": [
    {
     "name": "stdout",
     "output_type": "stream",
     "text": [
      "[[1.26761621 1.4545775 ]] 55.981994934756045\n"
     ]
    }
   ],
   "source": [
    "g, c = gd(X,y,theta,alpha, iters)\n",
    "print(g,c)"
   ]
  },
  {
   "cell_type": "code",
   "execution_count": 138,
   "metadata": {},
   "outputs": [
    {
     "data": {
      "image/png": "[encoded data removed]",
      "text/plain": [
       "<Figure size 432x288 with 1 Axes>"
      ]
     },
     "metadata": {
      "needs_background": "light"
     },
     "output_type": "display_data"
    }
   ],
   "source": [
    "plt.scatter(data[:,0].reshape(-1,1), y)\n",
    "axes = plt.gca()\n",
    "x_vals = np.array(axes.get_xlim())\n",
    "y_vals = g[0][0] + g[0][1] *x_vals\n",
    "plt.plot(x_vals,y_vals, '--')\n",
    "plt.show()"
   ]
  },
  {
   "cell_type": "code",
   "execution_count": 3,
   "metadata": {},
   "outputs": [
    {
     "data": {
      "text/plain": [
       "(3, 4)"
      ]
     },
     "execution_count": 3,
     "metadata": {},
     "output_type": "execute_result"
    }
   ],
   "source": [
    "a = np.array([\n",
    "    [1, 2, 3, 4],\n",
    "    [5, 6, 7, 8],\n",
    "    [9, 10, 11, 12]\n",
    "])\n",
    "a.shape\n"
   ]
  },
  {
   "cell_type": "code",
   "execution_count": 19,
   "metadata": {},
   "outputs": [
    {
     "data": {
      "text/plain": [
       "array([[ 1,  2,  3,  4],\n",
       "       [ 5,  6,  7,  8],\n",
       "       [ 9, 10, 11, 12]])"
      ]
     },
     "execution_count": 19,
     "metadata": {},
     "output_type": "execute_result"
    }
   ],
   "source": [
    "b = a.reshape(-1)\n",
    "a"
   ]
  },
  {
   "cell_type": "code",
   "execution_count": 20,
   "metadata": {},
   "outputs": [
    {
     "data": {
      "text/plain": [
       "array([ 1,  2,  3,  4,  5,  6,  7,  8,  9, 10, 11, 12])"
      ]
     },
     "execution_count": 20,
     "metadata": {},
     "output_type": "execute_result"
    }
   ],
   "source": [
    "b"
   ]
  },
  {
   "cell_type": "code",
   "execution_count": 21,
   "metadata": {},
   "outputs": [
    {
     "data": {
      "text/plain": [
       "array([[ 1,  2,  3,  4,  5,  6,  7,  8,  9, 10, 11, 12]])"
      ]
     },
     "execution_count": 21,
     "metadata": {},
     "output_type": "execute_result"
    }
   ],
   "source": [
    "d = b.reshape(1,-1)\n",
    "d"
   ]
  },
  {
   "cell_type": "code",
   "execution_count": 22,
   "metadata": {},
   "outputs": [
    {
     "data": {
      "text/plain": [
       "(1, 12)"
      ]
     },
     "execution_count": 22,
     "metadata": {},
     "output_type": "execute_result"
    }
   ],
   "source": [
    "d.shape"
   ]
  },
  {
   "cell_type": "code",
   "execution_count": 23,
   "metadata": {},
   "outputs": [
    {
     "data": {
      "text/plain": [
       "(12,)"
      ]
     },
     "execution_count": 23,
     "metadata": {},
     "output_type": "execute_result"
    }
   ],
   "source": [
    "b.shape"
   ]
  },
  {
   "cell_type": "code",
   "execution_count": 24,
   "metadata": {},
   "outputs": [
    {
     "data": {
      "text/plain": [
       "array([ 1,  2,  3,  4,  5,  6,  7,  8,  9, 10, 11, 12])"
      ]
     },
     "execution_count": 24,
     "metadata": {},
     "output_type": "execute_result"
    }
   ],
   "source": [
    "b"
   ]
  },
  {
   "cell_type": "code",
   "execution_count": 27,
   "metadata": {},
   "outputs": [
    {
     "data": {
      "text/plain": [
       "array([[ 1,  2,  3,  4],\n",
       "       [ 5,  6,  7,  8],\n",
       "       [ 9, 10, 11, 12]])"
      ]
     },
     "execution_count": 27,
     "metadata": {},
     "output_type": "execute_result"
    }
   ],
   "source": [
    "a"
   ]
  },
  {
   "cell_type": "code",
   "execution_count": 77,
   "metadata": {},
   "outputs": [],
   "source": [
    "a = np.array([\n",
    "    [1, 2, 3], \n",
    "    [4, 5, 6]\n",
    "])\n",
    "b = np.array([\n",
    "    [7, 8, 9],\n",
    "    [10, 11, 12]\n",
    "])"
   ]
  },
  {
   "cell_type": "code",
   "execution_count": 79,
   "metadata": {},
   "outputs": [
    {
     "data": {
      "text/plain": [
       "array([[ 1,  2,  3],\n",
       "       [ 4,  5,  6],\n",
       "       [ 7,  8,  9],\n",
       "       [10, 11, 12]])"
      ]
     },
     "execution_count": 79,
     "metadata": {},
     "output_type": "execute_result"
    }
   ],
   "source": [
    "np.concatenate((a, b), axis=0)"
   ]
  },
  {
   "cell_type": "code",
   "execution_count": 80,
   "metadata": {},
   "outputs": [],
   "source": [
    "x1 = range(6)"
   ]
  },
  {
   "cell_type": "code",
   "execution_count": 81,
   "metadata": {},
   "outputs": [
    {
     "data": {
      "text/plain": [
       "range(0, 6)"
      ]
     },
     "execution_count": 81,
     "metadata": {},
     "output_type": "execute_result"
    }
   ],
   "source": [
    "x1"
   ]
  },
  {
   "cell_type": "code",
   "execution_count": 84,
   "metadata": {},
   "outputs": [
    {
     "data": {
      "text/plain": [
       "array([  0,   1,   8,  27,  64, 125], dtype=int32)"
      ]
     },
     "execution_count": 84,
     "metadata": {},
     "output_type": "execute_result"
    }
   ],
   "source": []
  },
  {
   "cell_type": "code",
   "execution_count": null,
   "metadata": {},
   "outputs": [],
   "source": []
  },
  {
   "cell_type": "code",
   "execution_count": 1,
   "metadata": {},
   "outputs": [
    {
     "name": "stdout",
     "output_type": "stream",
     "text": [
      "error: 144.01761729677813\n",
      "error: 38.79595141300535\n",
      "Error: 38.79540136072385\n"
     ]
    }
   ],
   "source": [
    "import numpy as np\n",
    "\n",
    "class LR:  \n",
    "    def __init__(self, rate):\n",
    "        self.m = 0\n",
    "        self.b = 0\n",
    "        self.learning_rate = rate\n",
    "\n",
    "    def cost_function(self, x, y):\n",
    "        totalError = 0\n",
    "        for i in range(0, len(x)):\n",
    "            totalError += ((self.m* x[i] + self.b) - y[i])**2\n",
    "        return totalError/float(len(x))\n",
    "\n",
    "    def fit(self, x, y, num_iterations):\n",
    "        N = float(len(x))\n",
    "        for j in range(num_iterations):\n",
    "            b_gradient = 0\n",
    "            m_gradient = 0\n",
    "            for i in range(0, len(x)):\n",
    "                b_gradient += -(2/N) * (y[i] - ((self.m * x[i]) + self.b))\n",
    "                m_gradient += -(2/N) * x[i] * (y[i] - ((self.m * x[i]) + self.b))\n",
    "            self.b -= (self.learning_rate * b_gradient)\n",
    "            self.m -= (self.learning_rate * m_gradient)\n",
    "            if j % 50 == 0:\n",
    "                print('error:', self.cost_function(x, y))\n",
    "\n",
    "    def predict(self, xs):\n",
    "        return [(self.m * x + self.b) for x in xs]\n",
    "\n",
    "# Testing functionality\n",
    "if __name__ == '__main__':\n",
    "    x = np.linspace(0, 100, 50)\n",
    "    delta = np.random.uniform(-10, 10, x.size)\n",
    "    y = 0.5 * x + 3 + delta\n",
    "\n",
    "    model = LR(0.0001)\n",
    "    model.fit(x, y, 100)\n",
    "    print('Error:', model.cost_function(x, y))"
   ]
  },
  {
   "cell_type": "code",
   "execution_count": null,
   "metadata": {},
   "outputs": [],
   "source": [
    "X = np.append(np.ones((m,1)), df['TV'].values.reshape(m,1), axis=1)\n",
    "\n",
    "y = df['Sales'].values.reshape(m,1)\n",
    "\n",
    "theta_params = np.zeros((2,1))\n",
    "def cost_fun(X, y, theta_params):\n",
    "        y_predict = np.dot(X, theta_params)\n",
    "        sqrd_error = (y_predict - y ) ** 2 \n",
    "        cost = 1/(2*m) * np.sum(sqrd_error)\n",
    "        return cost\n",
    "\n",
    "cost = cost_fun(X, y, theta_params)\n",
    "print(f'when theta params all zeroes cost is : {cost}')\n",
    "def gd(X,y,theta_params, alpha, iterations):\n",
    "    cost = []\n",
    "    for i in range(iterations):\n",
    "        y_pred = np.dot(X, theta_params)\n",
    "        der = np.dot(X.transpose(), (y_pred-y)) / m\n",
    "        theta_params -= alpha * der\n",
    "        cost.append(cost_fun(X, y, theta_params))\n",
    "    return theta, cost\n",
    "\n",
    "theta, cost = gd(X,y, theta_params, alpha = 0.000065, iterations = 400000)\n",
    "theta\n",
    "fix, ax = plt.subplots(figsize= (9, 6))\n",
    "ax.plot(cost)\n",
    "fig, ax = plt.subplots(figsize=(9, 6))\n",
    "fit = np.round(theta_params,3)\n",
    "x_val = np.array(range(0,303))\n",
    "y_val = fit[0, 0] + (fit[1, 0] * x_val)\n",
    "sns.lineplot(x_val, y_val, ax=ax, color='blue')\n",
    "sns.scatterplot(x='TV', y='Sales', data=df, ax=ax, color='red')"
   ]
  },
  {
   "cell_type": "code",
   "execution_count": null,
   "metadata": {},
   "outputs": [],
   "source": [
    "import numpy as np\n",
    "\n",
    "class SLR():\n",
    "    \n",
    "    def __init__(self, lr):\n",
    "        self.m = 0\n",
    "        self.b = 0\n",
    "        self.learning_rate = lr\n",
    "\n",
    "    def cost_function(self, x, y):\n",
    "        totalError = 0\n",
    "        for i in range(0, len(x)):\n",
    "            totalError += (y[i]-(self.m*x[i] + self.b)) **2\n",
    "        return totalError/float(len(x))\n",
    "       \n",
    "\n",
    "    def fit(self, x, y, num_iterations):\n",
    "        N = float(len(x))\n",
    "        for j in range(num_iterations):\n",
    "            b_gradient = 0\n",
    "            m_gradient = 0\n",
    "            for i in range(0, len(x)):\n",
    "                b_gradient += -(2/N) * (y[i] - ((self.m * x[i]) + self.b))\n",
    "                m_gradient += -(2/N) * x[i] * (y[i] - ((self.m * x[i]) + self.b))\n",
    "            self.b -= (self.learning_rate * b_gradient)\n",
    "            self.m -= (self.learning_rate * m_gradient)\n",
    "            if j % 50 == 0:\n",
    "                print('error:', self.cost_function(x, y))\n",
    "\n",
    "    def predict(self, xs):\n",
    "        return [(self.m * x + self.b) for x in xs]\n",
    "\n",
    "\n",
    "# Testing functionality\n",
    "if __name__ == '__main__':\n",
    "    x = np.linspace(0, 100, 50)\n",
    "    delta = np.random.uniform(-10, 10, x.size)\n",
    "    y = 0.5 * x + 3 + delta\n",
    "    \n",
    "    model = SLR(0.0001)\n",
    "    model.fit(x, y, 100)\n",
    "    print('Error:', model.cost_function(x, y))"
   ]
  },
  {
   "cell_type": "code",
   "execution_count": null,
   "metadata": {},
   "outputs": [],
   "source": [
    "\n",
    "class LinearRegression():\n",
    "    def __init__(self, th_0=0, th_1=1, lr=0.01): \n",
    "        self.lr=lr\n",
    "        self.th_0=np.array([[th_0]])\n",
    "        self.th_1=np.array([th_1])\n",
    "        print(th_0)\n",
    "        print(th_1)\n",
    "    def cost(self,x,y):     \n",
    "        y_pred = self.b + x@self.w  # predicted y-values\n",
    "        e=y - y_pred                  # error term\n",
    "        return np.mean(e**2)      # mean squared error\n",
    "    \n",
    "def compute_cost(X, y, theta):\n",
    "    '''\n",
    "    Comput cost for linear regression\n",
    "    '''\n",
    "    # number of training samples\n",
    "    m = y.size\n",
    "    predictions = X.dot(theta).flatten()\n",
    "    sqErrors = (predictions - y) ** 2\n",
    "    J = (1.0 / (2 * m)) * sqErrors.sum()\n",
    "\n",
    "    return J\n",
    "\n",
    "\n",
    "    def fit(self, x,y):\n",
    "        pred = x@self.w+self.b\n",
    "        e=y-pred\n",
    "        dJ_dw=(np.mean(e*(-2*x), axis=0)) # partial derivate of J with respect to w\n",
    "        dJ_db=(np.mean(e*(-2),axis=0)) # partial derivate of J with respect to b\n",
    "        self.w = (self.w.T-self.lr*dJ_dw).T  # update w\n",
    "        self.b = self.b - self.lr*dJ_db    # update b\n",
    "\n",
    "    def predict(self, x):\n",
    "        return (x @ self.w.T + self.b)  # return predicted values\n",
    "\n",
    "    def params(self):\n",
    "        return (self.w,self.b)   # return parameters"
   ]
  },
  {
   "cell_type": "code",
   "execution_count": null,
   "metadata": {},
   "outputs": [],
   "source": []
  },
  {
   "cell_type": "code",
   "execution_count": null,
   "metadata": {},
   "outputs": [],
   "source": []
  }
 ],
 "metadata": {
  "kernelspec": {
   "display_name": "Python 3.7.4 32-bit",
   "language": "python",
   "name": "python37432bitc856d1d617f0478da8cbf97a005d9730"
  },
  "language_info": {
   "codemirror_mode": {
    "name": "ipython",
    "version": 3
   },
   "file_extension": ".py",
   "mimetype": "text/x-python",
   "name": "python",
   "nbconvert_exporter": "python",
   "pygments_lexer": "ipython3",
   "version": "3.7.4"
  }
 },
 "nbformat": 4,
 "nbformat_minor": 2
}
