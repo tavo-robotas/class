{
 "cells": [
  {
   "cell_type": "code",
   "execution_count": 2,
   "metadata": {},
   "outputs": [
    {
     "data": {
      "text/plain": [
       "<function matplotlib.pyplot.show(*args, **kw)>"
      ]
     },
     "execution_count": 2,
     "metadata": {},
     "output_type": "execute_result"
    },
    {
     "data": {
      "image/png": "[encoded data removed]",
      "text/plain": [
       "<Figure size 432x288 with 1 Axes>"
      ]
     },
     "metadata": {
      "needs_background": "light"
     },
     "output_type": "display_data"
    }
   ],
   "source": [
    "%matplotlib inline\n",
    "import numpy as np\n",
    "import matplotlib.pyplot as plt\n",
    "\n",
    "N = 10\n",
    "y = np.zeros(N)\n",
    "x1 = np.linspace(0, 10, N)\n",
    "x2 = np.linspace(0,10,N, endpoint=False)\n",
    "plt.ylim(-0.5, 1)\n",
    "plt.plot(x1, y, ':')\n",
    "plt.plot(x2, y + 0.5, 'o')\n",
    "plt.show"
   ]
  },
  {
   "cell_type": "code",
   "execution_count": 94,
   "metadata": {},
   "outputs": [
    {
     "data": {
      "text/plain": [
       "(100, 1)"
      ]
     },
     "execution_count": 94,
     "metadata": {},
     "output_type": "execute_result"
    }
   ],
   "source": [
    "import numpy as np\n",
    "import matplotlib.pyplot as plt\n",
    "\n",
    "data = np.genfromtxt('./data_samples/SLRM/toy_data.csv', delimiter=',')\n",
    "X = data[:,0].reshape(-1,1)\n",
    "X.shape"
   ]
  },
  {
   "cell_type": "code",
   "execution_count": 95,
   "metadata": {},
   "outputs": [],
   "source": [
    "ones = np.ones([X.shape[0], 1])\n",
    "X = np.concatenate([ones, X], 1)\n",
    "y = data[:,1].reshape(-1,1)"
   ]
  },
  {
   "cell_type": "code",
   "execution_count": 96,
   "metadata": {},
   "outputs": [
    {
     "data": {
      "image/png": "[encoded data removed]",
      "text/plain": [
       "<Figure size 432x288 with 1 Axes>"
      ]
     },
     "metadata": {
      "needs_background": "light"
     },
     "output_type": "display_data"
    }
   ],
   "source": [
    "plt.scatter(data[:, 0].reshape(-1,1), y)\n",
    "plt.show()"
   ]
  },
  {
   "cell_type": "code",
   "execution_count": 127,
   "metadata": {},
   "outputs": [],
   "source": [
    "alpha = 0.0001\n",
    "iters = 10000\n",
    "theta = np.array([[1.0, 1.0]])"
   ]
  },
  {
   "cell_type": "code",
   "execution_count": 90,
   "metadata": {},
   "outputs": [
    {
     "data": {
      "text/plain": [
       "(1, 2)"
      ]
     },
     "execution_count": 90,
     "metadata": {},
     "output_type": "execute_result"
    }
   ],
   "source": [
    "theta.shape"
   ]
  },
  {
   "cell_type": "code",
   "execution_count": 89,
   "metadata": {},
   "outputs": [
    {
     "data": {
      "text/plain": [
       "(2, 1)"
      ]
     },
     "execution_count": 89,
     "metadata": {},
     "output_type": "execute_result"
    }
   ],
   "source": [
    "theta.T.shape"
   ]
  },
  {
   "cell_type": "code",
   "execution_count": 91,
   "metadata": {},
   "outputs": [
    {
     "data": {
      "text/plain": [
       "(100, 3)"
      ]
     },
     "execution_count": 91,
     "metadata": {},
     "output_type": "execute_result"
    }
   ],
   "source": [
    "X.shape"
   ]
  },
  {
   "cell_type": "code",
   "execution_count": 112,
   "metadata": {},
   "outputs": [],
   "source": [
    "def cost(X,y, theta):\n",
    "    error = np.power(((X @ theta.T) - y) , 2)\n",
    "    return np.sum(error) / (2*len(X))"
   ]
  },
  {
   "cell_type": "code",
   "execution_count": 113,
   "metadata": {},
   "outputs": [
    {
     "data": {
      "text/plain": [
       "319.40631589398157"
      ]
     },
     "execution_count": 113,
     "metadata": {},
     "output_type": "execute_result"
    }
   ],
   "source": [
    "cost(X,y,theta)"
   ]
  },
  {
   "cell_type": "code",
   "execution_count": 136,
   "metadata": {},
   "outputs": [],
   "source": [
    "def gd(X,y,theta,alpha,iters):\n",
    "    for i in range(iters):\n",
    "        theta = theta - (alpha/len(X)) * np.sum((X @ theta.T -y) * X, axis=0)\n",
    "        c = cost(X,y,theta)\n",
    "#         if i % 100 == 0:\n",
    "#             print(c)\n",
    "    return theta, c"
   ]
  },
  {
   "cell_type": "code",
   "execution_count": 137,
   "metadata": {},
   "outputs": [
    {
     "name": "stdout",
     "output_type": "stream",
     "text": [
      "[[1.26761621 1.4545775 ]] 55.981994934756045\n"
     ]
    }
   ],
   "source": [
    "g, c = gd(X,y,theta,alpha, iters)\n",
    "print(g,c)"
   ]
  },
  {
   "cell_type": "code",
   "execution_count": 138,
   "metadata": {},
   "outputs": [
    {
     "data": {
      "image/png": "[encoded data removed]",
      "text/plain": [
       "<Figure size 432x288 with 1 Axes>"
      ]
     },
     "metadata": {
      "needs_background": "light"
     },
     "output_type": "display_data"
    }
   ],
   "source": [
    "plt.scatter(data[:,0].reshape(-1,1), y)\n",
    "axes = plt.gca()\n",
    "x_vals = np.array(axes.get_xlim())\n",
    "y_vals = g[0][0] + g[0][1] *x_vals\n",
    "plt.plot(x_vals,y_vals, '--')\n",
    "plt.show()"
   ]
  },
  {
   "cell_type": "code",
   "execution_count": 3,
   "metadata": {},
   "outputs": [
    {
     "data": {
      "text/plain": [
       "(3, 4)"
      ]
     },
     "execution_count": 3,
     "metadata": {},
     "output_type": "execute_result"
    }
   ],
   "source": [
    "a = np.array([\n",
    "    [1, 2, 3, 4],\n",
    "    [5, 6, 7, 8],\n",
    "    [9, 10, 11, 12]\n",
    "])\n",
    "a.shape\n"
   ]
  },
  {
   "cell_type": "code",
   "execution_count": 19,
   "metadata": {},
   "outputs": [
    {
     "data": {
      "text/plain": [
       "array([[ 1,  2,  3,  4],\n",
       "       [ 5,  6,  7,  8],\n",
       "       [ 9, 10, 11, 12]])"
      ]
     },
     "execution_count": 19,
     "metadata": {},
     "output_type": "execute_result"
    }
   ],
   "source": [
    "b = a.reshape(-1)\n",
    "a"
   ]
  },
  {
   "cell_type": "code",
   "execution_count": 20,
   "metadata": {},
   "outputs": [
    {
     "data": {
      "text/plain": [
       "array([ 1,  2,  3,  4,  5,  6,  7,  8,  9, 10, 11, 12])"
      ]
     },
     "execution_count": 20,
     "metadata": {},
     "output_type": "execute_result"
    }
   ],
   "source": [
    "b"
   ]
  },
  {
   "cell_type": "code",
   "execution_count": 21,
   "metadata": {},
   "outputs": [
    {
     "data": {
      "text/plain": [
       "array([[ 1,  2,  3,  4,  5,  6,  7,  8,  9, 10, 11, 12]])"
      ]
     },
     "execution_count": 21,
     "metadata": {},
     "output_type": "execute_result"
    }
   ],
   "source": [
    "d = b.reshape(1,-1)\n",
    "d"
   ]
  },
  {
   "cell_type": "code",
   "execution_count": 22,
   "metadata": {},
   "outputs": [
    {
     "data": {
      "text/plain": [
       "(1, 12)"
      ]
     },
     "execution_count": 22,
     "metadata": {},
     "output_type": "execute_result"
    }
   ],
   "source": [
    "d.shape"
   ]
  },
  {
   "cell_type": "code",
   "execution_count": 23,
   "metadata": {},
   "outputs": [
    {
     "data": {
      "text/plain": [
       "(12,)"
      ]
     },
     "execution_count": 23,
     "metadata": {},
     "output_type": "execute_result"
    }
   ],
   "source": [
    "b.shape"
   ]
  },
  {
   "cell_type": "code",
   "execution_count": 24,
   "metadata": {},
   "outputs": [
    {
     "data": {
      "text/plain": [
       "array([ 1,  2,  3,  4,  5,  6,  7,  8,  9, 10, 11, 12])"
      ]
     },
     "execution_count": 24,
     "metadata": {},
     "output_type": "execute_result"
    }
   ],
   "source": [
    "b"
   ]
  },
  {
   "cell_type": "code",
   "execution_count": 27,
   "metadata": {},
   "outputs": [
    {
     "data": {
      "text/plain": [
       "array([[ 1,  2,  3,  4],\n",
       "       [ 5,  6,  7,  8],\n",
       "       [ 9, 10, 11, 12]])"
      ]
     },
     "execution_count": 27,
     "metadata": {},
     "output_type": "execute_result"
    }
   ],
   "source": [
    "a"
   ]
  },
  {
   "cell_type": "code",
   "execution_count": 77,
   "metadata": {},
   "outputs": [],
   "source": [
    "a = np.array([\n",
    "    [1, 2, 3], \n",
    "    [4, 5, 6]\n",
    "])\n",
    "b = np.array([\n",
    "    [7, 8, 9],\n",
    "    [10, 11, 12]\n",
    "])"
   ]
  },
  {
   "cell_type": "code",
   "execution_count": 79,
   "metadata": {},
   "outputs": [
    {
     "data": {
      "text/plain": [
       "array([[ 1,  2,  3],\n",
       "       [ 4,  5,  6],\n",
       "       [ 7,  8,  9],\n",
       "       [10, 11, 12]])"
      ]
     },
     "execution_count": 79,
     "metadata": {},
     "output_type": "execute_result"
    }
   ],
   "source": [
    "np.concatenate((a, b), axis=0)"
   ]
  },
  {
   "cell_type": "code",
   "execution_count": 80,
   "metadata": {},
   "outputs": [],
   "source": [
    "x1 = range(6)"
   ]
  },
  {
   "cell_type": "code",
   "execution_count": 81,
   "metadata": {},
   "outputs": [
    {
     "data": {
      "text/plain": [
       "range(0, 6)"
      ]
     },
     "execution_count": 81,
     "metadata": {},
     "output_type": "execute_result"
    }
   ],
   "source": [
    "x1"
   ]
  },
  {
   "cell_type": "code",
   "execution_count": 84,
   "metadata": {},
   "outputs": [
    {
     "data": {
      "text/plain": [
       "array([  0,   1,   8,  27,  64, 125], dtype=int32)"
      ]
     },
     "execution_count": 84,
     "metadata": {},
     "output_type": "execute_result"
    }
   ],
   "source": []
  },
  {
   "cell_type": "code",
   "execution_count": null,
   "metadata": {},
   "outputs": [],
   "source": []
  },
  {
   "cell_type": "code",
   "execution_count": 235,
   "metadata": {},
   "outputs": [
    {
     "name": "stdout",
     "output_type": "stream",
     "text": [
      "error: 5025895.46357562\n",
      "error: 7.81663316688924e+188\n",
      "Error: inf\n"
     ]
    },
    {
     "name": "stderr",
     "output_type": "stream",
     "text": [
      "C:\\Python37\\lib\\site-packages\\ipykernel_launcher.py:12: RuntimeWarning: overflow encountered in double_scalars\n",
      "  if sys.path[0] == '':\n"
     ]
    }
   ],
   "source": [
    "import numpy as np\n",
    "\n",
    "class LR:  \n",
    "    def __init__(self, rate):\n",
    "        self.m = 0\n",
    "        self.b = 0\n",
    "        self.learning_rate = rate\n",
    "\n",
    "    def cost_function(self, x, y):\n",
    "        totalError = 0\n",
    "        for i in range(0, len(x)):\n",
    "            totalError += ((self.m* x[i] + self.b) - y[i])**2\n",
    "        return totalError/float(len(x))\n",
    "\n",
    "    def fit(self, x, y, num_iterations):\n",
    "        N = float(len(x))\n",
    "        for j in range(num_iterations):\n",
    "            b_gradient = 0\n",
    "            m_gradient = 0\n",
    "            for i in range(0, len(x)):\n",
    "                b_gradient += -(2/N) * (y[i] - ((self.m * x[i]) + self.b))\n",
    "                m_gradient += -(2/N) * (y[i] - ((self.m * x[i]) + self.b)) * x[i]\n",
    "            self.b -= (self.learning_rate * b_gradient)\n",
    "            self.m -= (self.learning_rate * m_gradient)\n",
    "            if j % 50 == 0:\n",
    "                print('error:', self.cost_function(x, y))\n",
    "\n",
    "    def predict(self, xs):\n",
    "        return [(self.m * x + self.b) for x in xs]\n",
    "\n",
    "# Testing functionality\n",
    "if __name__ == '__main__':\n",
    "    x = np.linspace(0, 100, 50)\n",
    "    delta = np.random.uniform(-10, 10, x.size)\n",
    "    y = 0.5 * x + 3 + delta\n",
    "\n",
    "    model = LR(0.01)\n",
    "    model.fit(x, y, 100)\n",
    "    print('Error:', model.cost_function(x, y))"
   ]
  },
  {
   "cell_type": "code",
   "execution_count": null,
   "metadata": {},
   "outputs": [],
   "source": [
    "X = np.append(np.ones((m,1)), df['TV'].values.reshape(m,1), axis=1)\n",
    "\n",
    "y = df['Sales'].values.reshape(m,1)\n",
    "\n",
    "theta_params = np.zeros((2,1))\n",
    "def cost_fun(X, y, theta_params):\n",
    "        y_predict = np.dot(X, theta_params)\n",
    "        sqrd_error = (y_predict - y ) ** 2 \n",
    "        cost = 1/(2*m) * np.sum(sqrd_error)\n",
    "        return cost\n",
    "\n",
    "cost = cost_fun(X, y, theta_params)\n",
    "print(f'when theta params all zeroes cost is : {cost}')\n",
    "def gd(X,y,theta_params, alpha, iterations):\n",
    "    cost = []\n",
    "    for i in range(iterations):\n",
    "        y_pred = np.dot(X, theta_params)\n",
    "        der = np.dot(X.transpose(), (y_pred-y)) / m\n",
    "        theta_params -= alpha * der\n",
    "        cost.append(cost_fun(X, y, theta_params))\n",
    "    return theta, cost\n",
    "\n",
    "theta, cost = gd(X,y, theta_params, alpha = 0.000065, iterations = 400000)\n",
    "theta\n",
    "fix, ax = plt.subplots(figsize= (9, 6))\n",
    "ax.plot(cost)\n",
    "fig, ax = plt.subplots(figsize=(9, 6))\n",
    "fit = np.round(theta_params,3)\n",
    "x_val = np.array(range(0,303))\n",
    "y_val = fit[0, 0] + (fit[1, 0] * x_val)\n",
    "sns.lineplot(x_val, y_val, ax=ax, color='blue')\n",
    "sns.scatterplot(x='TV', y='Sales', data=df, ax=ax, color='red')"
   ]
  },
  {
   "cell_type": "code",
   "execution_count": 261,
   "metadata": {},
   "outputs": [
    {
     "name": "stdout",
     "output_type": "stream",
     "text": [
      "error: 502.8861744871584\n",
      "error: 502.8861744871584\n",
      "Error: 502.8861744871584\n"
     ]
    }
   ],
   "source": [
    "import numpy as np\n",
    "\n",
    "class SLR():\n",
    "    \n",
    "    def __init__(self, lr):\n",
    "        self.theta0 = 0\n",
    "        self.theta1 = 0\n",
    "        self.learning_rate = lr\n",
    "        \n",
    "        \n",
    "    def cost_function(self, x, y):\n",
    "        error = 0\n",
    "        for i in range(len(x)):\n",
    "            error += (hypothesis(x[i]) - y[i]) **2\n",
    "        return error/(2*float(len(x)))\n",
    "       \n",
    "\n",
    "    def gradient_descent(self, x, y, iters):\n",
    "        m = float(len(x))\n",
    "        for j in range(iters):\n",
    "            b_gradient = 0\n",
    "            m_gradient = 0\n",
    "         \n",
    "            b_gradient = b_gradient-(1/m) * np.sum(y - self.predict(x))\n",
    "            m_gradient = m_gradient-(1/m) * np.sum(x * y - self.predict(x))\n",
    "            self.theta0 -= (self.learning_rate * b_gradient)\n",
    "            self.theta1 -= (self.learning_rate * m_gradient)\n",
    "            if j % 50 == 0:\n",
    "                print('error:', self.cost_function(x, y))\n",
    "    \n",
    "#         m = len(x)\n",
    "#         for i in range(iters):\n",
    "            \n",
    "            \n",
    "#             dt0 = -(2/m) * np.sum(y[i] - self.hypothesis(x[i]))\n",
    "#             dt1 = -(2/m) * np.sum(x[i] * y[i] - self.hypothesis(x[i]))\n",
    "#             self.theta0 -= self.learning_rate * dt0\n",
    "#             self.theta1 -= self.learning_rate * dt1\n",
    "#             print(f'theta0: {self.theta0}, theta1: {self.theta1}, cost: {cost} iteration: {i}')\n",
    "    \n",
    "    def hypothesis(self, x):\n",
    "        return self.theta0 + (self.theta1 * x)\n",
    "    \n",
    "    def predict(self, xs):\n",
    "        return [(self.theta0 + self.theta1 * x) for x in xs]\n",
    "    \n",
    "    def get_params(self):\n",
    "        return self.theta0, self.theta1\n",
    "\n",
    "# Testing functionality\n",
    "if __name__ == '__main__':\n",
    "    x = np.linspace(0, 100, 20)\n",
    "    delta = np.random.uniform(-30, 15, x.size)\n",
    "    y = 0.5 * x + 3 + delta\n",
    "#     x = np.array([1, 1, 2, 3 ,4 , 5, 6, 7, 8, 9, 10, 11])\n",
    "#     y = np.array([1, 2, 3, 1, 4 , 5, 6, 4, 7, 10 , 15, 9])\n",
    "    model = SLR(0.01)\n",
    "    model.gradient_descent(x, y, 100)\n",
    "    print('Error:', model.cost_function(x, y))\n",
    "#     plt.plot(x, y , 'o')\n",
    "#     model = SLR(0.0001)\n",
    "#     model.fit(x, y, 200)\n",
    "#     print('Error:', model.cost_function(x, y))\n",
    "    "
   ]
  },
  {
   "cell_type": "code",
   "execution_count": null,
   "metadata": {},
   "outputs": [],
   "source": [
    "\n",
    "class LinearRegression():\n",
    "    def __init__(self, th_0=0, th_1=1, lr=0.01): \n",
    "        self.lr=lr\n",
    "        self.th_0=np.array([[th_0]])\n",
    "        self.th_1=np.array([th_1])\n",
    "        print(th_0)\n",
    "        print(th_1)\n",
    "    def cost(self,x,y):     \n",
    "        y_pred = self.b + x@self.w  # predicted y-values\n",
    "        e=y - y_pred                  # error term\n",
    "        return np.mean(e**2)      # mean squared error\n",
    "    \n",
    "def compute_cost(X, y, theta):\n",
    "    '''\n",
    "    Comput cost for linear regression\n",
    "    '''\n",
    "    # number of training samples\n",
    "    m = y.size\n",
    "    predictions = X.dot(theta).flatten()\n",
    "    sqErrors = (predictions - y) ** 2\n",
    "    J = (1.0 / (2 * m)) * sqErrors.sum()\n",
    "\n",
    "    return J\n",
    "\n",
    "\n",
    "    def fit(self, x,y):\n",
    "        pred = x@self.w+self.b\n",
    "        e=y-pred\n",
    "        dJ_dw=(np.mean(e*(-2*x), axis=0)) # partial derivate of J with respect to w\n",
    "        dJ_db=(np.mean(e*(-2),axis=0)) # partial derivate of J with respect to b\n",
    "        self.w = (self.w.T-self.lr*dJ_dw).T  # update w\n",
    "        self.b = self.b - self.lr*dJ_db    # update b\n",
    "\n",
    "    def predict(self, x):\n",
    "        return (x @ self.w.T + self.b)  # return predicted values\n",
    "\n",
    "    def params(self):\n",
    "        return (self.w,self.b)   # return parameters"
   ]
  },
  {
   "cell_type": "code",
   "execution_count": null,
   "metadata": {},
   "outputs": [],
   "source": []
  },
  {
   "cell_type": "code",
   "execution_count": 148,
   "metadata": {},
   "outputs": [
    {
     "data": {
      "image/png": "[encoded data removed]",
      "text/plain": [
       "<Figure size 432x288 with 1 Axes>"
      ]
     },
     "metadata": {
      "needs_background": "light"
     },
     "output_type": "display_data"
    }
   ],
   "source": [
    "%matplotlib inline\n",
    "import matplotlib.pyplot as plt\n",
    "import numpy as np\n",
    "\n",
    "x_points = [1, 1, 2, 3 ,4 , 5, 6, 7, 8, 9, 10, 11]\n",
    "y_points = [1, 2, 3, 1, 4 , 5, 6, 4, 7, 10 , 15, 9]\n",
    "\n",
    "plt.plot(x_points, y_points, 'o')\n",
    "theta_0 = 0\n",
    "theta_1 = 0\n",
    "\n",
    "hypothesis = lambda x: theta_0 + theta_1 * x\n",
    "\n",
    "def predict(y, data_points):\n",
    "    x_values = [i for i in range(int(min(data_points)) -1 , int(max(data_points)) + 2 )]\n",
    "    y_values = [hypothesis(x) for x in x_values]\n",
    "    plt.plot(x_values, y_values, 'r')\n",
    "\n",
    "predict(y, x_points)\n",
    "\n",
    "learn = .0001\n",
    "epoch = 1000\n",
    "def summation(x_points, y_points):\n",
    "\n",
    "    total1 = 0\n",
    "    total2 = 0\n",
    "    \n",
    "    for i in range(1, len(x_points)):\n",
    "        total1 += (hypothesis(x_points[i]) - y_points[i])\n",
    "        total2 += (hypothesis(x_points[i]) - y_points[i]) * x_points[i]\n",
    "    \n",
    "    return total1/(2*len(x_points)), total2/(2* len(x_points))\n",
    "\n",
    "for i in range(epoch):\n",
    "    s1, s2 = summation(x_points, y_points)\n",
    "    theta_0 = theta_0 - learn * s1\n",
    "    theta_1 = theta_1 - learn * s2\n",
    "    \n",
    "#plt.plot(x_points, y_points, 'o')\n",
    "#predict(y, x_points)"
   ]
  },
  {
   "cell_type": "markdown",
   "metadata": {},
   "source": [
    "## Implementation b\n",
    "\n",
    "The easiest way is using vecotrized forms, means we can take advatage of matrix multiplication. And matrix is used as a structure that we hold our data and parameters."
   ]
  },
  {
   "cell_type": "code",
   "execution_count": 10,
   "metadata": {},
   "outputs": [
    {
     "data": {
      "image/png": "[encoded data removed]",
      "text/plain": [
       "<Figure size 432x288 with 1 Axes>"
      ]
     },
     "metadata": {
      "needs_background": "light"
     },
     "output_type": "display_data"
    },
    {
     "data": {
      "image/png": "[encoded data removed]",
      "text/plain": [
       "<Figure size 432x288 with 1 Axes>"
      ]
     },
     "metadata": {
      "needs_background": "light"
     },
     "output_type": "display_data"
    },
    {
     "data": {
      "text/plain": [
       "[<matplotlib.lines.Line2D at 0xe230c70>]"
      ]
     },
     "execution_count": 10,
     "metadata": {},
     "output_type": "execute_result"
    },
    {
     "data": {
      "image/png": "[encoded data removed]",
      "text/plain": [
       "<Figure size 432x288 with 1 Axes>"
      ]
     },
     "metadata": {
      "needs_background": "light"
     },
     "output_type": "display_data"
    }
   ],
   "source": [
    "%matplotlib inline\n",
    "import numpy as np\n",
    "import matplotlib.pyplot as plt\n",
    "\n",
    "data = np.genfromtxt('./data_samples/SLRM/toy_data.csv', delimiter=',')\n",
    "X = data[:,0].reshape(-1,1)\n",
    "ones = np.ones([X.shape[0], 1])\n",
    "X = np.concatenate([ones, X], 1)\n",
    "y = data[:,1].reshape(-1,1)\n",
    "plt.scatter(data[:, 0].reshape(-1,1), y)\n",
    "plt.show()\n",
    "\n",
    "alpha = 0.0001\n",
    "iters = 25\n",
    "theta = np.array([[0.0, 0.0]])\n",
    "\n",
    "# square error \n",
    "def get_error(X,y, theta):\n",
    "    error = ((X @ theta.T) - y)**2\n",
    "    return np.sum(error) / (2*len(X))\n",
    "\n",
    "# gradient descent\n",
    "def gd(X,y,theta,alpha,iters):\n",
    "    cost = np.zeros(iters)\n",
    "    for i in range(iters):\n",
    "        theta = theta - (alpha/len(X)) * np.sum((X @ theta.T -y) * X, axis=0)\n",
    "        cost[i] = get_error(X,y,theta)\n",
    "#         if i % 100 == 0:\n",
    "#             print(cost[i])\n",
    "    return theta, cost\n",
    "\n",
    "params, cost = gd(X,y,theta,alpha, iters)\n",
    "plt.scatter(data[:,0].reshape(-1,1), y)\n",
    "axes = plt.gca()\n",
    "x_vals = np.array(axes.get_xlim())\n",
    "y_vals = params[0][0] + params[0][1] * x_vals\n",
    "plt.plot(x_vals,y_vals, '--', color='k')\n",
    "plt.show()\n",
    "plt.plot(np.arange(iters), cost, 'r')"
   ]
  },
  {
   "cell_type": "code",
   "execution_count": 353,
   "metadata": {},
   "outputs": [
    {
     "name": "stdout",
     "output_type": "stream",
     "text": [
      "theta0: 0.14044444444444443, theta1: 0.9271111111111111, cost: 339.3333333333333 iteration: 0\n",
      "theta0: 0.23773629629629628, theta1: 1.5437629629629628, cost: 156.25476609053499 iteration: 1\n",
      "theta0: 0.306294929382716, theta1: 1.95374244345679, cost: 75.10351445675137 iteration: 2\n",
      "theta0: 0.3557193569553909, theta1: 2.2261406629820577, cost: 39.12231291668377 iteration: 3\n",
      "theta0: 0.392399669822339, theta1: 2.406951692453076, cost: 23.158679165871998 iteration: 4\n",
      "theta0: 0.4205897735169986, theta1: 2.526793863407632, cost: 16.0660689336228 iteration: 5\n",
      "theta0: 0.44312151129882776, theta1: 2.6060498509216026, cost: 12.904792744281705 iteration: 6\n",
      "theta0: 0.4618800570777689, theta1: 2.658288435751548, cost: 11.485783491035088 iteration: 7\n",
      "theta0: 0.478120385311521, theta1: 2.6925423773486257, cost: 10.838936596123483 iteration: 8\n",
      "theta0: 0.4926779455670023, theta1: 2.7148247978885984, cost: 10.534341463032808 iteration: 9\n",
      "theta0: 0.5061089089426276, theta1: 2.7291386417598784, cost: 10.381479216404633 iteration: 10\n",
      "theta0: 0.5187835303557499, theta1: 2.7381486745016836, cost: 10.295919531215931 iteration: 11\n",
      "theta0: 0.5309482999799386, theta1: 2.743628833666782, cost: 10.2402461585851 iteration: 12\n",
      "theta0: 0.5427673175649828, theta1: 2.7467600310694316, cost: 10.197877552243279 iteration: 13\n",
      "theta0: 0.5543498353937598, theta1: 2.7483284002601565, cost: 10.16146524858281 iteration: 14\n",
      "theta0: 0.5657685936765937, theta1: 2.7488572702147525, cost: 10.127752506594252 iteration: 15\n",
      "theta0: 0.5770720264552233, theta1: 2.7486950204487526, cost: 10.09529586887054 iteration: 16\n",
      "theta0: 0.5882923870943492, theta1: 2.748073566320036, cost: 10.06345545129668 iteration: 17\n",
      "theta0: 0.5994511574355306, theta1: 2.7471472927965648, cost: 10.031947481030572 iteration: 18\n",
      "theta0: 0.6105626486803798, theta1: 2.7460189727333253, cost: 10.000645999765897 iteration: 19\n",
      "theta0: 0.6216363985048038, theta1: 2.7447570207143954, cost: 9.969494986784268 iteration: 20\n",
      "theta0: 0.6326787668221572, theta1: 2.7434069789656337, cost: 9.938469415509518 iteration: 21\n",
      "theta0: 0.6436939980855823, theta1: 2.7419991635467458, cost: 9.907557995374377 iteration: 22\n",
      "theta0: 0.6546849284645563, theta1: 2.7405537544346448, cost: 9.876755523724425 iteration: 23\n",
      "theta0: 0.6656534566135803, theta1: 2.739084184000799, cost: 9.846059496494613 iteration: 24\n",
      "theta0: 0.6766008570637466, theta1: 2.737599392726499, cost: 9.81546860619844 iteration: 25\n",
      "theta0: 0.6875279888480798, theta1: 2.7361053308364287, cost: 9.784982076296313 iteration: 26\n",
      "theta0: 0.6984354343838215, theta1: 2.734605957938745, cost: 9.754599366212751 iteration: 27\n",
      "theta0: 0.709323591926639, theta1: 2.7331039084872146, cost: 9.724320040609888 iteration: 28\n",
      "theta0: 0.7201927371175832, theta1: 2.7316009347805115, cost: 9.694143711452558 iteration: 29\n",
      "theta0: 0.7310430639550372, theta1: 2.7300982018676176, cost: 9.664070012331726 iteration: 30\n",
      "theta0: 0.7418747120698427, theta1: 2.728596483866855, cost: 9.634098587083402 iteration: 31\n",
      "theta0: 0.7526877848824309, theta1: 2.7270962946558046, cost: 9.604229084742741 iteration: 32\n",
      "theta0: 0.7634823616900861, theta1: 2.725597974871808, cost: 9.574461157305715 iteration: 33\n",
      "theta0: 0.7742585057134879, theta1: 2.724101749828349, cost: 9.544794458734918 iteration: 34\n",
      "theta0: 0.7850162694533392, theta1: 2.7226077680700835, cost: 9.515228644516752 iteration: 35\n",
      "theta0: 0.7957556982563132, theta1: 2.721116127038989, cost: 9.485763371462982 iteration: 36\n",
      "theta0: 0.8064768326889397, theta1: 2.7196268901603586, cost: 9.456398297620572 iteration: 37\n",
      "theta0: 0.8171797101179363, theta1: 2.7181400982169737, cost: 9.427133082229538 iteration: 38\n",
      "theta0: 0.8278643657622679, theta1: 2.7166557769209043, cost: 9.397967385702074 iteration: 39\n",
      "theta0: 0.8385308333935332, theta1: 2.7151739419540695, cost: 9.368900869611078 iteration: 40\n",
      "theta0: 0.8491791458022449, theta1: 2.7136946023237387, cost: 9.339933196682965 iteration: 41\n",
      "theta0: 0.8598093351082619, theta1: 2.712217762596295, cost: 9.311064030792206 iteration: 42\n",
      "theta0: 0.8704214329674749, theta1: 2.7107434243842468, cost: 9.282293036956833 iteration: 43\n",
      "theta0: 0.881015470709427, theta1: 2.709271587336133, cost: 9.253619881334243 iteration: 44\n",
      "theta0: 0.891591479428958, theta1: 2.707802249795498, cost: 9.225044231217176 iteration: 45\n",
      "theta0: 0.9021494900472415, theta1: 2.706335409239573, cost: 9.196565755029834 iteration: 46\n",
      "theta0: 0.9126895333524474, theta1: 2.704871062571296, cost: 9.168184122323986 iteration: 47\n",
      "theta0: 0.9232116400268402, theta1: 2.703409206313711, cost: 9.139899003775122 iteration: 48\n",
      "theta0: 0.9337158406648484, theta1: 2.701949836739375, cost: 9.111710071178639 iteration: 49\n"
     ]
    },
    {
     "data": {
      "image/png": "[encoded data removed]",
      "text/plain": [
       "<Figure size 432x288 with 1 Axes>"
      ]
     },
     "metadata": {
      "needs_background": "light"
     },
     "output_type": "display_data"
    }
   ],
   "source": [
    "%matplotlib inline\n",
    "import numpy as np\n",
    "import matplotlib.pyplot as plt \n",
    "def gradient_descent(x,y):\n",
    "    th0 = th1 = 0\n",
    "    iters = 50\n",
    "    m = len(x)\n",
    "    learn_rate = .008\n",
    "    for i in range(iters):\n",
    "        y_predicted = th0 + th1 * x\n",
    "        cost = (1/m) * sum([val**2 for val in (y - y_predicted)])\n",
    "        th0d = -(1/m) * sum((y - y_predicted))\n",
    "        th1d = -(1/m) * sum(x *(y - y_predicted))   \n",
    "        th0 -= learn_rate * th0d\n",
    "        th1 -= learn_rate * th1d   \n",
    "        print(f'theta0: {th0}, theta1: {th1}, cost: {cost} iteration: {i}')\n",
    "        plt.plot(x, y_predicted)\n",
    "        \n",
    "x = np.array([1, 2, 3, 5 ,6 , 7, 8, 9, 10])\n",
    "y = np.array([10, 11, 13, 15, 17 , 19, 22, 24,27])\n",
    "\n",
    "gradient_descent(x, y)\n",
    "plt.scatter(x,y)\n",
    "plt.show()\n",
    "\n",
    "\n",
    "\n",
    "    \n"
   ]
  },
  {
   "cell_type": "code",
   "execution_count": null,
   "metadata": {},
   "outputs": [],
   "source": []
  }
 ],
 "metadata": {
  "kernelspec": {
   "display_name": "Python 3.7.4 32-bit",
   "language": "python",
   "name": "python37432bitc856d1d617f0478da8cbf97a005d9730"
  },
  "language_info": {
   "codemirror_mode": {
    "name": "ipython",
    "version": 3
   },
   "file_extension": ".py",
   "mimetype": "text/x-python",
   "name": "python",
   "nbconvert_exporter": "python",
   "pygments_lexer": "ipython3",
   "version": "3.7.4"
  }
 },
 "nbformat": 4,
 "nbformat_minor": 2
}
