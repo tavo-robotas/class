{
 "cells": [
  {
   "cell_type": "markdown",
   "metadata": {},
   "source": [
    "Here, we will visualise matrix linear and affine transformations to set the foundation in understanding more computer vision techniques <br>\n",
    "Prerequisites are core mathematical concepts in matrices and vectors. I recommend [Precalculus course](https://www.khanacademy.org/math/precalculus) and [Linear algebra course](https://www.khanacademy.org/math/linear-algebra)\n"
   ]
  },
  {
   "cell_type": "markdown",
   "metadata": {},
   "source": [
    "# Linear vs Affine transform\n",
    "\n",
    "Linear transformations are fixed around the origin (scaling, rotating, skewing). Affine transformations are a linear function followed by a translation operation."
   ]
  },
  {
   "cell_type": "markdown",
   "metadata": {},
   "source": [
    "# First visualising a matrix in pyplot"
   ]
  },
  {
   "cell_type": "markdown",
   "metadata": {},
   "source": [
    "Points in 2D space can be written as tuples of (3, 13), (5, 15), etc. A set of 2D vectors can be written as a matrix\n",
    "\n",
    "\\begin{bmatrix}\n",
    "3 & 5 \\\\\n",
    "13 & 15\n",
    "\\end{bmatrix}\n",
    "\n",
    "with each column representing a data point. So lets say matrix A consists of 4 points\n",
    "\n",
    "\\begin{bmatrix}\n",
    "0 &  0 & 20 & 20\\\\\n",
    "0 & 20 & 20 & 0\n",
    "\\end{bmatrix}"
   ]
  },
  {
   "cell_type": "code",
   "execution_count": 290,
   "metadata": {},
   "outputs": [],
   "source": [
    "import numpy as np\n",
    "import matplotlib.pyplot as plt\n",
    "from ipywidgets import interact, interactive, fixed\n",
    "import ipywidgets as widgets"
   ]
  },
  {
   "cell_type": "code",
   "execution_count": 292,
   "metadata": {},
   "outputs": [
    {
     "ename": "IndentationError",
     "evalue": "unindent does not match any outer indentation level (<tokenize>, line 4)",
     "output_type": "error",
     "traceback": [
      "\u001b[1;36m  File \u001b[1;32m\"<tokenize>\"\u001b[1;36m, line \u001b[1;32m4\u001b[0m\n\u001b[1;33m    size   = len(x)\u001b[0m\n\u001b[1;37m    ^\u001b[0m\n\u001b[1;31mIndentationError\u001b[0m\u001b[1;31m:\u001b[0m unindent does not match any outer indentation level\n"
     ]
    }
   ],
   "source": [
    "def plot_points(matrix, ls='dashed', lw=1.2, colors=None):\n",
    "    x, y   = matrix\n",
    "    size   = len(x)\n",
    "    colors = ['red', 'green', 'blue', 'orange'] if not None else colors\n",
    "    for i in range(size):\n",
    "        plt.plot(x[i], y[i], color=colors[i], marker='.')\n",
    "        \n",
    "        plt.plot( [x[i], x[(i+1) % size]], \n",
    "                  [y[i], y[(i+1) % size]], \n",
    "                  color=colors[i], \n",
    "                  linestyle=ls, \n",
    "                  linewidth=lw)\n",
    "    plt.ylim([-5, 50])\n",
    "    plt.xlim([-5, 50])\n",
    "    plt.axes().set_aspect('equal')\n",
    " "
   ]
  },
  {
   "cell_type": "markdown",
   "metadata": {},
   "source": [
    "Now lets create a matrix. It will be visualised as the corners of a square"
   ]
  },
  {
   "cell_type": "code",
   "execution_count": null,
   "metadata": {},
   "outputs": [],
   "source": [
    "x_points = np.array([0,0,20,20])\n",
    "y_points = np.array([0,20,20,0])\n",
    "matrix   = np.array([x_points, y_points])\n",
    "colors   = ['red', 'green', 'blue', 'orange']\n",
    "plot_points(matrix)\n",
    "\n",
    "plt.show()"
   ]
  },
  {
   "cell_type": "markdown",
   "metadata": {},
   "source": [
    "## Identity matrix\n",
    "\n",
    "In linear algebra, the identity matrix, or sometimes called a <code>**unit matrix**</code>, of size n is the n × n <code>**square matrix**</code> with ones on the main diagonal and zeros elsewhere.\n",
    "\n",
    "\\begin{bmatrix}\n",
    "1 & 0 & 0\\\\\n",
    "0 & 1 & 0\\\\\n",
    "0 & 0 & 1\n",
    "\\end{bmatrix}\n",
    "\n",
    "Multiplying a matrix with the identity matrix does nothing to the matrix.\n",
    "\n",
    "\\begin{equation}\n",
    "\\begin{bmatrix}\n",
    "1 & 0\\\\\n",
    "0 & 1 \n",
    "\\end{bmatrix}\n",
    "\\begin{bmatrix}3 \\\\ 13 \\end{bmatrix}\n",
    "=\n",
    "\\begin{bmatrix}\n",
    "3 \\\\\n",
    "13\n",
    "\\end{bmatrix}\n",
    "\\end{equation}\n",
    "\n",
    "Each column in the indentity matrix are called basis vectors (linearly independent and equations solve for 0). These will be super useful in deriving and visualising the transformation matrices. More information about this type of matrixes read [here](https://en.wikipedia.org/wiki/Identity_matrix)"
   ]
  },
  {
   "cell_type": "markdown",
   "metadata": {},
   "source": [
    "## Scaling\n",
    "\n",
    "Lets say we want to scale our points by <code>**2**</code>"
   ]
  },
  {
   "cell_type": "code",
   "execution_count": null,
   "metadata": {},
   "outputs": [],
   "source": [
    "ax = plt.axes()\n",
    "ax.arrow(0, 0, 1, 0, head_width=0.05, head_length=0.1, fc='b', ec='b', zorder=20)\n",
    "ax.arrow(0, 0, 0, 1, head_width=0.05, head_length=0.1, fc='b', ec='b', zorder=20)\n",
    "ax.arrow(0, 0, 2, 0, head_width=0.1,  head_length=0.1, fc='r', ec='r', zorder=10)\n",
    "ax.arrow(0, 0, 0, 2, head_width=0.1,  head_length=0.1, fc='r', ec='r', zorder=10)\n",
    " \n",
    "ax.spines['left'].set_position('zero')\n",
    "ax.spines['right'].set_color('none')\n",
    "ax.spines['bottom'].set_position('zero')\n",
    "ax.spines['top'].set_color('none')\n",
    "ax.xaxis.set_ticks_position('bottom')\n",
    "ax.yaxis.set_ticks_position('left')\n",
    "ax.set_aspect('equal')\n",
    "plt.ylim([-0.1,2.5])\n",
    "plt.xlim([-0.1,2.5])\n",
    "plt.show()"
   ]
  },
  {
   "cell_type": "markdown",
   "metadata": {},
   "source": [
    "This plot shows the identity matrix in blue and our end goal in red.<br>\n",
    "The first vector along the <code>**X**</code>axis  has to be multipled by 2 to get to scaled vector\n",
    "\\begin{equation}\n",
    "\\vec{p}=\n",
    "\\begin{bmatrix}1 \\\\ 0 \\end{bmatrix}\n",
    "\\times 2 =\n",
    "\\begin{bmatrix}2 \\\\ 0 \\end{bmatrix}\n",
    "\\end{equation}\n",
    "\n",
    "The same is applied to the second vector along the y axis so our end matrix looks like:\n",
    "\n",
    "\\begin{bmatrix}\n",
    "2 & 0\\\\\n",
    "0 & 2 \n",
    "\\end{bmatrix}\n",
    "\n",
    "\n",
    "To generalise, we can multiply a matrix by \n",
    "\\begin{bmatrix}\n",
    "k_1 & 0\\\\\n",
    "0 & k_2\n",
    "\\end{bmatrix}\n",
    "\n",
    "To achieve a scaling in 2D space. <code>**k1**</code> and <code>**k2**</code> can be the same or different to obtain different scalings in the different dimensions (axis)\n",
    "\n",
    "Lets try scaling our matrix <code>**P**</code> by multiplying it with the matrix:\n",
    "\\begin{equation}\n",
    "\\begin{bmatrix}\n",
    "1.5 & 0\\\\\n",
    "0 & 2 \n",
    "\\end{bmatrix}\n",
    "\\times \n",
    "\\begin{bmatrix}\n",
    "0 &  0 & 20 & 20\\\\\n",
    "0 & 20 & 20 & 0\n",
    "\\end{bmatrix} =\n",
    "\\begin{bmatrix}\n",
    "0 &  0 & 30 & 30\\\\\n",
    "0 & 40 & 40 & 0\n",
    "\\end{bmatrix}\n",
    "\\end{equation}"
   ]
  },
  {
   "cell_type": "code",
   "execution_count": null,
   "metadata": {},
   "outputs": [],
   "source": [
    "A = np.array([[1.5,0],[0,2]])\n",
    "scalled = A.dot(matrix)\n",
    "print(scalled)\n",
    "plot_points(matrix, ls='dashed', lw=4)\n",
    "plot_points(scalled, ls='solid', lw=2)\n",
    "\n",
    "plt.show()"
   ]
  },
  {
   "cell_type": "markdown",
   "metadata": {},
   "source": [
    "## Reflecting"
   ]
  },
  {
   "cell_type": "markdown",
   "metadata": {},
   "source": [
    "We can reflect the points along the <code>**x**</code> and <code>**y**</code> axis by multiplying all coordinates by -1, -1. So, (1, 1) becomes (-1, -1). <br>\n",
    "That means we can multiply a matrix to mirror allong the <code>**x**</code> and <code>**y**</code> axis.\n",
    "\n",
    "\n",
    "\\begin{equation}\n",
    "\\begin{bmatrix}\n",
    "-1 & 0\\\\\n",
    "0 & -1 \n",
    "\\end{bmatrix}\n",
    "\\times \n",
    "\\begin{bmatrix}\n",
    "0 &  0 & 20 & 20\\\\\n",
    "0 & 20 & 20 & 0\n",
    "\\end{bmatrix} =\n",
    "\\begin{bmatrix}\n",
    "0 &  0 & -20 & -20\\\\\n",
    "0 & -20 & -20 & 0\n",
    "\\end{bmatrix}\n",
    "\\end{equation}"
   ]
  },
  {
   "cell_type": "code",
   "execution_count": null,
   "metadata": {},
   "outputs": [],
   "source": [
    "B = np.array([[-1,0],[0,-1]])\n",
    "mirror = B.dot(matrix)\n",
    "print(mirror)\n",
    "plot_points(matrix, ls='dashed', lw=4)\n",
    "plot_points(scalled, ls='solid', lw=3)\n",
    "plot_points(mirror,  ls='dotted', lw=2)\n",
    "plt.ylim([-30, 50])\n",
    "plt.xlim([-30, 40])\n",
    "plt.show()"
   ]
  },
  {
   "cell_type": "markdown",
   "metadata": {},
   "source": [
    "## Skewing\n",
    "\n",
    "Lets skew the identity matrix by +50%. The vector along the <code>**x**</code> axis stays the same while the vector along the <code>**y**</code> axis shifts <code>**k**</code> = 0.5 to the right. Our resultant matrix is now <br>\n",
    "\n",
    "\\begin{equation}\n",
    "\\begin{bmatrix}\n",
    "1 & 0.5\\\\\n",
    "0 & 1 \n",
    "\\end{bmatrix}\n",
    "\\end{equation}\n",
    "\n",
    "and a skewing transformation matrix can be generalised as:\n",
    "\\begin{equation}\n",
    "\\begin{bmatrix}\n",
    "1 & k\\\\\n",
    "0 & 1 \n",
    "\\end{bmatrix}\n",
    "\\end{equation}\n",
    "\n",
    "So, doing:\n",
    "\n",
    "\\begin{equation}\n",
    "\\begin{bmatrix}\n",
    "1 & 0.5\\\\\n",
    "0 & 1 \n",
    "\\end{bmatrix}\n",
    "\\times \n",
    "\\begin{bmatrix}\n",
    "0 &  0 & 20 & 20\\\\\n",
    "0 & 20 & 20 & 0\n",
    "\\end{bmatrix}\n",
    "\\end{equation}\n",
    "\n",
    "we will skew <code>**P**</code> by 50%"
   ]
  },
  {
   "cell_type": "code",
   "execution_count": null,
   "metadata": {},
   "outputs": [],
   "source": [
    "C = np.array([[1, 0.5],[0, 1]])\n",
    "skew = C.dot(matrix)\n",
    "print(skew)\n",
    "\n",
    "plot_points(matrix, ls='dashed', lw=1)\n",
    "plot_points(skew,  ls='solid', lw=3)\n",
    "plt.ylim([0, 40])\n",
    "plt.xlim([-5, 40])\n",
    "plt.show()"
   ]
  },
  {
   "cell_type": "markdown",
   "metadata": {},
   "source": [
    "## Rotating\n",
    "\n",
    "Using the trusty [SOH CAH TOA](https://www.mathsisfun.com/algebra/sohcahtoa.html) acronym, we can see that (1, 0) on the x axis lands on <code>**(cosθ, sinθ)**</code> and (0, 1) on the y axis lands on <code>**(-sinθ, cosθ)**</code> when rotated by <code>**positive θ , counter clockwise !**</code> thus our rotating transformation matrix has the general form of\n",
    "\\begin{bmatrix}\n",
    "cosθ & sinθ\\\\\n",
    "-sinθ & cosθ \n",
    "\\end{bmatrix}"
   ]
  },
  {
   "cell_type": "markdown",
   "metadata": {},
   "source": [
    "Lets plot our matrix P when it is rotated by <code>**−30∘**</code>. \n",
    "### Note the change in negative <code>**sin**</code> for clockwise rotation. \n",
    "\n",
    "\\begin{bmatrix}\n",
    "cosθ & -sinθ\\\\\n",
    "sinθ & cosθ \n",
    "\\end{bmatrix}\n",
    "Our matrices involved in this transformation are\n",
    "\n",
    "\\begin{equation}\n",
    "\\begin{bmatrix}\n",
    "0.86 & 0.5\\\\\n",
    "-0.5 & 0.86 \n",
    "\\end{bmatrix}\n",
    "\\times \n",
    "\\begin{bmatrix}\n",
    "0 &  0 & 20 & 20\\\\\n",
    "0 & 20 & 20 & 0\n",
    "\\end{bmatrix}=\n",
    "\\begin{bmatrix}\n",
    "0 &  10 & 27.32 & 17.32\\\\\n",
    "0 & 17.32 & 7.32 & -10\n",
    "\\end{bmatrix}\n",
    "\\end{equation}"
   ]
  },
  {
   "attachments": {
    "rotation.png": {
     "image/png": "[encoded data removed]"
    }
   },
   "cell_type": "markdown",
   "metadata": {},
   "source": [
    "![rotation.png](attachment:rotation.png)"
   ]
  },
  {
   "cell_type": "code",
   "execution_count": null,
   "metadata": {},
   "outputs": [],
   "source": [
    "theta = np.radians(-30)\n",
    "c, s = np.cos(theta), np.sin(theta)\n",
    "D = np.array([\n",
    "    [c, -s],\n",
    "    [s, c ]\n",
    "])\n",
    "rotate = D.dot(matrix)\n",
    "print(rotate)\n",
    "plot_points(matrix, ls='dashed', lw=1)\n",
    "plot_points(rotate, ls='solid', lw=3)\n",
    "plt.ylim([-15, 25])\n",
    "plt.xlim([-5, 40])\n",
    "plt.show()"
   ]
  },
  {
   "cell_type": "markdown",
   "metadata": {},
   "source": [
    "## Translating\n",
    "\n",
    "We can translate points in the (x,y) plane to a new position by adding translation amounts to the coordinates of the points. For each point <code>**P(x,y)**</code> to be moved by t units parallel to the coresponding axis to the new point <code>**P'(x',y')**</code>\n",
    "\\begin{equation}\n",
    "x' = x + t_x\n",
    "\\\\\n",
    "y' = y + t_y\n",
    "\\end{equation}\n",
    "\n",
    "If we define the column vectors:\n",
    "\\begin{equation}\n",
    "P=\n",
    "\\begin{bmatrix}x \\\\ y \\end{bmatrix}\n",
    ",\n",
    "P'=\n",
    "\\begin{bmatrix}x' \\\\ y' \\end{bmatrix}\n",
    ",\n",
    "T=\n",
    "\\begin{bmatrix}t_x \\\\ t_y \\end{bmatrix}\n",
    "\\end{equation}\n",
    "\n",
    "So this equation can be expressed as \n",
    "<code>**P' = P + T**</code>\n",
    "\n",
    "The <code>**homogeneous coordinates**</code>that will be explained later, for  affine transform to translate a matrix we need to represent a 2 vector <code>**(x,y)**</code> to a 3 vector <code>**(x,y,1)**</code><br>\n",
    "A translation matrix has the form of\n",
    "\n",
    "\\begin{bmatrix}\n",
    "1 & 0 & t_x\\\\\n",
    "0 & 1 & t_y\\\\\n",
    "0 & 0 & 1\n",
    "\\end{bmatrix} \n",
    "where <code>**t1**</code> and <code>**t2**</code>  translates a vector in the x and y directions"
   ]
  },
  {
   "cell_type": "markdown",
   "metadata": {},
   "source": [
    "Lets translate our original matrix to the left by 75% and downwards by 25%. Unlike the linear transformations where the scalars are multipliers, the affine scalars specify the distance to be translated.\n",
    "\\begin{equation}\n",
    "\\begin{bmatrix}\n",
    "1 & 0 & (-0.75*20)\\\\\n",
    "0 & 1 & (-0.25*20)\\\\\n",
    "0 & 0 & 1\n",
    "\\end{bmatrix}\n",
    "\\times \n",
    "\\begin{bmatrix}\n",
    "0 &  0 & 20 & 20\\\\\n",
    "0 & 20 & 20 & 0\\\\\n",
    "1 & 1 & 1 & 1\n",
    "\\end{bmatrix}=\n",
    "\\begin{bmatrix}\n",
    "-15 & -15 & 5 & 5\\\\\n",
    "-5 & 15 & 15 & -5\\\\\n",
    "1 & 1 & 1 & 1\n",
    "\\end{bmatrix}\n",
    "\\end{equation}\n"
   ]
  },
  {
   "cell_type": "code",
   "execution_count": 293,
   "metadata": {},
   "outputs": [
    {
     "name": "stdout",
     "output_type": "stream",
     "text": [
      "[[-15 -15   5   5]\n",
      " [ -5  15  15  -5]\n",
      " [  1   1   1   1]]\n"
     ]
    },
    {
     "name": "stderr",
     "output_type": "stream",
     "text": [
      "c:\\python37\\lib\\site-packages\\ipykernel_launcher.py:19: MatplotlibDeprecationWarning: Adding an axes using the same arguments as a previous axes currently reuses the earlier instance.  In a future version, a new instance will always be created and returned.  Meanwhile, this warning can be suppressed, and the future behavior ensured, by passing a unique label to each axes instance.\n"
     ]
    },
    {
     "data": {
      "image/png": "[encoded data removed]",
      "text/plain": [
       "<Figure size 432x288 with 1 Axes>"
      ]
     },
     "metadata": {
      "needs_background": "light"
     },
     "output_type": "display_data"
    }
   ],
   "source": [
    "A = np.array([\n",
    "    [1, 0, -15], \n",
    "    [0, 1, -5], \n",
    "    [0, 0, 1]\n",
    "]) \n",
    "P = np.array([\n",
    "    [0, 0, 20, 20], \n",
    "    [0, 20, 20, 0], \n",
    "    [1, 1, 1, 1]\n",
    "]) \n",
    "\n",
    "\n",
    "translated = A.dot(P) \n",
    "print(translated)\n",
    "plot_points(matrix, ls='dashed', lw=1)\n",
    "plot_points(translated, ls='solid', lw=3)\n",
    "plt.ylim([-10, 25])\n",
    "plt.xlim([-20, 40])\n",
    "plt.show()"
   ]
  },
  {
   "cell_type": "code",
   "execution_count": null,
   "metadata": {
    "scrolled": true
   },
   "outputs": [],
   "source": [
    "interact(f, x=10);"
   ]
  },
  {
   "cell_type": "code",
   "execution_count": null,
   "metadata": {},
   "outputs": [],
   "source": []
  },
  {
   "cell_type": "code",
   "execution_count": null,
   "metadata": {
    "scrolled": false
   },
   "outputs": [],
   "source": [
    "x = [4,7,10]\n",
    "y = [12,16, 6]\n",
    "plt.plot(x,y)\n",
    "plt.xlabel(\"x axis\")\n",
    "plt.ylabel(\"y axis\")\n",
    "plt.show()"
   ]
  },
  {
   "cell_type": "code",
   "execution_count": null,
   "metadata": {},
   "outputs": [],
   "source": []
  }
 ],
 "metadata": {
  "kernelspec": {
   "display_name": "Python 3",
   "language": "python",
   "name": "python3"
  },
  "language_info": {
   "codemirror_mode": {
    "name": "ipython",
    "version": 3
   },
   "file_extension": ".py",
   "mimetype": "text/x-python",
   "name": "python",
   "nbconvert_exporter": "python",
   "pygments_lexer": "ipython3",
   "version": "3.7.4"
  }
 },
 "nbformat": 4,
 "nbformat_minor": 2
}
