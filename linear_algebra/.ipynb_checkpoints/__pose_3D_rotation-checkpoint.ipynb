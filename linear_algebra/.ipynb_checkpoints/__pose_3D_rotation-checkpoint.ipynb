{
 "cells": [
  {
   "cell_type": "code",
   "execution_count": null,
   "metadata": {},
   "outputs": [],
   "source": [
    "import numpy as np\n",
    "import matplotlib.pyplot as plt\n",
    "from mpl_toolkits.mplot3d import proj3d, Axes3D\n",
    "from pytransform3d.rotations import *\n",
    "from itertools import product, combinations\n",
    "\n",
    "%matplotlib notebook\n",
    "l_l = -2\n",
    "h_l = 2\n",
    "\n",
    "fig = plt.figure()\n",
    "ax = Axes3D(fig)\n",
    "ax.set_aspect(\"auto\")\n",
    "ax.set_autoscale_on(True)\n",
    "plt.setp(\n",
    "    ax, xlim=(l_l, h_l), \n",
    "    ylim=(l_l, h_l), \n",
    "    zlim=(l_l, h_l),\n",
    "    xlabel=\"X\", \n",
    "    ylabel=\"Y\", \n",
    "    zlabel=\"Z\"\n",
    ")\n",
    "plt.tick_params(axis='both', labelsize=10, )\n",
    "ax.set_xticks(ax.get_xticks()[::2])\n",
    "ax.set_yticks(ax.get_yticks()[::2])\n",
    "ax.set_zticks(ax.get_zticks()[::2])\n",
    "\n",
    "basis = np.eye(3)\n",
    "\n",
    "theta = np.deg2rad(30)\n",
    "cos, sin = np.cos(theta), np.sin(theta)\n",
    "Rz = np.array([[cos, -sin, 0], [sin, cos, 0], [0, 0, 1]])\n",
    "Rx = np.array([[1, 0, 0], [0, cos, -sin], [0, sin, cos]])\n",
    "Ry = np.array([[cos, 0, sin], [0, 1, 0], [-sin, 0, cos]])\n",
    "\n",
    "unitx = np.array([1.0, 0.0, 0.0])\n",
    "unity = np.array([0.0, 1.0, 0.0])\n",
    "unitz = np.array([0.0, 0.0, 1.0])\n",
    "\n",
    "#for d, c in enumerate([\"r\", \"g\", \"b\"]):\n",
    "#     print([0.0, basis[0, d]]) \n",
    "#     print(f'___{d}')\n",
    "#     print([0.0, basis[1, d]]) \n",
    "#     print(f'___{d}')\n",
    "#     print([0.0, basis[2, d]])  \n",
    "#     print(f'___{d}')\n",
    "#     ax.plot([0.0, basis[0, d]],\n",
    "#             [0.0, basis[1, d]],\n",
    "#             [0.0, basis[2, d]], color=c, lw=2)\n",
    "#ax.plot3D(xs,ys,zs, color='b')\n",
    "#ax.plot([0.0, 0.0], [1.0, 0.0], [0.0, 0.0], color='g')\n",
    "#ax.plot([0.0, 0.0], [0.0, 0.0], [1.0, 0.0], color='b')\n",
    "ax.xaxis.set_ticklabels([])\n",
    "ax.yaxis.set_ticklabels([])\n",
    "ax.zaxis.set_ticklabels([])\n",
    "#plt.show()\n",
    "\n",
    "angle = np.deg2rad(45)\n",
    "rot_z = matrix_from_angle(2, angle)\n",
    "rot_x = matrix_from_angle(0, 0.2)\n",
    "print(rot_x.T)\n",
    "#plot_basis(R=rotation_z)\n",
    "#plot_basis(R=rotation_x)"
   ]
  },
  {
   "cell_type": "code",
   "execution_count": 114,
   "metadata": {},
   "outputs": [],
   "source": [
    "def matrix_from_angle(basis, angle):\n",
    "    theta = np.deg2rad(angle)\n",
    "    c = np.cos(theta)\n",
    "    s = np.sin(theta)\n",
    "\n",
    "    if basis == 'x':\n",
    "        R = np.array([[1.0, 0.0, 0.0],\n",
    "                      [0.0, c, s],\n",
    "                      [0.0, -s, c]])\n",
    "    elif basis == 'y':\n",
    "        R = np.array([[c, 0.0, -s],\n",
    "                      [0.0, 1.0, 0.0],\n",
    "                      [s, 0.0, c]])\n",
    "    elif basis == 'z':\n",
    "        R = np.array([[c, s, 0.0],\n",
    "                      [-s, c, 0.0],\n",
    "                      [0.0, 0.0, 1.0]])\n",
    "    else:\n",
    "        raise ValueError(\"Basis must be defined\")\n",
    "\n",
    "    return R\n"
   ]
  },
  {
   "cell_type": "code",
   "execution_count": 116,
   "metadata": {},
   "outputs": [],
   "source": [
    "def plot_basis(ax=None, R=None, p=np.zeros(3), s=1.0, ax_s=1, **kwargs):\n",
    "    \"\"\"Plot basis of a rotation matrix.\n",
    "    Parameters\n",
    "    ----------\n",
    "    ax : Matplotlib 3d axis, optional (default: None)\n",
    "        If the axis is None, a new 3d axis will be created\n",
    "    R : array-like, shape (3, 3), optional (default: I)\n",
    "        Rotation matrix, each column contains a basis vector\n",
    "    p : array-like, shape (3,), optional (default: [0, 0, 0])\n",
    "        Offset from the origin\n",
    "    s : float, optional (default: 1)\n",
    "        Scaling of the frame that will be drawn\n",
    "    ax_s : float, optional (default: 1)\n",
    "        Scaling of the new matplotlib 3d axis\n",
    "    kwargs : dict, optional (default: {})\n",
    "        Additional arguments for the plotting functions, e.g. alpha\n",
    "    Returns\n",
    "    -------\n",
    "    ax : Matplotlib 3d axis\n",
    "        New or old axis\n",
    "    \"\"\"\n",
    "    if ax is None:\n",
    "        ax = make_3d_axis(ax_s)\n",
    "\n",
    "    if R is None:\n",
    "        R = np.eye(3)\n",
    "    \n",
    "\n",
    "    A2B = np.eye(4)\n",
    "    A2B[:3, :3] = R\n",
    "    A2B[:3, 3] = p\n",
    "\n",
    "    frame = Frame(A2B, s=s, **kwargs)\n",
    "    frame.add_frame(ax)\n",
    "\n",
    "    return ax"
   ]
  },
  {
   "cell_type": "code",
   "execution_count": 110,
   "metadata": {},
   "outputs": [],
   "source": [
    "d = [-1, 1]\n",
    "\n",
    "theta = np.radians(30)\n",
    "\n",
    "a = np.array(list(product(d,d,d)))\n",
    "\n",
    "b = combinations(a,2)\n",
    "#print(sum(1 for _ in b))\n",
    "    # for s,e in b:\n",
    "#     print(s,e )\n",
    "for s, e in combinations(np.array(list(product(d,d,d))), 2):\n",
    "    if np.sum(np.abs(s-e)) == d[1]-d[0]:\n",
    "        ax.plot(*zip(s,e), color=\"c\")\n",
    "        \n",
    "for s, e in combinations(np.array(list(product(d,d,d))), 2):\n",
    "    if np.sum(np.abs(s-e)) == d[1]-d[0]:\n",
    "        s_rotated = [s[0] * np.cos(theta) - s[1] * np.sin(theta), \n",
    "                     s[0] * np.sin(theta) + s[1] * np.cos(theta),\n",
    "                     s[2]]\n",
    "        e_rotated = [e[0] * np.cos(theta) - e[1] * np.sin(theta), \n",
    "                     e[0] * np.sin(theta) + e[1] * np.cos(theta),\n",
    "                     e[2]]      \n",
    "        ax.plot3D(*zip(s_rotated,e_rotated), color=\"g\")\n",
    "        "
   ]
  },
  {
   "cell_type": "code",
   "execution_count": 11,
   "metadata": {},
   "outputs": [],
   "source": []
  },
  {
   "cell_type": "code",
   "execution_count": 176,
   "metadata": {},
   "outputs": [],
   "source": [
    "a = np.arange(9) - 4"
   ]
  },
  {
   "cell_type": "code",
   "execution_count": 177,
   "metadata": {},
   "outputs": [
    {
     "data": {
      "text/plain": [
       "array([[-4, -3, -2],\n",
       "       [-1,  0,  1],\n",
       "       [ 2,  3,  4]])"
      ]
     },
     "execution_count": 177,
     "metadata": {},
     "output_type": "execute_result"
    }
   ],
   "source": [
    "a.reshape(3,3)"
   ]
  },
  {
   "cell_type": "code",
   "execution_count": 181,
   "metadata": {},
   "outputs": [
    {
     "data": {
      "text/plain": [
       "array([-4, -3, -2, -1,  0,  1,  2,  3,  4])"
      ]
     },
     "execution_count": 181,
     "metadata": {},
     "output_type": "execute_result"
    }
   ],
   "source": [
    "v = a.copy()\n",
    "b = v.ravel()\n"
   ]
  },
  {
   "cell_type": "code",
   "execution_count": 179,
   "metadata": {},
   "outputs": [
    {
     "data": {
      "text/plain": [
       "array([-4, -3, -2, -1,  0,  1,  2,  3,  4])"
      ]
     },
     "execution_count": 179,
     "metadata": {},
     "output_type": "execute_result"
    }
   ],
   "source": [
    "a"
   ]
  },
  {
   "cell_type": "code",
   "execution_count": null,
   "metadata": {},
   "outputs": [],
   "source": [
    "degre = np.deg2rad(90)\n",
    "rot_x = matrix_from_angle(0, degre)\n",
    "rot_y = matrix_from_angle(1, np.pi/2)\n",
    "rot_z = matrix_from_angle(2, np.pi/2)\n",
    "print(rot_x)"
   ]
  },
  {
   "cell_type": "code",
   "execution_count": 208,
   "metadata": {},
   "outputs": [
    {
     "data": {
      "text/plain": [
       "array([[ 1.000000e+00,  0.000000e+00,  0.000000e+00],\n",
       "       [ 0.000000e+00,  6.123234e-17,  1.000000e+00],\n",
       "       [-0.000000e+00, -1.000000e+00,  6.123234e-17]])"
      ]
     },
     "execution_count": 208,
     "metadata": {},
     "output_type": "execute_result"
    }
   ],
   "source": [
    "D = np.linalg.det(rot_x.T)\n",
    "I = np.linalg.inv(rot_x.T)\n",
    "I"
   ]
  },
  {
   "cell_type": "code",
   "execution_count": null,
   "metadata": {},
   "outputs": [],
   "source": [
    "ans = np.dot(rot_x,rot_y)\n",
    "ans"
   ]
  },
  {
   "cell_type": "code",
   "execution_count": null,
   "metadata": {},
   "outputs": [],
   "source": []
  }
 ],
 "metadata": {
  "kernelspec": {
   "display_name": "Python 3",
   "language": "python",
   "name": "python3"
  },
  "language_info": {
   "codemirror_mode": {
    "name": "ipython",
    "version": 3
   },
   "file_extension": ".py",
   "mimetype": "text/x-python",
   "name": "python",
   "nbconvert_exporter": "python",
   "pygments_lexer": "ipython3",
   "version": "3.7.4"
  }
 },
 "nbformat": 4,
 "nbformat_minor": 2
}
