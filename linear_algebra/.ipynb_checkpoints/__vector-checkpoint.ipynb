{
 "cells": [
  {
   "cell_type": "markdown",
   "metadata": {},
   "source": [
    "# Vectors, essence of linear algebra\n",
    "\n",
    "\"The introduction of numbers as coordinates is an act of violence\", - Hermann Weyl\n",
    "The fundamental, root of it all building block for linear algebra is the vector. \n",
    "There are three dictinct but related ideas about vectors from physicist, mathematicina and computer scientist perspectives\n",
    "\n",
    "## Physics: \n",
    "vectors are arrows pointing in space, defined by its length and its direction"
   ]
  },
  {
   "cell_type": "code",
   "execution_count": null,
   "metadata": {},
   "outputs": [],
   "source": []
  },
  {
   "cell_type": "markdown",
   "metadata": {},
   "source": [
    "## CS: \n",
    "vectors are ordered lists of numbers, lets say two dimensional vectors are typical way to store data. So its just a list of two elements length"
   ]
  },
  {
   "cell_type": "code",
   "execution_count": null,
   "metadata": {},
   "outputs": [],
   "source": []
  },
  {
   "cell_type": "markdown",
   "metadata": {},
   "source": [
    "## Math: \n",
    "seeks to generalize both these views, basically saying that a vector can be anything where there's a sensible notion of adding two vectors and multiplying by a number"
   ]
  },
  {
   "cell_type": "code",
   "execution_count": null,
   "metadata": {},
   "outputs": [],
   "source": []
  },
  {
   "cell_type": "markdown",
   "metadata": {},
   "source": [
    "## Points and vectors\n",
    "\n",
    "<code>**Points**</code>\n",
    " - defines a location\n",
    " - cannot add or multiply points\n",
    "\n",
    "<code>**Vectors**</code>\n",
    " - do not define a location <code>**(specify how to get from one location to another)**</code>\n",
    " - can add & subtract vectors\n",
    " - can multiply a vector by a scalar\n",
    " \n",
    " \n",
    "The difference between two points is a vector<br>\n",
    "A point is defined by a vector displacment from another point(typically the origin of a coordinate frame)<br>\n",
    "Both can be represented by <code>**n**</code> real numbers"
   ]
  },
  {
   "cell_type": "code",
   "execution_count": null,
   "metadata": {},
   "outputs": [],
   "source": []
  }
 ],
 "metadata": {
  "kernelspec": {
   "display_name": "Python 3",
   "language": "python",
   "name": "python3"
  },
  "language_info": {
   "codemirror_mode": {
    "name": "ipython",
    "version": 3
   },
   "file_extension": ".py",
   "mimetype": "text/x-python",
   "name": "python",
   "nbconvert_exporter": "python",
   "pygments_lexer": "ipython3",
   "version": "3.7.4"
  }
 },
 "nbformat": 4,
 "nbformat_minor": 2
}
